{
  "nbformat": 4,
  "nbformat_minor": 0,
  "metadata": {
    "colab": {
      "provenance": [],
      "collapsed_sections": [
        "PXculM1gGSmI",
        "MzQpwCUzbhb4"
      ],
      "include_colab_link": true
    },
    "kernelspec": {
      "name": "python3",
      "display_name": "Python 3"
    },
    "language_info": {
      "name": "python"
    },
    "gpuClass": "premium",
    "accelerator": "GPU",
    "widgets": {
      "application/vnd.jupyter.widget-state+json": {
        "e1761b6a33da4528b3de7811d1d9f197": {
          "model_module": "@jupyter-widgets/output",
          "model_name": "OutputModel",
          "model_module_version": "1.0.0",
          "state": {
            "_dom_classes": [],
            "_model_module": "@jupyter-widgets/output",
            "_model_module_version": "1.0.0",
            "_model_name": "OutputModel",
            "_view_count": null,
            "_view_module": "@jupyter-widgets/output",
            "_view_module_version": "1.0.0",
            "_view_name": "OutputView",
            "layout": "IPY_MODEL_1f79db832a9344b0acc2dda4906a75dc",
            "msg_id": "",
            "outputs": [
              {
                "output_type": "display_data",
                "data": {
                  "text/plain": "proc \u001b[38;2;114;156;31m━━━━━━━━━━━━━━━━━━━━━━━━━━━━━━━━━━━━━━━━\u001b[0m \u001b[35m100%\u001b[0m \u001b[36m0:00:00\u001b[0m\n",
                  "text/html": "<pre style=\"white-space:pre;overflow-x:auto;line-height:normal;font-family:Menlo,'DejaVu Sans Mono',consolas,'Courier New',monospace\">proc <span style=\"color: #729c1f; text-decoration-color: #729c1f\">━━━━━━━━━━━━━━━━━━━━━━━━━━━━━━━━━━━━━━━━</span> <span style=\"color: #800080; text-decoration-color: #800080\">100%</span> <span style=\"color: #008080; text-decoration-color: #008080\">0:00:00</span>\n</pre>\n"
                },
                "metadata": {}
              }
            ]
          }
        },
        "1f79db832a9344b0acc2dda4906a75dc": {
          "model_module": "@jupyter-widgets/base",
          "model_name": "LayoutModel",
          "model_module_version": "1.2.0",
          "state": {
            "_model_module": "@jupyter-widgets/base",
            "_model_module_version": "1.2.0",
            "_model_name": "LayoutModel",
            "_view_count": null,
            "_view_module": "@jupyter-widgets/base",
            "_view_module_version": "1.2.0",
            "_view_name": "LayoutView",
            "align_content": null,
            "align_items": null,
            "align_self": null,
            "border": null,
            "bottom": null,
            "display": null,
            "flex": null,
            "flex_flow": null,
            "grid_area": null,
            "grid_auto_columns": null,
            "grid_auto_flow": null,
            "grid_auto_rows": null,
            "grid_column": null,
            "grid_gap": null,
            "grid_row": null,
            "grid_template_areas": null,
            "grid_template_columns": null,
            "grid_template_rows": null,
            "height": null,
            "justify_content": null,
            "justify_items": null,
            "left": null,
            "margin": null,
            "max_height": null,
            "max_width": null,
            "min_height": null,
            "min_width": null,
            "object_fit": null,
            "object_position": null,
            "order": null,
            "overflow": null,
            "overflow_x": null,
            "overflow_y": null,
            "padding": null,
            "right": null,
            "top": null,
            "visibility": null,
            "width": null
          }
        },
        "a3103afdc6e1477295747ad23b3fb4ca": {
          "model_module": "@jupyter-widgets/output",
          "model_name": "OutputModel",
          "model_module_version": "1.0.0",
          "state": {
            "_dom_classes": [],
            "_model_module": "@jupyter-widgets/output",
            "_model_module_version": "1.0.0",
            "_model_name": "OutputModel",
            "_view_count": null,
            "_view_module": "@jupyter-widgets/output",
            "_view_module_version": "1.0.0",
            "_view_name": "OutputView",
            "layout": "IPY_MODEL_428bbe4d46554c6d80f905533ea47205",
            "msg_id": "",
            "outputs": [
              {
                "output_type": "display_data",
                "data": {
                  "text/plain": "proc \u001b[38;2;114;156;31m━━━━━━━━━━━━━━━━━━━━━━━━━━━━━━━━━━━━━━━━\u001b[0m \u001b[35m100%\u001b[0m \u001b[36m0:00:00\u001b[0m\n",
                  "text/html": "<pre style=\"white-space:pre;overflow-x:auto;line-height:normal;font-family:Menlo,'DejaVu Sans Mono',consolas,'Courier New',monospace\">proc <span style=\"color: #729c1f; text-decoration-color: #729c1f\">━━━━━━━━━━━━━━━━━━━━━━━━━━━━━━━━━━━━━━━━</span> <span style=\"color: #800080; text-decoration-color: #800080\">100%</span> <span style=\"color: #008080; text-decoration-color: #008080\">0:00:00</span>\n</pre>\n"
                },
                "metadata": {}
              }
            ]
          }
        },
        "428bbe4d46554c6d80f905533ea47205": {
          "model_module": "@jupyter-widgets/base",
          "model_name": "LayoutModel",
          "model_module_version": "1.2.0",
          "state": {
            "_model_module": "@jupyter-widgets/base",
            "_model_module_version": "1.2.0",
            "_model_name": "LayoutModel",
            "_view_count": null,
            "_view_module": "@jupyter-widgets/base",
            "_view_module_version": "1.2.0",
            "_view_name": "LayoutView",
            "align_content": null,
            "align_items": null,
            "align_self": null,
            "border": null,
            "bottom": null,
            "display": null,
            "flex": null,
            "flex_flow": null,
            "grid_area": null,
            "grid_auto_columns": null,
            "grid_auto_flow": null,
            "grid_auto_rows": null,
            "grid_column": null,
            "grid_gap": null,
            "grid_row": null,
            "grid_template_areas": null,
            "grid_template_columns": null,
            "grid_template_rows": null,
            "height": null,
            "justify_content": null,
            "justify_items": null,
            "left": null,
            "margin": null,
            "max_height": null,
            "max_width": null,
            "min_height": null,
            "min_width": null,
            "object_fit": null,
            "object_position": null,
            "order": null,
            "overflow": null,
            "overflow_x": null,
            "overflow_y": null,
            "padding": null,
            "right": null,
            "top": null,
            "visibility": null,
            "width": null
          }
        },
        "bf8f843954c745b9a6b556ba1670b507": {
          "model_module": "@jupyter-widgets/output",
          "model_name": "OutputModel",
          "model_module_version": "1.0.0",
          "state": {
            "_dom_classes": [],
            "_model_module": "@jupyter-widgets/output",
            "_model_module_version": "1.0.0",
            "_model_name": "OutputModel",
            "_view_count": null,
            "_view_module": "@jupyter-widgets/output",
            "_view_module_version": "1.0.0",
            "_view_name": "OutputView",
            "layout": "IPY_MODEL_d682c6deb1f84bb4846c5dc463558e0b",
            "msg_id": "",
            "outputs": [
              {
                "output_type": "display_data",
                "data": {
                  "text/plain": "proc \u001b[38;2;114;156;31m━━━━━━━━━━━━━━━━━━━━━━━━━━━━━━━━━━━━━━━━\u001b[0m \u001b[35m100%\u001b[0m \u001b[36m0:00:00\u001b[0m\n",
                  "text/html": "<pre style=\"white-space:pre;overflow-x:auto;line-height:normal;font-family:Menlo,'DejaVu Sans Mono',consolas,'Courier New',monospace\">proc <span style=\"color: #729c1f; text-decoration-color: #729c1f\">━━━━━━━━━━━━━━━━━━━━━━━━━━━━━━━━━━━━━━━━</span> <span style=\"color: #800080; text-decoration-color: #800080\">100%</span> <span style=\"color: #008080; text-decoration-color: #008080\">0:00:00</span>\n</pre>\n"
                },
                "metadata": {}
              }
            ]
          }
        },
        "d682c6deb1f84bb4846c5dc463558e0b": {
          "model_module": "@jupyter-widgets/base",
          "model_name": "LayoutModel",
          "model_module_version": "1.2.0",
          "state": {
            "_model_module": "@jupyter-widgets/base",
            "_model_module_version": "1.2.0",
            "_model_name": "LayoutModel",
            "_view_count": null,
            "_view_module": "@jupyter-widgets/base",
            "_view_module_version": "1.2.0",
            "_view_name": "LayoutView",
            "align_content": null,
            "align_items": null,
            "align_self": null,
            "border": null,
            "bottom": null,
            "display": null,
            "flex": null,
            "flex_flow": null,
            "grid_area": null,
            "grid_auto_columns": null,
            "grid_auto_flow": null,
            "grid_auto_rows": null,
            "grid_column": null,
            "grid_gap": null,
            "grid_row": null,
            "grid_template_areas": null,
            "grid_template_columns": null,
            "grid_template_rows": null,
            "height": null,
            "justify_content": null,
            "justify_items": null,
            "left": null,
            "margin": null,
            "max_height": null,
            "max_width": null,
            "min_height": null,
            "min_width": null,
            "object_fit": null,
            "object_position": null,
            "order": null,
            "overflow": null,
            "overflow_x": null,
            "overflow_y": null,
            "padding": null,
            "right": null,
            "top": null,
            "visibility": null,
            "width": null
          }
        }
      }
    }
  },
  "cells": [
    {
      "cell_type": "markdown",
      "metadata": {
        "id": "view-in-github",
        "colab_type": "text"
      },
      "source": [
        "<a href=\"https://colab.research.google.com/github/csabi0312/crypto-svm/blob/gru/crypto14.ipynb\" target=\"_parent\"><img src=\"https://colab.research.google.com/assets/colab-badge.svg\" alt=\"Open In Colab\"/></a>"
      ]
    },
    {
      "cell_type": "markdown",
      "metadata": {
        "id": "PXculM1gGSmI"
      },
      "source": [
        "# Importing packages"
      ]
    },
    {
      "cell_type": "code",
      "execution_count": 1,
      "metadata": {
        "colab": {
          "base_uri": "https://localhost:8080/"
        },
        "id": "VPoZWYEvnklQ",
        "outputId": "82a95c92-898e-483c-bbe4-d3c46a0187e2"
      },
      "outputs": [
        {
          "output_type": "stream",
          "name": "stdout",
          "text": [
            "Drive already mounted at /content/drive; to attempt to forcibly remount, call drive.mount(\"/content/drive\", force_remount=True).\n"
          ]
        }
      ],
      "source": [
        "from google.colab import drive\n",
        "drive.mount('/content/drive')"
      ]
    },
    {
      "cell_type": "code",
      "execution_count": 2,
      "metadata": {
        "colab": {
          "base_uri": "https://localhost:8080/"
        },
        "id": "0hxN5Ztu-dsb",
        "outputId": "7d3b1202-6dbd-4953-c92f-182fa525a020"
      },
      "outputs": [
        {
          "output_type": "stream",
          "name": "stdout",
          "text": [
            "Looking in indexes: https://pypi.org/simple, https://us-python.pkg.dev/colab-wheels/public/simple/\n",
            "Requirement already satisfied: ujson in /usr/local/lib/python3.8/dist-packages (5.7.0)\n"
          ]
        }
      ],
      "source": [
        "pip install ujson"
      ]
    },
    {
      "cell_type": "code",
      "execution_count": 3,
      "metadata": {
        "colab": {
          "base_uri": "https://localhost:8080/"
        },
        "id": "S5nq3CPXTEZ6",
        "outputId": "756fcca9-416b-4fc3-e5e1-e089af85222a"
      },
      "outputs": [
        {
          "output_type": "stream",
          "name": "stdout",
          "text": [
            "Looking in indexes: https://pypi.org/simple, https://us-python.pkg.dev/colab-wheels/public/simple/\n",
            "Requirement already satisfied: pyyaml in /usr/local/lib/python3.8/dist-packages (6.0)\n",
            "Requirement already satisfied: h5py in /usr/local/lib/python3.8/dist-packages (3.1.0)\n",
            "Requirement already satisfied: numpy>=1.17.5 in /usr/local/lib/python3.8/dist-packages (from h5py) (1.21.6)\n"
          ]
        }
      ],
      "source": [
        "pip install pyyaml h5py"
      ]
    },
    {
      "cell_type": "code",
      "execution_count": 4,
      "metadata": {
        "colab": {
          "base_uri": "https://localhost:8080/"
        },
        "id": "5AmTy-Gy-yXE",
        "outputId": "d999a82e-92d4-4ed1-990e-8e23090e962b"
      },
      "outputs": [
        {
          "output_type": "stream",
          "name": "stdout",
          "text": [
            "Looking in indexes: https://pypi.org/simple, https://us-python.pkg.dev/colab-wheels/public/simple/\n",
            "Requirement already satisfied: oandapyV20 in /usr/local/lib/python3.8/dist-packages (0.7.2)\n"
          ]
        }
      ],
      "source": [
        "!pip install oandapyV20"
      ]
    },
    {
      "cell_type": "code",
      "execution_count": 5,
      "metadata": {
        "colab": {
          "base_uri": "https://localhost:8080/"
        },
        "id": "XAHz6AVhjOkb",
        "outputId": "ce047ef6-271e-4519-b6d3-95c2b80096d2"
      },
      "outputs": [
        {
          "output_type": "stream",
          "name": "stdout",
          "text": [
            "Looking in indexes: https://pypi.org/simple, https://us-python.pkg.dev/colab-wheels/public/simple/\n",
            "Requirement already satisfied: keras-tuner in /usr/local/lib/python3.8/dist-packages (1.2.1)\n",
            "Requirement already satisfied: ipython in /usr/local/lib/python3.8/dist-packages (from keras-tuner) (7.9.0)\n",
            "Requirement already satisfied: requests in /usr/local/lib/python3.8/dist-packages (from keras-tuner) (2.25.1)\n",
            "Requirement already satisfied: tensorflow>=2.0 in /usr/local/lib/python3.8/dist-packages (from keras-tuner) (2.11.0)\n",
            "Requirement already satisfied: packaging in /usr/local/lib/python3.8/dist-packages (from keras-tuner) (23.0)\n",
            "Requirement already satisfied: kt-legacy in /usr/local/lib/python3.8/dist-packages (from keras-tuner) (1.0.4)\n",
            "Requirement already satisfied: protobuf<3.20,>=3.9.2 in /usr/local/lib/python3.8/dist-packages (from tensorflow>=2.0->keras-tuner) (3.19.6)\n",
            "Requirement already satisfied: tensorflow-estimator<2.12,>=2.11.0 in /usr/local/lib/python3.8/dist-packages (from tensorflow>=2.0->keras-tuner) (2.11.0)\n",
            "Requirement already satisfied: tensorflow-io-gcs-filesystem>=0.23.1 in /usr/local/lib/python3.8/dist-packages (from tensorflow>=2.0->keras-tuner) (0.30.0)\n",
            "Requirement already satisfied: numpy>=1.20 in /usr/local/lib/python3.8/dist-packages (from tensorflow>=2.0->keras-tuner) (1.21.6)\n",
            "Requirement already satisfied: gast<=0.4.0,>=0.2.1 in /usr/local/lib/python3.8/dist-packages (from tensorflow>=2.0->keras-tuner) (0.4.0)\n",
            "Requirement already satisfied: six>=1.12.0 in /usr/local/lib/python3.8/dist-packages (from tensorflow>=2.0->keras-tuner) (1.15.0)\n",
            "Requirement already satisfied: libclang>=13.0.0 in /usr/local/lib/python3.8/dist-packages (from tensorflow>=2.0->keras-tuner) (15.0.6.1)\n",
            "Requirement already satisfied: setuptools in /usr/local/lib/python3.8/dist-packages (from tensorflow>=2.0->keras-tuner) (57.4.0)\n",
            "Requirement already satisfied: keras<2.12,>=2.11.0 in /usr/local/lib/python3.8/dist-packages (from tensorflow>=2.0->keras-tuner) (2.11.0)\n",
            "Requirement already satisfied: h5py>=2.9.0 in /usr/local/lib/python3.8/dist-packages (from tensorflow>=2.0->keras-tuner) (3.1.0)\n",
            "Requirement already satisfied: flatbuffers>=2.0 in /usr/local/lib/python3.8/dist-packages (from tensorflow>=2.0->keras-tuner) (23.1.21)\n",
            "Requirement already satisfied: wrapt>=1.11.0 in /usr/local/lib/python3.8/dist-packages (from tensorflow>=2.0->keras-tuner) (1.14.1)\n",
            "Requirement already satisfied: typing-extensions>=3.6.6 in /usr/local/lib/python3.8/dist-packages (from tensorflow>=2.0->keras-tuner) (4.4.0)\n",
            "Requirement already satisfied: astunparse>=1.6.0 in /usr/local/lib/python3.8/dist-packages (from tensorflow>=2.0->keras-tuner) (1.6.3)\n",
            "Requirement already satisfied: grpcio<2.0,>=1.24.3 in /usr/local/lib/python3.8/dist-packages (from tensorflow>=2.0->keras-tuner) (1.51.1)\n",
            "Requirement already satisfied: google-pasta>=0.1.1 in /usr/local/lib/python3.8/dist-packages (from tensorflow>=2.0->keras-tuner) (0.2.0)\n",
            "Requirement already satisfied: opt-einsum>=2.3.2 in /usr/local/lib/python3.8/dist-packages (from tensorflow>=2.0->keras-tuner) (3.3.0)\n",
            "Requirement already satisfied: absl-py>=1.0.0 in /usr/local/lib/python3.8/dist-packages (from tensorflow>=2.0->keras-tuner) (1.4.0)\n",
            "Requirement already satisfied: termcolor>=1.1.0 in /usr/local/lib/python3.8/dist-packages (from tensorflow>=2.0->keras-tuner) (2.2.0)\n",
            "Requirement already satisfied: tensorboard<2.12,>=2.11 in /usr/local/lib/python3.8/dist-packages (from tensorflow>=2.0->keras-tuner) (2.11.2)\n",
            "Requirement already satisfied: pickleshare in /usr/local/lib/python3.8/dist-packages (from ipython->keras-tuner) (0.7.5)\n",
            "Requirement already satisfied: decorator in /usr/local/lib/python3.8/dist-packages (from ipython->keras-tuner) (4.4.2)\n",
            "Requirement already satisfied: pexpect in /usr/local/lib/python3.8/dist-packages (from ipython->keras-tuner) (4.8.0)\n",
            "Requirement already satisfied: traitlets>=4.2 in /usr/local/lib/python3.8/dist-packages (from ipython->keras-tuner) (5.7.1)\n",
            "Requirement already satisfied: prompt-toolkit<2.1.0,>=2.0.0 in /usr/local/lib/python3.8/dist-packages (from ipython->keras-tuner) (2.0.10)\n",
            "Requirement already satisfied: pygments in /usr/local/lib/python3.8/dist-packages (from ipython->keras-tuner) (2.14.0)\n",
            "Requirement already satisfied: jedi>=0.10 in /usr/local/lib/python3.8/dist-packages (from ipython->keras-tuner) (0.18.2)\n",
            "Requirement already satisfied: backcall in /usr/local/lib/python3.8/dist-packages (from ipython->keras-tuner) (0.2.0)\n",
            "Requirement already satisfied: urllib3<1.27,>=1.21.1 in /usr/local/lib/python3.8/dist-packages (from requests->keras-tuner) (1.24.3)\n",
            "Requirement already satisfied: idna<3,>=2.5 in /usr/local/lib/python3.8/dist-packages (from requests->keras-tuner) (2.10)\n",
            "Requirement already satisfied: chardet<5,>=3.0.2 in /usr/local/lib/python3.8/dist-packages (from requests->keras-tuner) (4.0.0)\n",
            "Requirement already satisfied: certifi>=2017.4.17 in /usr/local/lib/python3.8/dist-packages (from requests->keras-tuner) (2022.12.7)\n",
            "Requirement already satisfied: wheel<1.0,>=0.23.0 in /usr/local/lib/python3.8/dist-packages (from astunparse>=1.6.0->tensorflow>=2.0->keras-tuner) (0.38.4)\n",
            "Requirement already satisfied: parso<0.9.0,>=0.8.0 in /usr/local/lib/python3.8/dist-packages (from jedi>=0.10->ipython->keras-tuner) (0.8.3)\n",
            "Requirement already satisfied: wcwidth in /usr/local/lib/python3.8/dist-packages (from prompt-toolkit<2.1.0,>=2.0.0->ipython->keras-tuner) (0.2.6)\n",
            "Requirement already satisfied: google-auth<3,>=1.6.3 in /usr/local/lib/python3.8/dist-packages (from tensorboard<2.12,>=2.11->tensorflow>=2.0->keras-tuner) (2.16.0)\n",
            "Requirement already satisfied: tensorboard-data-server<0.7.0,>=0.6.0 in /usr/local/lib/python3.8/dist-packages (from tensorboard<2.12,>=2.11->tensorflow>=2.0->keras-tuner) (0.6.1)\n",
            "Requirement already satisfied: google-auth-oauthlib<0.5,>=0.4.1 in /usr/local/lib/python3.8/dist-packages (from tensorboard<2.12,>=2.11->tensorflow>=2.0->keras-tuner) (0.4.6)\n",
            "Requirement already satisfied: markdown>=2.6.8 in /usr/local/lib/python3.8/dist-packages (from tensorboard<2.12,>=2.11->tensorflow>=2.0->keras-tuner) (3.4.1)\n",
            "Requirement already satisfied: tensorboard-plugin-wit>=1.6.0 in /usr/local/lib/python3.8/dist-packages (from tensorboard<2.12,>=2.11->tensorflow>=2.0->keras-tuner) (1.8.1)\n",
            "Requirement already satisfied: werkzeug>=1.0.1 in /usr/local/lib/python3.8/dist-packages (from tensorboard<2.12,>=2.11->tensorflow>=2.0->keras-tuner) (1.0.1)\n",
            "Requirement already satisfied: ptyprocess>=0.5 in /usr/local/lib/python3.8/dist-packages (from pexpect->ipython->keras-tuner) (0.7.0)\n",
            "Requirement already satisfied: pyasn1-modules>=0.2.1 in /usr/local/lib/python3.8/dist-packages (from google-auth<3,>=1.6.3->tensorboard<2.12,>=2.11->tensorflow>=2.0->keras-tuner) (0.2.8)\n",
            "Requirement already satisfied: rsa<5,>=3.1.4 in /usr/local/lib/python3.8/dist-packages (from google-auth<3,>=1.6.3->tensorboard<2.12,>=2.11->tensorflow>=2.0->keras-tuner) (4.9)\n",
            "Requirement already satisfied: cachetools<6.0,>=2.0.0 in /usr/local/lib/python3.8/dist-packages (from google-auth<3,>=1.6.3->tensorboard<2.12,>=2.11->tensorflow>=2.0->keras-tuner) (5.3.0)\n",
            "Requirement already satisfied: requests-oauthlib>=0.7.0 in /usr/local/lib/python3.8/dist-packages (from google-auth-oauthlib<0.5,>=0.4.1->tensorboard<2.12,>=2.11->tensorflow>=2.0->keras-tuner) (1.3.1)\n",
            "Requirement already satisfied: importlib-metadata>=4.4 in /usr/local/lib/python3.8/dist-packages (from markdown>=2.6.8->tensorboard<2.12,>=2.11->tensorflow>=2.0->keras-tuner) (6.0.0)\n",
            "Requirement already satisfied: zipp>=0.5 in /usr/local/lib/python3.8/dist-packages (from importlib-metadata>=4.4->markdown>=2.6.8->tensorboard<2.12,>=2.11->tensorflow>=2.0->keras-tuner) (3.12.1)\n",
            "Requirement already satisfied: pyasn1<0.5.0,>=0.4.6 in /usr/local/lib/python3.8/dist-packages (from pyasn1-modules>=0.2.1->google-auth<3,>=1.6.3->tensorboard<2.12,>=2.11->tensorflow>=2.0->keras-tuner) (0.4.8)\n",
            "Requirement already satisfied: oauthlib>=3.0.0 in /usr/local/lib/python3.8/dist-packages (from requests-oauthlib>=0.7.0->google-auth-oauthlib<0.5,>=0.4.1->tensorboard<2.12,>=2.11->tensorflow>=2.0->keras-tuner) (3.2.2)\n"
          ]
        }
      ],
      "source": [
        "pip install keras-tuner"
      ]
    },
    {
      "cell_type": "code",
      "execution_count": 6,
      "metadata": {
        "colab": {
          "base_uri": "https://localhost:8080/"
        },
        "id": "SjsGC2P898qf",
        "outputId": "cbcdcffe-8094-4b51-9ed0-1e26b1aa8179"
      },
      "outputs": [
        {
          "output_type": "stream",
          "name": "stdout",
          "text": [
            "Looking in indexes: https://pypi.org/simple, https://us-python.pkg.dev/colab-wheels/public/simple/\n",
            "Requirement already satisfied: v20 in /usr/local/lib/python3.8/dist-packages (3.0.25.0)\n",
            "Requirement already satisfied: requests in /usr/local/lib/python3.8/dist-packages (from v20) (2.25.1)\n",
            "Requirement already satisfied: ujson in /usr/local/lib/python3.8/dist-packages (from v20) (5.7.0)\n",
            "Requirement already satisfied: idna<3,>=2.5 in /usr/local/lib/python3.8/dist-packages (from requests->v20) (2.10)\n",
            "Requirement already satisfied: chardet<5,>=3.0.2 in /usr/local/lib/python3.8/dist-packages (from requests->v20) (4.0.0)\n",
            "Requirement already satisfied: urllib3<1.27,>=1.21.1 in /usr/local/lib/python3.8/dist-packages (from requests->v20) (1.24.3)\n",
            "Requirement already satisfied: certifi>=2017.4.17 in /usr/local/lib/python3.8/dist-packages (from requests->v20) (2022.12.7)\n"
          ]
        }
      ],
      "source": [
        "pip install v20"
      ]
    },
    {
      "cell_type": "code",
      "execution_count": 7,
      "metadata": {
        "colab": {
          "base_uri": "https://localhost:8080/"
        },
        "id": "GNzn1rGJ_BUY",
        "outputId": "8c53531a-cd2f-4a4b-8171-f7ee7ee36ff1"
      },
      "outputs": [
        {
          "output_type": "stream",
          "name": "stdout",
          "text": [
            "Looking in indexes: https://pypi.org/simple, https://us-python.pkg.dev/colab-wheels/public/simple/\n",
            "Collecting git+https://github.com/yhilpisch/tpqoa.git\n",
            "  Cloning https://github.com/yhilpisch/tpqoa.git to /tmp/pip-req-build-o8p_2t28\n",
            "  Running command git clone --filter=blob:none --quiet https://github.com/yhilpisch/tpqoa.git /tmp/pip-req-build-o8p_2t28\n",
            "  Resolved https://github.com/yhilpisch/tpqoa.git to commit f47a1ffddd2b2684c7e1569df6210b98dbe4e701\n",
            "  Preparing metadata (setup.py) ... \u001b[?25l\u001b[?25hdone\n",
            "Requirement already satisfied: v20==3.0.25.0 in /usr/local/lib/python3.8/dist-packages (from tpqoa==0.0.55) (3.0.25.0)\n",
            "Requirement already satisfied: pyyaml in /usr/local/lib/python3.8/dist-packages (from tpqoa==0.0.55) (6.0)\n",
            "Requirement already satisfied: ujson in /usr/local/lib/python3.8/dist-packages (from v20==3.0.25.0->tpqoa==0.0.55) (5.7.0)\n",
            "Requirement already satisfied: requests in /usr/local/lib/python3.8/dist-packages (from v20==3.0.25.0->tpqoa==0.0.55) (2.25.1)\n",
            "Requirement already satisfied: certifi>=2017.4.17 in /usr/local/lib/python3.8/dist-packages (from requests->v20==3.0.25.0->tpqoa==0.0.55) (2022.12.7)\n",
            "Requirement already satisfied: urllib3<1.27,>=1.21.1 in /usr/local/lib/python3.8/dist-packages (from requests->v20==3.0.25.0->tpqoa==0.0.55) (1.24.3)\n",
            "Requirement already satisfied: idna<3,>=2.5 in /usr/local/lib/python3.8/dist-packages (from requests->v20==3.0.25.0->tpqoa==0.0.55) (2.10)\n",
            "Requirement already satisfied: chardet<5,>=3.0.2 in /usr/local/lib/python3.8/dist-packages (from requests->v20==3.0.25.0->tpqoa==0.0.55) (4.0.0)\n"
          ]
        }
      ],
      "source": [
        "pip install --upgrade git+https://github.com/yhilpisch/tpqoa.git"
      ]
    },
    {
      "cell_type": "code",
      "execution_count": 8,
      "metadata": {
        "id": "EVvqt5I_nobg"
      },
      "outputs": [],
      "source": [
        "import pickle\n",
        "import gzip\n",
        "import pandas as pd\n",
        "import numpy as np\n",
        "import matplotlib.pyplot as plt\n",
        "from scipy.integrate import simps\n",
        "from numpy import trapz\n",
        "import pickle\n",
        "import gzip\n",
        "import pandas as pd\n",
        "import numpy as np\n",
        "import matplotlib.pyplot as plt\n",
        "from scipy.integrate import simps\n",
        "from numpy import trapz\n",
        "import matplotlib.pyplot as plt\n",
        "import pandas as pd\n",
        "from sklearn.svm import SVC  \n",
        "from sklearn.metrics import classification_report, confusion_matrix\n",
        "from sklearn.model_selection import GridSearchCV\n",
        "import numpy as np\n",
        "import tensorflow as tf\n",
        "from tensorflow import keras\n",
        "from tensorflow.keras import regularizers\n",
        "from tensorflow.keras.callbacks import EarlyStopping, ModelCheckpoint\n",
        "from tensorflow.keras.models import load_model\n",
        "from sklearn.preprocessing import StandardScaler, MinMaxScaler\n",
        "import keras.losses\n",
        "import sklearn\n",
        "from sklearn.metrics import accuracy_score, precision_score, recall_score, f1_score, roc_curve, confusion_matrix\n",
        "from sklearn.metrics import accuracy_score, f1_score, precision_score, recall_score, roc_auc_score, average_precision_score\n",
        "import numpy as np\n",
        "import seaborn as sns\n",
        "import matplotlib.pyplot as plt\n",
        "import keras_tuner\n",
        "from tensorflow.keras import regularizers\n",
        "import tpqoa\n",
        "from tensorflow.keras.models import Sequential\n",
        "from tensorflow.keras.layers import *\n",
        "from tensorflow.keras.callbacks import ModelCheckpoint\n",
        "from tensorflow.keras.losses import MeanSquaredError\n",
        "from tensorflow.keras.metrics import RootMeanSquaredError\n",
        "from tensorflow.keras.optimizers import Adam, SGD\n",
        "from tensorflow.keras.models import load_model\n",
        "import oandapyV20.endpoints.instruments as instruments\n",
        "import datetime\n",
        "import oandapyV20.endpoints.instruments as instruments\n",
        "import datetime\n",
        "from sklearn.metrics import mean_squared_error as mse"
      ]
    },
    {
      "cell_type": "code",
      "execution_count": 9,
      "metadata": {
        "colab": {
          "base_uri": "https://localhost:8080/"
        },
        "id": "C_yHVZaHnp_z",
        "outputId": "024fb362-9e75-432e-8db1-741c30876944"
      },
      "outputs": [
        {
          "output_type": "stream",
          "name": "stdout",
          "text": [
            "Looking in indexes: https://pypi.org/simple, https://us-python.pkg.dev/colab-wheels/public/simple/\n",
            "Requirement already satisfied: rich in /usr/local/lib/python3.8/dist-packages (13.3.1)\n",
            "Requirement already satisfied: pygments<3.0.0,>=2.14.0 in /usr/local/lib/python3.8/dist-packages (from rich) (2.14.0)\n",
            "Requirement already satisfied: markdown-it-py<3.0.0,>=2.1.0 in /usr/local/lib/python3.8/dist-packages (from rich) (2.1.0)\n",
            "Requirement already satisfied: typing-extensions<5.0,>=4.0.0 in /usr/local/lib/python3.8/dist-packages (from rich) (4.4.0)\n",
            "Requirement already satisfied: mdurl~=0.1 in /usr/local/lib/python3.8/dist-packages (from markdown-it-py<3.0.0,>=2.1.0->rich) (0.1.2)\n"
          ]
        }
      ],
      "source": [
        "pip install rich"
      ]
    },
    {
      "cell_type": "code",
      "execution_count": 10,
      "metadata": {
        "id": "hSgNf7pKnv1o"
      },
      "outputs": [],
      "source": [
        "from rich.progress import track"
      ]
    },
    {
      "cell_type": "markdown",
      "source": [
        "# DATA"
      ],
      "metadata": {
        "id": "8Ly0xN4Bee6q"
      }
    },
    {
      "cell_type": "code",
      "source": [
        "raw = pd.read_csv(\"/content/drive/MyDrive/Crypto/new3/full_spread_data.csv\", parse_dates = [\"time\"], index_col = \"time\").dropna()\n",
        "raw[\"returns\"] =np.log(raw.Close / raw.Close.shift(1))\n",
        "raw.drop([\"Open\",\"Spread\"],axis=1,inplace=True)\n",
        "cols = []\n",
        "for lag in range(1, 40):\n",
        "    col_h = \"h_lag{}\".format(lag)\n",
        "    col_l = \"l_lag{}\".format(lag)\n",
        "    col_r = \"c_lag{}\".format(lag)\n",
        "    col_v = \"v_lag{}\".format(lag)\n",
        "    raw[col_h] = raw.High.shift(lag)\n",
        "    cols.append(col_h)\n",
        "    raw[col_l] = raw.Low.shift(lag)\n",
        "    cols.append(col_l)\n",
        "    raw[col_r] = raw.Close.shift(lag)\n",
        "    cols.append(col_r)\n",
        "    raw[col_v] = raw.Volume.shift(lag)\n",
        "    cols.append(col_v)\n",
        "    raw.dropna(inplace = True)\n",
        "raw.drop([\"High\",\"Low\",\"Volume\",\"Close\"],axis=1,inplace=True)\n",
        "\n",
        "raw[\"returns2\"]=(raw[\"returns\"]>=0).astype(int)\n",
        "\n",
        "to=int(len(raw)*0.8)\n",
        "X_train=raw.drop([\"returns2\",\"returns\"],axis=1).iloc[:to].to_numpy()\n",
        "y_train=raw[\"returns2\"].iloc[:to].to_numpy().astype(float)\n",
        "X_test=raw.drop([\"returns2\",\"returns\"],axis=1).iloc[to:].to_numpy()\n",
        "y_test=raw[\"returns2\"].iloc[to:].to_numpy().astype(float)\n",
        "\n",
        "scaler1 = MinMaxScaler()\n",
        "X_train=scaler1.fit_transform(X_train)\n",
        "X_test=scaler1.transform(X_test)\n",
        "\n",
        "from tensorflow.keras.utils import to_categorical\n",
        "y_train2 = to_categorical(y_train, 2)\n",
        "y_test2 = to_categorical(y_test, 2)\n",
        "\n",
        "print(X_train.shape,y_train.shape,X_test.shape,y_test.shape)"
      ],
      "metadata": {
        "colab": {
          "base_uri": "https://localhost:8080/"
        },
        "id": "miYfHBSKh-88",
        "outputId": "3e379837-c0eb-4787-a195-177260205d48"
      },
      "execution_count": 76,
      "outputs": [
        {
          "output_type": "stream",
          "name": "stdout",
          "text": [
            "(1055, 156) (1055,) (264, 156) (264,)\n"
          ]
        }
      ]
    },
    {
      "cell_type": "markdown",
      "source": [
        "# svm"
      ],
      "metadata": {
        "id": "uKj6NbVziE0T"
      }
    },
    {
      "cell_type": "code",
      "source": [
        "from sklearn.metrics import accuracy_score"
      ],
      "metadata": {
        "id": "Wz_jGwByj5Ns"
      },
      "execution_count": null,
      "outputs": []
    },
    {
      "cell_type": "code",
      "source": [
        "train_acc=[]  \n",
        "test_acc=[]\n",
        "\n",
        "for num_lags in track(np.arange(30,40,1),description=\"proc\"):\n",
        "  raw = pd.read_csv(\"/content/drive/MyDrive/Crypto/new3/full_spread_data.csv\", parse_dates = [\"time\"], index_col = \"time\").dropna()\n",
        "  raw[\"returns\"] =np.log(raw.Close / raw.Close.shift(1))\n",
        "  raw[\"returns2\"]=(raw[\"returns\"]>=0).astype(int)\n",
        "  raw.drop([\"Open\",\"Spread\",\"Close\",\"High\",\"returns\",\"Volume\",\"Low\"],axis=1,inplace=True)\n",
        "  cols = []\n",
        "  for lag in range(1, num_lags):\n",
        "      col_r = \"r_lag{}\".format(lag)\n",
        "      raw[col_r] = raw.returns2.shift(lag)\n",
        "  raw.dropna(inplace = True)\n",
        "\n",
        "  to=int(len(raw)*0.8)\n",
        "  X_train=raw.drop([\"returns2\"],axis=1).iloc[:to].to_numpy()\n",
        "  y_train=raw[\"returns2\"].iloc[:to].to_numpy().astype(int)\n",
        "  X_test=raw.drop([\"returns2\"],axis=1).iloc[to:].to_numpy()\n",
        "  y_test=raw[\"returns2\"].iloc[to:].to_numpy().astype(int)\n",
        "\n",
        "  clf = svm.SVC(kernel=\"rbf\")\n",
        "  clf.fit(X_train,y_train)\n",
        "  pred_test=clf.predict(X_test)\n",
        "  pred_train=clf.predict(X_train)\n",
        "\n",
        "  train_acc.append(1-accuracy_score(y_train,pred_train))\n",
        "  test_acc.append(1-accuracy_score(y_test,pred_test))\n",
        "plt.plot(np.arange(30,40,1),train_acc,color=\"blue\")\n",
        "plt.plot(np.arange(30,40,1),test_acc,color=\"red\")\n",
        "plt.plot(np.arange(30,40,1),0.5*np.ones(10),color=\"purple\")"
      ],
      "metadata": {
        "colab": {
          "base_uri": "https://localhost:8080/",
          "height": 0,
          "referenced_widgets": [
            "e1761b6a33da4528b3de7811d1d9f197",
            "1f79db832a9344b0acc2dda4906a75dc"
          ]
        },
        "id": "5-nOSM3qPmnj",
        "outputId": "a0bc2c54-9df6-48d6-f1c7-c60d650fd211"
      },
      "execution_count": 65,
      "outputs": [
        {
          "output_type": "display_data",
          "data": {
            "text/plain": [
              "Output()"
            ],
            "application/vnd.jupyter.widget-view+json": {
              "version_major": 2,
              "version_minor": 0,
              "model_id": "e1761b6a33da4528b3de7811d1d9f197"
            }
          },
          "metadata": {}
        },
        {
          "output_type": "display_data",
          "data": {
            "text/plain": [],
            "text/html": [
              "<pre style=\"white-space:pre;overflow-x:auto;line-height:normal;font-family:Menlo,'DejaVu Sans Mono',consolas,'Courier New',monospace\"></pre>\n"
            ]
          },
          "metadata": {}
        },
        {
          "output_type": "display_data",
          "data": {
            "text/plain": [
              "\n"
            ],
            "text/html": [
              "<pre style=\"white-space:pre;overflow-x:auto;line-height:normal;font-family:Menlo,'DejaVu Sans Mono',consolas,'Courier New',monospace\">\n",
              "</pre>\n"
            ]
          },
          "metadata": {}
        },
        {
          "output_type": "execute_result",
          "data": {
            "text/plain": [
              "[<matplotlib.lines.Line2D at 0x7f36ba84a910>]"
            ]
          },
          "metadata": {},
          "execution_count": 65
        },
        {
          "output_type": "display_data",
          "data": {
            "text/plain": [
              "<Figure size 432x288 with 1 Axes>"
            ],
            "image/png": "[encoded data removed]"
          },
          "metadata": {
            "needs_background": "light"
          }
        }
      ]
    },
    {
      "cell_type": "code",
      "source": [
        "from sklearn import svm"
      ],
      "metadata": {
        "id": "EU2V2nOviGsU"
      },
      "execution_count": 35,
      "outputs": []
    },
    {
      "cell_type": "code",
      "source": [
        "raw = pd.read_csv(\"/content/drive/MyDrive/Crypto/new3/full_spread_data.csv\", parse_dates = [\"time\"], index_col = \"time\").dropna()\n",
        "raw[\"returns\"] =np.log(raw.Close / raw.Close.shift(1))\n",
        "raw[\"returns2\"]=(raw[\"returns\"]>=0).astype(int)\n",
        "raw.drop([\"Open\",\"Spread\",\"Close\",\"High\",\"returns\",\"Volume\",\"Low\"],axis=1,inplace=True)\n",
        "cols = []\n",
        "for lag in range(1, 34):\n",
        "    col_r = \"r_lag{}\".format(lag)\n",
        "    raw[col_r] = raw.returns2.shift(lag)\n",
        "raw.dropna(inplace = True)\n",
        "to=int(len(raw)*0.8)\n",
        "X_train=raw.drop([\"returns2\"],axis=1).iloc[:to].to_numpy()\n",
        "y_train=raw[\"returns2\"].iloc[:to].to_numpy().astype(int)\n",
        "X_test=raw.drop([\"returns2\"],axis=1).iloc[to:].to_numpy()\n",
        "y_test=raw[\"returns2\"].iloc[to:].to_numpy().astype(int)\n",
        "\n",
        "\n",
        "clf = svm.SVC(kernel=\"rbf\")\n",
        "clf.fit(X_train,y_train)\n",
        "pred_sign=clf.predict(X_test)\n",
        "pred_train=clf.predict(X_train)\n",
        "print(confusion_matrix(y_train,pred_train))\n",
        "print(classification_report(y_train,pred_train))\n",
        "print(confusion_matrix(y_test,pred_sign))\n",
        "print(classification_report(y_test,pred_sign))"
      ],
      "metadata": {
        "colab": {
          "base_uri": "https://localhost:8080/"
        },
        "id": "OqPb90GaiH5K",
        "outputId": "9739c943-c3b6-4626-aeae-96d70233344b"
      },
      "execution_count": 66,
      "outputs": [
        {
          "output_type": "stream",
          "name": "stdout",
          "text": [
            "[[469 266]\n",
            " [ 42 875]]\n",
            "              precision    recall  f1-score   support\n",
            "\n",
            "           0       0.92      0.64      0.75       735\n",
            "           1       0.77      0.95      0.85       917\n",
            "\n",
            "    accuracy                           0.81      1652\n",
            "   macro avg       0.84      0.80      0.80      1652\n",
            "weighted avg       0.83      0.81      0.81      1652\n",
            "\n",
            "[[ 74 141]\n",
            " [ 58 141]]\n",
            "              precision    recall  f1-score   support\n",
            "\n",
            "           0       0.56      0.34      0.43       215\n",
            "           1       0.50      0.71      0.59       199\n",
            "\n",
            "    accuracy                           0.52       414\n",
            "   macro avg       0.53      0.53      0.51       414\n",
            "weighted avg       0.53      0.52      0.50       414\n",
            "\n"
          ]
        }
      ]
    },
    {
      "cell_type": "markdown",
      "source": [
        "# random forest"
      ],
      "metadata": {
        "id": "88HCKruPmmq7"
      }
    },
    {
      "cell_type": "code",
      "source": [
        "from sklearn.ensemble import RandomForestClassifier"
      ],
      "metadata": {
        "id": "EM7r7jW4mmrB"
      },
      "execution_count": 68,
      "outputs": []
    },
    {
      "cell_type": "code",
      "source": [
        "train_acc=[]  \n",
        "test_acc=[]\n",
        "\n",
        "for num_lags in track(np.arange(2,20,1),description=\"proc\"):\n",
        "  raw = pd.read_csv(\"/content/drive/MyDrive/Crypto/new3/full_spread_data.csv\", parse_dates = [\"time\"], index_col = \"time\").dropna()\n",
        "  raw[\"returns\"] =np.log(raw.Close / raw.Close.shift(1))\n",
        "  raw[\"returns2\"]=(raw[\"returns\"]>=0).astype(int)\n",
        "  raw.drop([\"Open\",\"Spread\",\"Close\",\"High\",\"returns\",\"Volume\",\"Low\"],axis=1,inplace=True)\n",
        "  cols = []\n",
        "  for lag in range(1, num_lags):\n",
        "      col_r = \"r_lag{}\".format(lag)\n",
        "      raw[col_r] = raw.returns2.shift(lag)\n",
        "  raw.dropna(inplace = True)\n",
        "\n",
        "  to=int(len(raw)*0.8)\n",
        "  X_train=raw.drop([\"returns2\"],axis=1).iloc[:to].to_numpy()\n",
        "  y_train=raw[\"returns2\"].iloc[:to].to_numpy().astype(int)\n",
        "  X_test=raw.drop([\"returns2\"],axis=1).iloc[to:].to_numpy()\n",
        "  y_test=raw[\"returns2\"].iloc[to:].to_numpy().astype(int)\n",
        "\n",
        "  clf = RandomForestClassifier()\n",
        "  clf.fit(X_train,y_train)\n",
        "  pred_test=clf.predict(X_test)\n",
        "  pred_train=clf.predict(X_train)\n",
        "\n",
        "  train_acc.append(1-accuracy_score(y_train,pred_train))\n",
        "  test_acc.append(1-accuracy_score(y_test,pred_test))\n",
        "plt.plot(np.arange(2,20,1),train_acc,color=\"blue\")\n",
        "plt.plot(np.arange(2,20,1),test_acc,color=\"red\")\n",
        "plt.plot(np.arange(2,20,1),0.5*np.ones(18),color=\"purple\")"
      ],
      "metadata": {
        "colab": {
          "base_uri": "https://localhost:8080/",
          "height": 0,
          "referenced_widgets": [
            "a3103afdc6e1477295747ad23b3fb4ca",
            "428bbe4d46554c6d80f905533ea47205"
          ]
        },
        "outputId": "6385dcef-5427-41a4-cc65-511a8077badb",
        "id": "VG2-eQNRmmrB"
      },
      "execution_count": 70,
      "outputs": [
        {
          "output_type": "display_data",
          "data": {
            "text/plain": [
              "Output()"
            ],
            "application/vnd.jupyter.widget-view+json": {
              "version_major": 2,
              "version_minor": 0,
              "model_id": "a3103afdc6e1477295747ad23b3fb4ca"
            }
          },
          "metadata": {}
        },
        {
          "output_type": "display_data",
          "data": {
            "text/plain": [],
            "text/html": [
              "<pre style=\"white-space:pre;overflow-x:auto;line-height:normal;font-family:Menlo,'DejaVu Sans Mono',consolas,'Courier New',monospace\"></pre>\n"
            ]
          },
          "metadata": {}
        },
        {
          "output_type": "display_data",
          "data": {
            "text/plain": [
              "\n"
            ],
            "text/html": [
              "<pre style=\"white-space:pre;overflow-x:auto;line-height:normal;font-family:Menlo,'DejaVu Sans Mono',consolas,'Courier New',monospace\">\n",
              "</pre>\n"
            ]
          },
          "metadata": {}
        },
        {
          "output_type": "execute_result",
          "data": {
            "text/plain": [
              "[<matplotlib.lines.Line2D at 0x7f36ba1ba910>]"
            ]
          },
          "metadata": {},
          "execution_count": 70
        },
        {
          "output_type": "display_data",
          "data": {
            "text/plain": [
              "<Figure size 432x288 with 1 Axes>"
            ],
            "image/png": "[encoded data removed]"
          },
          "metadata": {
            "needs_background": "light"
          }
        }
      ]
    },
    {
      "cell_type": "markdown",
      "source": [
        "# logstic regression"
      ],
      "metadata": {
        "id": "H4eXholenb6Z"
      }
    },
    {
      "cell_type": "code",
      "source": [
        "from sklearn.linear_model import LogisticRegression"
      ],
      "metadata": {
        "id": "I21l57WJnb6f"
      },
      "execution_count": 72,
      "outputs": []
    },
    {
      "cell_type": "code",
      "source": [
        "train_acc=[]  \n",
        "test_acc=[]\n",
        "a=2\n",
        "b=65\n",
        "for num_lags in track(np.arange(a,b,1),description=\"proc\"):\n",
        "  raw = pd.read_csv(\"/content/drive/MyDrive/Crypto/new3/full_spread_data.csv\", parse_dates = [\"time\"], index_col = \"time\").dropna()\n",
        "  raw[\"returns\"] =np.log(raw.Close / raw.Close.shift(1))\n",
        "  raw[\"returns2\"]=(raw[\"returns\"]>=0).astype(int)\n",
        "  raw.drop([\"Open\",\"Spread\",\"Close\",\"High\",\"returns\",\"Volume\",\"Low\"],axis=1,inplace=True)\n",
        "  cols = []\n",
        "  for lag in range(1, num_lags):\n",
        "      col_r = \"r_lag{}\".format(lag)\n",
        "      raw[col_r] = raw.returns2.shift(lag)\n",
        "  raw.dropna(inplace = True)\n",
        "\n",
        "  to=int(len(raw)*0.8)\n",
        "  X_train=raw.drop([\"returns2\"],axis=1).iloc[:to].to_numpy()\n",
        "  y_train=raw[\"returns2\"].iloc[:to].to_numpy().astype(int)\n",
        "  X_test=raw.drop([\"returns2\"],axis=1).iloc[to:].to_numpy()\n",
        "  y_test=raw[\"returns2\"].iloc[to:].to_numpy().astype(int)\n",
        "\n",
        "  clf = LogisticRegression()\n",
        "  clf.fit(X_train,y_train)\n",
        "  pred_test=clf.predict(X_test)\n",
        "  pred_train=clf.predict(X_train)\n",
        "\n",
        "  train_acc.append(1-accuracy_score(y_train,pred_train))\n",
        "  test_acc.append(1-accuracy_score(y_test,pred_test))\n",
        "plt.plot(np.arange(a,b,1),train_acc,color=\"blue\")\n",
        "plt.plot(np.arange(a,b,1),test_acc,color=\"red\")\n",
        "plt.plot(np.arange(a,b,1),0.5*np.ones(b-a),color=\"purple\")"
      ],
      "metadata": {
        "colab": {
          "base_uri": "https://localhost:8080/",
          "height": 0,
          "referenced_widgets": [
            "bf8f843954c745b9a6b556ba1670b507",
            "d682c6deb1f84bb4846c5dc463558e0b"
          ]
        },
        "outputId": "5cec191b-19cd-43a1-ab8c-ff266abc6765",
        "id": "Cl-qnNVSnb6f"
      },
      "execution_count": 74,
      "outputs": [
        {
          "output_type": "display_data",
          "data": {
            "text/plain": [
              "Output()"
            ],
            "application/vnd.jupyter.widget-view+json": {
              "version_major": 2,
              "version_minor": 0,
              "model_id": "bf8f843954c745b9a6b556ba1670b507"
            }
          },
          "metadata": {}
        },
        {
          "output_type": "display_data",
          "data": {
            "text/plain": [],
            "text/html": [
              "<pre style=\"white-space:pre;overflow-x:auto;line-height:normal;font-family:Menlo,'DejaVu Sans Mono',consolas,'Courier New',monospace\"></pre>\n"
            ]
          },
          "metadata": {}
        },
        {
          "output_type": "display_data",
          "data": {
            "text/plain": [
              "\n"
            ],
            "text/html": [
              "<pre style=\"white-space:pre;overflow-x:auto;line-height:normal;font-family:Menlo,'DejaVu Sans Mono',consolas,'Courier New',monospace\">\n",
              "</pre>\n"
            ]
          },
          "metadata": {}
        },
        {
          "output_type": "execute_result",
          "data": {
            "text/plain": [
              "[<matplotlib.lines.Line2D at 0x7f370cbefc40>]"
            ]
          },
          "metadata": {},
          "execution_count": 74
        },
        {
          "output_type": "display_data",
          "data": {
            "text/plain": [
              "<Figure size 432x288 with 1 Axes>"
            ],
            "image/png": "[encoded data removed]"
          },
          "metadata": {
            "needs_background": "light"
          }
        }
      ]
    },
    {
      "cell_type": "code",
      "source": [
        "raw = pd.read_csv(\"/content/drive/MyDrive/Crypto/new3/full_spread_data.csv\", parse_dates = [\"time\"], index_col = \"time\").dropna()\n",
        "raw[\"returns\"] =np.log(raw.Close / raw.Close.shift(1))\n",
        "raw[\"returns2\"]=(raw[\"returns\"]>=0).astype(int)\n",
        "raw.drop([\"Open\",\"Spread\",\"Close\",\"High\",\"returns\",\"Volume\",\"Low\"],axis=1,inplace=True)\n",
        "cols = []\n",
        "for lag in range(1, 40):\n",
        "    col_r = \"r_lag{}\".format(lag)\n",
        "    raw[col_r] = raw.returns2.shift(lag)\n",
        "raw.dropna(inplace = True)\n",
        "to=int(len(raw)*0.8)\n",
        "X_train=raw.drop([\"returns2\"],axis=1).iloc[:to].to_numpy()\n",
        "y_train=raw[\"returns2\"].iloc[:to].to_numpy().astype(int)\n",
        "X_test=raw.drop([\"returns2\"],axis=1).iloc[to:].to_numpy()\n",
        "y_test=raw[\"returns2\"].iloc[to:].to_numpy().astype(int)\n",
        "clf = LogisticRegression()\n",
        "clf.fit(X_train,y_train)\n",
        "pred_test=clf.predict(X_test)\n",
        "pred_train=clf.predict(X_train)\n",
        "\n",
        "print(confusion_matrix(y_train,pred_train))\n",
        "print(classification_report(y_train,pred_train))\n",
        "print(confusion_matrix(y_test,pred_test))\n",
        "print(classification_report(y_test,pred_test))"
      ],
      "metadata": {
        "id": "wnL_AwTnn-BK",
        "outputId": "029ac3a5-a306-4186-fa7d-3fa289f9b4f5",
        "colab": {
          "base_uri": "https://localhost:8080/"
        }
      },
      "execution_count": 75,
      "outputs": [
        {
          "output_type": "stream",
          "name": "stdout",
          "text": [
            "[[252 480]\n",
            " [172 744]]\n",
            "              precision    recall  f1-score   support\n",
            "\n",
            "           0       0.59      0.34      0.44       732\n",
            "           1       0.61      0.81      0.70       916\n",
            "\n",
            "    accuracy                           0.60      1648\n",
            "   macro avg       0.60      0.58      0.57      1648\n",
            "weighted avg       0.60      0.60      0.58      1648\n",
            "\n",
            "[[ 83 132]\n",
            " [ 63 134]]\n",
            "              precision    recall  f1-score   support\n",
            "\n",
            "           0       0.57      0.39      0.46       215\n",
            "           1       0.50      0.68      0.58       197\n",
            "\n",
            "    accuracy                           0.53       412\n",
            "   macro avg       0.54      0.53      0.52       412\n",
            "weighted avg       0.54      0.53      0.52       412\n",
            "\n"
          ]
        }
      ]
    },
    {
      "cell_type": "markdown",
      "source": [
        "# GRU2"
      ],
      "metadata": {
        "id": "134l3zG0Yg8F"
      }
    },
    {
      "cell_type": "code",
      "source": [
        "raw = pd.read_csv(\"/content/drive/MyDrive/Crypto/new3/full_spread_data.csv\", parse_dates = [\"time\"], index_col = \"time\").dropna()\n",
        "raw[\"returns\"] =np.log(raw.Close / raw.Close.shift(1))\n",
        "raw[\"returns2\"]=(raw[\"returns\"]>=0).astype(int)\n",
        "raw.drop([\"Open\",\"Spread\",\"Close\",\"High\",\"returns\",\"Volume\",\"Low\"],axis=1,inplace=True)\n",
        "cols = []\n",
        "for lag in range(1, 40):\n",
        "    col_r = \"r_lag{}\".format(lag)\n",
        "    raw[col_r] = raw.returns2.shift(lag)\n",
        "raw.dropna(inplace = True)\n",
        "to=int(len(raw)*0.8)\n",
        "X_train=raw.drop([\"returns2\"],axis=1).iloc[:to].to_numpy()\n",
        "y_train=raw[\"returns2\"].iloc[:to].to_numpy().astype(int)\n",
        "X_test=raw.drop([\"returns2\"],axis=1).iloc[to:].to_numpy()\n",
        "y_test=raw[\"returns2\"].iloc[to:].to_numpy().astype(int)\n",
        "\n",
        "from tensorflow.keras.utils import to_categorical\n",
        "y_train2 = to_categorical(y_train, 2)\n",
        "y_test2 = to_categorical(y_test, 2)\n",
        "\n",
        "\n",
        "def build_model(hp):\n",
        "    model = Sequential()\n",
        "    model.add(Dense(hp.Int('units1', min_value=5, max_value=200, step=1),activation=\"relu\",input_shape=(39,)))\n",
        "    model.add(Dense(hp.Int('units2', min_value=5, max_value=180, step=1),activation=\"relu\"))\n",
        "    model.add(Dense(hp.Int('units3', min_value=5, max_value=160, step=1),activation=\"relu\"))\n",
        "    model.add(Dense(hp.Int('units4', min_value=5, max_value=140, step=1),activation=\"relu\"))\n",
        "    model.add(Dense(hp.Int('units5', min_value=5, max_value=120, step=1),activation=\"relu\"))\n",
        "    model.add(Dense(2,activation=\"softmax\"))\n",
        "\n",
        "    model.compile(loss='categorical_crossentropy', optimizer='adam', metrics=['accuracy'])\n",
        "    return model\n",
        "\n",
        "tuner = keras_tuner.RandomSearch(\n",
        "      build_model,\n",
        "      objective='val_loss',\n",
        "      max_trials=10,overwrite = True)\n",
        "tuner.search(X_train,y_train2 , epochs=10, validation_split=0.2)\n",
        "best_model = tuner.get_best_models()[0]\n",
        "best_model.summary()\n",
        "\n",
        "early_stopping=EarlyStopping(patience=25, verbose=0)\n",
        "checkpointer=ModelCheckpoint(filepath='weights1.hdf5', save_best_only=True, verbose=1)\n",
        "best_model.fit(X_train,y_train2, batch_size=50,epochs=100, verbose=0, \\\n",
        "                validation_split=0.2,callbacks=[checkpointer, early_stopping], shuffle=True)\n",
        "\n",
        "predictions =best_model.predict(X_test)\n",
        "pred_sign=np.argmax(predictions,axis=1)\n",
        "pred_train=np.argmax(best_model.predict(X_train),axis=1)\n",
        "true_sign=np.argmax(y_test2,axis=1)\n",
        "print(confusion_matrix(np.argmax(y_train2,axis=1),pred_train))\n",
        "print(confusion_matrix(true_sign,pred_sign))\n",
        "print(classification_report(true_sign,pred_sign))"
      ],
      "metadata": {
        "colab": {
          "base_uri": "https://localhost:8080/"
        },
        "id": "470hqXnrtOBl",
        "outputId": "19b5afb7-09a1-43fd-fdb5-0bd8962c27ce"
      },
      "execution_count": 79,
      "outputs": [
        {
          "output_type": "stream",
          "name": "stdout",
          "text": [
            "Trial 10 Complete [00h 00m 06s]\n",
            "val_loss: 0.6800684332847595\n",
            "\n",
            "Best val_loss So Far: 0.6746044158935547\n",
            "Total elapsed time: 00h 01m 01s\n",
            "Model: \"sequential\"\n",
            "_________________________________________________________________\n",
            " Layer (type)                Output Shape              Param #   \n",
            "=================================================================\n",
            " dense (Dense)               (None, 165)               6600      \n",
            "                                                                 \n",
            " dense_1 (Dense)             (None, 36)                5976      \n",
            "                                                                 \n",
            " dense_2 (Dense)             (None, 68)                2516      \n",
            "                                                                 \n",
            " dense_3 (Dense)             (None, 99)                6831      \n",
            "                                                                 \n",
            " dense_4 (Dense)             (None, 28)                2800      \n",
            "                                                                 \n",
            " dense_5 (Dense)             (None, 2)                 58        \n",
            "                                                                 \n",
            "=================================================================\n",
            "Total params: 24,781\n",
            "Trainable params: 24,781\n",
            "Non-trainable params: 0\n",
            "_________________________________________________________________\n",
            "\n",
            "Epoch 1: val_loss improved from inf to 0.69241, saving model to weights1.hdf5\n",
            "\n",
            "Epoch 2: val_loss improved from 0.69241 to 0.68900, saving model to weights1.hdf5\n",
            "\n",
            "Epoch 3: val_loss improved from 0.68900 to 0.68531, saving model to weights1.hdf5\n",
            "\n",
            "Epoch 4: val_loss did not improve from 0.68531\n",
            "\n",
            "Epoch 5: val_loss did not improve from 0.68531\n",
            "\n",
            "Epoch 6: val_loss did not improve from 0.68531\n",
            "\n",
            "Epoch 7: val_loss did not improve from 0.68531\n",
            "\n",
            "Epoch 8: val_loss did not improve from 0.68531\n",
            "\n",
            "Epoch 9: val_loss did not improve from 0.68531\n",
            "\n",
            "Epoch 10: val_loss did not improve from 0.68531\n",
            "\n",
            "Epoch 11: val_loss did not improve from 0.68531\n",
            "\n",
            "Epoch 12: val_loss did not improve from 0.68531\n",
            "\n",
            "Epoch 13: val_loss did not improve from 0.68531\n",
            "\n",
            "Epoch 14: val_loss did not improve from 0.68531\n",
            "\n",
            "Epoch 15: val_loss did not improve from 0.68531\n",
            "\n",
            "Epoch 16: val_loss did not improve from 0.68531\n",
            "\n",
            "Epoch 17: val_loss did not improve from 0.68531\n",
            "\n",
            "Epoch 18: val_loss did not improve from 0.68531\n",
            "\n",
            "Epoch 19: val_loss did not improve from 0.68531\n",
            "\n",
            "Epoch 20: val_loss did not improve from 0.68531\n",
            "\n",
            "Epoch 21: val_loss did not improve from 0.68531\n",
            "\n",
            "Epoch 22: val_loss did not improve from 0.68531\n",
            "\n",
            "Epoch 23: val_loss did not improve from 0.68531\n",
            "\n",
            "Epoch 24: val_loss did not improve from 0.68531\n",
            "\n",
            "Epoch 25: val_loss did not improve from 0.68531\n",
            "\n",
            "Epoch 26: val_loss did not improve from 0.68531\n",
            "\n",
            "Epoch 27: val_loss did not improve from 0.68531\n",
            "\n",
            "Epoch 28: val_loss did not improve from 0.68531\n",
            "13/13 [==============================] - 0s 2ms/step\n",
            "52/52 [==============================] - 0s 2ms/step\n",
            "[[666  66]\n",
            " [ 64 852]]\n",
            "[[101 114]\n",
            " [ 87 110]]\n",
            "              precision    recall  f1-score   support\n",
            "\n",
            "           0       0.54      0.47      0.50       215\n",
            "           1       0.49      0.56      0.52       197\n",
            "\n",
            "    accuracy                           0.51       412\n",
            "   macro avg       0.51      0.51      0.51       412\n",
            "weighted avg       0.52      0.51      0.51       412\n",
            "\n"
          ]
        }
      ]
    },
    {
      "cell_type": "code",
      "source": [
        "train_acc=[]  \n",
        "test_acc=[]\n",
        "a=7\n",
        "b=61\n",
        "num_lag=a\n",
        "while num_lag<b:\n",
        "  raw = pd.read_csv(\"/content/drive/MyDrive/Crypto/new3/full_spread_data.csv\", parse_dates = [\"time\"], index_col = \"time\").dropna()\n",
        "  raw[\"returns\"] =np.log(raw.Close / raw.Close.shift(1))\n",
        "  raw[\"returns2\"]=(raw[\"returns\"]>=0).astype(int)\n",
        "  raw.drop([\"Open\",\"Spread\",\"Close\",\"High\",\"returns\",\"Volume\",\"Low\"],axis=1,inplace=True)\n",
        "  cols = []\n",
        "  for lag in range(1, num_lag):\n",
        "      col_r = \"r_lag{}\".format(lag)\n",
        "      raw[col_r] = raw.returns2.shift(lag)\n",
        "  raw.dropna(inplace = True)\n",
        "  to=int(len(raw)*0.8)\n",
        "  X_train=raw.drop([\"returns2\"],axis=1).iloc[:to].to_numpy()\n",
        "  y_train=raw[\"returns2\"].iloc[:to].to_numpy().astype(int)\n",
        "  X_test=raw.drop([\"returns2\"],axis=1).iloc[to:].to_numpy()\n",
        "  y_test=raw[\"returns2\"].iloc[to:].to_numpy().astype(int)\n",
        "\n",
        "  from tensorflow.keras.utils import to_categorical\n",
        "  y_train2 = to_categorical(y_train, 2)\n",
        "  y_test2 = to_categorical(y_test, 2)\n",
        "\n",
        "\n",
        "  def build_model(hp):\n",
        "      model = Sequential()\n",
        "      model.add(Dense(hp.Int('units1', min_value=5, max_value=200, step=1),activation=\"relu\",input_shape=(num_lag-1,1)))\n",
        "      model.add(Dense(hp.Int('units2', min_value=5, max_value=180, step=1),activation=\"relu\"))\n",
        "      model.add(Dense(hp.Int('units3', min_value=5, max_value=160, step=1),activation=\"relu\"))\n",
        "      model.add(Dense(hp.Int('units4', min_value=5, max_value=140, step=1),activation=\"relu\"))\n",
        "      model.add(Dense(hp.Int('units5', min_value=5, max_value=120, step=1),activation=\"relu\"))\n",
        "      model.add(GRU(hp.Int('units5', min_value=5, max_value=120, step=1),activation=\"tanh\",return_sequences=True))\n",
        "      model.add(LSTM(hp.Int('units5', min_value=5, max_value=120, step=1),activation=\"tanh\"))\n",
        "      model.add(Dense(2,activation=\"softmax\"))\n",
        "\n",
        "      model.compile(loss='categorical_crossentropy', optimizer='adam', metrics=['accuracy'])\n",
        "      return model\n",
        "\n",
        "  tuner = keras_tuner.RandomSearch(\n",
        "        build_model,\n",
        "        objective='val_loss',\n",
        "        max_trials=10,overwrite = True)\n",
        "  tuner.search(X_train,y_train2 , epochs=5, validation_split=0.2)\n",
        "  best_model = tuner.get_best_models()[0]\n",
        "  best_model.summary()\n",
        "\n",
        "  early_stopping=EarlyStopping(patience=10, verbose=0)\n",
        "  checkpointer=ModelCheckpoint(filepath='weights1.hdf5', save_best_only=True, verbose=1)\n",
        "  best_model.fit(X_train,y_train2, batch_size=50,epochs=100, verbose=0, \\\n",
        "                  validation_split=0.2,callbacks=[checkpointer, early_stopping], shuffle=True)\n",
        "\n",
        "  predictions =best_model.predict(X_test)\n",
        "  predistions2=best_model.predict(X_train)\n",
        "  pred_test=np.argmax(predictions,axis=1)\n",
        "  pred_train=np.argmax(predistions2,axis=1)\n",
        "  train_acc.append(1-accuracy_score(y_train,pred_train))\n",
        "  test_acc.append(1-accuracy_score(y_test,pred_test))\n",
        "  num_lag+=1\n",
        "\n",
        "plt.plot(np.arange(a,b,1),train_acc,color=\"blue\")\n",
        "plt.plot(np.arange(a,b,1),test_acc,color=\"red\")\n",
        "plt.plot(np.arange(a,b,1),0.5*np.ones(b-a),color=\"purple\")"
      ],
      "metadata": {
        "id": "lLox0gxqpctg",
        "outputId": "8ba1060c-6f8d-4f6a-c81b-f00e106c95e3",
        "colab": {
          "base_uri": "https://localhost:8080/",
          "height": 1000
        }
      },
      "execution_count": 12,
      "outputs": [
        {
          "output_type": "stream",
          "name": "stdout",
          "text": [
            "Trial 10 Complete [00h 00m 12s]\n",
            "val_loss: 0.6848078966140747\n",
            "\n",
            "Best val_loss So Far: 0.6833024621009827\n",
            "Total elapsed time: 00h 02m 12s\n",
            "Model: \"sequential\"\n",
            "_________________________________________________________________\n",
            " Layer (type)                Output Shape              Param #   \n",
            "=================================================================\n",
            " dense (Dense)               (None, 59, 47)            94        \n",
            "                                                                 \n",
            " dense_1 (Dense)             (None, 59, 170)           8160      \n",
            "                                                                 \n",
            " dense_2 (Dense)             (None, 59, 33)            5643      \n",
            "                                                                 \n",
            " dense_3 (Dense)             (None, 59, 103)           3502      \n",
            "                                                                 \n",
            " dense_4 (Dense)             (None, 59, 9)             936       \n",
            "                                                                 \n",
            " gru (GRU)                   (None, 59, 9)             540       \n",
            "                                                                 \n",
            " lstm (LSTM)                 (None, 9)                 684       \n",
            "                                                                 \n",
            " dense_5 (Dense)             (None, 2)                 20        \n",
            "                                                                 \n",
            "=================================================================\n",
            "Total params: 19,579\n",
            "Trainable params: 19,579\n",
            "Non-trainable params: 0\n",
            "_________________________________________________________________\n",
            "\n",
            "Epoch 1: val_loss improved from inf to 0.68430, saving model to weights1.hdf5\n",
            "\n",
            "Epoch 2: val_loss did not improve from 0.68430\n",
            "\n",
            "Epoch 3: val_loss did not improve from 0.68430\n",
            "\n",
            "Epoch 4: val_loss improved from 0.68430 to 0.68387, saving model to weights1.hdf5\n",
            "\n",
            "Epoch 5: val_loss did not improve from 0.68387\n",
            "\n",
            "Epoch 6: val_loss did not improve from 0.68387\n",
            "\n",
            "Epoch 7: val_loss did not improve from 0.68387\n",
            "\n",
            "Epoch 8: val_loss did not improve from 0.68387\n",
            "\n",
            "Epoch 9: val_loss did not improve from 0.68387\n",
            "\n",
            "Epoch 10: val_loss did not improve from 0.68387\n",
            "\n",
            "Epoch 11: val_loss did not improve from 0.68387\n",
            "\n",
            "Epoch 12: val_loss did not improve from 0.68387\n",
            "\n",
            "Epoch 13: val_loss did not improve from 0.68387\n",
            "\n",
            "Epoch 14: val_loss did not improve from 0.68387\n",
            "13/13 [==============================] - 1s 5ms/step\n",
            "51/51 [==============================] - 0s 5ms/step\n"
          ]
        },
        {
          "output_type": "execute_result",
          "data": {
            "text/plain": [
              "[<matplotlib.lines.Line2D at 0x7fb3ff31ae80>]"
            ]
          },
          "metadata": {},
          "execution_count": 12
        },
        {
          "output_type": "display_data",
          "data": {
            "text/plain": [
              "<Figure size 432x288 with 1 Axes>"
            ],
            "image/png": "[encoded data removed]"
          },
          "metadata": {
            "needs_background": "light"
          }
        }
      ]
    },
    {
      "cell_type": "code",
      "source": [],
      "metadata": {
        "id": "GvMzySjJpdTR"
      },
      "execution_count": null,
      "outputs": []
    },
    {
      "cell_type": "code",
      "source": [],
      "metadata": {
        "id": "JUbK01ZTpdWk"
      },
      "execution_count": null,
      "outputs": []
    },
    {
      "cell_type": "code",
      "source": [
        "pred_sign=-(predictions>=0).astype(int)+(predictions<0).astype(int)\n",
        "true_sign=(y_true>=0).astype(int)-(y_true<0).astype(int)\n",
        "print(confusion_matrix(true_sign,pred_sign))\n",
        "print(classification_report(true_sign,pred_sign))"
      ],
      "metadata": {
        "colab": {
          "base_uri": "https://localhost:8080/"
        },
        "id": "G0b3m3PGN5YS",
        "outputId": "1cb956f2-3aa3-4fdf-9483-70cba7f83847"
      },
      "execution_count": null,
      "outputs": [
        {
          "output_type": "stream",
          "name": "stdout",
          "text": [
            "[[215  75]\n",
            " [216  92]]\n",
            "              precision    recall  f1-score   support\n",
            "\n",
            "          -1       0.50      0.74      0.60       290\n",
            "           1       0.55      0.30      0.39       308\n",
            "\n",
            "    accuracy                           0.51       598\n",
            "   macro avg       0.52      0.52      0.49       598\n",
            "weighted avg       0.53      0.51      0.49       598\n",
            "\n"
          ]
        }
      ]
    },
    {
      "cell_type": "code",
      "source": [
        "X_test.shape"
      ],
      "metadata": {
        "colab": {
          "base_uri": "https://localhost:8080/"
        },
        "id": "qlvadTSx1sDc",
        "outputId": "eb6788d8-992f-444a-e8bd-fe2e864466c9"
      },
      "execution_count": null,
      "outputs": [
        {
          "output_type": "execute_result",
          "data": {
            "text/plain": [
              "(598, 56)"
            ]
          },
          "metadata": {},
          "execution_count": 164
        }
      ]
    },
    {
      "cell_type": "markdown",
      "metadata": {
        "id": "OmR_a4E4azq7"
      },
      "source": [
        "# GRU"
      ]
    },
    {
      "cell_type": "code",
      "execution_count": null,
      "metadata": {
        "id": "m7u6MIsEm89h"
      },
      "outputs": [],
      "source": [
        "def build_model(hp):\n",
        "    model = Sequential()\n",
        "\n",
        "    model.add(LSTM(hp.Int('units2', min_value=1, max_value=200, step=1), return_sequences=True, input_shape=(60,1)))\n",
        "    model.add(GRU(hp.Int('units2', min_value=1, max_value=200, step=1), return_sequences=True))\n",
        "    model.add(LSTM(hp.Int('units2', min_value=1, max_value=200, step=1), return_sequences=False))\n",
        "    model.add(Dense(hp.Int('units3', min_value=5, max_value=100, step=1)))\n",
        "    model.add(Dense(1))\n",
        "\n",
        "    model.compile(loss='mean_squared_error', optimizer='adam', metrics=[tf.keras.metrics.MeanSquaredError()])\n",
        "    return model"
      ]
    },
    {
      "cell_type": "code",
      "source": [
        "tuner = keras_tuner.RandomSearch(\n",
        "      build_model,\n",
        "      objective='val_loss',\n",
        "      max_trials=10,overwrite = True)\n",
        "tuner.search(X_train,y_train , epochs=10, validation_split=0.2)\n",
        "best_model = tuner.get_best_models()[0]\n",
        "best_model.summary()"
      ],
      "metadata": {
        "colab": {
          "base_uri": "https://localhost:8080/"
        },
        "id": "fM9WingWIGXc",
        "outputId": "79068576-71b7-43f6-f9d7-c3cc5d6a9103"
      },
      "execution_count": null,
      "outputs": [
        {
          "output_type": "stream",
          "name": "stdout",
          "text": [
            "Trial 10 Complete [00h 00m 11s]\n",
            "val_loss: 0.8127514123916626\n",
            "\n",
            "Best val_loss So Far: 0.8071630597114563\n",
            "Total elapsed time: 00h 02m 12s\n",
            "Model: \"sequential\"\n",
            "_________________________________________________________________\n",
            " Layer (type)                Output Shape              Param #   \n",
            "=================================================================\n",
            " lstm (LSTM)                 (None, 60, 109)           48396     \n",
            "                                                                 \n",
            " gru (GRU)                   (None, 60, 109)           71940     \n",
            "                                                                 \n",
            " lstm_1 (LSTM)               (None, 109)               95484     \n",
            "                                                                 \n",
            " dense (Dense)               (None, 29)                3190      \n",
            "                                                                 \n",
            " dense_1 (Dense)             (None, 1)                 30        \n",
            "                                                                 \n",
            "=================================================================\n",
            "Total params: 219,040\n",
            "Trainable params: 219,040\n",
            "Non-trainable params: 0\n",
            "_________________________________________________________________\n"
          ]
        }
      ]
    },
    {
      "cell_type": "code",
      "execution_count": null,
      "metadata": {
        "id": "OnWc6F-oeFXX",
        "outputId": "c31635d2-1f31-4ee5-b81a-1bb8de63c3ec",
        "colab": {
          "base_uri": "https://localhost:8080/"
        }
      },
      "outputs": [
        {
          "output_type": "stream",
          "name": "stdout",
          "text": [
            "\n",
            "Epoch 1: val_loss improved from inf to 1.13291, saving model to weights1.hdf5\n",
            "\n",
            "Epoch 2: val_loss did not improve from 1.13291\n",
            "\n",
            "Epoch 3: val_loss did not improve from 1.13291\n",
            "\n",
            "Epoch 4: val_loss improved from 1.13291 to 1.13181, saving model to weights1.hdf5\n",
            "\n",
            "Epoch 5: val_loss did not improve from 1.13181\n",
            "\n",
            "Epoch 6: val_loss did not improve from 1.13181\n",
            "\n",
            "Epoch 7: val_loss did not improve from 1.13181\n",
            "\n",
            "Epoch 8: val_loss did not improve from 1.13181\n",
            "\n",
            "Epoch 9: val_loss did not improve from 1.13181\n",
            "\n",
            "Epoch 10: val_loss did not improve from 1.13181\n",
            "\n",
            "Epoch 11: val_loss did not improve from 1.13181\n",
            "\n",
            "Epoch 12: val_loss did not improve from 1.13181\n",
            "\n",
            "Epoch 13: val_loss did not improve from 1.13181\n",
            "\n",
            "Epoch 14: val_loss did not improve from 1.13181\n",
            "\n",
            "Epoch 15: val_loss did not improve from 1.13181\n",
            "\n",
            "Epoch 16: val_loss did not improve from 1.13181\n",
            "\n",
            "Epoch 17: val_loss did not improve from 1.13181\n",
            "\n",
            "Epoch 18: val_loss did not improve from 1.13181\n",
            "\n",
            "Epoch 19: val_loss did not improve from 1.13181\n",
            "\n",
            "Epoch 20: val_loss did not improve from 1.13181\n",
            "\n",
            "Epoch 21: val_loss did not improve from 1.13181\n",
            "\n",
            "Epoch 22: val_loss did not improve from 1.13181\n",
            "\n",
            "Epoch 23: val_loss did not improve from 1.13181\n",
            "\n",
            "Epoch 24: val_loss did not improve from 1.13181\n",
            "\n",
            "Epoch 25: val_loss did not improve from 1.13181\n",
            "\n",
            "Epoch 26: val_loss did not improve from 1.13181\n",
            "\n",
            "Epoch 27: val_loss did not improve from 1.13181\n",
            "\n",
            "Epoch 28: val_loss did not improve from 1.13181\n",
            "\n",
            "Epoch 29: val_loss did not improve from 1.13181\n",
            "\n",
            "Epoch 30: val_loss did not improve from 1.13181\n",
            "\n",
            "Epoch 31: val_loss did not improve from 1.13181\n",
            "\n",
            "Epoch 32: val_loss did not improve from 1.13181\n",
            "\n",
            "Epoch 33: val_loss did not improve from 1.13181\n",
            "\n",
            "Epoch 34: val_loss did not improve from 1.13181\n",
            "\n",
            "Epoch 35: val_loss did not improve from 1.13181\n",
            "\n",
            "Epoch 36: val_loss did not improve from 1.13181\n",
            "\n",
            "Epoch 37: val_loss did not improve from 1.13181\n",
            "\n",
            "Epoch 38: val_loss did not improve from 1.13181\n",
            "\n",
            "Epoch 39: val_loss did not improve from 1.13181\n",
            "\n",
            "Epoch 40: val_loss did not improve from 1.13181\n",
            "\n",
            "Epoch 41: val_loss did not improve from 1.13181\n",
            "\n",
            "Epoch 42: val_loss did not improve from 1.13181\n",
            "\n",
            "Epoch 43: val_loss did not improve from 1.13181\n",
            "\n",
            "Epoch 44: val_loss did not improve from 1.13181\n",
            "\n",
            "Epoch 45: val_loss did not improve from 1.13181\n",
            "\n",
            "Epoch 46: val_loss did not improve from 1.13181\n",
            "\n",
            "Epoch 47: val_loss did not improve from 1.13181\n",
            "\n",
            "Epoch 48: val_loss did not improve from 1.13181\n",
            "\n",
            "Epoch 49: val_loss did not improve from 1.13181\n",
            "\n",
            "Epoch 50: val_loss did not improve from 1.13181\n",
            "\n",
            "Epoch 51: val_loss did not improve from 1.13181\n",
            "\n",
            "Epoch 52: val_loss did not improve from 1.13181\n",
            "\n",
            "Epoch 53: val_loss did not improve from 1.13181\n",
            "\n",
            "Epoch 54: val_loss did not improve from 1.13181\n",
            "\n",
            "Epoch 55: val_loss did not improve from 1.13181\n",
            "\n",
            "Epoch 56: val_loss did not improve from 1.13181\n",
            "\n",
            "Epoch 57: val_loss did not improve from 1.13181\n",
            "\n",
            "Epoch 58: val_loss did not improve from 1.13181\n",
            "\n",
            "Epoch 59: val_loss did not improve from 1.13181\n",
            "\n",
            "Epoch 60: val_loss did not improve from 1.13181\n",
            "\n",
            "Epoch 61: val_loss did not improve from 1.13181\n",
            "\n",
            "Epoch 62: val_loss did not improve from 1.13181\n",
            "\n",
            "Epoch 63: val_loss did not improve from 1.13181\n",
            "\n",
            "Epoch 64: val_loss did not improve from 1.13181\n",
            "\n",
            "Epoch 65: val_loss did not improve from 1.13181\n",
            "\n",
            "Epoch 66: val_loss did not improve from 1.13181\n",
            "\n",
            "Epoch 67: val_loss did not improve from 1.13181\n",
            "\n",
            "Epoch 68: val_loss did not improve from 1.13181\n",
            "\n",
            "Epoch 69: val_loss did not improve from 1.13181\n",
            "\n",
            "Epoch 70: val_loss did not improve from 1.13181\n",
            "\n",
            "Epoch 71: val_loss did not improve from 1.13181\n",
            "\n",
            "Epoch 72: val_loss did not improve from 1.13181\n",
            "\n",
            "Epoch 73: val_loss did not improve from 1.13181\n",
            "\n",
            "Epoch 74: val_loss did not improve from 1.13181\n",
            "\n",
            "Epoch 75: val_loss did not improve from 1.13181\n",
            "\n",
            "Epoch 76: val_loss did not improve from 1.13181\n",
            "\n",
            "Epoch 77: val_loss did not improve from 1.13181\n",
            "\n",
            "Epoch 78: val_loss did not improve from 1.13181\n",
            "\n",
            "Epoch 79: val_loss did not improve from 1.13181\n",
            "\n",
            "Epoch 80: val_loss did not improve from 1.13181\n",
            "\n",
            "Epoch 81: val_loss did not improve from 1.13181\n",
            "\n",
            "Epoch 82: val_loss did not improve from 1.13181\n",
            "\n",
            "Epoch 83: val_loss did not improve from 1.13181\n",
            "\n",
            "Epoch 84: val_loss did not improve from 1.13181\n",
            "\n",
            "Epoch 85: val_loss did not improve from 1.13181\n",
            "\n",
            "Epoch 86: val_loss did not improve from 1.13181\n",
            "\n",
            "Epoch 87: val_loss did not improve from 1.13181\n",
            "\n",
            "Epoch 88: val_loss did not improve from 1.13181\n",
            "\n",
            "Epoch 89: val_loss did not improve from 1.13181\n",
            "\n",
            "Epoch 90: val_loss did not improve from 1.13181\n",
            "\n",
            "Epoch 91: val_loss did not improve from 1.13181\n",
            "\n",
            "Epoch 92: val_loss did not improve from 1.13181\n",
            "\n",
            "Epoch 93: val_loss did not improve from 1.13181\n",
            "\n",
            "Epoch 94: val_loss did not improve from 1.13181\n",
            "\n",
            "Epoch 95: val_loss did not improve from 1.13181\n",
            "\n",
            "Epoch 96: val_loss did not improve from 1.13181\n",
            "\n",
            "Epoch 97: val_loss did not improve from 1.13181\n",
            "\n",
            "Epoch 98: val_loss did not improve from 1.13181\n",
            "\n",
            "Epoch 99: val_loss did not improve from 1.13181\n",
            "\n",
            "Epoch 100: val_loss did not improve from 1.13181\n",
            "\n",
            "Epoch 101: val_loss did not improve from 1.13181\n",
            "\n",
            "Epoch 102: val_loss did not improve from 1.13181\n",
            "\n",
            "Epoch 103: val_loss did not improve from 1.13181\n",
            "\n",
            "Epoch 104: val_loss did not improve from 1.13181\n"
          ]
        },
        {
          "output_type": "execute_result",
          "data": {
            "text/plain": [
              "<keras.callbacks.History at 0x7f23c0719220>"
            ]
          },
          "metadata": {},
          "execution_count": 103
        }
      ],
      "source": [
        "#best_model=build_best()\n",
        "early_stopping=EarlyStopping(patience=100, verbose=0)\n",
        "checkpointer=ModelCheckpoint(filepath='weights1.hdf5', save_best_only=True, verbose=1)\n",
        "best_model.fit(X_train,y_train, batch_size=32,epochs=1000, verbose=0, \\\n",
        "                validation_split=0.1,callbacks=[checkpointer, early_stopping], shuffle=True)"
      ]
    },
    {
      "cell_type": "code",
      "source": [
        "predictions = scaler2.inverse_transform(best_model.predict(X_test)).flatten()\n",
        "y_true=scaler2.inverse_transform(y_test.reshape(-1,1)).flatten()\n",
        "pred_sign=(predictions>=0).astype(int)-(predictions<0).astype(int)\n",
        "true_sign=(y_true>=0).astype(int)-(y_true<0).astype(int)\n",
        "print(confusion_matrix(true_sign,pred_sign))\n",
        "print(classification_report(true_sign,pred_sign))"
      ],
      "metadata": {
        "colab": {
          "base_uri": "https://localhost:8080/"
        },
        "id": "6hIQiud6nxNF",
        "outputId": "68e6625c-f3ac-4844-8b1d-b7067c2c0bb1"
      },
      "execution_count": null,
      "outputs": [
        {
          "output_type": "stream",
          "name": "stdout",
          "text": [
            "2/2 [==============================] - 1s 9ms/step\n",
            "[[11 12]\n",
            " [21 10]]\n",
            "              precision    recall  f1-score   support\n",
            "\n",
            "          -1       0.34      0.48      0.40        23\n",
            "           1       0.45      0.32      0.38        31\n",
            "\n",
            "    accuracy                           0.39        54\n",
            "   macro avg       0.40      0.40      0.39        54\n",
            "weighted avg       0.41      0.39      0.39        54\n",
            "\n"
          ]
        }
      ]
    }
  ]
}