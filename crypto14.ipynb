{
  "nbformat": 4,
  "nbformat_minor": 0,
  "metadata": {
    "colab": {
      "provenance": [],
      "collapsed_sections": [
        "PXculM1gGSmI",
        "MzQpwCUzbhb4"
      ],
      "include_colab_link": true
    },
    "kernelspec": {
      "name": "python3",
      "display_name": "Python 3"
    },
    "language_info": {
      "name": "python"
    },
    "gpuClass": "premium",
    "accelerator": "GPU",
    "widgets": {
      "application/vnd.jupyter.widget-state+json": {
        "e1761b6a33da4528b3de7811d1d9f197": {
          "model_module": "@jupyter-widgets/output",
          "model_name": "OutputModel",
          "model_module_version": "1.0.0",
          "state": {
            "_dom_classes": [],
            "_model_module": "@jupyter-widgets/output",
            "_model_module_version": "1.0.0",
            "_model_name": "OutputModel",
            "_view_count": null,
            "_view_module": "@jupyter-widgets/output",
            "_view_module_version": "1.0.0",
            "_view_name": "OutputView",
            "layout": "IPY_MODEL_1f79db832a9344b0acc2dda4906a75dc",
            "msg_id": "",
            "outputs": [
              {
                "output_type": "display_data",
                "data": {
                  "text/plain": "proc \u001b[38;2;114;156;31m━━━━━━━━━━━━━━━━━━━━━━━━━━━━━━━━━━━━━━━━\u001b[0m \u001b[35m100%\u001b[0m \u001b[36m0:00:00\u001b[0m\n",
                  "text/html": "<pre style=\"white-space:pre;overflow-x:auto;line-height:normal;font-family:Menlo,'DejaVu Sans Mono',consolas,'Courier New',monospace\">proc <span style=\"color: #729c1f; text-decoration-color: #729c1f\">━━━━━━━━━━━━━━━━━━━━━━━━━━━━━━━━━━━━━━━━</span> <span style=\"color: #800080; text-decoration-color: #800080\">100%</span> <span style=\"color: #008080; text-decoration-color: #008080\">0:00:00</span>\n</pre>\n"
                },
                "metadata": {}
              }
            ]
          }
        },
        "1f79db832a9344b0acc2dda4906a75dc": {
          "model_module": "@jupyter-widgets/base",
          "model_name": "LayoutModel",
          "model_module_version": "1.2.0",
          "state": {
            "_model_module": "@jupyter-widgets/base",
            "_model_module_version": "1.2.0",
            "_model_name": "LayoutModel",
            "_view_count": null,
            "_view_module": "@jupyter-widgets/base",
            "_view_module_version": "1.2.0",
            "_view_name": "LayoutView",
            "align_content": null,
            "align_items": null,
            "align_self": null,
            "border": null,
            "bottom": null,
            "display": null,
            "flex": null,
            "flex_flow": null,
            "grid_area": null,
            "grid_auto_columns": null,
            "grid_auto_flow": null,
            "grid_auto_rows": null,
            "grid_column": null,
            "grid_gap": null,
            "grid_row": null,
            "grid_template_areas": null,
            "grid_template_columns": null,
            "grid_template_rows": null,
            "height": null,
            "justify_content": null,
            "justify_items": null,
            "left": null,
            "margin": null,
            "max_height": null,
            "max_width": null,
            "min_height": null,
            "min_width": null,
            "object_fit": null,
            "object_position": null,
            "order": null,
            "overflow": null,
            "overflow_x": null,
            "overflow_y": null,
            "padding": null,
            "right": null,
            "top": null,
            "visibility": null,
            "width": null
          }
        },
        "062a8ebbdf8f4a7894611587a8096969": {
          "model_module": "@jupyter-widgets/output",
          "model_name": "OutputModel",
          "model_module_version": "1.0.0",
          "state": {
            "_dom_classes": [],
            "_model_module": "@jupyter-widgets/output",
            "_model_module_version": "1.0.0",
            "_model_name": "OutputModel",
            "_view_count": null,
            "_view_module": "@jupyter-widgets/output",
            "_view_module_version": "1.0.0",
            "_view_name": "OutputView",
            "layout": "IPY_MODEL_84e816a844424c04a307779d76254fd7",
            "msg_id": "",
            "outputs": [
              {
                "output_type": "display_data",
                "data": {
                  "text/plain": "proc \u001b[38;2;114;156;31m━━━━━━━━━━━━━━━━━━━━━━━━━━━━━━━━━━━━━━━━\u001b[0m \u001b[35m100%\u001b[0m \u001b[36m0:00:00\u001b[0m\n",
                  "text/html": "<pre style=\"white-space:pre;overflow-x:auto;line-height:normal;font-family:Menlo,'DejaVu Sans Mono',consolas,'Courier New',monospace\">proc <span style=\"color: #729c1f; text-decoration-color: #729c1f\">━━━━━━━━━━━━━━━━━━━━━━━━━━━━━━━━━━━━━━━━</span> <span style=\"color: #800080; text-decoration-color: #800080\">100%</span> <span style=\"color: #008080; text-decoration-color: #008080\">0:00:00</span>\n</pre>\n"
                },
                "metadata": {}
              }
            ]
          }
        },
        "84e816a844424c04a307779d76254fd7": {
          "model_module": "@jupyter-widgets/base",
          "model_name": "LayoutModel",
          "model_module_version": "1.2.0",
          "state": {
            "_model_module": "@jupyter-widgets/base",
            "_model_module_version": "1.2.0",
            "_model_name": "LayoutModel",
            "_view_count": null,
            "_view_module": "@jupyter-widgets/base",
            "_view_module_version": "1.2.0",
            "_view_name": "LayoutView",
            "align_content": null,
            "align_items": null,
            "align_self": null,
            "border": null,
            "bottom": null,
            "display": null,
            "flex": null,
            "flex_flow": null,
            "grid_area": null,
            "grid_auto_columns": null,
            "grid_auto_flow": null,
            "grid_auto_rows": null,
            "grid_column": null,
            "grid_gap": null,
            "grid_row": null,
            "grid_template_areas": null,
            "grid_template_columns": null,
            "grid_template_rows": null,
            "height": null,
            "justify_content": null,
            "justify_items": null,
            "left": null,
            "margin": null,
            "max_height": null,
            "max_width": null,
            "min_height": null,
            "min_width": null,
            "object_fit": null,
            "object_position": null,
            "order": null,
            "overflow": null,
            "overflow_x": null,
            "overflow_y": null,
            "padding": null,
            "right": null,
            "top": null,
            "visibility": null,
            "width": null
          }
        },
        "bfd87edec2134e8692b867fae6b2647c": {
          "model_module": "@jupyter-widgets/output",
          "model_name": "OutputModel",
          "model_module_version": "1.0.0",
          "state": {
            "_dom_classes": [],
            "_model_module": "@jupyter-widgets/output",
            "_model_module_version": "1.0.0",
            "_model_name": "OutputModel",
            "_view_count": null,
            "_view_module": "@jupyter-widgets/output",
            "_view_module_version": "1.0.0",
            "_view_name": "OutputView",
            "layout": "IPY_MODEL_784b3def214e4bb790966761302befb3",
            "msg_id": "",
            "outputs": [
              {
                "output_type": "display_data",
                "data": {
                  "text/plain": "proc \u001b[38;2;114;156;31m━━━━━━━━━━━━━━━━━━━━━━━━━━━━━━━━━━━━━━━━\u001b[0m \u001b[35m100%\u001b[0m \u001b[36m0:00:00\u001b[0m\n",
                  "text/html": "<pre style=\"white-space:pre;overflow-x:auto;line-height:normal;font-family:Menlo,'DejaVu Sans Mono',consolas,'Courier New',monospace\">proc <span style=\"color: #729c1f; text-decoration-color: #729c1f\">━━━━━━━━━━━━━━━━━━━━━━━━━━━━━━━━━━━━━━━━</span> <span style=\"color: #800080; text-decoration-color: #800080\">100%</span> <span style=\"color: #008080; text-decoration-color: #008080\">0:00:00</span>\n</pre>\n"
                },
                "metadata": {}
              }
            ]
          }
        },
        "784b3def214e4bb790966761302befb3": {
          "model_module": "@jupyter-widgets/base",
          "model_name": "LayoutModel",
          "model_module_version": "1.2.0",
          "state": {
            "_model_module": "@jupyter-widgets/base",
            "_model_module_version": "1.2.0",
            "_model_name": "LayoutModel",
            "_view_count": null,
            "_view_module": "@jupyter-widgets/base",
            "_view_module_version": "1.2.0",
            "_view_name": "LayoutView",
            "align_content": null,
            "align_items": null,
            "align_self": null,
            "border": null,
            "bottom": null,
            "display": null,
            "flex": null,
            "flex_flow": null,
            "grid_area": null,
            "grid_auto_columns": null,
            "grid_auto_flow": null,
            "grid_auto_rows": null,
            "grid_column": null,
            "grid_gap": null,
            "grid_row": null,
            "grid_template_areas": null,
            "grid_template_columns": null,
            "grid_template_rows": null,
            "height": null,
            "justify_content": null,
            "justify_items": null,
            "left": null,
            "margin": null,
            "max_height": null,
            "max_width": null,
            "min_height": null,
            "min_width": null,
            "object_fit": null,
            "object_position": null,
            "order": null,
            "overflow": null,
            "overflow_x": null,
            "overflow_y": null,
            "padding": null,
            "right": null,
            "top": null,
            "visibility": null,
            "width": null
          }
        }
      }
    }
  },
  "cells": [
    {
      "cell_type": "markdown",
      "metadata": {
        "id": "view-in-github",
        "colab_type": "text"
      },
      "source": [
        "<a href=\"https://colab.research.google.com/github/csabi0312/crypto-svm/blob/gru/crypto14.ipynb\" target=\"_parent\"><img src=\"https://colab.research.google.com/assets/colab-badge.svg\" alt=\"Open In Colab\"/></a>"
      ]
    },
    {
      "cell_type": "markdown",
      "metadata": {
        "id": "PXculM1gGSmI"
      },
      "source": [
        "# Importing packages"
      ]
    },
    {
      "cell_type": "code",
      "execution_count": 1,
      "metadata": {
        "colab": {
          "base_uri": "https://localhost:8080/"
        },
        "id": "VPoZWYEvnklQ",
        "outputId": "eb2d4688-bd91-48fc-926f-b6a653933d13"
      },
      "outputs": [
        {
          "output_type": "stream",
          "name": "stdout",
          "text": [
            "Drive already mounted at /content/drive; to attempt to forcibly remount, call drive.mount(\"/content/drive\", force_remount=True).\n"
          ]
        }
      ],
      "source": [
        "from google.colab import drive\n",
        "drive.mount('/content/drive')"
      ]
    },
    {
      "cell_type": "code",
      "execution_count": 2,
      "metadata": {
        "colab": {
          "base_uri": "https://localhost:8080/"
        },
        "id": "XAHz6AVhjOkb",
        "outputId": "6cbaac01-89db-45be-f3a5-7c1a747c250a"
      },
      "outputs": [
        {
          "output_type": "stream",
          "name": "stdout",
          "text": [
            "Looking in indexes: https://pypi.org/simple, https://us-python.pkg.dev/colab-wheels/public/simple/\n",
            "Requirement already satisfied: keras-tuner in /usr/local/lib/python3.8/dist-packages (1.2.1)\n",
            "Requirement already satisfied: tensorflow>=2.0 in /usr/local/lib/python3.8/dist-packages (from keras-tuner) (2.11.0)\n",
            "Requirement already satisfied: packaging in /usr/local/lib/python3.8/dist-packages (from keras-tuner) (23.0)\n",
            "Requirement already satisfied: kt-legacy in /usr/local/lib/python3.8/dist-packages (from keras-tuner) (1.0.4)\n",
            "Requirement already satisfied: requests in /usr/local/lib/python3.8/dist-packages (from keras-tuner) (2.25.1)\n",
            "Requirement already satisfied: ipython in /usr/local/lib/python3.8/dist-packages (from keras-tuner) (7.9.0)\n",
            "Requirement already satisfied: six>=1.12.0 in /usr/local/lib/python3.8/dist-packages (from tensorflow>=2.0->keras-tuner) (1.15.0)\n",
            "Requirement already satisfied: setuptools in /usr/local/lib/python3.8/dist-packages (from tensorflow>=2.0->keras-tuner) (57.4.0)\n",
            "Requirement already satisfied: tensorflow-io-gcs-filesystem>=0.23.1 in /usr/local/lib/python3.8/dist-packages (from tensorflow>=2.0->keras-tuner) (0.30.0)\n",
            "Requirement already satisfied: gast<=0.4.0,>=0.2.1 in /usr/local/lib/python3.8/dist-packages (from tensorflow>=2.0->keras-tuner) (0.4.0)\n",
            "Requirement already satisfied: grpcio<2.0,>=1.24.3 in /usr/local/lib/python3.8/dist-packages (from tensorflow>=2.0->keras-tuner) (1.51.1)\n",
            "Requirement already satisfied: tensorflow-estimator<2.12,>=2.11.0 in /usr/local/lib/python3.8/dist-packages (from tensorflow>=2.0->keras-tuner) (2.11.0)\n",
            "Requirement already satisfied: libclang>=13.0.0 in /usr/local/lib/python3.8/dist-packages (from tensorflow>=2.0->keras-tuner) (15.0.6.1)\n",
            "Requirement already satisfied: h5py>=2.9.0 in /usr/local/lib/python3.8/dist-packages (from tensorflow>=2.0->keras-tuner) (3.1.0)\n",
            "Requirement already satisfied: tensorboard<2.12,>=2.11 in /usr/local/lib/python3.8/dist-packages (from tensorflow>=2.0->keras-tuner) (2.11.2)\n",
            "Requirement already satisfied: absl-py>=1.0.0 in /usr/local/lib/python3.8/dist-packages (from tensorflow>=2.0->keras-tuner) (1.4.0)\n",
            "Requirement already satisfied: flatbuffers>=2.0 in /usr/local/lib/python3.8/dist-packages (from tensorflow>=2.0->keras-tuner) (23.1.21)\n",
            "Requirement already satisfied: typing-extensions>=3.6.6 in /usr/local/lib/python3.8/dist-packages (from tensorflow>=2.0->keras-tuner) (4.4.0)\n",
            "Requirement already satisfied: numpy>=1.20 in /usr/local/lib/python3.8/dist-packages (from tensorflow>=2.0->keras-tuner) (1.21.6)\n",
            "Requirement already satisfied: google-pasta>=0.1.1 in /usr/local/lib/python3.8/dist-packages (from tensorflow>=2.0->keras-tuner) (0.2.0)\n",
            "Requirement already satisfied: protobuf<3.20,>=3.9.2 in /usr/local/lib/python3.8/dist-packages (from tensorflow>=2.0->keras-tuner) (3.19.6)\n",
            "Requirement already satisfied: astunparse>=1.6.0 in /usr/local/lib/python3.8/dist-packages (from tensorflow>=2.0->keras-tuner) (1.6.3)\n",
            "Requirement already satisfied: termcolor>=1.1.0 in /usr/local/lib/python3.8/dist-packages (from tensorflow>=2.0->keras-tuner) (2.2.0)\n",
            "Requirement already satisfied: keras<2.12,>=2.11.0 in /usr/local/lib/python3.8/dist-packages (from tensorflow>=2.0->keras-tuner) (2.11.0)\n",
            "Requirement already satisfied: opt-einsum>=2.3.2 in /usr/local/lib/python3.8/dist-packages (from tensorflow>=2.0->keras-tuner) (3.3.0)\n",
            "Requirement already satisfied: wrapt>=1.11.0 in /usr/local/lib/python3.8/dist-packages (from tensorflow>=2.0->keras-tuner) (1.14.1)\n",
            "Requirement already satisfied: pickleshare in /usr/local/lib/python3.8/dist-packages (from ipython->keras-tuner) (0.7.5)\n",
            "Requirement already satisfied: decorator in /usr/local/lib/python3.8/dist-packages (from ipython->keras-tuner) (4.4.2)\n",
            "Requirement already satisfied: pygments in /usr/local/lib/python3.8/dist-packages (from ipython->keras-tuner) (2.14.0)\n",
            "Requirement already satisfied: jedi>=0.10 in /usr/local/lib/python3.8/dist-packages (from ipython->keras-tuner) (0.18.2)\n",
            "Requirement already satisfied: traitlets>=4.2 in /usr/local/lib/python3.8/dist-packages (from ipython->keras-tuner) (5.7.1)\n",
            "Requirement already satisfied: backcall in /usr/local/lib/python3.8/dist-packages (from ipython->keras-tuner) (0.2.0)\n",
            "Requirement already satisfied: prompt-toolkit<2.1.0,>=2.0.0 in /usr/local/lib/python3.8/dist-packages (from ipython->keras-tuner) (2.0.10)\n",
            "Requirement already satisfied: pexpect in /usr/local/lib/python3.8/dist-packages (from ipython->keras-tuner) (4.8.0)\n",
            "Requirement already satisfied: chardet<5,>=3.0.2 in /usr/local/lib/python3.8/dist-packages (from requests->keras-tuner) (4.0.0)\n",
            "Requirement already satisfied: urllib3<1.27,>=1.21.1 in /usr/local/lib/python3.8/dist-packages (from requests->keras-tuner) (1.24.3)\n",
            "Requirement already satisfied: certifi>=2017.4.17 in /usr/local/lib/python3.8/dist-packages (from requests->keras-tuner) (2022.12.7)\n",
            "Requirement already satisfied: idna<3,>=2.5 in /usr/local/lib/python3.8/dist-packages (from requests->keras-tuner) (2.10)\n",
            "Requirement already satisfied: wheel<1.0,>=0.23.0 in /usr/local/lib/python3.8/dist-packages (from astunparse>=1.6.0->tensorflow>=2.0->keras-tuner) (0.38.4)\n",
            "Requirement already satisfied: parso<0.9.0,>=0.8.0 in /usr/local/lib/python3.8/dist-packages (from jedi>=0.10->ipython->keras-tuner) (0.8.3)\n",
            "Requirement already satisfied: wcwidth in /usr/local/lib/python3.8/dist-packages (from prompt-toolkit<2.1.0,>=2.0.0->ipython->keras-tuner) (0.2.6)\n",
            "Requirement already satisfied: google-auth-oauthlib<0.5,>=0.4.1 in /usr/local/lib/python3.8/dist-packages (from tensorboard<2.12,>=2.11->tensorflow>=2.0->keras-tuner) (0.4.6)\n",
            "Requirement already satisfied: tensorboard-plugin-wit>=1.6.0 in /usr/local/lib/python3.8/dist-packages (from tensorboard<2.12,>=2.11->tensorflow>=2.0->keras-tuner) (1.8.1)\n",
            "Requirement already satisfied: markdown>=2.6.8 in /usr/local/lib/python3.8/dist-packages (from tensorboard<2.12,>=2.11->tensorflow>=2.0->keras-tuner) (3.4.1)\n",
            "Requirement already satisfied: tensorboard-data-server<0.7.0,>=0.6.0 in /usr/local/lib/python3.8/dist-packages (from tensorboard<2.12,>=2.11->tensorflow>=2.0->keras-tuner) (0.6.1)\n",
            "Requirement already satisfied: google-auth<3,>=1.6.3 in /usr/local/lib/python3.8/dist-packages (from tensorboard<2.12,>=2.11->tensorflow>=2.0->keras-tuner) (2.16.0)\n",
            "Requirement already satisfied: werkzeug>=1.0.1 in /usr/local/lib/python3.8/dist-packages (from tensorboard<2.12,>=2.11->tensorflow>=2.0->keras-tuner) (1.0.1)\n",
            "Requirement already satisfied: ptyprocess>=0.5 in /usr/local/lib/python3.8/dist-packages (from pexpect->ipython->keras-tuner) (0.7.0)\n",
            "Requirement already satisfied: pyasn1-modules>=0.2.1 in /usr/local/lib/python3.8/dist-packages (from google-auth<3,>=1.6.3->tensorboard<2.12,>=2.11->tensorflow>=2.0->keras-tuner) (0.2.8)\n",
            "Requirement already satisfied: cachetools<6.0,>=2.0.0 in /usr/local/lib/python3.8/dist-packages (from google-auth<3,>=1.6.3->tensorboard<2.12,>=2.11->tensorflow>=2.0->keras-tuner) (5.3.0)\n",
            "Requirement already satisfied: rsa<5,>=3.1.4 in /usr/local/lib/python3.8/dist-packages (from google-auth<3,>=1.6.3->tensorboard<2.12,>=2.11->tensorflow>=2.0->keras-tuner) (4.9)\n",
            "Requirement already satisfied: requests-oauthlib>=0.7.0 in /usr/local/lib/python3.8/dist-packages (from google-auth-oauthlib<0.5,>=0.4.1->tensorboard<2.12,>=2.11->tensorflow>=2.0->keras-tuner) (1.3.1)\n",
            "Requirement already satisfied: importlib-metadata>=4.4 in /usr/local/lib/python3.8/dist-packages (from markdown>=2.6.8->tensorboard<2.12,>=2.11->tensorflow>=2.0->keras-tuner) (6.0.0)\n",
            "Requirement already satisfied: zipp>=0.5 in /usr/local/lib/python3.8/dist-packages (from importlib-metadata>=4.4->markdown>=2.6.8->tensorboard<2.12,>=2.11->tensorflow>=2.0->keras-tuner) (3.12.1)\n",
            "Requirement already satisfied: pyasn1<0.5.0,>=0.4.6 in /usr/local/lib/python3.8/dist-packages (from pyasn1-modules>=0.2.1->google-auth<3,>=1.6.3->tensorboard<2.12,>=2.11->tensorflow>=2.0->keras-tuner) (0.4.8)\n",
            "Requirement already satisfied: oauthlib>=3.0.0 in /usr/local/lib/python3.8/dist-packages (from requests-oauthlib>=0.7.0->google-auth-oauthlib<0.5,>=0.4.1->tensorboard<2.12,>=2.11->tensorflow>=2.0->keras-tuner) (3.2.2)\n"
          ]
        }
      ],
      "source": [
        "pip install keras-tuner"
      ]
    },
    {
      "cell_type": "code",
      "source": [
        "pip install minisom"
      ],
      "metadata": {
        "id": "NP0Q2kfBbthj",
        "outputId": "4521e1e9-d020-41c1-9eaf-256efa4604b9",
        "colab": {
          "base_uri": "https://localhost:8080/"
        }
      },
      "execution_count": 55,
      "outputs": [
        {
          "output_type": "stream",
          "name": "stdout",
          "text": [
            "Looking in indexes: https://pypi.org/simple, https://us-python.pkg.dev/colab-wheels/public/simple/\n",
            "Collecting minisom\n",
            "  Downloading MiniSom-2.3.0.tar.gz (8.8 kB)\n",
            "  Preparing metadata (setup.py) ... \u001b[?25l\u001b[?25hdone\n",
            "Building wheels for collected packages: minisom\n",
            "  Building wheel for minisom (setup.py) ... \u001b[?25l\u001b[?25hdone\n",
            "  Created wheel for minisom: filename=MiniSom-2.3.0-py3-none-any.whl size=9016 sha256=5c1deff563930ebb815877b08da51c7e4f2e47907cf7d0752302f46cecc7f4c5\n",
            "  Stored in directory: /root/.cache/pip/wheels/6d/4e/9e/a95c14a232a196c22d9c04b221ff5d25461a1a4c55339c61db\n",
            "Successfully built minisom\n",
            "Installing collected packages: minisom\n",
            "Successfully installed minisom-2.3.0\n"
          ]
        }
      ]
    },
    {
      "cell_type": "code",
      "source": [
        "pip install umap-learn"
      ],
      "metadata": {
        "id": "bDIkwtYNJscX",
        "outputId": "c2760493-b9ae-46a8-dcef-1867a3dcf838",
        "colab": {
          "base_uri": "https://localhost:8080/"
        }
      },
      "execution_count": 3,
      "outputs": [
        {
          "output_type": "stream",
          "name": "stdout",
          "text": [
            "Looking in indexes: https://pypi.org/simple, https://us-python.pkg.dev/colab-wheels/public/simple/\n",
            "Requirement already satisfied: umap-learn in /usr/local/lib/python3.8/dist-packages (0.5.3)\n",
            "Requirement already satisfied: scipy>=1.0 in /usr/local/lib/python3.8/dist-packages (from umap-learn) (1.7.3)\n",
            "Requirement already satisfied: scikit-learn>=0.22 in /usr/local/lib/python3.8/dist-packages (from umap-learn) (1.0.2)\n",
            "Requirement already satisfied: pynndescent>=0.5 in /usr/local/lib/python3.8/dist-packages (from umap-learn) (0.5.8)\n",
            "Requirement already satisfied: numpy>=1.17 in /usr/local/lib/python3.8/dist-packages (from umap-learn) (1.21.6)\n",
            "Requirement already satisfied: tqdm in /usr/local/lib/python3.8/dist-packages (from umap-learn) (4.64.1)\n",
            "Requirement already satisfied: numba>=0.49 in /usr/local/lib/python3.8/dist-packages (from umap-learn) (0.56.4)\n",
            "Requirement already satisfied: setuptools in /usr/local/lib/python3.8/dist-packages (from numba>=0.49->umap-learn) (57.4.0)\n",
            "Requirement already satisfied: llvmlite<0.40,>=0.39.0dev0 in /usr/local/lib/python3.8/dist-packages (from numba>=0.49->umap-learn) (0.39.1)\n",
            "Requirement already satisfied: importlib-metadata in /usr/local/lib/python3.8/dist-packages (from numba>=0.49->umap-learn) (6.0.0)\n",
            "Requirement already satisfied: joblib>=0.11 in /usr/local/lib/python3.8/dist-packages (from pynndescent>=0.5->umap-learn) (1.2.0)\n",
            "Requirement already satisfied: threadpoolctl>=2.0.0 in /usr/local/lib/python3.8/dist-packages (from scikit-learn>=0.22->umap-learn) (3.1.0)\n",
            "Requirement already satisfied: zipp>=0.5 in /usr/local/lib/python3.8/dist-packages (from importlib-metadata->numba>=0.49->umap-learn) (3.12.1)\n"
          ]
        }
      ]
    },
    {
      "cell_type": "code",
      "execution_count": 4,
      "metadata": {
        "id": "EVvqt5I_nobg"
      },
      "outputs": [],
      "source": [
        "import pickle\n",
        "import gzip\n",
        "import pandas as pd\n",
        "import numpy as np\n",
        "import matplotlib.pyplot as plt\n",
        "from scipy.integrate import simps\n",
        "from numpy import trapz\n",
        "import pickle\n",
        "import gzip\n",
        "import pandas as pd\n",
        "import numpy as np\n",
        "import matplotlib.pyplot as plt\n",
        "from scipy.integrate import simps\n",
        "from numpy import trapz\n",
        "import matplotlib.pyplot as plt\n",
        "import pandas as pd\n",
        "from sklearn.svm import SVC  \n",
        "from sklearn.metrics import classification_report, confusion_matrix\n",
        "from sklearn.model_selection import GridSearchCV\n",
        "import numpy as np\n",
        "import tensorflow as tf\n",
        "from tensorflow import keras\n",
        "from tensorflow.keras import regularizers\n",
        "from tensorflow.keras.callbacks import EarlyStopping, ModelCheckpoint\n",
        "from tensorflow.keras.models import load_model\n",
        "from sklearn.preprocessing import StandardScaler, MinMaxScaler\n",
        "import keras.losses\n",
        "import sklearn\n",
        "from sklearn.metrics import accuracy_score, precision_score, recall_score, f1_score, roc_curve, confusion_matrix\n",
        "from sklearn.metrics import accuracy_score, f1_score, precision_score, recall_score, roc_auc_score, average_precision_score\n",
        "import numpy as np\n",
        "import seaborn as sns\n",
        "import matplotlib.pyplot as plt\n",
        "import keras_tuner\n",
        "from tensorflow.keras import regularizers\n",
        "from tensorflow.keras.models import Sequential\n",
        "from tensorflow.keras.layers import *\n",
        "from tensorflow.keras.callbacks import ModelCheckpoint\n",
        "from tensorflow.keras.losses import MeanSquaredError\n",
        "from tensorflow.keras.metrics import RootMeanSquaredError\n",
        "from tensorflow.keras.optimizers import Adam, SGD\n",
        "from tensorflow.keras.models import load_model\n",
        "import umap\n",
        "import datetime\n",
        "\n",
        "import datetime\n",
        "from sklearn.metrics import mean_squared_error as mse"
      ]
    },
    {
      "cell_type": "code",
      "execution_count": 5,
      "metadata": {
        "colab": {
          "base_uri": "https://localhost:8080/"
        },
        "id": "C_yHVZaHnp_z",
        "outputId": "dc685360-1591-451f-b3ae-b5cb76d772cb"
      },
      "outputs": [
        {
          "output_type": "stream",
          "name": "stdout",
          "text": [
            "Looking in indexes: https://pypi.org/simple, https://us-python.pkg.dev/colab-wheels/public/simple/\n",
            "Requirement already satisfied: rich in /usr/local/lib/python3.8/dist-packages (13.3.1)\n",
            "Requirement already satisfied: pygments<3.0.0,>=2.14.0 in /usr/local/lib/python3.8/dist-packages (from rich) (2.14.0)\n",
            "Requirement already satisfied: typing-extensions<5.0,>=4.0.0 in /usr/local/lib/python3.8/dist-packages (from rich) (4.4.0)\n",
            "Requirement already satisfied: markdown-it-py<3.0.0,>=2.1.0 in /usr/local/lib/python3.8/dist-packages (from rich) (2.1.0)\n",
            "Requirement already satisfied: mdurl~=0.1 in /usr/local/lib/python3.8/dist-packages (from markdown-it-py<3.0.0,>=2.1.0->rich) (0.1.2)\n"
          ]
        }
      ],
      "source": [
        "pip install rich"
      ]
    },
    {
      "cell_type": "code",
      "execution_count": 6,
      "metadata": {
        "id": "hSgNf7pKnv1o"
      },
      "outputs": [],
      "source": [
        "from rich.progress import track"
      ]
    },
    {
      "cell_type": "markdown",
      "source": [
        "# DATA"
      ],
      "metadata": {
        "id": "8Ly0xN4Bee6q"
      }
    },
    {
      "cell_type": "code",
      "source": [
        "raw = pd.read_csv(\"/content/drive/MyDrive/Crypto/new3/full_spread_data.csv\",parse_dates = [\"Date\"], index_col = \"Date\").dropna()\n",
        "raw[\"returns\"] =np.log(raw.Close / raw.Close.shift(1))\n",
        "raw[\"Volume\"]=raw[\"Volume USDT\"]\n",
        "raw.drop([\"Open\",\"Unix\",\"Symbol\",\"Volume USDT\",\"Volume BTC\",\"tradecount\"],axis=1,inplace=True)\n",
        "raw"
      ],
      "metadata": {
        "id": "52pubRtT6x0r",
        "outputId": "99788655-1941-4396-bf16-81c6b8adc302",
        "colab": {
          "base_uri": "https://localhost:8080/",
          "height": 455
        }
      },
      "execution_count": 26,
      "outputs": [
        {
          "output_type": "execute_result",
          "data": {
            "text/plain": [
              "                High       Low     Close   returns        Volume\n",
              "Date                                                            \n",
              "2023-02-12  22090.00  21630.00  21783.54       NaN  4.469822e+09\n",
              "2023-02-11  21906.32  21599.78  21862.55  0.003620  3.842001e+09\n",
              "2023-02-10  21938.16  21451.00  21625.19 -0.010916  7.369456e+09\n",
              "2023-02-09  23011.39  21688.00  21796.35  0.007884  9.052973e+09\n",
              "2023-02-08  23452.00  22665.85  22963.00  0.052142  6.457586e+09\n",
              "...              ...       ...       ...       ...           ...\n",
              "2017-08-21   4119.62   3911.79   4016.00 -0.005958  2.797232e+06\n",
              "2017-08-20   4211.08   4032.62   4086.29  0.017351  1.930364e+06\n",
              "2017-08-19   4184.69   3850.00   4139.98  0.013053  1.549484e+06\n",
              "2017-08-18   4371.52   3938.77   4108.37 -0.007665  5.086958e+06\n",
              "2017-08-17   4485.39   4200.74   4285.08  0.042113  3.454770e+06\n",
              "\n",
              "[2006 rows x 5 columns]"
            ],
            "text/html": [
              "\n",
              "  <div id=\"df-c23e4ef6-6bdd-4c5b-9c1e-f4c5bdf04f24\">\n",
              "    <div class=\"colab-df-container\">\n",
              "      <div>\n",
              "<style scoped>\n",
              "    .dataframe tbody tr th:only-of-type {\n",
              "        vertical-align: middle;\n",
              "    }\n",
              "\n",
              "    .dataframe tbody tr th {\n",
              "        vertical-align: top;\n",
              "    }\n",
              "\n",
              "    .dataframe thead th {\n",
              "        text-align: right;\n",
              "    }\n",
              "</style>\n",
              "<table border=\"1\" class=\"dataframe\">\n",
              "  <thead>\n",
              "    <tr style=\"text-align: right;\">\n",
              "      <th></th>\n",
              "      <th>High</th>\n",
              "      <th>Low</th>\n",
              "      <th>Close</th>\n",
              "      <th>returns</th>\n",
              "      <th>Volume</th>\n",
              "    </tr>\n",
              "    <tr>\n",
              "      <th>Date</th>\n",
              "      <th></th>\n",
              "      <th></th>\n",
              "      <th></th>\n",
              "      <th></th>\n",
              "      <th></th>\n",
              "    </tr>\n",
              "  </thead>\n",
              "  <tbody>\n",
              "    <tr>\n",
              "      <th>2023-02-12</th>\n",
              "      <td>22090.00</td>\n",
              "      <td>21630.00</td>\n",
              "      <td>21783.54</td>\n",
              "      <td>NaN</td>\n",
              "      <td>4.469822e+09</td>\n",
              "    </tr>\n",
              "    <tr>\n",
              "      <th>2023-02-11</th>\n",
              "      <td>21906.32</td>\n",
              "      <td>21599.78</td>\n",
              "      <td>21862.55</td>\n",
              "      <td>0.003620</td>\n",
              "      <td>3.842001e+09</td>\n",
              "    </tr>\n",
              "    <tr>\n",
              "      <th>2023-02-10</th>\n",
              "      <td>21938.16</td>\n",
              "      <td>21451.00</td>\n",
              "      <td>21625.19</td>\n",
              "      <td>-0.010916</td>\n",
              "      <td>7.369456e+09</td>\n",
              "    </tr>\n",
              "    <tr>\n",
              "      <th>2023-02-09</th>\n",
              "      <td>23011.39</td>\n",
              "      <td>21688.00</td>\n",
              "      <td>21796.35</td>\n",
              "      <td>0.007884</td>\n",
              "      <td>9.052973e+09</td>\n",
              "    </tr>\n",
              "    <tr>\n",
              "      <th>2023-02-08</th>\n",
              "      <td>23452.00</td>\n",
              "      <td>22665.85</td>\n",
              "      <td>22963.00</td>\n",
              "      <td>0.052142</td>\n",
              "      <td>6.457586e+09</td>\n",
              "    </tr>\n",
              "    <tr>\n",
              "      <th>...</th>\n",
              "      <td>...</td>\n",
              "      <td>...</td>\n",
              "      <td>...</td>\n",
              "      <td>...</td>\n",
              "      <td>...</td>\n",
              "    </tr>\n",
              "    <tr>\n",
              "      <th>2017-08-21</th>\n",
              "      <td>4119.62</td>\n",
              "      <td>3911.79</td>\n",
              "      <td>4016.00</td>\n",
              "      <td>-0.005958</td>\n",
              "      <td>2.797232e+06</td>\n",
              "    </tr>\n",
              "    <tr>\n",
              "      <th>2017-08-20</th>\n",
              "      <td>4211.08</td>\n",
              "      <td>4032.62</td>\n",
              "      <td>4086.29</td>\n",
              "      <td>0.017351</td>\n",
              "      <td>1.930364e+06</td>\n",
              "    </tr>\n",
              "    <tr>\n",
              "      <th>2017-08-19</th>\n",
              "      <td>4184.69</td>\n",
              "      <td>3850.00</td>\n",
              "      <td>4139.98</td>\n",
              "      <td>0.013053</td>\n",
              "      <td>1.549484e+06</td>\n",
              "    </tr>\n",
              "    <tr>\n",
              "      <th>2017-08-18</th>\n",
              "      <td>4371.52</td>\n",
              "      <td>3938.77</td>\n",
              "      <td>4108.37</td>\n",
              "      <td>-0.007665</td>\n",
              "      <td>5.086958e+06</td>\n",
              "    </tr>\n",
              "    <tr>\n",
              "      <th>2017-08-17</th>\n",
              "      <td>4485.39</td>\n",
              "      <td>4200.74</td>\n",
              "      <td>4285.08</td>\n",
              "      <td>0.042113</td>\n",
              "      <td>3.454770e+06</td>\n",
              "    </tr>\n",
              "  </tbody>\n",
              "</table>\n",
              "<p>2006 rows × 5 columns</p>\n",
              "</div>\n",
              "      <button class=\"colab-df-convert\" onclick=\"convertToInteractive('df-c23e4ef6-6bdd-4c5b-9c1e-f4c5bdf04f24')\"\n",
              "              title=\"Convert this dataframe to an interactive table.\"\n",
              "              style=\"display:none;\">\n",
              "        \n",
              "  <svg xmlns=\"http://www.w3.org/2000/svg\" height=\"24px\"viewBox=\"0 0 24 24\"\n",
              "       width=\"24px\">\n",
              "    <path d=\"M0 0h24v24H0V0z\" fill=\"none\"/>\n",
              "    <path d=\"M18.56 5.44l.94 2.06.94-2.06 2.06-.94-2.06-.94-.94-2.06-.94 2.06-2.06.94zm-11 1L8.5 8.5l.94-2.06 2.06-.94-2.06-.94L8.5 2.5l-.94 2.06-2.06.94zm10 10l.94 2.06.94-2.06 2.06-.94-2.06-.94-.94-2.06-.94 2.06-2.06.94z\"/><path d=\"M17.41 7.96l-1.37-1.37c-.4-.4-.92-.59-1.43-.59-.52 0-1.04.2-1.43.59L10.3 9.45l-7.72 7.72c-.78.78-.78 2.05 0 2.83L4 21.41c.39.39.9.59 1.41.59.51 0 1.02-.2 1.41-.59l7.78-7.78 2.81-2.81c.8-.78.8-2.07 0-2.86zM5.41 20L4 18.59l7.72-7.72 1.47 1.35L5.41 20z\"/>\n",
              "  </svg>\n",
              "      </button>\n",
              "      \n",
              "  <style>\n",
              "    .colab-df-container {\n",
              "      display:flex;\n",
              "      flex-wrap:wrap;\n",
              "      gap: 12px;\n",
              "    }\n",
              "\n",
              "    .colab-df-convert {\n",
              "      background-color: #E8F0FE;\n",
              "      border: none;\n",
              "      border-radius: 50%;\n",
              "      cursor: pointer;\n",
              "      display: none;\n",
              "      fill: #1967D2;\n",
              "      height: 32px;\n",
              "      padding: 0 0 0 0;\n",
              "      width: 32px;\n",
              "    }\n",
              "\n",
              "    .colab-df-convert:hover {\n",
              "      background-color: #E2EBFA;\n",
              "      box-shadow: 0px 1px 2px rgba(60, 64, 67, 0.3), 0px 1px 3px 1px rgba(60, 64, 67, 0.15);\n",
              "      fill: #174EA6;\n",
              "    }\n",
              "\n",
              "    [theme=dark] .colab-df-convert {\n",
              "      background-color: #3B4455;\n",
              "      fill: #D2E3FC;\n",
              "    }\n",
              "\n",
              "    [theme=dark] .colab-df-convert:hover {\n",
              "      background-color: #434B5C;\n",
              "      box-shadow: 0px 1px 3px 1px rgba(0, 0, 0, 0.15);\n",
              "      filter: drop-shadow(0px 1px 2px rgba(0, 0, 0, 0.3));\n",
              "      fill: #FFFFFF;\n",
              "    }\n",
              "  </style>\n",
              "\n",
              "      <script>\n",
              "        const buttonEl =\n",
              "          document.querySelector('#df-c23e4ef6-6bdd-4c5b-9c1e-f4c5bdf04f24 button.colab-df-convert');\n",
              "        buttonEl.style.display =\n",
              "          google.colab.kernel.accessAllowed ? 'block' : 'none';\n",
              "\n",
              "        async function convertToInteractive(key) {\n",
              "          const element = document.querySelector('#df-c23e4ef6-6bdd-4c5b-9c1e-f4c5bdf04f24');\n",
              "          const dataTable =\n",
              "            await google.colab.kernel.invokeFunction('convertToInteractive',\n",
              "                                                     [key], {});\n",
              "          if (!dataTable) return;\n",
              "\n",
              "          const docLinkHtml = 'Like what you see? Visit the ' +\n",
              "            '<a target=\"_blank\" href=https://colab.research.google.com/notebooks/data_table.ipynb>data table notebook</a>'\n",
              "            + ' to learn more about interactive tables.';\n",
              "          element.innerHTML = '';\n",
              "          dataTable['output_type'] = 'display_data';\n",
              "          await google.colab.output.renderOutput(dataTable, element);\n",
              "          const docLink = document.createElement('div');\n",
              "          docLink.innerHTML = docLinkHtml;\n",
              "          element.appendChild(docLink);\n",
              "        }\n",
              "      </script>\n",
              "    </div>\n",
              "  </div>\n",
              "  "
            ]
          },
          "metadata": {},
          "execution_count": 26
        }
      ]
    },
    {
      "cell_type": "code",
      "source": [
        "raw = pd.read_csv(\"/content/drive/MyDrive/Crypto/new3/full_spread_data.csv\",parse_dates = [\"Date\"], index_col = \"Date\").dropna()\n",
        "raw[\"returns\"] =np.log(raw.Close / raw.Close.shift(1))\n",
        "raw[\"Volume\"]=raw[\"Volume USDT\"]\n",
        "raw.drop([\"Open\",\"Unix\",\"Symbol\",\"Volume USDT\",\"Volume BTC\",\"tradecount\"],axis=1,inplace=True)\n",
        "cols = []\n",
        "for lag in range(1, 41):\n",
        "    col_h = \"h_lag{}\".format(lag)\n",
        "    col_l = \"l_lag{}\".format(lag)\n",
        "    col_r = \"c_lag{}\".format(lag)\n",
        "    col_v = \"v_lag{}\".format(lag)\n",
        "    raw[col_h] = raw.High.shift(lag)\n",
        "    cols.append(col_h)\n",
        "    raw[col_l] = raw.Low.shift(lag)\n",
        "    cols.append(col_l)\n",
        "    raw[col_r] = raw.Close.shift(lag)\n",
        "    cols.append(col_r)\n",
        "    raw[col_v] = raw.Volume.shift(lag)\n",
        "    cols.append(col_v)\n",
        "    raw.dropna(inplace = True)\n",
        "raw.drop([\"High\",\"Low\",\"Volume\",\"Close\"],axis=1,inplace=True)\n",
        "\n",
        "raw[\"returns2\"]=(raw[\"returns\"]>=0).astype(int)\n",
        "\n",
        "to=int(len(raw)*0.8)\n",
        "X_train=raw.drop([\"returns2\",\"returns\"],axis=1).iloc[:]\n",
        "y_train=raw[\"returns2\"].iloc[:].to_numpy().astype(int)\n",
        "\n",
        "scaler1 = StandardScaler()\n",
        "X_train=scaler1.fit_transform(X_train)\n",
        "\n",
        "\n",
        "from sklearn.decomposition import PCA\n",
        "from sklearn.model_selection import GridSearchCV\n",
        "from sklearn.svm import SVC\n",
        "from minisom import MiniSom\n",
        "\n",
        "# Load the dataset\n",
        "\n",
        "\n",
        "# Perform PCA to reduce the dimensionality of the dataset\n",
        "som = MiniSom(1000, 1000, 160, sigma=0.3, learning_rate=0.5)\n",
        "som.random_weights_init(X_train)\n",
        "som.train_random(X_train, 1000)\n",
        "new_data=[som.winner(x) for i,x in enumerate(X_train)]\n",
        "data=pd.DataFrame(new_data,columns=[\"x\",\"y\"])\n",
        "data[\"cluster\"]=y_train\n",
        "sns.scatterplot(data=data, x=\"x\", y=\"y\", hue=\"cluster\")"
      ],
      "metadata": {
        "colab": {
          "base_uri": "https://localhost:8080/",
          "height": 296
        },
        "id": "miYfHBSKh-88",
        "outputId": "004f9957-eb41-4473-97a3-b0a21aa3cb09"
      },
      "execution_count": 63,
      "outputs": [
        {
          "output_type": "execute_result",
          "data": {
            "text/plain": [
              "<matplotlib.axes._subplots.AxesSubplot at 0x7f2452f5c970>"
            ]
          },
          "metadata": {},
          "execution_count": 63
        },
        {
          "output_type": "display_data",
          "data": {
            "text/plain": [
              "<Figure size 432x288 with 1 Axes>"
            ],
            "image/png": "[encoded data removed]"
          },
          "metadata": {
            "needs_background": "light"
          }
        }
      ]
    },
    {
      "cell_type": "code",
      "source": [
        "sns.scatterplot(data=data, x=\"x\", y=\"y\", hue=\"cluster\")"
      ],
      "metadata": {
        "id": "PYO_b3PiS2K-",
        "outputId": "ef3f6f56-bc0e-4ae1-8177-01d3ada21386",
        "colab": {
          "base_uri": "https://localhost:8080/",
          "height": 296
        }
      },
      "execution_count": 52,
      "outputs": [
        {
          "output_type": "execute_result",
          "data": {
            "text/plain": [
              "<matplotlib.axes._subplots.AxesSubplot at 0x7f24537ca3d0>"
            ]
          },
          "metadata": {},
          "execution_count": 52
        },
        {
          "output_type": "display_data",
          "data": {
            "text/plain": [
              "<Figure size 432x288 with 1 Axes>"
            ],
            "image/png": "[encoded data removed]"
          },
          "metadata": {
            "needs_background": "light"
          }
        }
      ]
    },
    {
      "cell_type": "markdown",
      "source": [
        "# PCA + SVM"
      ],
      "metadata": {
        "id": "-8q74k50DXcB"
      }
    },
    {
      "cell_type": "code",
      "source": [
        "raw = pd.read_csv(\"/content/drive/MyDrive/Crypto/new3/full_spread_data.csv\",parse_dates = [\"Date\"], index_col = \"Date\").dropna()\n",
        "raw[\"returns\"] =np.log(raw.Close / raw.Close.shift(1))\n",
        "raw[\"Volume\"]=raw[\"Volume USDT\"]\n",
        "raw.drop([\"Open\",\"Unix\",\"Symbol\",\"Volume USDT\",\"Volume BTC\",\"tradecount\"],axis=1,inplace=True)\n",
        "cols = []\n",
        "for lag in range(1, 41):\n",
        "    col_h = \"h_lag{}\".format(lag)\n",
        "    col_l = \"l_lag{}\".format(lag)\n",
        "    col_r = \"c_lag{}\".format(lag)\n",
        "    col_v = \"v_lag{}\".format(lag)\n",
        "    raw[col_h] = raw.High.shift(lag)\n",
        "    cols.append(col_h)\n",
        "    raw[col_l] = raw.Low.shift(lag)\n",
        "    cols.append(col_l)\n",
        "    raw[col_r] = raw.Close.shift(lag)\n",
        "    cols.append(col_r)\n",
        "    raw[col_v] = raw.Volume.shift(lag)\n",
        "    cols.append(col_v)\n",
        "    raw.dropna(inplace = True)\n",
        "raw.drop([\"High\",\"Low\",\"Volume\",\"Close\"],axis=1,inplace=True)\n",
        "\n",
        "raw[\"returns2\"]=(raw[\"returns\"]>=0).astype(int)\n",
        "\n",
        "to=int(len(raw)*0.8)\n",
        "X_train=raw.drop([\"returns2\",\"returns\"],axis=1).iloc[:to].to_numpy()\n",
        "y_train=raw[\"returns2\"].iloc[:to].to_numpy().astype(int)\n",
        "X_test=raw.drop([\"returns2\",\"returns\"],axis=1).iloc[to:].to_numpy()\n",
        "y_test=raw[\"returns2\"].iloc[to:].to_numpy().astype(int)\n",
        "\n",
        "scaler1 = StandardScaler()\n",
        "X_train=scaler1.fit_transform(X_train)\n",
        "X_test=scaler1.transform(X_test)\n",
        "\n",
        "print(X_train.shape,y_train.shape,X_test.shape,y_test.shape)\n",
        "\n",
        "from sklearn.decomposition import PCA\n",
        "from sklearn.model_selection import GridSearchCV\n",
        "from sklearn.svm import SVC\n",
        "\n",
        "# Load the dataset\n",
        "\n",
        "\n",
        "# Perform PCA to reduce the dimensionality of the dataset\n",
        "reducer = umap.UMAP(n_components=30)\n",
        "X_reduced = reducer.fit_transform(X_train)\n",
        "X_reduced_test = reducer.transform(X_test)"
      ],
      "metadata": {
        "id": "LM4TcT07DdBt",
        "outputId": "d5563b8e-010c-4392-828f-2a90965af250",
        "colab": {
          "base_uri": "https://localhost:8080/"
        }
      },
      "execution_count": 36,
      "outputs": [
        {
          "output_type": "stream",
          "name": "stdout",
          "text": [
            "(948, 160) (948,) (238, 160) (238,)\n"
          ]
        }
      ]
    },
    {
      "cell_type": "code",
      "source": [
        "\n",
        "\n",
        "# Define the SVM classifier\n",
        "svm = SVC()\n",
        "\n",
        "# Define the grid of hyperparameters to search\n",
        "param_grid = {'C': [0.3],\n",
        "              'gamma': [\"scale\",\"auto\"],\n",
        "              'kernel': [\"rbf\"]}\n",
        "\n",
        "# Perform grid search to tune the hyperparameters of the SVM\n",
        "grid_search = GridSearchCV(svm, param_grid, cv=5)\n",
        "grid_search.fit(X_reduced, y_train)\n",
        "\n",
        "# The best hyperparameters found by grid search\n",
        "print(\"Best hyperparameters:\", grid_search.best_params_)\n",
        "\n",
        "# The best score achieved by the grid search\n",
        "print(\"Best score:\", grid_search.best_score_)\n",
        "\n",
        "# The best estimator found by the grid search\n",
        "best_svm = grid_search.best_estimator_\n",
        "\n",
        "# Predict the class labels for the reduced dataset\n",
        "y_pred_train = best_svm.predict(X_reduced)\n",
        "y_pred_test = best_svm.predict(X_reduced_test)\n",
        "\n",
        "# Print the classification accuracy\n",
        "print(\"Classification accuracy:\", np.mean(y_pred_train == y_train))\n",
        "print(\"Classification accuracy:\", np.mean(y_pred_test == y_test))\n"
      ],
      "metadata": {
        "id": "CrsLOGCZDdUM",
        "outputId": "9c9c0000-778d-47c9-ec98-c2a295157747",
        "colab": {
          "base_uri": "https://localhost:8080/"
        }
      },
      "execution_count": 37,
      "outputs": [
        {
          "output_type": "stream",
          "name": "stdout",
          "text": [
            "Best hyperparameters: {'C': 0.3, 'gamma': 'auto', 'kernel': 'rbf'}\n",
            "Best score: 0.5063102199944305\n",
            "Classification accuracy: 0.54957805907173\n",
            "Classification accuracy: 0.542016806722689\n"
          ]
        }
      ]
    },
    {
      "cell_type": "code",
      "source": [
        "train_acc=[]\n",
        "test_acc=[]\n",
        "ossz=[]\n",
        "\n",
        "reducer = umap.UMAP(n_components=2)\n",
        "X_reduced = reducer.fit_transform(X_train)\n",
        "X_reduced_test = reducer.transform(X_test)\n",
        "a=0.1\n",
        "b=2\n",
        "gran=0.05\n",
        "for c in np.arange(a,b,gran):\n",
        "  svm = SVC()\n",
        "\n",
        "  # Define the grid of hyperparameters to search\n",
        "  param_grid = {'C': [c],\n",
        "                'gamma': [\"scale\"],\n",
        "                'kernel': [\"rbf\"]}\n",
        "\n",
        "  # Perform grid search to tune the hyperparameters of the SVM\n",
        "  grid_search = GridSearchCV(svm, param_grid, cv=5)\n",
        "  grid_search.fit(X_reduced, y_train)\n",
        "\n",
        "  # The best hyperparameters found by grid search\n",
        "  print(\"Best hyperparameters:\", grid_search.best_params_)\n",
        "\n",
        "  # The best score achieved by the grid search\n",
        "  print(\"Best score:\", grid_search.best_score_)\n",
        "\n",
        "  # The best estimator found by the grid search\n",
        "  best_svm = grid_search.best_estimator_\n",
        "\n",
        "  # Predict the class labels for the reduced dataset\n",
        "  y_pred_train = best_svm.predict(X_reduced)\n",
        "  y_pred_test = best_svm.predict(X_reduced_test)\n",
        "\n",
        "  # Print the classification accuracy\n",
        "  train_acc.append(1-np.mean(y_pred_train == y_train))\n",
        "  test_acc.append(1-np.mean(y_pred_test == y_test))\n",
        "  ossz.append(train_acc[-1]+test_acc[-1])\n",
        "plt.plot(np.arange(a,b,gran),train_acc,color=\"blue\")\n",
        "plt.plot(np.arange(a,b,gran),test_acc,color=\"red\")\n",
        "#plt.plot(np.arange(a,b,gran),ossz,\"g-\")\n",
        "plt.plot(np.arange(a,b,gran),0.5*np.ones(len(np.arange(a,b,gran))),color=\"purple\")"
      ],
      "metadata": {
        "id": "047SieNaB0Qr",
        "outputId": "38a1c11a-69cf-4b7e-cca9-d5d511f28cf2",
        "colab": {
          "base_uri": "https://localhost:8080/",
          "height": 1000
        }
      },
      "execution_count": 39,
      "outputs": [
        {
          "output_type": "stream",
          "name": "stdout",
          "text": [
            "Best hyperparameters: {'C': 0.1, 'gamma': 'scale', 'kernel': 'rbf'}\n",
            "Best score: 0.5274296853244221\n",
            "Best hyperparameters: {'C': 0.15000000000000002, 'gamma': 'scale', 'kernel': 'rbf'}\n",
            "Best score: 0.48844890002784735\n",
            "Best hyperparameters: {'C': 0.20000000000000004, 'gamma': 'scale', 'kernel': 'rbf'}\n",
            "Best score: 0.5042105263157894\n",
            "Best hyperparameters: {'C': 0.25000000000000006, 'gamma': 'scale', 'kernel': 'rbf'}\n",
            "Best score: 0.5073684210526315\n",
            "Best hyperparameters: {'C': 0.30000000000000004, 'gamma': 'scale', 'kernel': 'rbf'}\n",
            "Best score: 0.5052631578947369\n",
            "Best hyperparameters: {'C': 0.3500000000000001, 'gamma': 'scale', 'kernel': 'rbf'}\n",
            "Best score: 0.5063157894736842\n",
            "Best hyperparameters: {'C': 0.40000000000000013, 'gamma': 'scale', 'kernel': 'rbf'}\n",
            "Best score: 0.5052631578947369\n",
            "Best hyperparameters: {'C': 0.45000000000000007, 'gamma': 'scale', 'kernel': 'rbf'}\n",
            "Best score: 0.5052631578947369\n",
            "Best hyperparameters: {'C': 0.5000000000000001, 'gamma': 'scale', 'kernel': 'rbf'}\n",
            "Best score: 0.5063157894736842\n",
            "Best hyperparameters: {'C': 0.5500000000000002, 'gamma': 'scale', 'kernel': 'rbf'}\n",
            "Best score: 0.5063157894736842\n",
            "Best hyperparameters: {'C': 0.6000000000000002, 'gamma': 'scale', 'kernel': 'rbf'}\n",
            "Best score: 0.5063157894736842\n",
            "Best hyperparameters: {'C': 0.6500000000000001, 'gamma': 'scale', 'kernel': 'rbf'}\n",
            "Best score: 0.5063157894736842\n",
            "Best hyperparameters: {'C': 0.7000000000000002, 'gamma': 'scale', 'kernel': 'rbf'}\n",
            "Best score: 0.5063157894736842\n",
            "Best hyperparameters: {'C': 0.7500000000000002, 'gamma': 'scale', 'kernel': 'rbf'}\n",
            "Best score: 0.5063157894736842\n",
            "Best hyperparameters: {'C': 0.8000000000000002, 'gamma': 'scale', 'kernel': 'rbf'}\n",
            "Best score: 0.5063157894736842\n",
            "Best hyperparameters: {'C': 0.8500000000000002, 'gamma': 'scale', 'kernel': 'rbf'}\n",
            "Best score: 0.5063157894736842\n",
            "Best hyperparameters: {'C': 0.9000000000000002, 'gamma': 'scale', 'kernel': 'rbf'}\n",
            "Best score: 0.5063157894736842\n",
            "Best hyperparameters: {'C': 0.9500000000000003, 'gamma': 'scale', 'kernel': 'rbf'}\n",
            "Best score: 0.5063157894736842\n",
            "Best hyperparameters: {'C': 1.0000000000000004, 'gamma': 'scale', 'kernel': 'rbf'}\n",
            "Best score: 0.5063157894736842\n",
            "Best hyperparameters: {'C': 1.0500000000000003, 'gamma': 'scale', 'kernel': 'rbf'}\n",
            "Best score: 0.5073684210526315\n",
            "Best hyperparameters: {'C': 1.1000000000000005, 'gamma': 'scale', 'kernel': 'rbf'}\n",
            "Best score: 0.4999610136452241\n",
            "Best hyperparameters: {'C': 1.1500000000000004, 'gamma': 'scale', 'kernel': 'rbf'}\n",
            "Best score: 0.4999610136452241\n",
            "Best hyperparameters: {'C': 1.2000000000000004, 'gamma': 'scale', 'kernel': 'rbf'}\n",
            "Best score: 0.4978446115288221\n",
            "Best hyperparameters: {'C': 1.2500000000000004, 'gamma': 'scale', 'kernel': 'rbf'}\n",
            "Best score: 0.497844611528822\n",
            "Best hyperparameters: {'C': 1.3000000000000005, 'gamma': 'scale', 'kernel': 'rbf'}\n",
            "Best score: 0.4957282094124199\n",
            "Best hyperparameters: {'C': 1.3500000000000005, 'gamma': 'scale', 'kernel': 'rbf'}\n",
            "Best score: 0.4946700083542188\n",
            "Best hyperparameters: {'C': 1.4000000000000006, 'gamma': 'scale', 'kernel': 'rbf'}\n",
            "Best score: 0.4936118072960178\n",
            "Best hyperparameters: {'C': 1.4500000000000006, 'gamma': 'scale', 'kernel': 'rbf'}\n",
            "Best score: 0.4904372041214146\n",
            "Best hyperparameters: {'C': 1.5000000000000004, 'gamma': 'scale', 'kernel': 'rbf'}\n",
            "Best score: 0.4925536062378167\n",
            "Best hyperparameters: {'C': 1.5500000000000005, 'gamma': 'scale', 'kernel': 'rbf'}\n",
            "Best score: 0.4925536062378167\n",
            "Best hyperparameters: {'C': 1.6000000000000005, 'gamma': 'scale', 'kernel': 'rbf'}\n",
            "Best score: 0.4946644388749652\n",
            "Best hyperparameters: {'C': 1.6500000000000006, 'gamma': 'scale', 'kernel': 'rbf'}\n",
            "Best score: 0.49360623781676416\n",
            "Best hyperparameters: {'C': 1.7000000000000006, 'gamma': 'scale', 'kernel': 'rbf'}\n",
            "Best score: 0.4946644388749652\n",
            "Best hyperparameters: {'C': 1.7500000000000007, 'gamma': 'scale', 'kernel': 'rbf'}\n",
            "Best score: 0.49254803675856307\n",
            "Best hyperparameters: {'C': 1.8000000000000007, 'gamma': 'scale', 'kernel': 'rbf'}\n",
            "Best score: 0.490431634642161\n",
            "Best hyperparameters: {'C': 1.8500000000000008, 'gamma': 'scale', 'kernel': 'rbf'}\n",
            "Best score: 0.490431634642161\n",
            "Best hyperparameters: {'C': 1.9000000000000008, 'gamma': 'scale', 'kernel': 'rbf'}\n",
            "Best score: 0.48514062935115565\n",
            "Best hyperparameters: {'C': 1.9500000000000006, 'gamma': 'scale', 'kernel': 'rbf'}\n",
            "Best score: 0.4840824282929546\n"
          ]
        },
        {
          "output_type": "execute_result",
          "data": {
            "text/plain": [
              "[<matplotlib.lines.Line2D at 0x7f24c937c040>]"
            ]
          },
          "metadata": {},
          "execution_count": 39
        },
        {
          "output_type": "display_data",
          "data": {
            "text/plain": [
              "<Figure size 432x288 with 1 Axes>"
            ],
            "image/png": "[encoded data removed]"
          },
          "metadata": {
            "needs_background": "light"
          }
        }
      ]
    },
    {
      "cell_type": "markdown",
      "source": [
        "# svm"
      ],
      "metadata": {
        "id": "uKj6NbVziE0T"
      }
    },
    {
      "cell_type": "code",
      "source": [
        "from sklearn.metrics import accuracy_score"
      ],
      "metadata": {
        "id": "Wz_jGwByj5Ns"
      },
      "execution_count": null,
      "outputs": []
    },
    {
      "cell_type": "code",
      "source": [
        "train_acc=[]  \n",
        "test_acc=[]\n",
        "\n",
        "for num_lags in track(np.arange(30,40,1),description=\"proc\"):\n",
        "  raw = pd.read_csv(\"/content/drive/MyDrive/Crypto/new3/full_spread_data.csv\", parse_dates = [\"time\"], index_col = \"time\").dropna()\n",
        "  raw[\"returns\"] =np.log(raw.Close / raw.Close.shift(1))\n",
        "  raw[\"returns2\"]=(raw[\"returns\"]>=0).astype(int)\n",
        "  raw.drop([\"Open\",\"Spread\",\"Close\",\"High\",\"returns\",\"Volume\",\"Low\"],axis=1,inplace=True)\n",
        "  cols = []\n",
        "  for lag in range(1, num_lags):\n",
        "      col_r = \"r_lag{}\".format(lag)\n",
        "      raw[col_r] = raw.returns2.shift(lag)\n",
        "  raw.dropna(inplace = True)\n",
        "\n",
        "  to=int(len(raw)*0.8)\n",
        "  X_train=raw.drop([\"returns2\"],axis=1).iloc[:to].to_numpy()\n",
        "  y_train=raw[\"returns2\"].iloc[:to].to_numpy().astype(int)\n",
        "  X_test=raw.drop([\"returns2\"],axis=1).iloc[to:].to_numpy()\n",
        "  y_test=raw[\"returns2\"].iloc[to:].to_numpy().astype(int)\n",
        "\n",
        "  clf = svm.SVC(kernel=\"rbf\")\n",
        "  clf.fit(X_train,y_train)\n",
        "  pred_test=clf.predict(X_test)\n",
        "  pred_train=clf.predict(X_train)\n",
        "\n",
        "  train_acc.append(1-accuracy_score(y_train,pred_train))\n",
        "  test_acc.append(1-accuracy_score(y_test,pred_test))\n",
        "plt.plot(np.arange(30,40,1),train_acc,color=\"blue\")\n",
        "plt.plot(np.arange(30,40,1),test_acc,color=\"red\")\n",
        "plt.plot(np.arange(30,40,1),0.5*np.ones(10),color=\"purple\")"
      ],
      "metadata": {
        "colab": {
          "base_uri": "https://localhost:8080/",
          "referenced_widgets": [
            "e1761b6a33da4528b3de7811d1d9f197",
            "1f79db832a9344b0acc2dda4906a75dc"
          ]
        },
        "id": "5-nOSM3qPmnj",
        "outputId": "a0bc2c54-9df6-48d6-f1c7-c60d650fd211"
      },
      "execution_count": null,
      "outputs": [
        {
          "output_type": "display_data",
          "data": {
            "text/plain": [
              "Output()"
            ],
            "application/vnd.jupyter.widget-view+json": {
              "version_major": 2,
              "version_minor": 0,
              "model_id": "e1761b6a33da4528b3de7811d1d9f197"
            }
          },
          "metadata": {}
        },
        {
          "output_type": "display_data",
          "data": {
            "text/plain": [],
            "text/html": [
              "<pre style=\"white-space:pre;overflow-x:auto;line-height:normal;font-family:Menlo,'DejaVu Sans Mono',consolas,'Courier New',monospace\"></pre>\n"
            ]
          },
          "metadata": {}
        },
        {
          "output_type": "display_data",
          "data": {
            "text/plain": [
              "\n"
            ],
            "text/html": [
              "<pre style=\"white-space:pre;overflow-x:auto;line-height:normal;font-family:Menlo,'DejaVu Sans Mono',consolas,'Courier New',monospace\">\n",
              "</pre>\n"
            ]
          },
          "metadata": {}
        },
        {
          "output_type": "execute_result",
          "data": {
            "text/plain": [
              "[<matplotlib.lines.Line2D at 0x7f36ba84a910>]"
            ]
          },
          "metadata": {},
          "execution_count": 65
        },
        {
          "output_type": "display_data",
          "data": {
            "text/plain": [
              "<Figure size 432x288 with 1 Axes>"
            ],
            "image/png": "[encoded data removed]"
          },
          "metadata": {
            "needs_background": "light"
          }
        }
      ]
    },
    {
      "cell_type": "code",
      "source": [
        "from sklearn import svm"
      ],
      "metadata": {
        "id": "EU2V2nOviGsU"
      },
      "execution_count": null,
      "outputs": []
    },
    {
      "cell_type": "code",
      "source": [
        "raw = pd.read_csv(\"/content/drive/MyDrive/Crypto/new3/full_spread_data.csv\", parse_dates = [\"time\"], index_col = \"time\").dropna()\n",
        "raw[\"returns\"] =np.log(raw.Close / raw.Close.shift(1))\n",
        "raw[\"returns2\"]=(raw[\"returns\"]>=0).astype(int)\n",
        "raw.drop([\"Open\",\"Spread\",\"Close\",\"High\",\"returns\",\"Volume\",\"Low\"],axis=1,inplace=True)\n",
        "cols = []\n",
        "for lag in range(1, 34):\n",
        "    col_r = \"r_lag{}\".format(lag)\n",
        "    raw[col_r] = raw.returns2.shift(lag)\n",
        "raw.dropna(inplace = True)\n",
        "to=int(len(raw)*0.8)\n",
        "X_train=raw.drop([\"returns2\"],axis=1).iloc[:to].to_numpy()\n",
        "y_train=raw[\"returns2\"].iloc[:to].to_numpy().astype(int)\n",
        "X_test=raw.drop([\"returns2\"],axis=1).iloc[to:].to_numpy()\n",
        "y_test=raw[\"returns2\"].iloc[to:].to_numpy().astype(int)\n",
        "\n",
        "\n",
        "clf = svm.SVC(kernel=\"rbf\")\n",
        "clf.fit(X_train,y_train)\n",
        "pred_sign=clf.predict(X_test)\n",
        "pred_train=clf.predict(X_train)\n",
        "print(confusion_matrix(y_train,pred_train))\n",
        "print(classification_report(y_train,pred_train))\n",
        "print(confusion_matrix(y_test,pred_sign))\n",
        "print(classification_report(y_test,pred_sign))"
      ],
      "metadata": {
        "colab": {
          "base_uri": "https://localhost:8080/"
        },
        "id": "OqPb90GaiH5K",
        "outputId": "9739c943-c3b6-4626-aeae-96d70233344b"
      },
      "execution_count": null,
      "outputs": [
        {
          "output_type": "stream",
          "name": "stdout",
          "text": [
            "[[469 266]\n",
            " [ 42 875]]\n",
            "              precision    recall  f1-score   support\n",
            "\n",
            "           0       0.92      0.64      0.75       735\n",
            "           1       0.77      0.95      0.85       917\n",
            "\n",
            "    accuracy                           0.81      1652\n",
            "   macro avg       0.84      0.80      0.80      1652\n",
            "weighted avg       0.83      0.81      0.81      1652\n",
            "\n",
            "[[ 74 141]\n",
            " [ 58 141]]\n",
            "              precision    recall  f1-score   support\n",
            "\n",
            "           0       0.56      0.34      0.43       215\n",
            "           1       0.50      0.71      0.59       199\n",
            "\n",
            "    accuracy                           0.52       414\n",
            "   macro avg       0.53      0.53      0.51       414\n",
            "weighted avg       0.53      0.52      0.50       414\n",
            "\n"
          ]
        }
      ]
    },
    {
      "cell_type": "markdown",
      "source": [
        "# random forest"
      ],
      "metadata": {
        "id": "88HCKruPmmq7"
      }
    },
    {
      "cell_type": "code",
      "source": [
        "from sklearn.ensemble import RandomForestClassifier"
      ],
      "metadata": {
        "id": "EM7r7jW4mmrB"
      },
      "execution_count": 31,
      "outputs": []
    },
    {
      "cell_type": "code",
      "source": [
        "train_acc=[]  \n",
        "test_acc=[]\n",
        "\n",
        "for num_lags in track(np.arange(2,20,1),description=\"proc\"):\n",
        "  raw = pd.read_csv(\"/content/drive/MyDrive/Crypto/new3/full_spread_data.csv\",parse_dates = [\"Date\"], index_col = \"Date\").dropna()\n",
        "  raw[\"returns\"] =np.log(raw.Close / raw.Close.shift(1))\n",
        "  raw[\"Volume\"]=raw[\"Volume USDT\"]\n",
        "  raw[\"returns2\"]=(raw[\"returns\"]>=0).astype(int)\n",
        "  raw.drop([\"Open\",\"Unix\",\"Symbol\",\"Volume USDT\",\"Volume BTC\",\"tradecount\",\"returns\"],axis=1,inplace=True)\n",
        "  cols = []\n",
        "  for lag in range(1, num_lags):\n",
        "      col_r = \"r_lag{}\".format(lag)\n",
        "      raw[col_r] = raw.returns2.shift(lag)\n",
        "  raw.dropna(inplace = True)\n",
        "\n",
        "  to=int(len(raw)*0.8)\n",
        "  X_train=raw.drop([\"returns2\"],axis=1).iloc[:to].to_numpy()\n",
        "  y_train=raw[\"returns2\"].iloc[:to].to_numpy().astype(int)\n",
        "  X_test=raw.drop([\"returns2\"],axis=1).iloc[to:].to_numpy()\n",
        "  y_test=raw[\"returns2\"].iloc[to:].to_numpy().astype(int)\n",
        "\n",
        "  clf = RandomForestClassifier()\n",
        "  clf.fit(X_train,y_train)\n",
        "  pred_test=clf.predict(X_test)\n",
        "  pred_train=clf.predict(X_train)\n",
        "\n",
        "  train_acc.append(1-accuracy_score(y_train,pred_train))\n",
        "  test_acc.append(1-accuracy_score(y_test,pred_test))\n",
        "plt.plot(np.arange(2,20,1),train_acc,color=\"blue\")\n",
        "plt.plot(np.arange(2,20,1),test_acc,color=\"red\")\n",
        "plt.plot(np.arange(2,20,1),0.5*np.ones(18),color=\"purple\")"
      ],
      "metadata": {
        "colab": {
          "base_uri": "https://localhost:8080/",
          "referenced_widgets": [
            "062a8ebbdf8f4a7894611587a8096969",
            "84e816a844424c04a307779d76254fd7"
          ],
          "height": 0
        },
        "outputId": "2e1e757e-46d1-49cf-cb38-295eb5975c70",
        "id": "VG2-eQNRmmrB"
      },
      "execution_count": 34,
      "outputs": [
        {
          "output_type": "display_data",
          "data": {
            "text/plain": [
              "Output()"
            ],
            "application/vnd.jupyter.widget-view+json": {
              "version_major": 2,
              "version_minor": 0,
              "model_id": "062a8ebbdf8f4a7894611587a8096969"
            }
          },
          "metadata": {}
        },
        {
          "output_type": "display_data",
          "data": {
            "text/plain": [],
            "text/html": [
              "<pre style=\"white-space:pre;overflow-x:auto;line-height:normal;font-family:Menlo,'DejaVu Sans Mono',consolas,'Courier New',monospace\"></pre>\n"
            ]
          },
          "metadata": {}
        },
        {
          "output_type": "display_data",
          "data": {
            "text/plain": [
              "\n"
            ],
            "text/html": [
              "<pre style=\"white-space:pre;overflow-x:auto;line-height:normal;font-family:Menlo,'DejaVu Sans Mono',consolas,'Courier New',monospace\">\n",
              "</pre>\n"
            ]
          },
          "metadata": {}
        },
        {
          "output_type": "execute_result",
          "data": {
            "text/plain": [
              "[<matplotlib.lines.Line2D at 0x7f9e14b0bc10>]"
            ]
          },
          "metadata": {},
          "execution_count": 34
        },
        {
          "output_type": "display_data",
          "data": {
            "text/plain": [
              "<Figure size 432x288 with 1 Axes>"
            ],
            "image/png": "[encoded data removed]"
          },
          "metadata": {
            "needs_background": "light"
          }
        }
      ]
    },
    {
      "cell_type": "markdown",
      "source": [
        "# logstic regression"
      ],
      "metadata": {
        "id": "H4eXholenb6Z"
      }
    },
    {
      "cell_type": "code",
      "source": [
        "from sklearn.linear_model import LogisticRegression"
      ],
      "metadata": {
        "id": "I21l57WJnb6f"
      },
      "execution_count": 36,
      "outputs": []
    },
    {
      "cell_type": "code",
      "source": [
        "train_acc=[]  \n",
        "test_acc=[]\n",
        "a=2\n",
        "b=65\n",
        "for num_lags in track(np.arange(a,b,1),description=\"proc\"):\n",
        "  raw = pd.read_csv(\"/content/drive/MyDrive/Crypto/new3/full_spread_data.csv\",parse_dates = [\"Date\"], index_col = \"Date\").dropna()\n",
        "  raw[\"returns\"] =np.log(raw.Close / raw.Close.shift(1))\n",
        "  raw[\"Volume\"]=raw[\"Volume USDT\"]\n",
        "  raw[\"returns2\"]=(raw[\"returns\"]>=0).astype(int)\n",
        "  raw.drop([\"Open\",\"Unix\",\"Symbol\",\"Volume USDT\",\"Volume BTC\",\"tradecount\",\"returns\"],axis=1,inplace=True)\n",
        "  cols = []\n",
        "  for lag in range(1, num_lags):\n",
        "      col_r = \"r_lag{}\".format(lag)\n",
        "      raw[col_r] = raw.returns2.shift(lag)\n",
        "  raw.dropna(inplace = True)\n",
        "\n",
        "  to=int(len(raw)*0.8)\n",
        "  X_train=raw.drop([\"returns2\"],axis=1).iloc[:to].to_numpy()\n",
        "  y_train=raw[\"returns2\"].iloc[:to].to_numpy().astype(int)\n",
        "  X_test=raw.drop([\"returns2\"],axis=1).iloc[to:].to_numpy()\n",
        "  y_test=raw[\"returns2\"].iloc[to:].to_numpy().astype(int)\n",
        "\n",
        "  clf = LogisticRegression()\n",
        "  clf.fit(X_train,y_train)\n",
        "  pred_test=clf.predict(X_test)\n",
        "  pred_train=clf.predict(X_train)\n",
        "\n",
        "  train_acc.append(1-accuracy_score(y_train,pred_train))\n",
        "  test_acc.append(1-accuracy_score(y_test,pred_test))\n",
        "plt.plot(np.arange(a,b,1),train_acc,color=\"blue\")\n",
        "plt.plot(np.arange(a,b,1),test_acc,color=\"red\")\n",
        "plt.plot(np.arange(a,b,1),0.5*np.ones(b-a),color=\"purple\")"
      ],
      "metadata": {
        "colab": {
          "base_uri": "https://localhost:8080/",
          "referenced_widgets": [
            "bfd87edec2134e8692b867fae6b2647c",
            "784b3def214e4bb790966761302befb3"
          ],
          "height": 0
        },
        "outputId": "b47e13ef-00d9-40ca-fc75-20d964b47226",
        "id": "Cl-qnNVSnb6f"
      },
      "execution_count": 37,
      "outputs": [
        {
          "output_type": "display_data",
          "data": {
            "text/plain": [
              "Output()"
            ],
            "application/vnd.jupyter.widget-view+json": {
              "version_major": 2,
              "version_minor": 0,
              "model_id": "bfd87edec2134e8692b867fae6b2647c"
            }
          },
          "metadata": {}
        },
        {
          "output_type": "display_data",
          "data": {
            "text/plain": [],
            "text/html": [
              "<pre style=\"white-space:pre;overflow-x:auto;line-height:normal;font-family:Menlo,'DejaVu Sans Mono',consolas,'Courier New',monospace\"></pre>\n"
            ]
          },
          "metadata": {}
        },
        {
          "output_type": "display_data",
          "data": {
            "text/plain": [
              "\n"
            ],
            "text/html": [
              "<pre style=\"white-space:pre;overflow-x:auto;line-height:normal;font-family:Menlo,'DejaVu Sans Mono',consolas,'Courier New',monospace\">\n",
              "</pre>\n"
            ]
          },
          "metadata": {}
        },
        {
          "output_type": "execute_result",
          "data": {
            "text/plain": [
              "[<matplotlib.lines.Line2D at 0x7f9e148998b0>]"
            ]
          },
          "metadata": {},
          "execution_count": 37
        },
        {
          "output_type": "display_data",
          "data": {
            "text/plain": [
              "<Figure size 432x288 with 1 Axes>"
            ],
            "image/png": "[encoded data removed]"
          },
          "metadata": {
            "needs_background": "light"
          }
        }
      ]
    },
    {
      "cell_type": "code",
      "source": [
        "raw = pd.read_csv(\"/content/drive/MyDrive/Crypto/new3/full_spread_data.csv\", parse_dates = [\"time\"], index_col = \"time\").dropna()\n",
        "raw[\"returns\"] =np.log(raw.Close / raw.Close.shift(1))\n",
        "raw[\"returns2\"]=(raw[\"returns\"]>=0).astype(int)\n",
        "raw.drop([\"Open\",\"Spread\",\"Close\",\"High\",\"returns\",\"Volume\",\"Low\"],axis=1,inplace=True)\n",
        "cols = []\n",
        "for lag in range(1, 40):\n",
        "    col_r = \"r_lag{}\".format(lag)\n",
        "    raw[col_r] = raw.returns2.shift(lag)\n",
        "raw.dropna(inplace = True)\n",
        "to=int(len(raw)*0.8)\n",
        "X_train=raw.drop([\"returns2\"],axis=1).iloc[:to].to_numpy()\n",
        "y_train=raw[\"returns2\"].iloc[:to].to_numpy().astype(int)\n",
        "X_test=raw.drop([\"returns2\"],axis=1).iloc[to:].to_numpy()\n",
        "y_test=raw[\"returns2\"].iloc[to:].to_numpy().astype(int)\n",
        "clf = LogisticRegression()\n",
        "clf.fit(X_train,y_train)\n",
        "pred_test=clf.predict(X_test)\n",
        "pred_train=clf.predict(X_train)\n",
        "\n",
        "print(confusion_matrix(y_train,pred_train))\n",
        "print(classification_report(y_train,pred_train))\n",
        "print(confusion_matrix(y_test,pred_test))\n",
        "print(classification_report(y_test,pred_test))"
      ],
      "metadata": {
        "id": "wnL_AwTnn-BK",
        "outputId": "029ac3a5-a306-4186-fa7d-3fa289f9b4f5",
        "colab": {
          "base_uri": "https://localhost:8080/"
        }
      },
      "execution_count": null,
      "outputs": [
        {
          "output_type": "stream",
          "name": "stdout",
          "text": [
            "[[252 480]\n",
            " [172 744]]\n",
            "              precision    recall  f1-score   support\n",
            "\n",
            "           0       0.59      0.34      0.44       732\n",
            "           1       0.61      0.81      0.70       916\n",
            "\n",
            "    accuracy                           0.60      1648\n",
            "   macro avg       0.60      0.58      0.57      1648\n",
            "weighted avg       0.60      0.60      0.58      1648\n",
            "\n",
            "[[ 83 132]\n",
            " [ 63 134]]\n",
            "              precision    recall  f1-score   support\n",
            "\n",
            "           0       0.57      0.39      0.46       215\n",
            "           1       0.50      0.68      0.58       197\n",
            "\n",
            "    accuracy                           0.53       412\n",
            "   macro avg       0.54      0.53      0.52       412\n",
            "weighted avg       0.54      0.53      0.52       412\n",
            "\n"
          ]
        }
      ]
    },
    {
      "cell_type": "markdown",
      "source": [
        "# GRU2"
      ],
      "metadata": {
        "id": "134l3zG0Yg8F"
      }
    },
    {
      "cell_type": "code",
      "source": [
        "raw = pd.read_csv(\"/content/drive/MyDrive/Crypto/new3/full_spread_data.csv\",parse_dates = [\"Date\"], index_col = \"Date\").dropna()\n",
        "raw[\"returns\"] =np.log(raw.Close / raw.Close.shift(1))\n",
        "raw[\"Volume\"]=raw[\"Volume USDT\"]\n",
        "raw.drop([\"Open\",\"Unix\",\"Symbol\",\"Volume USDT\",\"Volume BTC\",\"tradecount\"],axis=1,inplace=True)\n",
        "cols = []\n",
        "for lag in range(1, 41):\n",
        "    col_h = \"h_lag{}\".format(lag)\n",
        "    col_l = \"l_lag{}\".format(lag)\n",
        "    col_r = \"c_lag{}\".format(lag)\n",
        "    col_v = \"v_lag{}\".format(lag)\n",
        "    raw[col_h] = raw.High.shift(lag)\n",
        "    cols.append(col_h)\n",
        "    raw[col_l] = raw.Low.shift(lag)\n",
        "    cols.append(col_l)\n",
        "    raw[col_r] = raw.Close.shift(lag)\n",
        "    cols.append(col_r)\n",
        "    raw[col_v] = raw.Volume.shift(lag)\n",
        "    cols.append(col_v)\n",
        "    raw.dropna(inplace = True)\n",
        "raw.drop([\"High\",\"Low\",\"Volume\",\"Close\"],axis=1,inplace=True)\n",
        "\n",
        "raw[\"returns2\"]=(raw[\"returns\"]>=0).astype(int)\n",
        "\n",
        "to=int(len(raw)*0.8)\n",
        "X_train=raw.drop([\"returns2\",\"returns\"],axis=1).iloc[:to].to_numpy()\n",
        "y_train=raw[\"returns2\"].iloc[:to].to_numpy().astype(int)\n",
        "X_test=raw.drop([\"returns2\",\"returns\"],axis=1).iloc[to:].to_numpy()\n",
        "y_test=raw[\"returns2\"].iloc[to:].to_numpy().astype(int)\n",
        "\n",
        "scaler1 = MinMaxScaler()\n",
        "X_train=scaler1.fit_transform(X_train)\n",
        "X_test=scaler1.transform(X_test)\n",
        "\n",
        "print(X_train.shape,y_train.shape,X_test.shape,y_test.shape)\n",
        "\n",
        "from tensorflow.keras.utils import to_categorical\n",
        "y_train2 = to_categorical(y_train, 2)\n",
        "y_test2 = to_categorical(y_test, 2)\n",
        "\n",
        "from sklearn.decomposition import PCA\n",
        "comp=30\n",
        "reducer = umap.UMAP(n_components=comp)\n",
        "X_train = reducer.fit_transform(X_train)\n",
        "X_test = reducer.transform(X_test)\n",
        "\n",
        "\n",
        "def build_model(hp):\n",
        "    model = Sequential()\n",
        "    model.add(GRU(hp.Int('units1', min_value=5, max_value=200, step=1),activation=\"tanh\",input_shape=(comp,1),return_sequences=True))\n",
        "    model.add(LSTM(hp.Int('units2', min_value=5, max_value=200, step=1),activation=\"tanh\",return_sequences=False))\n",
        "    model.add(Dense(2,activation=\"softmax\"))\n",
        "\n",
        "    model.compile(loss='categorical_crossentropy', optimizer='adam', metrics=['accuracy'])\n",
        "    return model\n",
        "\n",
        "tuner = keras_tuner.RandomSearch(\n",
        "      build_model,\n",
        "      objective='val_loss',\n",
        "      max_trials=10,overwrite = True)\n",
        "tuner.search(X_train,y_train2 , epochs=10, validation_split=0.2)\n",
        "best_model = tuner.get_best_models()[0]\n",
        "best_model.summary()\n",
        "\n",
        "early_stopping=EarlyStopping(patience=25, verbose=0)\n",
        "checkpointer=ModelCheckpoint(filepath='weights1.hdf5', save_best_only=True, verbose=1)\n",
        "best_model.fit(X_train,y_train2, batch_size=50,epochs=100, verbose=0, \\\n",
        "                validation_split=0.2,callbacks=[checkpointer, early_stopping], shuffle=True)\n",
        "\n",
        "predictions =best_model.predict(X_test)\n",
        "pred_sign=np.argmax(predictions,axis=1)\n",
        "pred_train=np.argmax(best_model.predict(X_train),axis=1)\n",
        "true_sign=np.argmax(y_test2,axis=1)\n",
        "print(confusion_matrix(np.argmax(y_train2,axis=1),pred_train))\n",
        "print(confusion_matrix(true_sign,pred_sign))\n",
        "print(classification_report(true_sign,pred_sign))"
      ],
      "metadata": {
        "colab": {
          "base_uri": "https://localhost:8080/"
        },
        "id": "470hqXnrtOBl",
        "outputId": "94c1929f-f9fe-49ac-e6f5-cfaa490ab0f1"
      },
      "execution_count": 45,
      "outputs": [
        {
          "output_type": "stream",
          "name": "stdout",
          "text": [
            "Trial 10 Complete [00h 00m 15s]\n",
            "val_loss: 0.6932671070098877\n",
            "\n",
            "Best val_loss So Far: 0.6931365728378296\n",
            "Total elapsed time: 00h 01m 49s\n",
            "Model: \"sequential\"\n",
            "_________________________________________________________________\n",
            " Layer (type)                Output Shape              Param #   \n",
            "=================================================================\n",
            " gru (GRU)                   (None, 30, 113)           39324     \n",
            "                                                                 \n",
            " lstm (LSTM)                 (None, 72)                53568     \n",
            "                                                                 \n",
            " dense (Dense)               (None, 2)                 146       \n",
            "                                                                 \n",
            "=================================================================\n",
            "Total params: 93,038\n",
            "Trainable params: 93,038\n",
            "Non-trainable params: 0\n",
            "_________________________________________________________________\n",
            "\n",
            "Epoch 1: val_loss improved from inf to 0.69677, saving model to weights1.hdf5\n",
            "\n",
            "Epoch 2: val_loss improved from 0.69677 to 0.69418, saving model to weights1.hdf5\n",
            "\n",
            "Epoch 3: val_loss did not improve from 0.69418\n",
            "\n",
            "Epoch 4: val_loss improved from 0.69418 to 0.69317, saving model to weights1.hdf5\n",
            "\n",
            "Epoch 5: val_loss did not improve from 0.69317\n",
            "\n",
            "Epoch 6: val_loss did not improve from 0.69317\n",
            "\n",
            "Epoch 7: val_loss did not improve from 0.69317\n",
            "\n",
            "Epoch 8: val_loss did not improve from 0.69317\n",
            "\n",
            "Epoch 9: val_loss did not improve from 0.69317\n",
            "\n",
            "Epoch 10: val_loss did not improve from 0.69317\n",
            "\n",
            "Epoch 11: val_loss did not improve from 0.69317\n",
            "\n",
            "Epoch 12: val_loss did not improve from 0.69317\n",
            "\n",
            "Epoch 13: val_loss did not improve from 0.69317\n",
            "\n",
            "Epoch 14: val_loss did not improve from 0.69317\n",
            "\n",
            "Epoch 15: val_loss did not improve from 0.69317\n",
            "\n",
            "Epoch 16: val_loss did not improve from 0.69317\n",
            "\n",
            "Epoch 17: val_loss did not improve from 0.69317\n",
            "\n",
            "Epoch 18: val_loss did not improve from 0.69317\n",
            "\n",
            "Epoch 19: val_loss did not improve from 0.69317\n",
            "\n",
            "Epoch 20: val_loss did not improve from 0.69317\n",
            "\n",
            "Epoch 21: val_loss did not improve from 0.69317\n",
            "\n",
            "Epoch 22: val_loss did not improve from 0.69317\n",
            "\n",
            "Epoch 23: val_loss did not improve from 0.69317\n",
            "\n",
            "Epoch 24: val_loss did not improve from 0.69317\n",
            "\n",
            "Epoch 25: val_loss did not improve from 0.69317\n",
            "\n",
            "Epoch 26: val_loss did not improve from 0.69317\n",
            "\n",
            "Epoch 27: val_loss did not improve from 0.69317\n",
            "\n",
            "Epoch 28: val_loss did not improve from 0.69317\n",
            "\n",
            "Epoch 29: val_loss did not improve from 0.69317\n",
            "8/8 [==============================] - 1s 3ms/step\n",
            "30/30 [==============================] - 0s 3ms/step\n",
            "[[500   0]\n",
            " [448   0]]\n",
            "[[129   0]\n",
            " [109   0]]\n",
            "              precision    recall  f1-score   support\n",
            "\n",
            "           0       0.54      1.00      0.70       129\n",
            "           1       0.00      0.00      0.00       109\n",
            "\n",
            "    accuracy                           0.54       238\n",
            "   macro avg       0.27      0.50      0.35       238\n",
            "weighted avg       0.29      0.54      0.38       238\n",
            "\n"
          ]
        },
        {
          "output_type": "stream",
          "name": "stderr",
          "text": [
            "/usr/local/lib/python3.8/dist-packages/sklearn/metrics/_classification.py:1318: UndefinedMetricWarning: Precision and F-score are ill-defined and being set to 0.0 in labels with no predicted samples. Use `zero_division` parameter to control this behavior.\n",
            "  _warn_prf(average, modifier, msg_start, len(result))\n",
            "/usr/local/lib/python3.8/dist-packages/sklearn/metrics/_classification.py:1318: UndefinedMetricWarning: Precision and F-score are ill-defined and being set to 0.0 in labels with no predicted samples. Use `zero_division` parameter to control this behavior.\n",
            "  _warn_prf(average, modifier, msg_start, len(result))\n",
            "/usr/local/lib/python3.8/dist-packages/sklearn/metrics/_classification.py:1318: UndefinedMetricWarning: Precision and F-score are ill-defined and being set to 0.0 in labels with no predicted samples. Use `zero_division` parameter to control this behavior.\n",
            "  _warn_prf(average, modifier, msg_start, len(result))\n"
          ]
        }
      ]
    },
    {
      "cell_type": "code",
      "source": [
        "train_acc=[]  \n",
        "test_acc=[]\n",
        "a=7\n",
        "b=61\n",
        "num_lag=a\n",
        "while num_lag<b:\n",
        "  raw = pd.read_csv(\"/content/drive/MyDrive/Crypto/new3/full_spread_data.csv\", parse_dates = [\"time\"], index_col = \"time\").dropna()\n",
        "  raw[\"returns\"] =np.log(raw.Close / raw.Close.shift(1))\n",
        "  raw[\"returns2\"]=(raw[\"returns\"]>=0).astype(int)\n",
        "  raw.drop([\"Open\",\"Spread\",\"Close\",\"High\",\"returns\",\"Volume\",\"Low\"],axis=1,inplace=True)\n",
        "  cols = []\n",
        "  for lag in range(1, num_lag):\n",
        "      col_r = \"r_lag{}\".format(lag)\n",
        "      raw[col_r] = raw.returns2.shift(lag)\n",
        "  raw.dropna(inplace = True)\n",
        "  to=int(len(raw)*0.8)\n",
        "  X_train=raw.drop([\"returns2\"],axis=1).iloc[:to].to_numpy()\n",
        "  y_train=raw[\"returns2\"].iloc[:to].to_numpy().astype(int)\n",
        "  X_test=raw.drop([\"returns2\"],axis=1).iloc[to:].to_numpy()\n",
        "  y_test=raw[\"returns2\"].iloc[to:].to_numpy().astype(int)\n",
        "\n",
        "  from tensorflow.keras.utils import to_categorical\n",
        "  y_train2 = to_categorical(y_train, 2)\n",
        "  y_test2 = to_categorical(y_test, 2)\n",
        "\n",
        "\n",
        "  def build_model(hp):\n",
        "      model = Sequential()\n",
        "      model.add(Dense(hp.Int('units1', min_value=5, max_value=200, step=1),activation=\"relu\",input_shape=(num_lag-1,1)))\n",
        "      model.add(Dense(hp.Int('units2', min_value=5, max_value=180, step=1),activation=\"relu\"))\n",
        "      model.add(Dense(hp.Int('units3', min_value=5, max_value=160, step=1),activation=\"relu\"))\n",
        "      model.add(Dense(hp.Int('units4', min_value=5, max_value=140, step=1),activation=\"relu\"))\n",
        "      model.add(Dense(hp.Int('units5', min_value=5, max_value=120, step=1),activation=\"relu\"))\n",
        "      model.add(GRU(hp.Int('units5', min_value=5, max_value=120, step=1),activation=\"tanh\",return_sequences=True))\n",
        "      model.add(LSTM(hp.Int('units5', min_value=5, max_value=120, step=1),activation=\"tanh\"))\n",
        "      model.add(Dense(2,activation=\"softmax\"))\n",
        "\n",
        "      model.compile(loss='categorical_crossentropy', optimizer='adam', metrics=['accuracy'])\n",
        "      return model\n",
        "\n",
        "  tuner = keras_tuner.RandomSearch(\n",
        "        build_model,\n",
        "        objective='val_loss',\n",
        "        max_trials=10,overwrite = True)\n",
        "  tuner.search(X_train,y_train2 , epochs=5, validation_split=0.2)\n",
        "  best_model = tuner.get_best_models()[0]\n",
        "  best_model.summary()\n",
        "\n",
        "  early_stopping=EarlyStopping(patience=10, verbose=0)\n",
        "  checkpointer=ModelCheckpoint(filepath='weights1.hdf5', save_best_only=True, verbose=1)\n",
        "  best_model.fit(X_train,y_train2, batch_size=50,epochs=100, verbose=0, \\\n",
        "                  validation_split=0.2,callbacks=[checkpointer, early_stopping], shuffle=True)\n",
        "\n",
        "  predictions =best_model.predict(X_test)\n",
        "  predistions2=best_model.predict(X_train)\n",
        "  pred_test=np.argmax(predictions,axis=1)\n",
        "  pred_train=np.argmax(predistions2,axis=1)\n",
        "  train_acc.append(1-accuracy_score(y_train,pred_train))\n",
        "  test_acc.append(1-accuracy_score(y_test,pred_test))\n",
        "  num_lag+=1\n",
        "\n",
        "plt.plot(np.arange(a,b,1),train_acc,color=\"blue\")\n",
        "plt.plot(np.arange(a,b,1),test_acc,color=\"red\")\n",
        "plt.plot(np.arange(a,b,1),0.5*np.ones(b-a),color=\"purple\")"
      ],
      "metadata": {
        "id": "lLox0gxqpctg",
        "outputId": "8ba1060c-6f8d-4f6a-c81b-f00e106c95e3",
        "colab": {
          "base_uri": "https://localhost:8080/",
          "height": 1000
        }
      },
      "execution_count": null,
      "outputs": [
        {
          "output_type": "stream",
          "name": "stdout",
          "text": [
            "Trial 10 Complete [00h 00m 12s]\n",
            "val_loss: 0.6848078966140747\n",
            "\n",
            "Best val_loss So Far: 0.6833024621009827\n",
            "Total elapsed time: 00h 02m 12s\n",
            "Model: \"sequential\"\n",
            "_________________________________________________________________\n",
            " Layer (type)                Output Shape              Param #   \n",
            "=================================================================\n",
            " dense (Dense)               (None, 59, 47)            94        \n",
            "                                                                 \n",
            " dense_1 (Dense)             (None, 59, 170)           8160      \n",
            "                                                                 \n",
            " dense_2 (Dense)             (None, 59, 33)            5643      \n",
            "                                                                 \n",
            " dense_3 (Dense)             (None, 59, 103)           3502      \n",
            "                                                                 \n",
            " dense_4 (Dense)             (None, 59, 9)             936       \n",
            "                                                                 \n",
            " gru (GRU)                   (None, 59, 9)             540       \n",
            "                                                                 \n",
            " lstm (LSTM)                 (None, 9)                 684       \n",
            "                                                                 \n",
            " dense_5 (Dense)             (None, 2)                 20        \n",
            "                                                                 \n",
            "=================================================================\n",
            "Total params: 19,579\n",
            "Trainable params: 19,579\n",
            "Non-trainable params: 0\n",
            "_________________________________________________________________\n",
            "\n",
            "Epoch 1: val_loss improved from inf to 0.68430, saving model to weights1.hdf5\n",
            "\n",
            "Epoch 2: val_loss did not improve from 0.68430\n",
            "\n",
            "Epoch 3: val_loss did not improve from 0.68430\n",
            "\n",
            "Epoch 4: val_loss improved from 0.68430 to 0.68387, saving model to weights1.hdf5\n",
            "\n",
            "Epoch 5: val_loss did not improve from 0.68387\n",
            "\n",
            "Epoch 6: val_loss did not improve from 0.68387\n",
            "\n",
            "Epoch 7: val_loss did not improve from 0.68387\n",
            "\n",
            "Epoch 8: val_loss did not improve from 0.68387\n",
            "\n",
            "Epoch 9: val_loss did not improve from 0.68387\n",
            "\n",
            "Epoch 10: val_loss did not improve from 0.68387\n",
            "\n",
            "Epoch 11: val_loss did not improve from 0.68387\n",
            "\n",
            "Epoch 12: val_loss did not improve from 0.68387\n",
            "\n",
            "Epoch 13: val_loss did not improve from 0.68387\n",
            "\n",
            "Epoch 14: val_loss did not improve from 0.68387\n",
            "13/13 [==============================] - 1s 5ms/step\n",
            "51/51 [==============================] - 0s 5ms/step\n"
          ]
        },
        {
          "output_type": "execute_result",
          "data": {
            "text/plain": [
              "[<matplotlib.lines.Line2D at 0x7fb3ff31ae80>]"
            ]
          },
          "metadata": {},
          "execution_count": 12
        },
        {
          "output_type": "display_data",
          "data": {
            "text/plain": [
              "<Figure size 432x288 with 1 Axes>"
            ],
            "image/png": "[encoded data removed]"
          },
          "metadata": {
            "needs_background": "light"
          }
        }
      ]
    },
    {
      "cell_type": "code",
      "source": [],
      "metadata": {
        "id": "GvMzySjJpdTR"
      },
      "execution_count": null,
      "outputs": []
    },
    {
      "cell_type": "code",
      "source": [],
      "metadata": {
        "id": "JUbK01ZTpdWk"
      },
      "execution_count": null,
      "outputs": []
    },
    {
      "cell_type": "code",
      "source": [
        "pred_sign=-(predictions>=0).astype(int)+(predictions<0).astype(int)\n",
        "true_sign=(y_true>=0).astype(int)-(y_true<0).astype(int)\n",
        "print(confusion_matrix(true_sign,pred_sign))\n",
        "print(classification_report(true_sign,pred_sign))"
      ],
      "metadata": {
        "colab": {
          "base_uri": "https://localhost:8080/"
        },
        "id": "G0b3m3PGN5YS",
        "outputId": "1cb956f2-3aa3-4fdf-9483-70cba7f83847"
      },
      "execution_count": null,
      "outputs": [
        {
          "output_type": "stream",
          "name": "stdout",
          "text": [
            "[[215  75]\n",
            " [216  92]]\n",
            "              precision    recall  f1-score   support\n",
            "\n",
            "          -1       0.50      0.74      0.60       290\n",
            "           1       0.55      0.30      0.39       308\n",
            "\n",
            "    accuracy                           0.51       598\n",
            "   macro avg       0.52      0.52      0.49       598\n",
            "weighted avg       0.53      0.51      0.49       598\n",
            "\n"
          ]
        }
      ]
    },
    {
      "cell_type": "code",
      "source": [
        "X_test.shape"
      ],
      "metadata": {
        "colab": {
          "base_uri": "https://localhost:8080/"
        },
        "id": "qlvadTSx1sDc",
        "outputId": "eb6788d8-992f-444a-e8bd-fe2e864466c9"
      },
      "execution_count": null,
      "outputs": [
        {
          "output_type": "execute_result",
          "data": {
            "text/plain": [
              "(598, 56)"
            ]
          },
          "metadata": {},
          "execution_count": 164
        }
      ]
    },
    {
      "cell_type": "markdown",
      "metadata": {
        "id": "OmR_a4E4azq7"
      },
      "source": [
        "# GRU"
      ]
    },
    {
      "cell_type": "code",
      "execution_count": null,
      "metadata": {
        "id": "m7u6MIsEm89h"
      },
      "outputs": [],
      "source": [
        "def build_model(hp):\n",
        "    model = Sequential()\n",
        "\n",
        "    model.add(LSTM(hp.Int('units2', min_value=1, max_value=200, step=1), return_sequences=True, input_shape=(60,1)))\n",
        "    model.add(GRU(hp.Int('units2', min_value=1, max_value=200, step=1), return_sequences=True))\n",
        "    model.add(LSTM(hp.Int('units2', min_value=1, max_value=200, step=1), return_sequences=False))\n",
        "    model.add(Dense(hp.Int('units3', min_value=5, max_value=100, step=1)))\n",
        "    model.add(Dense(1))\n",
        "\n",
        "    model.compile(loss='mean_squared_error', optimizer='adam', metrics=[tf.keras.metrics.MeanSquaredError()])\n",
        "    return model"
      ]
    },
    {
      "cell_type": "code",
      "source": [
        "tuner = keras_tuner.RandomSearch(\n",
        "      build_model,\n",
        "      objective='val_loss',\n",
        "      max_trials=10,overwrite = True)\n",
        "tuner.search(X_train,y_train , epochs=10, validation_split=0.2)\n",
        "best_model = tuner.get_best_models()[0]\n",
        "best_model.summary()"
      ],
      "metadata": {
        "colab": {
          "base_uri": "https://localhost:8080/"
        },
        "id": "fM9WingWIGXc",
        "outputId": "79068576-71b7-43f6-f9d7-c3cc5d6a9103"
      },
      "execution_count": null,
      "outputs": [
        {
          "output_type": "stream",
          "name": "stdout",
          "text": [
            "Trial 10 Complete [00h 00m 11s]\n",
            "val_loss: 0.8127514123916626\n",
            "\n",
            "Best val_loss So Far: 0.8071630597114563\n",
            "Total elapsed time: 00h 02m 12s\n",
            "Model: \"sequential\"\n",
            "_________________________________________________________________\n",
            " Layer (type)                Output Shape              Param #   \n",
            "=================================================================\n",
            " lstm (LSTM)                 (None, 60, 109)           48396     \n",
            "                                                                 \n",
            " gru (GRU)                   (None, 60, 109)           71940     \n",
            "                                                                 \n",
            " lstm_1 (LSTM)               (None, 109)               95484     \n",
            "                                                                 \n",
            " dense (Dense)               (None, 29)                3190      \n",
            "                                                                 \n",
            " dense_1 (Dense)             (None, 1)                 30        \n",
            "                                                                 \n",
            "=================================================================\n",
            "Total params: 219,040\n",
            "Trainable params: 219,040\n",
            "Non-trainable params: 0\n",
            "_________________________________________________________________\n"
          ]
        }
      ]
    },
    {
      "cell_type": "code",
      "execution_count": null,
      "metadata": {
        "id": "OnWc6F-oeFXX",
        "outputId": "c31635d2-1f31-4ee5-b81a-1bb8de63c3ec",
        "colab": {
          "base_uri": "https://localhost:8080/"
        }
      },
      "outputs": [
        {
          "output_type": "stream",
          "name": "stdout",
          "text": [
            "\n",
            "Epoch 1: val_loss improved from inf to 1.13291, saving model to weights1.hdf5\n",
            "\n",
            "Epoch 2: val_loss did not improve from 1.13291\n",
            "\n",
            "Epoch 3: val_loss did not improve from 1.13291\n",
            "\n",
            "Epoch 4: val_loss improved from 1.13291 to 1.13181, saving model to weights1.hdf5\n",
            "\n",
            "Epoch 5: val_loss did not improve from 1.13181\n",
            "\n",
            "Epoch 6: val_loss did not improve from 1.13181\n",
            "\n",
            "Epoch 7: val_loss did not improve from 1.13181\n",
            "\n",
            "Epoch 8: val_loss did not improve from 1.13181\n",
            "\n",
            "Epoch 9: val_loss did not improve from 1.13181\n",
            "\n",
            "Epoch 10: val_loss did not improve from 1.13181\n",
            "\n",
            "Epoch 11: val_loss did not improve from 1.13181\n",
            "\n",
            "Epoch 12: val_loss did not improve from 1.13181\n",
            "\n",
            "Epoch 13: val_loss did not improve from 1.13181\n",
            "\n",
            "Epoch 14: val_loss did not improve from 1.13181\n",
            "\n",
            "Epoch 15: val_loss did not improve from 1.13181\n",
            "\n",
            "Epoch 16: val_loss did not improve from 1.13181\n",
            "\n",
            "Epoch 17: val_loss did not improve from 1.13181\n",
            "\n",
            "Epoch 18: val_loss did not improve from 1.13181\n",
            "\n",
            "Epoch 19: val_loss did not improve from 1.13181\n",
            "\n",
            "Epoch 20: val_loss did not improve from 1.13181\n",
            "\n",
            "Epoch 21: val_loss did not improve from 1.13181\n",
            "\n",
            "Epoch 22: val_loss did not improve from 1.13181\n",
            "\n",
            "Epoch 23: val_loss did not improve from 1.13181\n",
            "\n",
            "Epoch 24: val_loss did not improve from 1.13181\n",
            "\n",
            "Epoch 25: val_loss did not improve from 1.13181\n",
            "\n",
            "Epoch 26: val_loss did not improve from 1.13181\n",
            "\n",
            "Epoch 27: val_loss did not improve from 1.13181\n",
            "\n",
            "Epoch 28: val_loss did not improve from 1.13181\n",
            "\n",
            "Epoch 29: val_loss did not improve from 1.13181\n",
            "\n",
            "Epoch 30: val_loss did not improve from 1.13181\n",
            "\n",
            "Epoch 31: val_loss did not improve from 1.13181\n",
            "\n",
            "Epoch 32: val_loss did not improve from 1.13181\n",
            "\n",
            "Epoch 33: val_loss did not improve from 1.13181\n",
            "\n",
            "Epoch 34: val_loss did not improve from 1.13181\n",
            "\n",
            "Epoch 35: val_loss did not improve from 1.13181\n",
            "\n",
            "Epoch 36: val_loss did not improve from 1.13181\n",
            "\n",
            "Epoch 37: val_loss did not improve from 1.13181\n",
            "\n",
            "Epoch 38: val_loss did not improve from 1.13181\n",
            "\n",
            "Epoch 39: val_loss did not improve from 1.13181\n",
            "\n",
            "Epoch 40: val_loss did not improve from 1.13181\n",
            "\n",
            "Epoch 41: val_loss did not improve from 1.13181\n",
            "\n",
            "Epoch 42: val_loss did not improve from 1.13181\n",
            "\n",
            "Epoch 43: val_loss did not improve from 1.13181\n",
            "\n",
            "Epoch 44: val_loss did not improve from 1.13181\n",
            "\n",
            "Epoch 45: val_loss did not improve from 1.13181\n",
            "\n",
            "Epoch 46: val_loss did not improve from 1.13181\n",
            "\n",
            "Epoch 47: val_loss did not improve from 1.13181\n",
            "\n",
            "Epoch 48: val_loss did not improve from 1.13181\n",
            "\n",
            "Epoch 49: val_loss did not improve from 1.13181\n",
            "\n",
            "Epoch 50: val_loss did not improve from 1.13181\n",
            "\n",
            "Epoch 51: val_loss did not improve from 1.13181\n",
            "\n",
            "Epoch 52: val_loss did not improve from 1.13181\n",
            "\n",
            "Epoch 53: val_loss did not improve from 1.13181\n",
            "\n",
            "Epoch 54: val_loss did not improve from 1.13181\n",
            "\n",
            "Epoch 55: val_loss did not improve from 1.13181\n",
            "\n",
            "Epoch 56: val_loss did not improve from 1.13181\n",
            "\n",
            "Epoch 57: val_loss did not improve from 1.13181\n",
            "\n",
            "Epoch 58: val_loss did not improve from 1.13181\n",
            "\n",
            "Epoch 59: val_loss did not improve from 1.13181\n",
            "\n",
            "Epoch 60: val_loss did not improve from 1.13181\n",
            "\n",
            "Epoch 61: val_loss did not improve from 1.13181\n",
            "\n",
            "Epoch 62: val_loss did not improve from 1.13181\n",
            "\n",
            "Epoch 63: val_loss did not improve from 1.13181\n",
            "\n",
            "Epoch 64: val_loss did not improve from 1.13181\n",
            "\n",
            "Epoch 65: val_loss did not improve from 1.13181\n",
            "\n",
            "Epoch 66: val_loss did not improve from 1.13181\n",
            "\n",
            "Epoch 67: val_loss did not improve from 1.13181\n",
            "\n",
            "Epoch 68: val_loss did not improve from 1.13181\n",
            "\n",
            "Epoch 69: val_loss did not improve from 1.13181\n",
            "\n",
            "Epoch 70: val_loss did not improve from 1.13181\n",
            "\n",
            "Epoch 71: val_loss did not improve from 1.13181\n",
            "\n",
            "Epoch 72: val_loss did not improve from 1.13181\n",
            "\n",
            "Epoch 73: val_loss did not improve from 1.13181\n",
            "\n",
            "Epoch 74: val_loss did not improve from 1.13181\n",
            "\n",
            "Epoch 75: val_loss did not improve from 1.13181\n",
            "\n",
            "Epoch 76: val_loss did not improve from 1.13181\n",
            "\n",
            "Epoch 77: val_loss did not improve from 1.13181\n",
            "\n",
            "Epoch 78: val_loss did not improve from 1.13181\n",
            "\n",
            "Epoch 79: val_loss did not improve from 1.13181\n",
            "\n",
            "Epoch 80: val_loss did not improve from 1.13181\n",
            "\n",
            "Epoch 81: val_loss did not improve from 1.13181\n",
            "\n",
            "Epoch 82: val_loss did not improve from 1.13181\n",
            "\n",
            "Epoch 83: val_loss did not improve from 1.13181\n",
            "\n",
            "Epoch 84: val_loss did not improve from 1.13181\n",
            "\n",
            "Epoch 85: val_loss did not improve from 1.13181\n",
            "\n",
            "Epoch 86: val_loss did not improve from 1.13181\n",
            "\n",
            "Epoch 87: val_loss did not improve from 1.13181\n",
            "\n",
            "Epoch 88: val_loss did not improve from 1.13181\n",
            "\n",
            "Epoch 89: val_loss did not improve from 1.13181\n",
            "\n",
            "Epoch 90: val_loss did not improve from 1.13181\n",
            "\n",
            "Epoch 91: val_loss did not improve from 1.13181\n",
            "\n",
            "Epoch 92: val_loss did not improve from 1.13181\n",
            "\n",
            "Epoch 93: val_loss did not improve from 1.13181\n",
            "\n",
            "Epoch 94: val_loss did not improve from 1.13181\n",
            "\n",
            "Epoch 95: val_loss did not improve from 1.13181\n",
            "\n",
            "Epoch 96: val_loss did not improve from 1.13181\n",
            "\n",
            "Epoch 97: val_loss did not improve from 1.13181\n",
            "\n",
            "Epoch 98: val_loss did not improve from 1.13181\n",
            "\n",
            "Epoch 99: val_loss did not improve from 1.13181\n",
            "\n",
            "Epoch 100: val_loss did not improve from 1.13181\n",
            "\n",
            "Epoch 101: val_loss did not improve from 1.13181\n",
            "\n",
            "Epoch 102: val_loss did not improve from 1.13181\n",
            "\n",
            "Epoch 103: val_loss did not improve from 1.13181\n",
            "\n",
            "Epoch 104: val_loss did not improve from 1.13181\n"
          ]
        },
        {
          "output_type": "execute_result",
          "data": {
            "text/plain": [
              "<keras.callbacks.History at 0x7f23c0719220>"
            ]
          },
          "metadata": {},
          "execution_count": 103
        }
      ],
      "source": [
        "#best_model=build_best()\n",
        "early_stopping=EarlyStopping(patience=100, verbose=0)\n",
        "checkpointer=ModelCheckpoint(filepath='weights1.hdf5', save_best_only=True, verbose=1)\n",
        "best_model.fit(X_train,y_train, batch_size=32,epochs=1000, verbose=0, \\\n",
        "                validation_split=0.1,callbacks=[checkpointer, early_stopping], shuffle=True)"
      ]
    },
    {
      "cell_type": "code",
      "source": [
        "predictions = scaler2.inverse_transform(best_model.predict(X_test)).flatten()\n",
        "y_true=scaler2.inverse_transform(y_test.reshape(-1,1)).flatten()\n",
        "pred_sign=(predictions>=0).astype(int)-(predictions<0).astype(int)\n",
        "true_sign=(y_true>=0).astype(int)-(y_true<0).astype(int)\n",
        "print(confusion_matrix(true_sign,pred_sign))\n",
        "print(classification_report(true_sign,pred_sign))"
      ],
      "metadata": {
        "colab": {
          "base_uri": "https://localhost:8080/"
        },
        "id": "6hIQiud6nxNF",
        "outputId": "68e6625c-f3ac-4844-8b1d-b7067c2c0bb1"
      },
      "execution_count": null,
      "outputs": [
        {
          "output_type": "stream",
          "name": "stdout",
          "text": [
            "2/2 [==============================] - 1s 9ms/step\n",
            "[[11 12]\n",
            " [21 10]]\n",
            "              precision    recall  f1-score   support\n",
            "\n",
            "          -1       0.34      0.48      0.40        23\n",
            "           1       0.45      0.32      0.38        31\n",
            "\n",
            "    accuracy                           0.39        54\n",
            "   macro avg       0.40      0.40      0.39        54\n",
            "weighted avg       0.41      0.39      0.39        54\n",
            "\n"
          ]
        }
      ]
    }
  ]
}