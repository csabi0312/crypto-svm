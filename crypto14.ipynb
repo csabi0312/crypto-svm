{
  "nbformat": 4,
  "nbformat_minor": 0,
  "metadata": {
    "colab": {
      "provenance": [],
      "collapsed_sections": [
        "PXculM1gGSmI",
        "MzQpwCUzbhb4"
      ],
      "include_colab_link": true
    },
    "kernelspec": {
      "name": "python3",
      "display_name": "Python 3"
    },
    "language_info": {
      "name": "python"
    },
    "gpuClass": "standard",
    "accelerator": "GPU",
    "widgets": {
      "application/vnd.jupyter.widget-state+json": {
        "e1761b6a33da4528b3de7811d1d9f197": {
          "model_module": "@jupyter-widgets/output",
          "model_name": "OutputModel",
          "model_module_version": "1.0.0",
          "state": {
            "_dom_classes": [],
            "_model_module": "@jupyter-widgets/output",
            "_model_module_version": "1.0.0",
            "_model_name": "OutputModel",
            "_view_count": null,
            "_view_module": "@jupyter-widgets/output",
            "_view_module_version": "1.0.0",
            "_view_name": "OutputView",
            "layout": "IPY_MODEL_1f79db832a9344b0acc2dda4906a75dc",
            "msg_id": "",
            "outputs": [
              {
                "output_type": "display_data",
                "data": {
                  "text/plain": "proc \u001b[38;2;114;156;31m━━━━━━━━━━━━━━━━━━━━━━━━━━━━━━━━━━━━━━━━\u001b[0m \u001b[35m100%\u001b[0m \u001b[36m0:00:00\u001b[0m\n",
                  "text/html": "<pre style=\"white-space:pre;overflow-x:auto;line-height:normal;font-family:Menlo,'DejaVu Sans Mono',consolas,'Courier New',monospace\">proc <span style=\"color: #729c1f; text-decoration-color: #729c1f\">━━━━━━━━━━━━━━━━━━━━━━━━━━━━━━━━━━━━━━━━</span> <span style=\"color: #800080; text-decoration-color: #800080\">100%</span> <span style=\"color: #008080; text-decoration-color: #008080\">0:00:00</span>\n</pre>\n"
                },
                "metadata": {}
              }
            ]
          }
        },
        "1f79db832a9344b0acc2dda4906a75dc": {
          "model_module": "@jupyter-widgets/base",
          "model_name": "LayoutModel",
          "model_module_version": "1.2.0",
          "state": {
            "_model_module": "@jupyter-widgets/base",
            "_model_module_version": "1.2.0",
            "_model_name": "LayoutModel",
            "_view_count": null,
            "_view_module": "@jupyter-widgets/base",
            "_view_module_version": "1.2.0",
            "_view_name": "LayoutView",
            "align_content": null,
            "align_items": null,
            "align_self": null,
            "border": null,
            "bottom": null,
            "display": null,
            "flex": null,
            "flex_flow": null,
            "grid_area": null,
            "grid_auto_columns": null,
            "grid_auto_flow": null,
            "grid_auto_rows": null,
            "grid_column": null,
            "grid_gap": null,
            "grid_row": null,
            "grid_template_areas": null,
            "grid_template_columns": null,
            "grid_template_rows": null,
            "height": null,
            "justify_content": null,
            "justify_items": null,
            "left": null,
            "margin": null,
            "max_height": null,
            "max_width": null,
            "min_height": null,
            "min_width": null,
            "object_fit": null,
            "object_position": null,
            "order": null,
            "overflow": null,
            "overflow_x": null,
            "overflow_y": null,
            "padding": null,
            "right": null,
            "top": null,
            "visibility": null,
            "width": null
          }
        },
        "062a8ebbdf8f4a7894611587a8096969": {
          "model_module": "@jupyter-widgets/output",
          "model_name": "OutputModel",
          "model_module_version": "1.0.0",
          "state": {
            "_dom_classes": [],
            "_model_module": "@jupyter-widgets/output",
            "_model_module_version": "1.0.0",
            "_model_name": "OutputModel",
            "_view_count": null,
            "_view_module": "@jupyter-widgets/output",
            "_view_module_version": "1.0.0",
            "_view_name": "OutputView",
            "layout": "IPY_MODEL_84e816a844424c04a307779d76254fd7",
            "msg_id": "",
            "outputs": [
              {
                "output_type": "display_data",
                "data": {
                  "text/plain": "proc \u001b[38;2;114;156;31m━━━━━━━━━━━━━━━━━━━━━━━━━━━━━━━━━━━━━━━━\u001b[0m \u001b[35m100%\u001b[0m \u001b[36m0:00:00\u001b[0m\n",
                  "text/html": "<pre style=\"white-space:pre;overflow-x:auto;line-height:normal;font-family:Menlo,'DejaVu Sans Mono',consolas,'Courier New',monospace\">proc <span style=\"color: #729c1f; text-decoration-color: #729c1f\">━━━━━━━━━━━━━━━━━━━━━━━━━━━━━━━━━━━━━━━━</span> <span style=\"color: #800080; text-decoration-color: #800080\">100%</span> <span style=\"color: #008080; text-decoration-color: #008080\">0:00:00</span>\n</pre>\n"
                },
                "metadata": {}
              }
            ]
          }
        },
        "84e816a844424c04a307779d76254fd7": {
          "model_module": "@jupyter-widgets/base",
          "model_name": "LayoutModel",
          "model_module_version": "1.2.0",
          "state": {
            "_model_module": "@jupyter-widgets/base",
            "_model_module_version": "1.2.0",
            "_model_name": "LayoutModel",
            "_view_count": null,
            "_view_module": "@jupyter-widgets/base",
            "_view_module_version": "1.2.0",
            "_view_name": "LayoutView",
            "align_content": null,
            "align_items": null,
            "align_self": null,
            "border": null,
            "bottom": null,
            "display": null,
            "flex": null,
            "flex_flow": null,
            "grid_area": null,
            "grid_auto_columns": null,
            "grid_auto_flow": null,
            "grid_auto_rows": null,
            "grid_column": null,
            "grid_gap": null,
            "grid_row": null,
            "grid_template_areas": null,
            "grid_template_columns": null,
            "grid_template_rows": null,
            "height": null,
            "justify_content": null,
            "justify_items": null,
            "left": null,
            "margin": null,
            "max_height": null,
            "max_width": null,
            "min_height": null,
            "min_width": null,
            "object_fit": null,
            "object_position": null,
            "order": null,
            "overflow": null,
            "overflow_x": null,
            "overflow_y": null,
            "padding": null,
            "right": null,
            "top": null,
            "visibility": null,
            "width": null
          }
        },
        "bfd87edec2134e8692b867fae6b2647c": {
          "model_module": "@jupyter-widgets/output",
          "model_name": "OutputModel",
          "model_module_version": "1.0.0",
          "state": {
            "_dom_classes": [],
            "_model_module": "@jupyter-widgets/output",
            "_model_module_version": "1.0.0",
            "_model_name": "OutputModel",
            "_view_count": null,
            "_view_module": "@jupyter-widgets/output",
            "_view_module_version": "1.0.0",
            "_view_name": "OutputView",
            "layout": "IPY_MODEL_784b3def214e4bb790966761302befb3",
            "msg_id": "",
            "outputs": [
              {
                "output_type": "display_data",
                "data": {
                  "text/plain": "proc \u001b[38;2;114;156;31m━━━━━━━━━━━━━━━━━━━━━━━━━━━━━━━━━━━━━━━━\u001b[0m \u001b[35m100%\u001b[0m \u001b[36m0:00:00\u001b[0m\n",
                  "text/html": "<pre style=\"white-space:pre;overflow-x:auto;line-height:normal;font-family:Menlo,'DejaVu Sans Mono',consolas,'Courier New',monospace\">proc <span style=\"color: #729c1f; text-decoration-color: #729c1f\">━━━━━━━━━━━━━━━━━━━━━━━━━━━━━━━━━━━━━━━━</span> <span style=\"color: #800080; text-decoration-color: #800080\">100%</span> <span style=\"color: #008080; text-decoration-color: #008080\">0:00:00</span>\n</pre>\n"
                },
                "metadata": {}
              }
            ]
          }
        },
        "784b3def214e4bb790966761302befb3": {
          "model_module": "@jupyter-widgets/base",
          "model_name": "LayoutModel",
          "model_module_version": "1.2.0",
          "state": {
            "_model_module": "@jupyter-widgets/base",
            "_model_module_version": "1.2.0",
            "_model_name": "LayoutModel",
            "_view_count": null,
            "_view_module": "@jupyter-widgets/base",
            "_view_module_version": "1.2.0",
            "_view_name": "LayoutView",
            "align_content": null,
            "align_items": null,
            "align_self": null,
            "border": null,
            "bottom": null,
            "display": null,
            "flex": null,
            "flex_flow": null,
            "grid_area": null,
            "grid_auto_columns": null,
            "grid_auto_flow": null,
            "grid_auto_rows": null,
            "grid_column": null,
            "grid_gap": null,
            "grid_row": null,
            "grid_template_areas": null,
            "grid_template_columns": null,
            "grid_template_rows": null,
            "height": null,
            "justify_content": null,
            "justify_items": null,
            "left": null,
            "margin": null,
            "max_height": null,
            "max_width": null,
            "min_height": null,
            "min_width": null,
            "object_fit": null,
            "object_position": null,
            "order": null,
            "overflow": null,
            "overflow_x": null,
            "overflow_y": null,
            "padding": null,
            "right": null,
            "top": null,
            "visibility": null,
            "width": null
          }
        }
      }
    }
  },
  "cells": [
    {
      "cell_type": "markdown",
      "metadata": {
        "id": "view-in-github",
        "colab_type": "text"
      },
      "source": [
        "<a href=\"https://colab.research.google.com/github/csabi0312/crypto-svm/blob/gru/crypto14.ipynb\" target=\"_parent\"><img src=\"https://colab.research.google.com/assets/colab-badge.svg\" alt=\"Open In Colab\"/></a>"
      ]
    },
    {
      "cell_type": "markdown",
      "metadata": {
        "id": "PXculM1gGSmI"
      },
      "source": [
        "# Importing packages"
      ]
    },
    {
      "cell_type": "code",
      "execution_count": 12,
      "metadata": {
        "colab": {
          "base_uri": "https://localhost:8080/"
        },
        "id": "VPoZWYEvnklQ",
        "outputId": "fd128c91-448f-4576-af2a-fae01f8d91d8"
      },
      "outputs": [
        {
          "output_type": "stream",
          "name": "stdout",
          "text": [
            "Drive already mounted at /content/drive; to attempt to forcibly remount, call drive.mount(\"/content/drive\", force_remount=True).\n"
          ]
        }
      ],
      "source": [
        "from google.colab import drive\n",
        "drive.mount('/content/drive')"
      ]
    },
    {
      "cell_type": "code",
      "execution_count": 13,
      "metadata": {
        "colab": {
          "base_uri": "https://localhost:8080/"
        },
        "id": "XAHz6AVhjOkb",
        "outputId": "83803ff0-53f9-4d30-87f6-2413119eb6c7"
      },
      "outputs": [
        {
          "output_type": "stream",
          "name": "stdout",
          "text": [
            "Looking in indexes: https://pypi.org/simple, https://us-python.pkg.dev/colab-wheels/public/simple/\n",
            "Requirement already satisfied: keras-tuner in /usr/local/lib/python3.8/dist-packages (1.2.1)\n",
            "Requirement already satisfied: ipython in /usr/local/lib/python3.8/dist-packages (from keras-tuner) (7.9.0)\n",
            "Requirement already satisfied: requests in /usr/local/lib/python3.8/dist-packages (from keras-tuner) (2.25.1)\n",
            "Requirement already satisfied: packaging in /usr/local/lib/python3.8/dist-packages (from keras-tuner) (23.0)\n",
            "Requirement already satisfied: tensorflow>=2.0 in /usr/local/lib/python3.8/dist-packages (from keras-tuner) (2.11.0)\n",
            "Requirement already satisfied: kt-legacy in /usr/local/lib/python3.8/dist-packages (from keras-tuner) (1.0.4)\n",
            "Requirement already satisfied: wrapt>=1.11.0 in /usr/local/lib/python3.8/dist-packages (from tensorflow>=2.0->keras-tuner) (1.14.1)\n",
            "Requirement already satisfied: absl-py>=1.0.0 in /usr/local/lib/python3.8/dist-packages (from tensorflow>=2.0->keras-tuner) (1.4.0)\n",
            "Requirement already satisfied: google-pasta>=0.1.1 in /usr/local/lib/python3.8/dist-packages (from tensorflow>=2.0->keras-tuner) (0.2.0)\n",
            "Requirement already satisfied: protobuf<3.20,>=3.9.2 in /usr/local/lib/python3.8/dist-packages (from tensorflow>=2.0->keras-tuner) (3.19.6)\n",
            "Requirement already satisfied: gast<=0.4.0,>=0.2.1 in /usr/local/lib/python3.8/dist-packages (from tensorflow>=2.0->keras-tuner) (0.4.0)\n",
            "Requirement already satisfied: six>=1.12.0 in /usr/local/lib/python3.8/dist-packages (from tensorflow>=2.0->keras-tuner) (1.15.0)\n",
            "Requirement already satisfied: astunparse>=1.6.0 in /usr/local/lib/python3.8/dist-packages (from tensorflow>=2.0->keras-tuner) (1.6.3)\n",
            "Requirement already satisfied: opt-einsum>=2.3.2 in /usr/local/lib/python3.8/dist-packages (from tensorflow>=2.0->keras-tuner) (3.3.0)\n",
            "Requirement already satisfied: keras<2.12,>=2.11.0 in /usr/local/lib/python3.8/dist-packages (from tensorflow>=2.0->keras-tuner) (2.11.0)\n",
            "Requirement already satisfied: libclang>=13.0.0 in /usr/local/lib/python3.8/dist-packages (from tensorflow>=2.0->keras-tuner) (15.0.6.1)\n",
            "Requirement already satisfied: tensorflow-estimator<2.12,>=2.11.0 in /usr/local/lib/python3.8/dist-packages (from tensorflow>=2.0->keras-tuner) (2.11.0)\n",
            "Requirement already satisfied: tensorflow-io-gcs-filesystem>=0.23.1 in /usr/local/lib/python3.8/dist-packages (from tensorflow>=2.0->keras-tuner) (0.30.0)\n",
            "Requirement already satisfied: termcolor>=1.1.0 in /usr/local/lib/python3.8/dist-packages (from tensorflow>=2.0->keras-tuner) (2.2.0)\n",
            "Requirement already satisfied: setuptools in /usr/local/lib/python3.8/dist-packages (from tensorflow>=2.0->keras-tuner) (57.4.0)\n",
            "Requirement already satisfied: grpcio<2.0,>=1.24.3 in /usr/local/lib/python3.8/dist-packages (from tensorflow>=2.0->keras-tuner) (1.51.1)\n",
            "Requirement already satisfied: tensorboard<2.12,>=2.11 in /usr/local/lib/python3.8/dist-packages (from tensorflow>=2.0->keras-tuner) (2.11.2)\n",
            "Requirement already satisfied: typing-extensions>=3.6.6 in /usr/local/lib/python3.8/dist-packages (from tensorflow>=2.0->keras-tuner) (4.5.0)\n",
            "Requirement already satisfied: numpy>=1.20 in /usr/local/lib/python3.8/dist-packages (from tensorflow>=2.0->keras-tuner) (1.21.6)\n",
            "Requirement already satisfied: h5py>=2.9.0 in /usr/local/lib/python3.8/dist-packages (from tensorflow>=2.0->keras-tuner) (3.1.0)\n",
            "Requirement already satisfied: flatbuffers>=2.0 in /usr/local/lib/python3.8/dist-packages (from tensorflow>=2.0->keras-tuner) (23.1.21)\n",
            "Requirement already satisfied: decorator in /usr/local/lib/python3.8/dist-packages (from ipython->keras-tuner) (4.4.2)\n",
            "Requirement already satisfied: prompt-toolkit<2.1.0,>=2.0.0 in /usr/local/lib/python3.8/dist-packages (from ipython->keras-tuner) (2.0.10)\n",
            "Requirement already satisfied: backcall in /usr/local/lib/python3.8/dist-packages (from ipython->keras-tuner) (0.2.0)\n",
            "Requirement already satisfied: pickleshare in /usr/local/lib/python3.8/dist-packages (from ipython->keras-tuner) (0.7.5)\n",
            "Requirement already satisfied: jedi>=0.10 in /usr/local/lib/python3.8/dist-packages (from ipython->keras-tuner) (0.18.2)\n",
            "Requirement already satisfied: pygments in /usr/local/lib/python3.8/dist-packages (from ipython->keras-tuner) (2.14.0)\n",
            "Requirement already satisfied: pexpect in /usr/local/lib/python3.8/dist-packages (from ipython->keras-tuner) (4.8.0)\n",
            "Requirement already satisfied: traitlets>=4.2 in /usr/local/lib/python3.8/dist-packages (from ipython->keras-tuner) (5.7.1)\n",
            "Requirement already satisfied: chardet<5,>=3.0.2 in /usr/local/lib/python3.8/dist-packages (from requests->keras-tuner) (4.0.0)\n",
            "Requirement already satisfied: certifi>=2017.4.17 in /usr/local/lib/python3.8/dist-packages (from requests->keras-tuner) (2022.12.7)\n",
            "Requirement already satisfied: idna<3,>=2.5 in /usr/local/lib/python3.8/dist-packages (from requests->keras-tuner) (2.10)\n",
            "Requirement already satisfied: urllib3<1.27,>=1.21.1 in /usr/local/lib/python3.8/dist-packages (from requests->keras-tuner) (1.24.3)\n",
            "Requirement already satisfied: wheel<1.0,>=0.23.0 in /usr/local/lib/python3.8/dist-packages (from astunparse>=1.6.0->tensorflow>=2.0->keras-tuner) (0.38.4)\n",
            "Requirement already satisfied: parso<0.9.0,>=0.8.0 in /usr/local/lib/python3.8/dist-packages (from jedi>=0.10->ipython->keras-tuner) (0.8.3)\n",
            "Requirement already satisfied: wcwidth in /usr/local/lib/python3.8/dist-packages (from prompt-toolkit<2.1.0,>=2.0.0->ipython->keras-tuner) (0.2.6)\n",
            "Requirement already satisfied: werkzeug>=1.0.1 in /usr/local/lib/python3.8/dist-packages (from tensorboard<2.12,>=2.11->tensorflow>=2.0->keras-tuner) (1.0.1)\n",
            "Requirement already satisfied: markdown>=2.6.8 in /usr/local/lib/python3.8/dist-packages (from tensorboard<2.12,>=2.11->tensorflow>=2.0->keras-tuner) (3.4.1)\n",
            "Requirement already satisfied: google-auth<3,>=1.6.3 in /usr/local/lib/python3.8/dist-packages (from tensorboard<2.12,>=2.11->tensorflow>=2.0->keras-tuner) (2.16.0)\n",
            "Requirement already satisfied: tensorboard-data-server<0.7.0,>=0.6.0 in /usr/local/lib/python3.8/dist-packages (from tensorboard<2.12,>=2.11->tensorflow>=2.0->keras-tuner) (0.6.1)\n",
            "Requirement already satisfied: google-auth-oauthlib<0.5,>=0.4.1 in /usr/local/lib/python3.8/dist-packages (from tensorboard<2.12,>=2.11->tensorflow>=2.0->keras-tuner) (0.4.6)\n",
            "Requirement already satisfied: tensorboard-plugin-wit>=1.6.0 in /usr/local/lib/python3.8/dist-packages (from tensorboard<2.12,>=2.11->tensorflow>=2.0->keras-tuner) (1.8.1)\n",
            "Requirement already satisfied: ptyprocess>=0.5 in /usr/local/lib/python3.8/dist-packages (from pexpect->ipython->keras-tuner) (0.7.0)\n",
            "Requirement already satisfied: rsa<5,>=3.1.4 in /usr/local/lib/python3.8/dist-packages (from google-auth<3,>=1.6.3->tensorboard<2.12,>=2.11->tensorflow>=2.0->keras-tuner) (4.9)\n",
            "Requirement already satisfied: cachetools<6.0,>=2.0.0 in /usr/local/lib/python3.8/dist-packages (from google-auth<3,>=1.6.3->tensorboard<2.12,>=2.11->tensorflow>=2.0->keras-tuner) (5.3.0)\n",
            "Requirement already satisfied: pyasn1-modules>=0.2.1 in /usr/local/lib/python3.8/dist-packages (from google-auth<3,>=1.6.3->tensorboard<2.12,>=2.11->tensorflow>=2.0->keras-tuner) (0.2.8)\n",
            "Requirement already satisfied: requests-oauthlib>=0.7.0 in /usr/local/lib/python3.8/dist-packages (from google-auth-oauthlib<0.5,>=0.4.1->tensorboard<2.12,>=2.11->tensorflow>=2.0->keras-tuner) (1.3.1)\n",
            "Requirement already satisfied: importlib-metadata>=4.4 in /usr/local/lib/python3.8/dist-packages (from markdown>=2.6.8->tensorboard<2.12,>=2.11->tensorflow>=2.0->keras-tuner) (6.0.0)\n",
            "Requirement already satisfied: zipp>=0.5 in /usr/local/lib/python3.8/dist-packages (from importlib-metadata>=4.4->markdown>=2.6.8->tensorboard<2.12,>=2.11->tensorflow>=2.0->keras-tuner) (3.13.0)\n",
            "Requirement already satisfied: pyasn1<0.5.0,>=0.4.6 in /usr/local/lib/python3.8/dist-packages (from pyasn1-modules>=0.2.1->google-auth<3,>=1.6.3->tensorboard<2.12,>=2.11->tensorflow>=2.0->keras-tuner) (0.4.8)\n",
            "Requirement already satisfied: oauthlib>=3.0.0 in /usr/local/lib/python3.8/dist-packages (from requests-oauthlib>=0.7.0->google-auth-oauthlib<0.5,>=0.4.1->tensorboard<2.12,>=2.11->tensorflow>=2.0->keras-tuner) (3.2.2)\n"
          ]
        }
      ],
      "source": [
        "pip install keras-tuner"
      ]
    },
    {
      "cell_type": "code",
      "source": [
        "pip install minisom"
      ],
      "metadata": {
        "id": "NP0Q2kfBbthj",
        "outputId": "2498c509-c81c-46aa-ae67-5e6c849e30c7",
        "colab": {
          "base_uri": "https://localhost:8080/"
        }
      },
      "execution_count": 14,
      "outputs": [
        {
          "output_type": "stream",
          "name": "stdout",
          "text": [
            "Looking in indexes: https://pypi.org/simple, https://us-python.pkg.dev/colab-wheels/public/simple/\n",
            "Requirement already satisfied: minisom in /usr/local/lib/python3.8/dist-packages (2.3.0)\n"
          ]
        }
      ]
    },
    {
      "cell_type": "code",
      "source": [
        "pip install umap-learn"
      ],
      "metadata": {
        "id": "bDIkwtYNJscX",
        "outputId": "53c6cc11-9812-4a7d-dac1-1e2f6e902db6",
        "colab": {
          "base_uri": "https://localhost:8080/"
        }
      },
      "execution_count": 15,
      "outputs": [
        {
          "output_type": "stream",
          "name": "stdout",
          "text": [
            "Looking in indexes: https://pypi.org/simple, https://us-python.pkg.dev/colab-wheels/public/simple/\n",
            "Requirement already satisfied: umap-learn in /usr/local/lib/python3.8/dist-packages (0.5.3)\n",
            "Requirement already satisfied: numpy>=1.17 in /usr/local/lib/python3.8/dist-packages (from umap-learn) (1.21.6)\n",
            "Requirement already satisfied: numba>=0.49 in /usr/local/lib/python3.8/dist-packages (from umap-learn) (0.56.4)\n",
            "Requirement already satisfied: tqdm in /usr/local/lib/python3.8/dist-packages (from umap-learn) (4.64.1)\n",
            "Requirement already satisfied: pynndescent>=0.5 in /usr/local/lib/python3.8/dist-packages (from umap-learn) (0.5.8)\n",
            "Requirement already satisfied: scikit-learn>=0.22 in /usr/local/lib/python3.8/dist-packages (from umap-learn) (1.0.2)\n",
            "Requirement already satisfied: scipy>=1.0 in /usr/local/lib/python3.8/dist-packages (from umap-learn) (1.7.3)\n",
            "Requirement already satisfied: importlib-metadata in /usr/local/lib/python3.8/dist-packages (from numba>=0.49->umap-learn) (6.0.0)\n",
            "Requirement already satisfied: setuptools in /usr/local/lib/python3.8/dist-packages (from numba>=0.49->umap-learn) (57.4.0)\n",
            "Requirement already satisfied: llvmlite<0.40,>=0.39.0dev0 in /usr/local/lib/python3.8/dist-packages (from numba>=0.49->umap-learn) (0.39.1)\n",
            "Requirement already satisfied: joblib>=0.11 in /usr/local/lib/python3.8/dist-packages (from pynndescent>=0.5->umap-learn) (1.2.0)\n",
            "Requirement already satisfied: threadpoolctl>=2.0.0 in /usr/local/lib/python3.8/dist-packages (from scikit-learn>=0.22->umap-learn) (3.1.0)\n",
            "Requirement already satisfied: zipp>=0.5 in /usr/local/lib/python3.8/dist-packages (from importlib-metadata->numba>=0.49->umap-learn) (3.13.0)\n"
          ]
        }
      ]
    },
    {
      "cell_type": "code",
      "execution_count": 16,
      "metadata": {
        "id": "EVvqt5I_nobg"
      },
      "outputs": [],
      "source": [
        "import pickle\n",
        "import gzip\n",
        "import pandas as pd\n",
        "import numpy as np\n",
        "import matplotlib.pyplot as plt\n",
        "from scipy.integrate import simps\n",
        "from numpy import trapz\n",
        "import pickle\n",
        "import gzip\n",
        "import pandas as pd\n",
        "import numpy as np\n",
        "import matplotlib.pyplot as plt\n",
        "from scipy.integrate import simps\n",
        "from numpy import trapz\n",
        "import matplotlib.pyplot as plt\n",
        "import pandas as pd\n",
        "from sklearn.svm import SVC  \n",
        "from sklearn.metrics import classification_report, confusion_matrix\n",
        "from sklearn.model_selection import GridSearchCV\n",
        "import numpy as np\n",
        "import tensorflow as tf\n",
        "from tensorflow import keras\n",
        "from tensorflow.keras import regularizers\n",
        "from tensorflow.keras.callbacks import EarlyStopping, ModelCheckpoint\n",
        "from tensorflow.keras.models import load_model\n",
        "from sklearn.preprocessing import StandardScaler, MinMaxScaler\n",
        "import keras.losses\n",
        "import sklearn\n",
        "from sklearn.metrics import accuracy_score, precision_score, recall_score, f1_score, roc_curve, confusion_matrix\n",
        "from sklearn.metrics import accuracy_score, f1_score, precision_score, recall_score, roc_auc_score, average_precision_score\n",
        "import numpy as np\n",
        "import seaborn as sns\n",
        "import matplotlib.pyplot as plt\n",
        "import keras_tuner\n",
        "from tensorflow.keras import regularizers\n",
        "from tensorflow.keras.models import Sequential\n",
        "from tensorflow.keras.layers import *\n",
        "from tensorflow.keras.callbacks import ModelCheckpoint\n",
        "from tensorflow.keras.losses import MeanSquaredError\n",
        "from tensorflow.keras.metrics import RootMeanSquaredError\n",
        "from tensorflow.keras.optimizers import Adam, SGD\n",
        "from tensorflow.keras.models import load_model\n",
        "import umap\n",
        "import datetime\n",
        "\n",
        "import datetime\n",
        "from sklearn.metrics import mean_squared_error as mse"
      ]
    },
    {
      "cell_type": "code",
      "execution_count": 17,
      "metadata": {
        "colab": {
          "base_uri": "https://localhost:8080/"
        },
        "id": "C_yHVZaHnp_z",
        "outputId": "222d8ac3-95a6-42fa-fd62-80180102a1a5"
      },
      "outputs": [
        {
          "output_type": "stream",
          "name": "stdout",
          "text": [
            "Looking in indexes: https://pypi.org/simple, https://us-python.pkg.dev/colab-wheels/public/simple/\n",
            "Requirement already satisfied: rich in /usr/local/lib/python3.8/dist-packages (13.3.1)\n",
            "Requirement already satisfied: markdown-it-py<3.0.0,>=2.1.0 in /usr/local/lib/python3.8/dist-packages (from rich) (2.1.0)\n",
            "Requirement already satisfied: pygments<3.0.0,>=2.14.0 in /usr/local/lib/python3.8/dist-packages (from rich) (2.14.0)\n",
            "Requirement already satisfied: typing-extensions<5.0,>=4.0.0 in /usr/local/lib/python3.8/dist-packages (from rich) (4.5.0)\n",
            "Requirement already satisfied: mdurl~=0.1 in /usr/local/lib/python3.8/dist-packages (from markdown-it-py<3.0.0,>=2.1.0->rich) (0.1.2)\n"
          ]
        }
      ],
      "source": [
        "pip install rich"
      ]
    },
    {
      "cell_type": "code",
      "execution_count": 18,
      "metadata": {
        "id": "hSgNf7pKnv1o"
      },
      "outputs": [],
      "source": [
        "from rich.progress import track"
      ]
    },
    {
      "cell_type": "markdown",
      "source": [
        "# DATA"
      ],
      "metadata": {
        "id": "8Ly0xN4Bee6q"
      }
    },
    {
      "cell_type": "code",
      "source": [
        "raw = pd.read_csv(\"/content/drive/MyDrive/Crypto/new3/full_spread_data.csv\",parse_dates = [\"Date\"], index_col = \"Date\").dropna()\n",
        "raw[\"returns\"] =np.log(raw.Close / raw.Close.shift(1))\n",
        "raw[\"Volume\"]=raw[\"Volume USDT\"]\n",
        "raw.drop([\"Open\",\"Unix\",\"Symbol\",\"Volume USDT\",\"Volume BTC\",\"tradecount\"],axis=1,inplace=True)\n",
        "raw"
      ],
      "metadata": {
        "id": "52pubRtT6x0r",
        "outputId": "c807661a-a801-4433-d879-c673e3146939",
        "colab": {
          "base_uri": "https://localhost:8080/",
          "height": 455
        }
      },
      "execution_count": null,
      "outputs": [
        {
          "output_type": "execute_result",
          "data": {
            "text/plain": [
              "                High       Low     Close   returns        Volume\n",
              "Date                                                            \n",
              "2023-02-12  22090.00  21630.00  21783.54       NaN  4.469822e+09\n",
              "2023-02-11  21906.32  21599.78  21862.55  0.003620  3.842001e+09\n",
              "2023-02-10  21938.16  21451.00  21625.19 -0.010916  7.369456e+09\n",
              "2023-02-09  23011.39  21688.00  21796.35  0.007884  9.052973e+09\n",
              "2023-02-08  23452.00  22665.85  22963.00  0.052142  6.457586e+09\n",
              "...              ...       ...       ...       ...           ...\n",
              "2017-08-21   4119.62   3911.79   4016.00 -0.005958  2.797232e+06\n",
              "2017-08-20   4211.08   4032.62   4086.29  0.017351  1.930364e+06\n",
              "2017-08-19   4184.69   3850.00   4139.98  0.013053  1.549484e+06\n",
              "2017-08-18   4371.52   3938.77   4108.37 -0.007665  5.086958e+06\n",
              "2017-08-17   4485.39   4200.74   4285.08  0.042113  3.454770e+06\n",
              "\n",
              "[2006 rows x 5 columns]"
            ],
            "text/html": [
              "\n",
              "  <div id=\"df-9c41592a-24e3-4236-9e65-dcdad502dc3a\">\n",
              "    <div class=\"colab-df-container\">\n",
              "      <div>\n",
              "<style scoped>\n",
              "    .dataframe tbody tr th:only-of-type {\n",
              "        vertical-align: middle;\n",
              "    }\n",
              "\n",
              "    .dataframe tbody tr th {\n",
              "        vertical-align: top;\n",
              "    }\n",
              "\n",
              "    .dataframe thead th {\n",
              "        text-align: right;\n",
              "    }\n",
              "</style>\n",
              "<table border=\"1\" class=\"dataframe\">\n",
              "  <thead>\n",
              "    <tr style=\"text-align: right;\">\n",
              "      <th></th>\n",
              "      <th>High</th>\n",
              "      <th>Low</th>\n",
              "      <th>Close</th>\n",
              "      <th>returns</th>\n",
              "      <th>Volume</th>\n",
              "    </tr>\n",
              "    <tr>\n",
              "      <th>Date</th>\n",
              "      <th></th>\n",
              "      <th></th>\n",
              "      <th></th>\n",
              "      <th></th>\n",
              "      <th></th>\n",
              "    </tr>\n",
              "  </thead>\n",
              "  <tbody>\n",
              "    <tr>\n",
              "      <th>2023-02-12</th>\n",
              "      <td>22090.00</td>\n",
              "      <td>21630.00</td>\n",
              "      <td>21783.54</td>\n",
              "      <td>NaN</td>\n",
              "      <td>4.469822e+09</td>\n",
              "    </tr>\n",
              "    <tr>\n",
              "      <th>2023-02-11</th>\n",
              "      <td>21906.32</td>\n",
              "      <td>21599.78</td>\n",
              "      <td>21862.55</td>\n",
              "      <td>0.003620</td>\n",
              "      <td>3.842001e+09</td>\n",
              "    </tr>\n",
              "    <tr>\n",
              "      <th>2023-02-10</th>\n",
              "      <td>21938.16</td>\n",
              "      <td>21451.00</td>\n",
              "      <td>21625.19</td>\n",
              "      <td>-0.010916</td>\n",
              "      <td>7.369456e+09</td>\n",
              "    </tr>\n",
              "    <tr>\n",
              "      <th>2023-02-09</th>\n",
              "      <td>23011.39</td>\n",
              "      <td>21688.00</td>\n",
              "      <td>21796.35</td>\n",
              "      <td>0.007884</td>\n",
              "      <td>9.052973e+09</td>\n",
              "    </tr>\n",
              "    <tr>\n",
              "      <th>2023-02-08</th>\n",
              "      <td>23452.00</td>\n",
              "      <td>22665.85</td>\n",
              "      <td>22963.00</td>\n",
              "      <td>0.052142</td>\n",
              "      <td>6.457586e+09</td>\n",
              "    </tr>\n",
              "    <tr>\n",
              "      <th>...</th>\n",
              "      <td>...</td>\n",
              "      <td>...</td>\n",
              "      <td>...</td>\n",
              "      <td>...</td>\n",
              "      <td>...</td>\n",
              "    </tr>\n",
              "    <tr>\n",
              "      <th>2017-08-21</th>\n",
              "      <td>4119.62</td>\n",
              "      <td>3911.79</td>\n",
              "      <td>4016.00</td>\n",
              "      <td>-0.005958</td>\n",
              "      <td>2.797232e+06</td>\n",
              "    </tr>\n",
              "    <tr>\n",
              "      <th>2017-08-20</th>\n",
              "      <td>4211.08</td>\n",
              "      <td>4032.62</td>\n",
              "      <td>4086.29</td>\n",
              "      <td>0.017351</td>\n",
              "      <td>1.930364e+06</td>\n",
              "    </tr>\n",
              "    <tr>\n",
              "      <th>2017-08-19</th>\n",
              "      <td>4184.69</td>\n",
              "      <td>3850.00</td>\n",
              "      <td>4139.98</td>\n",
              "      <td>0.013053</td>\n",
              "      <td>1.549484e+06</td>\n",
              "    </tr>\n",
              "    <tr>\n",
              "      <th>2017-08-18</th>\n",
              "      <td>4371.52</td>\n",
              "      <td>3938.77</td>\n",
              "      <td>4108.37</td>\n",
              "      <td>-0.007665</td>\n",
              "      <td>5.086958e+06</td>\n",
              "    </tr>\n",
              "    <tr>\n",
              "      <th>2017-08-17</th>\n",
              "      <td>4485.39</td>\n",
              "      <td>4200.74</td>\n",
              "      <td>4285.08</td>\n",
              "      <td>0.042113</td>\n",
              "      <td>3.454770e+06</td>\n",
              "    </tr>\n",
              "  </tbody>\n",
              "</table>\n",
              "<p>2006 rows × 5 columns</p>\n",
              "</div>\n",
              "      <button class=\"colab-df-convert\" onclick=\"convertToInteractive('df-9c41592a-24e3-4236-9e65-dcdad502dc3a')\"\n",
              "              title=\"Convert this dataframe to an interactive table.\"\n",
              "              style=\"display:none;\">\n",
              "        \n",
              "  <svg xmlns=\"http://www.w3.org/2000/svg\" height=\"24px\"viewBox=\"0 0 24 24\"\n",
              "       width=\"24px\">\n",
              "    <path d=\"M0 0h24v24H0V0z\" fill=\"none\"/>\n",
              "    <path d=\"M18.56 5.44l.94 2.06.94-2.06 2.06-.94-2.06-.94-.94-2.06-.94 2.06-2.06.94zm-11 1L8.5 8.5l.94-2.06 2.06-.94-2.06-.94L8.5 2.5l-.94 2.06-2.06.94zm10 10l.94 2.06.94-2.06 2.06-.94-2.06-.94-.94-2.06-.94 2.06-2.06.94z\"/><path d=\"M17.41 7.96l-1.37-1.37c-.4-.4-.92-.59-1.43-.59-.52 0-1.04.2-1.43.59L10.3 9.45l-7.72 7.72c-.78.78-.78 2.05 0 2.83L4 21.41c.39.39.9.59 1.41.59.51 0 1.02-.2 1.41-.59l7.78-7.78 2.81-2.81c.8-.78.8-2.07 0-2.86zM5.41 20L4 18.59l7.72-7.72 1.47 1.35L5.41 20z\"/>\n",
              "  </svg>\n",
              "      </button>\n",
              "      \n",
              "  <style>\n",
              "    .colab-df-container {\n",
              "      display:flex;\n",
              "      flex-wrap:wrap;\n",
              "      gap: 12px;\n",
              "    }\n",
              "\n",
              "    .colab-df-convert {\n",
              "      background-color: #E8F0FE;\n",
              "      border: none;\n",
              "      border-radius: 50%;\n",
              "      cursor: pointer;\n",
              "      display: none;\n",
              "      fill: #1967D2;\n",
              "      height: 32px;\n",
              "      padding: 0 0 0 0;\n",
              "      width: 32px;\n",
              "    }\n",
              "\n",
              "    .colab-df-convert:hover {\n",
              "      background-color: #E2EBFA;\n",
              "      box-shadow: 0px 1px 2px rgba(60, 64, 67, 0.3), 0px 1px 3px 1px rgba(60, 64, 67, 0.15);\n",
              "      fill: #174EA6;\n",
              "    }\n",
              "\n",
              "    [theme=dark] .colab-df-convert {\n",
              "      background-color: #3B4455;\n",
              "      fill: #D2E3FC;\n",
              "    }\n",
              "\n",
              "    [theme=dark] .colab-df-convert:hover {\n",
              "      background-color: #434B5C;\n",
              "      box-shadow: 0px 1px 3px 1px rgba(0, 0, 0, 0.15);\n",
              "      filter: drop-shadow(0px 1px 2px rgba(0, 0, 0, 0.3));\n",
              "      fill: #FFFFFF;\n",
              "    }\n",
              "  </style>\n",
              "\n",
              "      <script>\n",
              "        const buttonEl =\n",
              "          document.querySelector('#df-9c41592a-24e3-4236-9e65-dcdad502dc3a button.colab-df-convert');\n",
              "        buttonEl.style.display =\n",
              "          google.colab.kernel.accessAllowed ? 'block' : 'none';\n",
              "\n",
              "        async function convertToInteractive(key) {\n",
              "          const element = document.querySelector('#df-9c41592a-24e3-4236-9e65-dcdad502dc3a');\n",
              "          const dataTable =\n",
              "            await google.colab.kernel.invokeFunction('convertToInteractive',\n",
              "                                                     [key], {});\n",
              "          if (!dataTable) return;\n",
              "\n",
              "          const docLinkHtml = 'Like what you see? Visit the ' +\n",
              "            '<a target=\"_blank\" href=https://colab.research.google.com/notebooks/data_table.ipynb>data table notebook</a>'\n",
              "            + ' to learn more about interactive tables.';\n",
              "          element.innerHTML = '';\n",
              "          dataTable['output_type'] = 'display_data';\n",
              "          await google.colab.output.renderOutput(dataTable, element);\n",
              "          const docLink = document.createElement('div');\n",
              "          docLink.innerHTML = docLinkHtml;\n",
              "          element.appendChild(docLink);\n",
              "        }\n",
              "      </script>\n",
              "    </div>\n",
              "  </div>\n",
              "  "
            ]
          },
          "metadata": {},
          "execution_count": 8
        }
      ]
    },
    {
      "cell_type": "code",
      "source": [
        "raw = pd.read_csv(\"/content/drive/MyDrive/Crypto/new3/full_spread_data.csv\",parse_dates = [\"Date\"], index_col = \"Date\").dropna()\n",
        "raw[\"returns\"] =np.log(raw.Close / raw.Close.shift(1))\n",
        "raw[\"Volume\"]=raw[\"Volume USDT\"]\n",
        "raw.drop([\"Open\",\"Unix\",\"Symbol\",\"Volume USDT\",\"Volume BTC\",\"tradecount\"],axis=1,inplace=True)\n",
        "cols = []\n",
        "for lag in range(1, 31):\n",
        "    col_h = \"h_lag{}\".format(lag)\n",
        "    col_l = \"l_lag{}\".format(lag)\n",
        "    col_r = \"c_lag{}\".format(lag)\n",
        "    col_v = \"v_lag{}\".format(lag)\n",
        "    raw[col_h] = raw.High.shift(lag)\n",
        "    cols.append(col_h)\n",
        "    raw[col_l] = raw.Low.shift(lag)\n",
        "    cols.append(col_l)\n",
        "    raw[col_r] = raw.Close.shift(lag)\n",
        "    cols.append(col_r)\n",
        "    raw[col_v] = raw.Volume.shift(lag)\n",
        "    cols.append(col_v)\n",
        "    raw.dropna(inplace = True)\n",
        "raw.drop([\"High\",\"Low\",\"Volume\",\"Close\"],axis=1,inplace=True)\n",
        "\n",
        "raw[\"returns2\"]=(raw[\"returns\"]>=0).astype(int)\n",
        "\n",
        "to=int(len(raw)*0.8)\n",
        "X_train=raw.drop([\"returns2\",\"returns\"],axis=1).iloc[:to].to_numpy()\n",
        "y_train=raw[\"returns2\"].iloc[:to].to_numpy().astype(int)\n",
        "X_test=raw.drop([\"returns2\",\"returns\"],axis=1).iloc[to:].to_numpy()\n",
        "y_test=raw[\"returns2\"].iloc[to:].to_numpy().astype(int)\n",
        "\n",
        "scaler1 = MinMaxScaler()\n",
        "X_train=scaler1.fit_transform(X_train)\n",
        "X_test=scaler1.transform(X_test)\n",
        "\n",
        "print(X_train.shape,y_train.shape,X_test.shape,y_test.shape)"
      ],
      "metadata": {
        "colab": {
          "base_uri": "https://localhost:8080/"
        },
        "id": "miYfHBSKh-88",
        "outputId": "a65b9541-8ef0-40c2-b3e1-e8a026388097"
      },
      "execution_count": null,
      "outputs": [
        {
          "output_type": "stream",
          "name": "stdout",
          "text": [
            "(1232, 120) (1232,) (309, 120) (309,)\n"
          ]
        }
      ]
    },
    {
      "cell_type": "markdown",
      "source": [
        "# LSTM + LightGBM"
      ],
      "metadata": {
        "id": "U4Bsnx9AEGtl"
      }
    },
    {
      "cell_type": "code",
      "source": [
        "import lightgbm as lgb\n",
        "lgb_model = lgb.LGBMRegressor( n_estimators=100).fit(X_train,y_train)\n",
        "pred_test=(lgb_model.predict(X_test)>=0.5).astype(int)\n",
        "pred_train=(lgb_model.predict(X_train)>=0.5).astype(int)\n",
        "\n",
        "print(confusion_matrix(y_train,pred_train))\n",
        "print(classification_report(y_train,pred_train))\n",
        "print(confusion_matrix(y_test,pred_test))\n",
        "print(classification_report(y_test,pred_test))"
      ],
      "metadata": {
        "id": "ieN8JlyaELAG",
        "outputId": "48a1b698-54ba-492d-9168-d9e0213c5ccc",
        "colab": {
          "base_uri": "https://localhost:8080/"
        }
      },
      "execution_count": null,
      "outputs": [
        {
          "output_type": "stream",
          "name": "stdout",
          "text": [
            "[[500   0]\n",
            " [  0 448]]\n",
            "              precision    recall  f1-score   support\n",
            "\n",
            "           0       1.00      1.00      1.00       500\n",
            "           1       1.00      1.00      1.00       448\n",
            "\n",
            "    accuracy                           1.00       948\n",
            "   macro avg       1.00      1.00      1.00       948\n",
            "weighted avg       1.00      1.00      1.00       948\n",
            "\n",
            "[[37 92]\n",
            " [36 73]]\n",
            "              precision    recall  f1-score   support\n",
            "\n",
            "           0       0.51      0.29      0.37       129\n",
            "           1       0.44      0.67      0.53       109\n",
            "\n",
            "    accuracy                           0.46       238\n",
            "   macro avg       0.47      0.48      0.45       238\n",
            "weighted avg       0.48      0.46      0.44       238\n",
            "\n"
          ]
        }
      ]
    },
    {
      "cell_type": "code",
      "source": [
        "pred_test"
      ],
      "metadata": {
        "id": "wnnp31N_ELE2",
        "outputId": "f21f3ef2-9abd-44d0-9357-30709e8edefe",
        "colab": {
          "base_uri": "https://localhost:8080/"
        }
      },
      "execution_count": null,
      "outputs": [
        {
          "output_type": "execute_result",
          "data": {
            "text/plain": [
              "array([0.54752454, 0.38572366, 0.69755214, 0.41958138, 0.51828301,\n",
              "       0.5971246 , 0.40509583, 0.64213972, 0.32384628, 0.4591769 ,\n",
              "       0.50545099, 0.40969747, 0.49082563, 0.6291927 , 0.61186227,\n",
              "       0.58458019, 0.43367882, 0.55201088, 0.39858915, 0.52671543,\n",
              "       0.58708653, 0.58419125, 0.74714254, 0.43518183, 0.63715272,\n",
              "       0.55661731, 0.55471786, 0.52771813, 0.74060085, 0.56727685,\n",
              "       0.35188993, 0.61182057, 0.32460493, 0.48826276, 0.58737025,\n",
              "       0.52631554, 0.38983464, 0.55081881, 0.41142058, 0.51096897,\n",
              "       0.5122758 , 0.59789955, 0.52844535, 0.43311669, 0.45062899,\n",
              "       0.59981731, 0.46801126, 0.5312004 , 0.58954081, 0.79203048,\n",
              "       0.66268121, 0.64560692, 0.52457527, 0.61802072, 0.29893923,\n",
              "       0.14267367, 0.36826348, 0.31365825, 0.22425186, 0.40825181,\n",
              "       0.380961  , 0.64948147, 0.46184441, 0.41995819, 0.48273241,\n",
              "       0.6381088 , 0.35674206, 0.39047539, 0.47319918, 0.55857622,\n",
              "       0.41239789, 0.42897002, 0.65285795, 0.70837386, 0.535903  ,\n",
              "       0.46657217, 0.47052281, 0.48556325, 0.56317787, 0.47259922,\n",
              "       0.59384687, 0.55795757, 0.62433747, 0.38601185, 0.57987784,\n",
              "       0.63224097, 0.4935519 , 0.58243582, 0.33300199, 0.24359285,\n",
              "       0.48680089, 0.38921781, 0.40574241, 0.53771108, 0.30308564,\n",
              "       0.56956287, 0.67298982, 0.33290878, 0.75306134, 0.54250388,\n",
              "       0.37978127, 0.47332022, 0.46284078, 0.44854885, 0.62238407,\n",
              "       0.47467554, 0.63310927, 0.52024427, 0.36269323, 0.35472839,\n",
              "       0.45973757, 0.47894198, 0.55320367, 0.61907816, 0.4235062 ,\n",
              "       0.62243362, 0.57407619, 0.54993444, 0.6149376 , 0.6885387 ,\n",
              "       0.60922889, 0.66094326, 0.56335429, 0.519476  , 0.53243231,\n",
              "       0.40525934, 0.53164745, 0.61504546, 0.57452532, 0.66574283,\n",
              "       0.74664486, 0.68325088, 0.6641441 , 0.62246642, 0.50524222,\n",
              "       0.65264116, 0.42865066, 0.65468756, 0.54293715, 0.46493004,\n",
              "       0.5390921 , 0.57885542, 0.56419981, 0.61092894, 0.54032025,\n",
              "       0.48912263, 0.49216398, 0.53944442, 0.62256811, 0.6288658 ,\n",
              "       0.5941723 , 0.54407171, 0.64377031, 0.58682064, 0.46350723,\n",
              "       0.39715666, 0.41519934, 0.37994981, 0.38928006, 0.39046146,\n",
              "       0.49912028, 0.6959438 , 0.6441206 , 0.71076773, 0.59915212,\n",
              "       0.72928409, 0.59983776, 0.58137857, 0.71394858, 0.61086395,\n",
              "       0.64844823, 0.55641391, 0.5820329 , 0.59109892, 0.59026473,\n",
              "       0.53326247, 0.59154753, 0.63500117, 0.63500117, 0.53515851,\n",
              "       0.50562926, 0.53018203, 0.53018203, 0.5773306 , 0.5773306 ,\n",
              "       0.69036219, 0.58968379, 0.57918298, 0.55036084, 0.55036084,\n",
              "       0.50390753, 0.50390753, 0.46257618, 0.46257618, 0.46257618,\n",
              "       0.46257618, 0.46257618, 0.4923874 , 0.58404763, 0.55475176,\n",
              "       0.55475176, 0.55475176, 0.55475176, 0.58404763, 0.58404763,\n",
              "       0.58404763, 0.51253929, 0.54232117, 0.51253929, 0.54232117,\n",
              "       0.61362933, 0.54232117, 0.58404763, 0.58404763, 0.58404763,\n",
              "       0.54232117, 0.54232117, 0.57183357, 0.57838902, 0.6191365 ,\n",
              "       0.60604094, 0.6304302 , 0.56869036, 0.53423191, 0.53828123,\n",
              "       0.57887589, 0.6191365 , 0.6191365 , 0.64319235, 0.54317907,\n",
              "       0.50844417, 0.53651486, 0.50844417, 0.58404763, 0.58404763,\n",
              "       0.58404763, 0.58404763, 0.61279046])"
            ]
          },
          "metadata": {},
          "execution_count": 11
        }
      ]
    },
    {
      "cell_type": "code",
      "source": [],
      "metadata": {
        "id": "vF74fIznELHd"
      },
      "execution_count": null,
      "outputs": []
    },
    {
      "cell_type": "code",
      "source": [],
      "metadata": {
        "id": "CAU5wp59ELJz"
      },
      "execution_count": null,
      "outputs": []
    },
    {
      "cell_type": "markdown",
      "source": [
        "# PCA + SVM"
      ],
      "metadata": {
        "id": "-8q74k50DXcB"
      }
    },
    {
      "cell_type": "code",
      "source": [
        "raw = pd.read_csv(\"/content/drive/MyDrive/Crypto/new3/full_spread_data.csv\",parse_dates = [\"Date\"], index_col = \"Date\").dropna()\n",
        "raw[\"returns\"] =np.log(raw.Close / raw.Close.shift(1))\n",
        "raw[\"Volume\"]=raw[\"Volume USDT\"]\n",
        "raw.drop([\"Open\",\"Unix\",\"Symbol\",\"Volume USDT\",\"Volume BTC\",\"tradecount\"],axis=1,inplace=True)\n",
        "cols = []\n",
        "for lag in range(1, 41):\n",
        "    col_h = \"h_lag{}\".format(lag)\n",
        "    col_l = \"l_lag{}\".format(lag)\n",
        "    col_r = \"c_lag{}\".format(lag)\n",
        "    col_v = \"v_lag{}\".format(lag)\n",
        "    raw[col_h] = raw.High.shift(lag)\n",
        "    cols.append(col_h)\n",
        "    raw[col_l] = raw.Low.shift(lag)\n",
        "    cols.append(col_l)\n",
        "    raw[col_r] = raw.Close.shift(lag)\n",
        "    cols.append(col_r)\n",
        "    raw[col_v] = raw.Volume.shift(lag)\n",
        "    cols.append(col_v)\n",
        "    raw.dropna(inplace = True)\n",
        "raw.drop([\"High\",\"Low\",\"Volume\",\"Close\"],axis=1,inplace=True)\n",
        "\n",
        "raw[\"returns2\"]=(raw[\"returns\"]>=0).astype(int)\n",
        "\n",
        "to=int(len(raw)*0.8)\n",
        "X_train=raw.drop([\"returns2\",\"returns\"],axis=1).iloc[:to].to_numpy()\n",
        "y_train=raw[\"returns2\"].iloc[:to].to_numpy().astype(int)\n",
        "X_test=raw.drop([\"returns2\",\"returns\"],axis=1).iloc[to:].to_numpy()\n",
        "y_test=raw[\"returns2\"].iloc[to:].to_numpy().astype(int)\n",
        "\n",
        "scaler1 = StandardScaler()\n",
        "X_train=scaler1.fit_transform(X_train)\n",
        "X_test=scaler1.transform(X_test)\n",
        "\n",
        "print(X_train.shape,y_train.shape,X_test.shape,y_test.shape)\n",
        "\n",
        "from sklearn.decomposition import PCA\n",
        "from sklearn.model_selection import GridSearchCV\n",
        "from sklearn.svm import SVC\n",
        "\n",
        "# Load the dataset\n",
        "\n",
        "\n",
        "# Perform PCA to reduce the dimensionality of the dataset\n",
        "reducer = umap.UMAP(n_components=30)\n",
        "X_reduced = reducer.fit_transform(X_train)\n",
        "X_reduced_test = reducer.transform(X_test)"
      ],
      "metadata": {
        "id": "LM4TcT07DdBt",
        "outputId": "d5563b8e-010c-4392-828f-2a90965af250",
        "colab": {
          "base_uri": "https://localhost:8080/"
        }
      },
      "execution_count": null,
      "outputs": [
        {
          "output_type": "stream",
          "name": "stdout",
          "text": [
            "(948, 160) (948,) (238, 160) (238,)\n"
          ]
        }
      ]
    },
    {
      "cell_type": "code",
      "source": [
        "\n",
        "\n",
        "# Define the SVM classifier\n",
        "svm = SVC()\n",
        "\n",
        "# Define the grid of hyperparameters to search\n",
        "param_grid = {'C': [0.3],\n",
        "              'gamma': [\"scale\",\"auto\"],\n",
        "              'kernel': [\"rbf\"]}\n",
        "\n",
        "# Perform grid search to tune the hyperparameters of the SVM\n",
        "grid_search = GridSearchCV(svm, param_grid, cv=5)\n",
        "grid_search.fit(X_reduced, y_train)\n",
        "\n",
        "# The best hyperparameters found by grid search\n",
        "print(\"Best hyperparameters:\", grid_search.best_params_)\n",
        "\n",
        "# The best score achieved by the grid search\n",
        "print(\"Best score:\", grid_search.best_score_)\n",
        "\n",
        "# The best estimator found by the grid search\n",
        "best_svm = grid_search.best_estimator_\n",
        "\n",
        "# Predict the class labels for the reduced dataset\n",
        "y_pred_train = best_svm.predict(X_reduced)\n",
        "y_pred_test = best_svm.predict(X_reduced_test)\n",
        "\n",
        "# Print the classification accuracy\n",
        "print(\"Classification accuracy:\", np.mean(y_pred_train == y_train))\n",
        "print(\"Classification accuracy:\", np.mean(y_pred_test == y_test))\n"
      ],
      "metadata": {
        "id": "CrsLOGCZDdUM",
        "outputId": "9c9c0000-778d-47c9-ec98-c2a295157747",
        "colab": {
          "base_uri": "https://localhost:8080/"
        }
      },
      "execution_count": null,
      "outputs": [
        {
          "output_type": "stream",
          "name": "stdout",
          "text": [
            "Best hyperparameters: {'C': 0.3, 'gamma': 'auto', 'kernel': 'rbf'}\n",
            "Best score: 0.5063102199944305\n",
            "Classification accuracy: 0.54957805907173\n",
            "Classification accuracy: 0.542016806722689\n"
          ]
        }
      ]
    },
    {
      "cell_type": "code",
      "source": [
        "train_acc=[]\n",
        "test_acc=[]\n",
        "ossz=[]\n",
        "\n",
        "reducer = umap.UMAP(n_components=2)\n",
        "X_reduced = reducer.fit_transform(X_train)\n",
        "X_reduced_test = reducer.transform(X_test)\n",
        "a=0.1\n",
        "b=2\n",
        "gran=0.05\n",
        "for c in np.arange(a,b,gran):\n",
        "  svm = SVC()\n",
        "\n",
        "  # Define the grid of hyperparameters to search\n",
        "  param_grid = {'C': [c],\n",
        "                'gamma': [\"scale\"],\n",
        "                'kernel': [\"rbf\"]}\n",
        "\n",
        "  # Perform grid search to tune the hyperparameters of the SVM\n",
        "  grid_search = GridSearchCV(svm, param_grid, cv=5)\n",
        "  grid_search.fit(X_reduced, y_train)\n",
        "\n",
        "  # The best hyperparameters found by grid search\n",
        "  print(\"Best hyperparameters:\", grid_search.best_params_)\n",
        "\n",
        "  # The best score achieved by the grid search\n",
        "  print(\"Best score:\", grid_search.best_score_)\n",
        "\n",
        "  # The best estimator found by the grid search\n",
        "  best_svm = grid_search.best_estimator_\n",
        "\n",
        "  # Predict the class labels for the reduced dataset\n",
        "  y_pred_train = best_svm.predict(X_reduced)\n",
        "  y_pred_test = best_svm.predict(X_reduced_test)\n",
        "\n",
        "  # Print the classification accuracy\n",
        "  train_acc.append(1-np.mean(y_pred_train == y_train))\n",
        "  test_acc.append(1-np.mean(y_pred_test == y_test))\n",
        "  ossz.append(train_acc[-1]+test_acc[-1])\n",
        "plt.plot(np.arange(a,b,gran),train_acc,color=\"blue\")\n",
        "plt.plot(np.arange(a,b,gran),test_acc,color=\"red\")\n",
        "#plt.plot(np.arange(a,b,gran),ossz,\"g-\")\n",
        "plt.plot(np.arange(a,b,gran),0.5*np.ones(len(np.arange(a,b,gran))),color=\"purple\")"
      ],
      "metadata": {
        "id": "047SieNaB0Qr",
        "outputId": "38a1c11a-69cf-4b7e-cca9-d5d511f28cf2",
        "colab": {
          "base_uri": "https://localhost:8080/",
          "height": 1000
        }
      },
      "execution_count": null,
      "outputs": [
        {
          "output_type": "stream",
          "name": "stdout",
          "text": [
            "Best hyperparameters: {'C': 0.1, 'gamma': 'scale', 'kernel': 'rbf'}\n",
            "Best score: 0.5274296853244221\n",
            "Best hyperparameters: {'C': 0.15000000000000002, 'gamma': 'scale', 'kernel': 'rbf'}\n",
            "Best score: 0.48844890002784735\n",
            "Best hyperparameters: {'C': 0.20000000000000004, 'gamma': 'scale', 'kernel': 'rbf'}\n",
            "Best score: 0.5042105263157894\n",
            "Best hyperparameters: {'C': 0.25000000000000006, 'gamma': 'scale', 'kernel': 'rbf'}\n",
            "Best score: 0.5073684210526315\n",
            "Best hyperparameters: {'C': 0.30000000000000004, 'gamma': 'scale', 'kernel': 'rbf'}\n",
            "Best score: 0.5052631578947369\n",
            "Best hyperparameters: {'C': 0.3500000000000001, 'gamma': 'scale', 'kernel': 'rbf'}\n",
            "Best score: 0.5063157894736842\n",
            "Best hyperparameters: {'C': 0.40000000000000013, 'gamma': 'scale', 'kernel': 'rbf'}\n",
            "Best score: 0.5052631578947369\n",
            "Best hyperparameters: {'C': 0.45000000000000007, 'gamma': 'scale', 'kernel': 'rbf'}\n",
            "Best score: 0.5052631578947369\n",
            "Best hyperparameters: {'C': 0.5000000000000001, 'gamma': 'scale', 'kernel': 'rbf'}\n",
            "Best score: 0.5063157894736842\n",
            "Best hyperparameters: {'C': 0.5500000000000002, 'gamma': 'scale', 'kernel': 'rbf'}\n",
            "Best score: 0.5063157894736842\n",
            "Best hyperparameters: {'C': 0.6000000000000002, 'gamma': 'scale', 'kernel': 'rbf'}\n",
            "Best score: 0.5063157894736842\n",
            "Best hyperparameters: {'C': 0.6500000000000001, 'gamma': 'scale', 'kernel': 'rbf'}\n",
            "Best score: 0.5063157894736842\n",
            "Best hyperparameters: {'C': 0.7000000000000002, 'gamma': 'scale', 'kernel': 'rbf'}\n",
            "Best score: 0.5063157894736842\n",
            "Best hyperparameters: {'C': 0.7500000000000002, 'gamma': 'scale', 'kernel': 'rbf'}\n",
            "Best score: 0.5063157894736842\n",
            "Best hyperparameters: {'C': 0.8000000000000002, 'gamma': 'scale', 'kernel': 'rbf'}\n",
            "Best score: 0.5063157894736842\n",
            "Best hyperparameters: {'C': 0.8500000000000002, 'gamma': 'scale', 'kernel': 'rbf'}\n",
            "Best score: 0.5063157894736842\n",
            "Best hyperparameters: {'C': 0.9000000000000002, 'gamma': 'scale', 'kernel': 'rbf'}\n",
            "Best score: 0.5063157894736842\n",
            "Best hyperparameters: {'C': 0.9500000000000003, 'gamma': 'scale', 'kernel': 'rbf'}\n",
            "Best score: 0.5063157894736842\n",
            "Best hyperparameters: {'C': 1.0000000000000004, 'gamma': 'scale', 'kernel': 'rbf'}\n",
            "Best score: 0.5063157894736842\n",
            "Best hyperparameters: {'C': 1.0500000000000003, 'gamma': 'scale', 'kernel': 'rbf'}\n",
            "Best score: 0.5073684210526315\n",
            "Best hyperparameters: {'C': 1.1000000000000005, 'gamma': 'scale', 'kernel': 'rbf'}\n",
            "Best score: 0.4999610136452241\n",
            "Best hyperparameters: {'C': 1.1500000000000004, 'gamma': 'scale', 'kernel': 'rbf'}\n",
            "Best score: 0.4999610136452241\n",
            "Best hyperparameters: {'C': 1.2000000000000004, 'gamma': 'scale', 'kernel': 'rbf'}\n",
            "Best score: 0.4978446115288221\n",
            "Best hyperparameters: {'C': 1.2500000000000004, 'gamma': 'scale', 'kernel': 'rbf'}\n",
            "Best score: 0.497844611528822\n",
            "Best hyperparameters: {'C': 1.3000000000000005, 'gamma': 'scale', 'kernel': 'rbf'}\n",
            "Best score: 0.4957282094124199\n",
            "Best hyperparameters: {'C': 1.3500000000000005, 'gamma': 'scale', 'kernel': 'rbf'}\n",
            "Best score: 0.4946700083542188\n",
            "Best hyperparameters: {'C': 1.4000000000000006, 'gamma': 'scale', 'kernel': 'rbf'}\n",
            "Best score: 0.4936118072960178\n",
            "Best hyperparameters: {'C': 1.4500000000000006, 'gamma': 'scale', 'kernel': 'rbf'}\n",
            "Best score: 0.4904372041214146\n",
            "Best hyperparameters: {'C': 1.5000000000000004, 'gamma': 'scale', 'kernel': 'rbf'}\n",
            "Best score: 0.4925536062378167\n",
            "Best hyperparameters: {'C': 1.5500000000000005, 'gamma': 'scale', 'kernel': 'rbf'}\n",
            "Best score: 0.4925536062378167\n",
            "Best hyperparameters: {'C': 1.6000000000000005, 'gamma': 'scale', 'kernel': 'rbf'}\n",
            "Best score: 0.4946644388749652\n",
            "Best hyperparameters: {'C': 1.6500000000000006, 'gamma': 'scale', 'kernel': 'rbf'}\n",
            "Best score: 0.49360623781676416\n",
            "Best hyperparameters: {'C': 1.7000000000000006, 'gamma': 'scale', 'kernel': 'rbf'}\n",
            "Best score: 0.4946644388749652\n",
            "Best hyperparameters: {'C': 1.7500000000000007, 'gamma': 'scale', 'kernel': 'rbf'}\n",
            "Best score: 0.49254803675856307\n",
            "Best hyperparameters: {'C': 1.8000000000000007, 'gamma': 'scale', 'kernel': 'rbf'}\n",
            "Best score: 0.490431634642161\n",
            "Best hyperparameters: {'C': 1.8500000000000008, 'gamma': 'scale', 'kernel': 'rbf'}\n",
            "Best score: 0.490431634642161\n",
            "Best hyperparameters: {'C': 1.9000000000000008, 'gamma': 'scale', 'kernel': 'rbf'}\n",
            "Best score: 0.48514062935115565\n",
            "Best hyperparameters: {'C': 1.9500000000000006, 'gamma': 'scale', 'kernel': 'rbf'}\n",
            "Best score: 0.4840824282929546\n"
          ]
        },
        {
          "output_type": "execute_result",
          "data": {
            "text/plain": [
              "[<matplotlib.lines.Line2D at 0x7f24c937c040>]"
            ]
          },
          "metadata": {},
          "execution_count": 39
        },
        {
          "output_type": "display_data",
          "data": {
            "text/plain": [
              "<Figure size 432x288 with 1 Axes>"
            ],
            "image/png": "[encoded data removed]"
          },
          "metadata": {
            "needs_background": "light"
          }
        }
      ]
    },
    {
      "cell_type": "markdown",
      "source": [
        "# svm"
      ],
      "metadata": {
        "id": "uKj6NbVziE0T"
      }
    },
    {
      "cell_type": "code",
      "source": [
        "from sklearn.metrics import accuracy_score"
      ],
      "metadata": {
        "id": "Wz_jGwByj5Ns"
      },
      "execution_count": null,
      "outputs": []
    },
    {
      "cell_type": "code",
      "source": [
        "train_acc=[]  \n",
        "test_acc=[]\n",
        "\n",
        "for num_lags in track(np.arange(30,40,1),description=\"proc\"):\n",
        "  raw = pd.read_csv(\"/content/drive/MyDrive/Crypto/new3/full_spread_data.csv\", parse_dates = [\"time\"], index_col = \"time\").dropna()\n",
        "  raw[\"returns\"] =np.log(raw.Close / raw.Close.shift(1))\n",
        "  raw[\"returns2\"]=(raw[\"returns\"]>=0).astype(int)\n",
        "  raw.drop([\"Open\",\"Spread\",\"Close\",\"High\",\"returns\",\"Volume\",\"Low\"],axis=1,inplace=True)\n",
        "  cols = []\n",
        "  for lag in range(1, num_lags):\n",
        "      col_r = \"r_lag{}\".format(lag)\n",
        "      raw[col_r] = raw.returns2.shift(lag)\n",
        "  raw.dropna(inplace = True)\n",
        "\n",
        "  to=int(len(raw)*0.8)\n",
        "  X_train=raw.drop([\"returns2\"],axis=1).iloc[:to].to_numpy()\n",
        "  y_train=raw[\"returns2\"].iloc[:to].to_numpy().astype(int)\n",
        "  X_test=raw.drop([\"returns2\"],axis=1).iloc[to:].to_numpy()\n",
        "  y_test=raw[\"returns2\"].iloc[to:].to_numpy().astype(int)\n",
        "\n",
        "  clf = svm.SVC(kernel=\"rbf\")\n",
        "  clf.fit(X_train,y_train)\n",
        "  pred_test=clf.predict(X_test)\n",
        "  pred_train=clf.predict(X_train)\n",
        "\n",
        "  train_acc.append(1-accuracy_score(y_train,pred_train))\n",
        "  test_acc.append(1-accuracy_score(y_test,pred_test))\n",
        "plt.plot(np.arange(30,40,1),train_acc,color=\"blue\")\n",
        "plt.plot(np.arange(30,40,1),test_acc,color=\"red\")\n",
        "plt.plot(np.arange(30,40,1),0.5*np.ones(10),color=\"purple\")"
      ],
      "metadata": {
        "colab": {
          "base_uri": "https://localhost:8080/",
          "referenced_widgets": [
            "e1761b6a33da4528b3de7811d1d9f197",
            "1f79db832a9344b0acc2dda4906a75dc"
          ]
        },
        "id": "5-nOSM3qPmnj",
        "outputId": "a0bc2c54-9df6-48d6-f1c7-c60d650fd211"
      },
      "execution_count": null,
      "outputs": [
        {
          "output_type": "display_data",
          "data": {
            "text/plain": [
              "Output()"
            ],
            "application/vnd.jupyter.widget-view+json": {
              "version_major": 2,
              "version_minor": 0,
              "model_id": "e1761b6a33da4528b3de7811d1d9f197"
            }
          },
          "metadata": {}
        },
        {
          "output_type": "display_data",
          "data": {
            "text/plain": [],
            "text/html": [
              "<pre style=\"white-space:pre;overflow-x:auto;line-height:normal;font-family:Menlo,'DejaVu Sans Mono',consolas,'Courier New',monospace\"></pre>\n"
            ]
          },
          "metadata": {}
        },
        {
          "output_type": "display_data",
          "data": {
            "text/plain": [
              "\n"
            ],
            "text/html": [
              "<pre style=\"white-space:pre;overflow-x:auto;line-height:normal;font-family:Menlo,'DejaVu Sans Mono',consolas,'Courier New',monospace\">\n",
              "</pre>\n"
            ]
          },
          "metadata": {}
        },
        {
          "output_type": "execute_result",
          "data": {
            "text/plain": [
              "[<matplotlib.lines.Line2D at 0x7f36ba84a910>]"
            ]
          },
          "metadata": {},
          "execution_count": 65
        },
        {
          "output_type": "display_data",
          "data": {
            "text/plain": [
              "<Figure size 432x288 with 1 Axes>"
            ],
            "image/png": "[encoded data removed]"
          },
          "metadata": {
            "needs_background": "light"
          }
        }
      ]
    },
    {
      "cell_type": "code",
      "source": [
        "from sklearn import svm"
      ],
      "metadata": {
        "id": "EU2V2nOviGsU"
      },
      "execution_count": null,
      "outputs": []
    },
    {
      "cell_type": "code",
      "source": [
        "raw = pd.read_csv(\"/content/drive/MyDrive/Crypto/new3/full_spread_data.csv\", parse_dates = [\"time\"], index_col = \"time\").dropna()\n",
        "raw[\"returns\"] =np.log(raw.Close / raw.Close.shift(1))\n",
        "raw[\"returns2\"]=(raw[\"returns\"]>=0).astype(int)\n",
        "raw.drop([\"Open\",\"Spread\",\"Close\",\"High\",\"returns\",\"Volume\",\"Low\"],axis=1,inplace=True)\n",
        "cols = []\n",
        "for lag in range(1, 34):\n",
        "    col_r = \"r_lag{}\".format(lag)\n",
        "    raw[col_r] = raw.returns2.shift(lag)\n",
        "raw.dropna(inplace = True)\n",
        "to=int(len(raw)*0.8)\n",
        "X_train=raw.drop([\"returns2\"],axis=1).iloc[:to].to_numpy()\n",
        "y_train=raw[\"returns2\"].iloc[:to].to_numpy().astype(int)\n",
        "X_test=raw.drop([\"returns2\"],axis=1).iloc[to:].to_numpy()\n",
        "y_test=raw[\"returns2\"].iloc[to:].to_numpy().astype(int)\n",
        "\n",
        "\n",
        "clf = svm.SVC(kernel=\"rbf\")\n",
        "clf.fit(X_train,y_train)\n",
        "pred_sign=clf.predict(X_test)\n",
        "pred_train=clf.predict(X_train)\n",
        "print(confusion_matrix(y_train,pred_train))\n",
        "print(classification_report(y_train,pred_train))\n",
        "print(confusion_matrix(y_test,pred_sign))\n",
        "print(classification_report(y_test,pred_sign))"
      ],
      "metadata": {
        "colab": {
          "base_uri": "https://localhost:8080/"
        },
        "id": "OqPb90GaiH5K",
        "outputId": "9739c943-c3b6-4626-aeae-96d70233344b"
      },
      "execution_count": null,
      "outputs": [
        {
          "output_type": "stream",
          "name": "stdout",
          "text": [
            "[[469 266]\n",
            " [ 42 875]]\n",
            "              precision    recall  f1-score   support\n",
            "\n",
            "           0       0.92      0.64      0.75       735\n",
            "           1       0.77      0.95      0.85       917\n",
            "\n",
            "    accuracy                           0.81      1652\n",
            "   macro avg       0.84      0.80      0.80      1652\n",
            "weighted avg       0.83      0.81      0.81      1652\n",
            "\n",
            "[[ 74 141]\n",
            " [ 58 141]]\n",
            "              precision    recall  f1-score   support\n",
            "\n",
            "           0       0.56      0.34      0.43       215\n",
            "           1       0.50      0.71      0.59       199\n",
            "\n",
            "    accuracy                           0.52       414\n",
            "   macro avg       0.53      0.53      0.51       414\n",
            "weighted avg       0.53      0.52      0.50       414\n",
            "\n"
          ]
        }
      ]
    },
    {
      "cell_type": "markdown",
      "source": [
        "# random forest"
      ],
      "metadata": {
        "id": "88HCKruPmmq7"
      }
    },
    {
      "cell_type": "code",
      "source": [
        "from sklearn.ensemble import RandomForestClassifier"
      ],
      "metadata": {
        "id": "EM7r7jW4mmrB"
      },
      "execution_count": null,
      "outputs": []
    },
    {
      "cell_type": "code",
      "source": [
        "train_acc=[]  \n",
        "test_acc=[]\n",
        "\n",
        "for num_lags in track(np.arange(2,20,1),description=\"proc\"):\n",
        "  raw = pd.read_csv(\"/content/drive/MyDrive/Crypto/new3/full_spread_data.csv\",parse_dates = [\"Date\"], index_col = \"Date\").dropna()\n",
        "  raw[\"returns\"] =np.log(raw.Close / raw.Close.shift(1))\n",
        "  raw[\"Volume\"]=raw[\"Volume USDT\"]\n",
        "  raw[\"returns2\"]=(raw[\"returns\"]>=0).astype(int)\n",
        "  raw.drop([\"Open\",\"Unix\",\"Symbol\",\"Volume USDT\",\"Volume BTC\",\"tradecount\",\"returns\"],axis=1,inplace=True)\n",
        "  cols = []\n",
        "  for lag in range(1, num_lags):\n",
        "      col_r = \"r_lag{}\".format(lag)\n",
        "      raw[col_r] = raw.returns2.shift(lag)\n",
        "  raw.dropna(inplace = True)\n",
        "\n",
        "  to=int(len(raw)*0.8)\n",
        "  X_train=raw.drop([\"returns2\"],axis=1).iloc[:to].to_numpy()\n",
        "  y_train=raw[\"returns2\"].iloc[:to].to_numpy().astype(int)\n",
        "  X_test=raw.drop([\"returns2\"],axis=1).iloc[to:].to_numpy()\n",
        "  y_test=raw[\"returns2\"].iloc[to:].to_numpy().astype(int)\n",
        "\n",
        "  clf = RandomForestClassifier()\n",
        "  clf.fit(X_train,y_train)\n",
        "  pred_test=clf.predict(X_test)\n",
        "  pred_train=clf.predict(X_train)\n",
        "\n",
        "  train_acc.append(1-accuracy_score(y_train,pred_train))\n",
        "  test_acc.append(1-accuracy_score(y_test,pred_test))\n",
        "plt.plot(np.arange(2,20,1),train_acc,color=\"blue\")\n",
        "plt.plot(np.arange(2,20,1),test_acc,color=\"red\")\n",
        "plt.plot(np.arange(2,20,1),0.5*np.ones(18),color=\"purple\")"
      ],
      "metadata": {
        "colab": {
          "base_uri": "https://localhost:8080/",
          "referenced_widgets": [
            "062a8ebbdf8f4a7894611587a8096969",
            "84e816a844424c04a307779d76254fd7"
          ]
        },
        "outputId": "2e1e757e-46d1-49cf-cb38-295eb5975c70",
        "id": "VG2-eQNRmmrB"
      },
      "execution_count": null,
      "outputs": [
        {
          "output_type": "display_data",
          "data": {
            "text/plain": [
              "Output()"
            ],
            "application/vnd.jupyter.widget-view+json": {
              "version_major": 2,
              "version_minor": 0,
              "model_id": "062a8ebbdf8f4a7894611587a8096969"
            }
          },
          "metadata": {}
        },
        {
          "output_type": "display_data",
          "data": {
            "text/plain": [],
            "text/html": [
              "<pre style=\"white-space:pre;overflow-x:auto;line-height:normal;font-family:Menlo,'DejaVu Sans Mono',consolas,'Courier New',monospace\"></pre>\n"
            ]
          },
          "metadata": {}
        },
        {
          "output_type": "display_data",
          "data": {
            "text/plain": [
              "\n"
            ],
            "text/html": [
              "<pre style=\"white-space:pre;overflow-x:auto;line-height:normal;font-family:Menlo,'DejaVu Sans Mono',consolas,'Courier New',monospace\">\n",
              "</pre>\n"
            ]
          },
          "metadata": {}
        },
        {
          "output_type": "execute_result",
          "data": {
            "text/plain": [
              "[<matplotlib.lines.Line2D at 0x7f9e14b0bc10>]"
            ]
          },
          "metadata": {},
          "execution_count": 34
        },
        {
          "output_type": "display_data",
          "data": {
            "text/plain": [
              "<Figure size 432x288 with 1 Axes>"
            ],
            "image/png": "[encoded data removed]"
          },
          "metadata": {
            "needs_background": "light"
          }
        }
      ]
    },
    {
      "cell_type": "markdown",
      "source": [
        "# logstic regression"
      ],
      "metadata": {
        "id": "H4eXholenb6Z"
      }
    },
    {
      "cell_type": "code",
      "source": [
        "from sklearn.linear_model import LogisticRegression"
      ],
      "metadata": {
        "id": "I21l57WJnb6f"
      },
      "execution_count": null,
      "outputs": []
    },
    {
      "cell_type": "code",
      "source": [
        "train_acc=[]  \n",
        "test_acc=[]\n",
        "a=2\n",
        "b=65\n",
        "for num_lags in track(np.arange(a,b,1),description=\"proc\"):\n",
        "  raw = pd.read_csv(\"/content/drive/MyDrive/Crypto/new3/full_spread_data.csv\",parse_dates = [\"Date\"], index_col = \"Date\").dropna()\n",
        "  raw[\"returns\"] =np.log(raw.Close / raw.Close.shift(1))\n",
        "  raw[\"Volume\"]=raw[\"Volume USDT\"]\n",
        "  raw[\"returns2\"]=(raw[\"returns\"]>=0).astype(int)\n",
        "  raw.drop([\"Open\",\"Unix\",\"Symbol\",\"Volume USDT\",\"Volume BTC\",\"tradecount\",\"returns\"],axis=1,inplace=True)\n",
        "  cols = []\n",
        "  for lag in range(1, num_lags):\n",
        "      col_r = \"r_lag{}\".format(lag)\n",
        "      raw[col_r] = raw.returns2.shift(lag)\n",
        "  raw.dropna(inplace = True)\n",
        "\n",
        "  to=int(len(raw)*0.8)\n",
        "  X_train=raw.drop([\"returns2\"],axis=1).iloc[:to].to_numpy()\n",
        "  y_train=raw[\"returns2\"].iloc[:to].to_numpy().astype(int)\n",
        "  X_test=raw.drop([\"returns2\"],axis=1).iloc[to:].to_numpy()\n",
        "  y_test=raw[\"returns2\"].iloc[to:].to_numpy().astype(int)\n",
        "\n",
        "  clf = LogisticRegression()\n",
        "  clf.fit(X_train,y_train)\n",
        "  pred_test=clf.predict(X_test)\n",
        "  pred_train=clf.predict(X_train)\n",
        "\n",
        "  train_acc.append(1-accuracy_score(y_train,pred_train))\n",
        "  test_acc.append(1-accuracy_score(y_test,pred_test))\n",
        "plt.plot(np.arange(a,b,1),train_acc,color=\"blue\")\n",
        "plt.plot(np.arange(a,b,1),test_acc,color=\"red\")\n",
        "plt.plot(np.arange(a,b,1),0.5*np.ones(b-a),color=\"purple\")"
      ],
      "metadata": {
        "colab": {
          "base_uri": "https://localhost:8080/",
          "referenced_widgets": [
            "bfd87edec2134e8692b867fae6b2647c",
            "784b3def214e4bb790966761302befb3"
          ]
        },
        "outputId": "b47e13ef-00d9-40ca-fc75-20d964b47226",
        "id": "Cl-qnNVSnb6f"
      },
      "execution_count": null,
      "outputs": [
        {
          "output_type": "display_data",
          "data": {
            "text/plain": [
              "Output()"
            ],
            "application/vnd.jupyter.widget-view+json": {
              "version_major": 2,
              "version_minor": 0,
              "model_id": "bfd87edec2134e8692b867fae6b2647c"
            }
          },
          "metadata": {}
        },
        {
          "output_type": "display_data",
          "data": {
            "text/plain": [],
            "text/html": [
              "<pre style=\"white-space:pre;overflow-x:auto;line-height:normal;font-family:Menlo,'DejaVu Sans Mono',consolas,'Courier New',monospace\"></pre>\n"
            ]
          },
          "metadata": {}
        },
        {
          "output_type": "display_data",
          "data": {
            "text/plain": [
              "\n"
            ],
            "text/html": [
              "<pre style=\"white-space:pre;overflow-x:auto;line-height:normal;font-family:Menlo,'DejaVu Sans Mono',consolas,'Courier New',monospace\">\n",
              "</pre>\n"
            ]
          },
          "metadata": {}
        },
        {
          "output_type": "execute_result",
          "data": {
            "text/plain": [
              "[<matplotlib.lines.Line2D at 0x7f9e148998b0>]"
            ]
          },
          "metadata": {},
          "execution_count": 37
        },
        {
          "output_type": "display_data",
          "data": {
            "text/plain": [
              "<Figure size 432x288 with 1 Axes>"
            ],
            "image/png": "[encoded data removed]"
          },
          "metadata": {
            "needs_background": "light"
          }
        }
      ]
    },
    {
      "cell_type": "code",
      "source": [
        "raw = pd.read_csv(\"/content/drive/MyDrive/Crypto/new3/full_spread_data.csv\", parse_dates = [\"time\"], index_col = \"time\").dropna()\n",
        "raw[\"returns\"] =np.log(raw.Close / raw.Close.shift(1))\n",
        "raw[\"returns2\"]=(raw[\"returns\"]>=0).astype(int)\n",
        "raw.drop([\"Open\",\"Spread\",\"Close\",\"High\",\"returns\",\"Volume\",\"Low\"],axis=1,inplace=True)\n",
        "cols = []\n",
        "for lag in range(1, 40):\n",
        "    col_r = \"r_lag{}\".format(lag)\n",
        "    raw[col_r] = raw.returns2.shift(lag)\n",
        "raw.dropna(inplace = True)\n",
        "to=int(len(raw)*0.8)\n",
        "X_train=raw.drop([\"returns2\"],axis=1).iloc[:to].to_numpy()\n",
        "y_train=raw[\"returns2\"].iloc[:to].to_numpy().astype(int)\n",
        "X_test=raw.drop([\"returns2\"],axis=1).iloc[to:].to_numpy()\n",
        "y_test=raw[\"returns2\"].iloc[to:].to_numpy().astype(int)\n",
        "clf = LogisticRegression()\n",
        "clf.fit(X_train,y_train)\n",
        "pred_test=clf.predict(X_test)\n",
        "pred_train=clf.predict(X_train)\n",
        "\n",
        "print(confusion_matrix(y_train,pred_train))\n",
        "print(classification_report(y_train,pred_train))\n",
        "print(confusion_matrix(y_test,pred_test))\n",
        "print(classification_report(y_test,pred_test))"
      ],
      "metadata": {
        "id": "wnL_AwTnn-BK",
        "outputId": "029ac3a5-a306-4186-fa7d-3fa289f9b4f5",
        "colab": {
          "base_uri": "https://localhost:8080/"
        }
      },
      "execution_count": null,
      "outputs": [
        {
          "output_type": "stream",
          "name": "stdout",
          "text": [
            "[[252 480]\n",
            " [172 744]]\n",
            "              precision    recall  f1-score   support\n",
            "\n",
            "           0       0.59      0.34      0.44       732\n",
            "           1       0.61      0.81      0.70       916\n",
            "\n",
            "    accuracy                           0.60      1648\n",
            "   macro avg       0.60      0.58      0.57      1648\n",
            "weighted avg       0.60      0.60      0.58      1648\n",
            "\n",
            "[[ 83 132]\n",
            " [ 63 134]]\n",
            "              precision    recall  f1-score   support\n",
            "\n",
            "           0       0.57      0.39      0.46       215\n",
            "           1       0.50      0.68      0.58       197\n",
            "\n",
            "    accuracy                           0.53       412\n",
            "   macro avg       0.54      0.53      0.52       412\n",
            "weighted avg       0.54      0.53      0.52       412\n",
            "\n"
          ]
        }
      ]
    },
    {
      "cell_type": "markdown",
      "source": [
        "# GRU2"
      ],
      "metadata": {
        "id": "134l3zG0Yg8F"
      }
    },
    {
      "cell_type": "code",
      "source": [
        "raw = pd.read_csv(\"/content/drive/MyDrive/Crypto/new3/full_spread_data.csv\",parse_dates = [\"Date\"], index_col = \"Date\").dropna()\n",
        "raw[\"returns\"] =np.log(raw.Close / raw.Close.shift(1))\n",
        "raw[\"Volume\"]=raw[\"Volume USDT\"]\n",
        "raw.drop([\"Open\",\"Unix\",\"Symbol\",\"Volume USDT\",\"Volume BTC\",\"tradecount\"],axis=1,inplace=True)\n",
        "cols = []\n",
        "for lag in range(1, 31):\n",
        "    col_h = \"h_lag{}\".format(lag)\n",
        "    col_l = \"l_lag{}\".format(lag)\n",
        "    col_r = \"c_lag{}\".format(lag)\n",
        "    col_v = \"v_lag{}\".format(lag)\n",
        "    raw[col_h] = raw.High.shift(lag)\n",
        "    cols.append(col_h)\n",
        "    raw[col_l] = raw.Low.shift(lag)\n",
        "    cols.append(col_l)\n",
        "    raw[col_r] = raw.Close.shift(lag)\n",
        "    cols.append(col_r)\n",
        "    raw[col_v] = raw.Volume.shift(lag)\n",
        "    cols.append(col_v)\n",
        "    raw.dropna(inplace = True)\n",
        "raw.drop([\"High\",\"Low\",\"Volume\",\"Close\"],axis=1,inplace=True)\n",
        "\n",
        "raw[\"returns2\"]=(raw[\"returns\"]>=0).astype(int)\n",
        "\n",
        "to=int(len(raw)*0.8)\n",
        "X_train=raw.drop([\"returns2\",\"returns\"],axis=1).iloc[:to].to_numpy()\n",
        "y_train=raw[\"returns2\"].iloc[:to].to_numpy().astype(int)\n",
        "X_test=raw.drop([\"returns2\",\"returns\"],axis=1).iloc[to:].to_numpy()\n",
        "y_test=raw[\"returns2\"].iloc[to:].to_numpy().astype(int)\n",
        "\n",
        "scaler1 = MinMaxScaler()\n",
        "X_train=scaler1.fit_transform(X_train)\n",
        "X_test=scaler1.transform(X_test)\n",
        "\n",
        "print(X_train.shape,y_train.shape,X_test.shape,y_test.shape)\n",
        "\n",
        "from tensorflow.keras.utils import to_categorical\n",
        "y_train2 = to_categorical(y_train, 2)\n",
        "y_test2 = to_categorical(y_test, 2)\n",
        "\n",
        "X_train=X_train.reshape(len(X_train),30,4)\n",
        "X_test=X_test.reshape(len(X_test),30,4)\n",
        "\n",
        "\n",
        "def build_model(hp):\n",
        "    model = Sequential()\n",
        "    #model.add(GRU(hp.Int('units1', min_value=5, max_value=200, step=1),activation=\"tanh\",input_shape=(30,4),return_sequences=True))\n",
        "    model.add(LSTM(hp.Int('units2', min_value=128, max_value=128, step=1),activation=\"tanh\",return_sequences=True))\n",
        "    model.add(LSTM(hp.Int('units21', min_value=256, max_value=256, step=1),activation=\"tanh\",return_sequences=False))\n",
        "    model.add(Dense(2,activation=\"softmax\"))\n",
        "\n",
        "    model.compile(loss='categorical_crossentropy', optimizer='adam', metrics=['accuracy'])\n",
        "    return model\n",
        "\n",
        "#tuner = keras_tuner.RandomSearch(\n",
        "#      build_model,\n",
        "#      objective='val_loss',\n",
        "#      max_trials=1,overwrite = True)\n",
        "#tuner.search(X_train,y_train2 , epochs=1,batch_size=32, validation_split=0.2)\n",
        "\n",
        "\n",
        "def build_model_best():\n",
        "    model = Sequential()\n",
        "    model.add(GRU(128,activation=\"tanh\",input_shape=(30,4),return_sequences=True))\n",
        "    model.add(GRU(128,activation=\"tanh\",input_shape=(30,4),return_sequences=True))\n",
        "    model.add(LSTM(128,activation=\"tanh\",return_sequences=True))\n",
        "    model.add(LSTM(256,activation=\"tanh\",return_sequences=False))\n",
        "    model.add(Dense(2,activation=\"softmax\"))\n",
        "\n",
        "    model.compile(loss='categorical_crossentropy', optimizer='adam', metrics=['accuracy'])\n",
        "    return model\n",
        "\n",
        "\n",
        "best_model = build_model_best()\n",
        "\n",
        "early_stopping=EarlyStopping(patience=200, verbose=0)\n",
        "#checkpointer=ModelCheckpoint(filepath='weights1.hdf5', save_best_only=True, verbose=1)\n",
        "best_model.fit(X_train,y_train2, batch_size=64,epochs=1000, verbose=1, \\\n",
        "                validation_split=0.2,callbacks=[ early_stopping], shuffle=True)\n",
        "\n",
        "predictions =best_model.predict(X_test)\n",
        "pred_sign=np.argmax(predictions,axis=1)\n",
        "pred_train=np.argmax(best_model.predict(X_train),axis=1)\n",
        "true_sign=np.argmax(y_test2,axis=1)\n",
        "print(confusion_matrix(np.argmax(y_train2,axis=1),pred_train))\n",
        "print(confusion_matrix(true_sign,pred_sign))\n",
        "print(classification_report(true_sign,pred_sign))"
      ],
      "metadata": {
        "colab": {
          "base_uri": "https://localhost:8080/"
        },
        "id": "470hqXnrtOBl",
        "outputId": "a857daa3-ad19-4ebf-dc1d-3a57e9b00c99"
      },
      "execution_count": null,
      "outputs": [
        {
          "output_type": "stream",
          "name": "stdout",
          "text": [
            "(1232, 120) (1232,) (309, 120) (309,)\n",
            "Epoch 1/1000\n",
            "16/16 [==============================] - 69s 4s/step - loss: 0.7101 - accuracy: 0.5036 - val_loss: 0.6934 - val_accuracy: 0.5061\n",
            "Epoch 2/1000\n",
            "16/16 [==============================] - 63s 4s/step - loss: 0.6927 - accuracy: 0.5360 - val_loss: 0.6934 - val_accuracy: 0.5061\n",
            "Epoch 3/1000\n",
            "16/16 [==============================] - 64s 4s/step - loss: 0.6915 - accuracy: 0.5360 - val_loss: 0.6936 - val_accuracy: 0.5061\n",
            "Epoch 4/1000\n",
            "16/16 [==============================] - 60s 4s/step - loss: 0.6909 - accuracy: 0.5360 - val_loss: 0.6937 - val_accuracy: 0.5061\n",
            "Epoch 5/1000\n",
            "16/16 [==============================] - 63s 4s/step - loss: 0.6910 - accuracy: 0.5360 - val_loss: 0.6941 - val_accuracy: 0.5061\n",
            "Epoch 6/1000\n",
            "16/16 [==============================] - 61s 4s/step - loss: 0.6908 - accuracy: 0.5360 - val_loss: 0.6950 - val_accuracy: 0.5061\n",
            "Epoch 7/1000\n",
            "16/16 [==============================] - 64s 4s/step - loss: 0.6913 - accuracy: 0.5360 - val_loss: 0.6944 - val_accuracy: 0.5061\n",
            "Epoch 8/1000\n",
            "16/16 [==============================] - 61s 4s/step - loss: 0.6914 - accuracy: 0.5360 - val_loss: 0.6936 - val_accuracy: 0.5061\n",
            "Epoch 9/1000\n",
            "16/16 [==============================] - 65s 4s/step - loss: 0.6918 - accuracy: 0.5360 - val_loss: 0.6943 - val_accuracy: 0.5061\n",
            "Epoch 10/1000\n",
            "16/16 [==============================] - 63s 4s/step - loss: 0.6913 - accuracy: 0.5360 - val_loss: 0.6943 - val_accuracy: 0.5061\n",
            "Epoch 11/1000\n",
            "16/16 [==============================] - 62s 4s/step - loss: 0.6908 - accuracy: 0.5360 - val_loss: 0.6938 - val_accuracy: 0.5061\n",
            "Epoch 12/1000\n",
            "16/16 [==============================] - 65s 4s/step - loss: 0.6911 - accuracy: 0.5371 - val_loss: 0.6940 - val_accuracy: 0.5061\n",
            "Epoch 13/1000\n",
            "16/16 [==============================] - 64s 4s/step - loss: 0.6910 - accuracy: 0.5360 - val_loss: 0.6944 - val_accuracy: 0.5061\n",
            "Epoch 14/1000\n",
            "16/16 [==============================] - 66s 4s/step - loss: 0.6910 - accuracy: 0.5360 - val_loss: 0.6943 - val_accuracy: 0.5061\n",
            "Epoch 15/1000\n",
            "16/16 [==============================] - 64s 4s/step - loss: 0.6907 - accuracy: 0.5360 - val_loss: 0.6946 - val_accuracy: 0.5061\n",
            "Epoch 16/1000\n",
            "16/16 [==============================] - 65s 4s/step - loss: 0.6908 - accuracy: 0.5360 - val_loss: 0.6949 - val_accuracy: 0.5061\n",
            "Epoch 17/1000\n",
            "16/16 [==============================] - 64s 4s/step - loss: 0.6907 - accuracy: 0.5360 - val_loss: 0.6949 - val_accuracy: 0.5061\n",
            "Epoch 18/1000\n",
            "16/16 [==============================] - 62s 4s/step - loss: 0.6910 - accuracy: 0.5360 - val_loss: 0.6947 - val_accuracy: 0.5061\n",
            "Epoch 19/1000\n",
            "16/16 [==============================] - 65s 4s/step - loss: 0.6905 - accuracy: 0.5360 - val_loss: 0.6953 - val_accuracy: 0.5061\n",
            "Epoch 20/1000\n",
            "16/16 [==============================] - 67s 4s/step - loss: 0.6905 - accuracy: 0.5360 - val_loss: 0.6949 - val_accuracy: 0.5061\n",
            "Epoch 21/1000\n",
            "16/16 [==============================] - 66s 4s/step - loss: 0.6905 - accuracy: 0.5360 - val_loss: 0.6956 - val_accuracy: 0.5061\n",
            "Epoch 22/1000\n",
            "16/16 [==============================] - 67s 4s/step - loss: 0.6907 - accuracy: 0.5360 - val_loss: 0.6949 - val_accuracy: 0.5061\n",
            "Epoch 23/1000\n",
            "16/16 [==============================] - 65s 4s/step - loss: 0.6908 - accuracy: 0.5360 - val_loss: 0.6950 - val_accuracy: 0.5061\n",
            "Epoch 24/1000\n",
            "16/16 [==============================] - 62s 4s/step - loss: 0.6907 - accuracy: 0.5360 - val_loss: 0.6948 - val_accuracy: 0.5061\n",
            "Epoch 25/1000\n",
            "16/16 [==============================] - 63s 4s/step - loss: 0.6908 - accuracy: 0.5391 - val_loss: 0.6950 - val_accuracy: 0.5061\n",
            "Epoch 26/1000\n",
            "16/16 [==============================] - 65s 4s/step - loss: 0.6902 - accuracy: 0.5381 - val_loss: 0.6967 - val_accuracy: 0.5061\n",
            "Epoch 27/1000\n",
            "16/16 [==============================] - 65s 4s/step - loss: 0.6908 - accuracy: 0.5360 - val_loss: 0.6956 - val_accuracy: 0.5061\n",
            "Epoch 28/1000\n",
            "16/16 [==============================] - 64s 4s/step - loss: 0.6906 - accuracy: 0.5391 - val_loss: 0.6954 - val_accuracy: 0.5061\n",
            "Epoch 29/1000\n",
            "16/16 [==============================] - 66s 4s/step - loss: 0.6949 - accuracy: 0.5391 - val_loss: 0.6935 - val_accuracy: 0.5061\n",
            "Epoch 30/1000\n",
            "16/16 [==============================] - 65s 4s/step - loss: 0.6925 - accuracy: 0.5350 - val_loss: 0.6938 - val_accuracy: 0.5061\n",
            "Epoch 31/1000\n",
            "16/16 [==============================] - 64s 4s/step - loss: 0.6913 - accuracy: 0.5360 - val_loss: 0.6941 - val_accuracy: 0.5061\n",
            "Epoch 32/1000\n",
            "16/16 [==============================] - 62s 4s/step - loss: 0.6920 - accuracy: 0.5360 - val_loss: 0.6940 - val_accuracy: 0.5061\n",
            "Epoch 33/1000\n",
            "16/16 [==============================] - 64s 4s/step - loss: 0.6915 - accuracy: 0.5360 - val_loss: 0.6943 - val_accuracy: 0.5061\n",
            "Epoch 34/1000\n",
            "16/16 [==============================] - 61s 4s/step - loss: 0.6909 - accuracy: 0.5360 - val_loss: 0.6945 - val_accuracy: 0.5061\n",
            "Epoch 35/1000\n",
            "16/16 [==============================] - 65s 4s/step - loss: 0.6907 - accuracy: 0.5360 - val_loss: 0.6949 - val_accuracy: 0.5061\n",
            "Epoch 36/1000\n",
            "16/16 [==============================] - 64s 4s/step - loss: 0.6906 - accuracy: 0.5360 - val_loss: 0.6949 - val_accuracy: 0.5061\n",
            "Epoch 37/1000\n",
            "16/16 [==============================] - 65s 4s/step - loss: 0.6907 - accuracy: 0.5360 - val_loss: 0.6953 - val_accuracy: 0.5061\n",
            "Epoch 38/1000\n",
            "16/16 [==============================] - 64s 4s/step - loss: 0.6907 - accuracy: 0.5360 - val_loss: 0.6941 - val_accuracy: 0.5061\n",
            "Epoch 39/1000\n",
            "16/16 [==============================] - 64s 4s/step - loss: 0.6907 - accuracy: 0.5360 - val_loss: 0.6945 - val_accuracy: 0.5061\n",
            "Epoch 40/1000\n",
            "16/16 [==============================] - 64s 4s/step - loss: 0.6906 - accuracy: 0.5360 - val_loss: 0.6947 - val_accuracy: 0.5061\n",
            "Epoch 41/1000\n",
            "16/16 [==============================] - 64s 4s/step - loss: 0.6907 - accuracy: 0.5360 - val_loss: 0.6947 - val_accuracy: 0.5061\n",
            "Epoch 42/1000\n",
            "16/16 [==============================] - 62s 4s/step - loss: 0.6905 - accuracy: 0.5360 - val_loss: 0.6948 - val_accuracy: 0.5061\n",
            "Epoch 43/1000\n",
            "16/16 [==============================] - 62s 4s/step - loss: 0.6906 - accuracy: 0.5360 - val_loss: 0.6952 - val_accuracy: 0.5061\n",
            "Epoch 44/1000\n",
            "16/16 [==============================] - 64s 4s/step - loss: 0.6905 - accuracy: 0.5360 - val_loss: 0.6963 - val_accuracy: 0.5061\n",
            "Epoch 45/1000\n",
            "16/16 [==============================] - 65s 4s/step - loss: 0.6906 - accuracy: 0.5360 - val_loss: 0.6960 - val_accuracy: 0.5061\n",
            "Epoch 46/1000\n",
            "16/16 [==============================] - 62s 4s/step - loss: 0.6915 - accuracy: 0.5360 - val_loss: 0.6961 - val_accuracy: 0.5061\n",
            "Epoch 47/1000\n",
            "16/16 [==============================] - 65s 4s/step - loss: 0.6908 - accuracy: 0.5360 - val_loss: 0.6950 - val_accuracy: 0.5061\n",
            "Epoch 48/1000\n",
            "16/16 [==============================] - 62s 4s/step - loss: 0.6910 - accuracy: 0.5360 - val_loss: 0.6955 - val_accuracy: 0.5061\n",
            "Epoch 49/1000\n",
            "16/16 [==============================] - 66s 4s/step - loss: 0.6908 - accuracy: 0.5360 - val_loss: 0.6950 - val_accuracy: 0.5061\n",
            "Epoch 50/1000\n",
            "16/16 [==============================] - 66s 4s/step - loss: 0.6905 - accuracy: 0.5360 - val_loss: 0.6952 - val_accuracy: 0.5061\n",
            "Epoch 51/1000\n",
            "16/16 [==============================] - 65s 4s/step - loss: 0.6912 - accuracy: 0.5360 - val_loss: 0.6955 - val_accuracy: 0.5061\n",
            "Epoch 52/1000\n",
            "16/16 [==============================] - 64s 4s/step - loss: 0.6905 - accuracy: 0.5360 - val_loss: 0.6954 - val_accuracy: 0.5061\n",
            "Epoch 53/1000\n",
            "16/16 [==============================] - 61s 4s/step - loss: 0.6905 - accuracy: 0.5360 - val_loss: 0.6948 - val_accuracy: 0.5061\n",
            "Epoch 54/1000\n",
            "16/16 [==============================] - 65s 4s/step - loss: 0.6907 - accuracy: 0.5360 - val_loss: 0.6950 - val_accuracy: 0.5061\n",
            "Epoch 55/1000\n",
            "16/16 [==============================] - 64s 4s/step - loss: 0.6905 - accuracy: 0.5360 - val_loss: 0.6946 - val_accuracy: 0.5061\n",
            "Epoch 56/1000\n",
            "16/16 [==============================] - 64s 4s/step - loss: 0.6905 - accuracy: 0.5360 - val_loss: 0.6948 - val_accuracy: 0.5061\n",
            "Epoch 57/1000\n",
            "16/16 [==============================] - 60s 4s/step - loss: 0.6905 - accuracy: 0.5360 - val_loss: 0.6949 - val_accuracy: 0.5061\n",
            "Epoch 58/1000\n",
            "16/16 [==============================] - 63s 4s/step - loss: 0.6904 - accuracy: 0.5360 - val_loss: 0.6951 - val_accuracy: 0.5061\n",
            "Epoch 59/1000\n",
            "16/16 [==============================] - 64s 4s/step - loss: 0.6905 - accuracy: 0.5360 - val_loss: 0.6948 - val_accuracy: 0.5061\n",
            "Epoch 60/1000\n",
            "16/16 [==============================] - 65s 4s/step - loss: 0.6907 - accuracy: 0.5360 - val_loss: 0.6949 - val_accuracy: 0.5061\n",
            "Epoch 61/1000\n",
            "16/16 [==============================] - 64s 4s/step - loss: 0.6909 - accuracy: 0.5360 - val_loss: 0.6958 - val_accuracy: 0.5061\n",
            "Epoch 62/1000\n",
            "16/16 [==============================] - 64s 4s/step - loss: 0.6906 - accuracy: 0.5360 - val_loss: 0.6950 - val_accuracy: 0.5061\n",
            "Epoch 63/1000\n",
            "16/16 [==============================] - 64s 4s/step - loss: 0.6905 - accuracy: 0.5360 - val_loss: 0.6950 - val_accuracy: 0.5061\n",
            "Epoch 64/1000\n",
            "16/16 [==============================] - 64s 4s/step - loss: 0.6908 - accuracy: 0.5360 - val_loss: 0.6947 - val_accuracy: 0.5061\n",
            "Epoch 65/1000\n",
            "16/16 [==============================] - 66s 4s/step - loss: 0.6903 - accuracy: 0.5360 - val_loss: 0.6954 - val_accuracy: 0.5061\n",
            "Epoch 66/1000\n",
            "16/16 [==============================] - 65s 4s/step - loss: 0.6905 - accuracy: 0.5360 - val_loss: 0.6960 - val_accuracy: 0.5061\n",
            "Epoch 67/1000\n",
            "16/16 [==============================] - 64s 4s/step - loss: 0.6903 - accuracy: 0.5360 - val_loss: 0.6959 - val_accuracy: 0.5061\n",
            "Epoch 68/1000\n",
            "16/16 [==============================] - 63s 4s/step - loss: 0.6902 - accuracy: 0.5371 - val_loss: 0.6951 - val_accuracy: 0.5061\n",
            "Epoch 69/1000\n",
            "16/16 [==============================] - 64s 4s/step - loss: 0.6901 - accuracy: 0.5371 - val_loss: 0.6951 - val_accuracy: 0.5061\n",
            "Epoch 70/1000\n",
            "16/16 [==============================] - 61s 4s/step - loss: 0.6901 - accuracy: 0.5360 - val_loss: 0.6955 - val_accuracy: 0.5061\n",
            "Epoch 71/1000\n",
            "16/16 [==============================] - 65s 4s/step - loss: 0.6896 - accuracy: 0.5310 - val_loss: 0.7020 - val_accuracy: 0.4899\n",
            "Epoch 72/1000\n",
            "16/16 [==============================] - 63s 4s/step - loss: 0.8183 - accuracy: 0.5066 - val_loss: 1.2640 - val_accuracy: 0.4939\n",
            "Epoch 73/1000\n",
            "16/16 [==============================] - 63s 4s/step - loss: 0.7985 - accuracy: 0.4985 - val_loss: 0.6936 - val_accuracy: 0.5061\n",
            "Epoch 74/1000\n",
            "16/16 [==============================] - 65s 4s/step - loss: 0.6945 - accuracy: 0.5157 - val_loss: 0.6931 - val_accuracy: 0.5061\n",
            "Epoch 75/1000\n",
            "16/16 [==============================] - 64s 4s/step - loss: 0.7018 - accuracy: 0.4985 - val_loss: 0.6932 - val_accuracy: 0.5061\n",
            "Epoch 76/1000\n",
            "16/16 [==============================] - 64s 4s/step - loss: 0.6944 - accuracy: 0.5056 - val_loss: 0.6994 - val_accuracy: 0.5061\n",
            "Epoch 77/1000\n",
            "16/16 [==============================] - 64s 4s/step - loss: 0.6962 - accuracy: 0.4893 - val_loss: 0.6953 - val_accuracy: 0.5061\n",
            "Epoch 78/1000\n",
            "16/16 [==============================] - 64s 4s/step - loss: 0.6946 - accuracy: 0.5360 - val_loss: 0.6942 - val_accuracy: 0.5061\n",
            "Epoch 79/1000\n",
            "16/16 [==============================] - 64s 4s/step - loss: 0.6953 - accuracy: 0.5015 - val_loss: 0.6958 - val_accuracy: 0.5061\n",
            "Epoch 80/1000\n",
            "16/16 [==============================] - 67s 4s/step - loss: 0.6930 - accuracy: 0.5360 - val_loss: 0.6968 - val_accuracy: 0.5061\n",
            "Epoch 81/1000\n",
            "16/16 [==============================] - 61s 4s/step - loss: 0.6925 - accuracy: 0.5360 - val_loss: 0.6939 - val_accuracy: 0.5061\n",
            "Epoch 82/1000\n",
            "16/16 [==============================] - 63s 4s/step - loss: 0.6920 - accuracy: 0.5360 - val_loss: 0.6951 - val_accuracy: 0.5061\n",
            "Epoch 83/1000\n",
            "16/16 [==============================] - 65s 4s/step - loss: 0.6934 - accuracy: 0.4954 - val_loss: 0.6949 - val_accuracy: 0.5061\n",
            "Epoch 84/1000\n",
            "16/16 [==============================] - 63s 4s/step - loss: 0.6938 - accuracy: 0.5360 - val_loss: 0.6957 - val_accuracy: 0.5061\n",
            "Epoch 85/1000\n",
            "16/16 [==============================] - 62s 4s/step - loss: 0.6910 - accuracy: 0.5360 - val_loss: 0.6939 - val_accuracy: 0.5061\n",
            "Epoch 86/1000\n",
            " 6/16 [==========>...................] - ETA: 37s - loss: 0.6865 - accuracy: 0.5703"
          ]
        }
      ]
    },
    {
      "cell_type": "code",
      "source": [
        "train_acc=[]  \n",
        "test_acc=[]\n",
        "a=7\n",
        "b=61\n",
        "num_lag=a\n",
        "while num_lag<b:\n",
        "  raw = pd.read_csv(\"/content/drive/MyDrive/Crypto/new3/full_spread_data.csv\", parse_dates = [\"time\"], index_col = \"time\").dropna()\n",
        "  raw[\"returns\"] =np.log(raw.Close / raw.Close.shift(1))\n",
        "  raw[\"returns2\"]=(raw[\"returns\"]>=0).astype(int)\n",
        "  raw.drop([\"Open\",\"Spread\",\"Close\",\"High\",\"returns\",\"Volume\",\"Low\"],axis=1,inplace=True)\n",
        "  cols = []\n",
        "  for lag in range(1, num_lag):\n",
        "      col_r = \"r_lag{}\".format(lag)\n",
        "      raw[col_r] = raw.returns2.shift(lag)\n",
        "  raw.dropna(inplace = True)\n",
        "  to=int(len(raw)*0.8)\n",
        "  X_train=raw.drop([\"returns2\"],axis=1).iloc[:to].to_numpy()\n",
        "  y_train=raw[\"returns2\"].iloc[:to].to_numpy().astype(int)\n",
        "  X_test=raw.drop([\"returns2\"],axis=1).iloc[to:].to_numpy()\n",
        "  y_test=raw[\"returns2\"].iloc[to:].to_numpy().astype(int)\n",
        "\n",
        "  from tensorflow.keras.utils import to_categorical\n",
        "  y_train2 = to_categorical(y_train, 2)\n",
        "  y_test2 = to_categorical(y_test, 2)\n",
        "\n",
        "\n",
        "  def build_model(hp):\n",
        "      model = Sequential()\n",
        "      model.add(Dense(hp.Int('units1', min_value=5, max_value=200, step=1),activation=\"relu\",input_shape=(num_lag-1,1)))\n",
        "      model.add(Dense(hp.Int('units2', min_value=5, max_value=180, step=1),activation=\"relu\"))\n",
        "      model.add(Dense(hp.Int('units3', min_value=5, max_value=160, step=1),activation=\"relu\"))\n",
        "      model.add(Dense(hp.Int('units4', min_value=5, max_value=140, step=1),activation=\"relu\"))\n",
        "      model.add(Dense(hp.Int('units5', min_value=5, max_value=120, step=1),activation=\"relu\"))\n",
        "      model.add(GRU(hp.Int('units5', min_value=5, max_value=120, step=1),activation=\"tanh\",return_sequences=True))\n",
        "      model.add(LSTM(hp.Int('units5', min_value=5, max_value=120, step=1),activation=\"tanh\"))\n",
        "      model.add(Dense(2,activation=\"softmax\"))\n",
        "\n",
        "      model.compile(loss='categorical_crossentropy', optimizer='adam', metrics=['accuracy'])\n",
        "      return model\n",
        "\n",
        "  tuner = keras_tuner.RandomSearch(\n",
        "        build_model,\n",
        "        objective='val_loss',\n",
        "        max_trials=10,overwrite = True)\n",
        "  tuner.search(X_train,y_train2 , epochs=5, validation_split=0.2)\n",
        "  best_model = tuner.get_best_models()[0]\n",
        "  best_model.summary()\n",
        "\n",
        "  early_stopping=EarlyStopping(patience=10, verbose=0)\n",
        "  checkpointer=ModelCheckpoint(filepath='weights1.hdf5', save_best_only=True, verbose=1)\n",
        "  best_model.fit(X_train,y_train2, batch_size=50,epochs=100, verbose=0, \\\n",
        "                  validation_split=0.2,callbacks=[checkpointer, early_stopping], shuffle=True)\n",
        "\n",
        "  predictions =best_model.predict(X_test)\n",
        "  predistions2=best_model.predict(X_train)\n",
        "  pred_test=np.argmax(predictions,axis=1)\n",
        "  pred_train=np.argmax(predistions2,axis=1)\n",
        "  train_acc.append(1-accuracy_score(y_train,pred_train))\n",
        "  test_acc.append(1-accuracy_score(y_test,pred_test))\n",
        "  num_lag+=1\n",
        "\n",
        "plt.plot(np.arange(a,b,1),train_acc,color=\"blue\")\n",
        "plt.plot(np.arange(a,b,1),test_acc,color=\"red\")\n",
        "plt.plot(np.arange(a,b,1),0.5*np.ones(b-a),color=\"purple\")"
      ],
      "metadata": {
        "id": "lLox0gxqpctg",
        "outputId": "8ba1060c-6f8d-4f6a-c81b-f00e106c95e3",
        "colab": {
          "base_uri": "https://localhost:8080/",
          "height": 1000
        }
      },
      "execution_count": null,
      "outputs": [
        {
          "output_type": "stream",
          "name": "stdout",
          "text": [
            "Trial 10 Complete [00h 00m 12s]\n",
            "val_loss: 0.6848078966140747\n",
            "\n",
            "Best val_loss So Far: 0.6833024621009827\n",
            "Total elapsed time: 00h 02m 12s\n",
            "Model: \"sequential\"\n",
            "_________________________________________________________________\n",
            " Layer (type)                Output Shape              Param #   \n",
            "=================================================================\n",
            " dense (Dense)               (None, 59, 47)            94        \n",
            "                                                                 \n",
            " dense_1 (Dense)             (None, 59, 170)           8160      \n",
            "                                                                 \n",
            " dense_2 (Dense)             (None, 59, 33)            5643      \n",
            "                                                                 \n",
            " dense_3 (Dense)             (None, 59, 103)           3502      \n",
            "                                                                 \n",
            " dense_4 (Dense)             (None, 59, 9)             936       \n",
            "                                                                 \n",
            " gru (GRU)                   (None, 59, 9)             540       \n",
            "                                                                 \n",
            " lstm (LSTM)                 (None, 9)                 684       \n",
            "                                                                 \n",
            " dense_5 (Dense)             (None, 2)                 20        \n",
            "                                                                 \n",
            "=================================================================\n",
            "Total params: 19,579\n",
            "Trainable params: 19,579\n",
            "Non-trainable params: 0\n",
            "_________________________________________________________________\n",
            "\n",
            "Epoch 1: val_loss improved from inf to 0.68430, saving model to weights1.hdf5\n",
            "\n",
            "Epoch 2: val_loss did not improve from 0.68430\n",
            "\n",
            "Epoch 3: val_loss did not improve from 0.68430\n",
            "\n",
            "Epoch 4: val_loss improved from 0.68430 to 0.68387, saving model to weights1.hdf5\n",
            "\n",
            "Epoch 5: val_loss did not improve from 0.68387\n",
            "\n",
            "Epoch 6: val_loss did not improve from 0.68387\n",
            "\n",
            "Epoch 7: val_loss did not improve from 0.68387\n",
            "\n",
            "Epoch 8: val_loss did not improve from 0.68387\n",
            "\n",
            "Epoch 9: val_loss did not improve from 0.68387\n",
            "\n",
            "Epoch 10: val_loss did not improve from 0.68387\n",
            "\n",
            "Epoch 11: val_loss did not improve from 0.68387\n",
            "\n",
            "Epoch 12: val_loss did not improve from 0.68387\n",
            "\n",
            "Epoch 13: val_loss did not improve from 0.68387\n",
            "\n",
            "Epoch 14: val_loss did not improve from 0.68387\n",
            "13/13 [==============================] - 1s 5ms/step\n",
            "51/51 [==============================] - 0s 5ms/step\n"
          ]
        },
        {
          "output_type": "execute_result",
          "data": {
            "text/plain": [
              "[<matplotlib.lines.Line2D at 0x7fb3ff31ae80>]"
            ]
          },
          "metadata": {},
          "execution_count": 12
        },
        {
          "output_type": "display_data",
          "data": {
            "text/plain": [
              "<Figure size 432x288 with 1 Axes>"
            ],
            "image/png": "[encoded data removed]"
          },
          "metadata": {
            "needs_background": "light"
          }
        }
      ]
    },
    {
      "cell_type": "code",
      "source": [],
      "metadata": {
        "id": "GvMzySjJpdTR"
      },
      "execution_count": null,
      "outputs": []
    },
    {
      "cell_type": "code",
      "source": [],
      "metadata": {
        "id": "JUbK01ZTpdWk"
      },
      "execution_count": null,
      "outputs": []
    },
    {
      "cell_type": "code",
      "source": [
        "pred_sign=-(predictions>=0).astype(int)+(predictions<0).astype(int)\n",
        "true_sign=(y_true>=0).astype(int)-(y_true<0).astype(int)\n",
        "print(confusion_matrix(true_sign,pred_sign))\n",
        "print(classification_report(true_sign,pred_sign))"
      ],
      "metadata": {
        "colab": {
          "base_uri": "https://localhost:8080/"
        },
        "id": "G0b3m3PGN5YS",
        "outputId": "1cb956f2-3aa3-4fdf-9483-70cba7f83847"
      },
      "execution_count": null,
      "outputs": [
        {
          "output_type": "stream",
          "name": "stdout",
          "text": [
            "[[215  75]\n",
            " [216  92]]\n",
            "              precision    recall  f1-score   support\n",
            "\n",
            "          -1       0.50      0.74      0.60       290\n",
            "           1       0.55      0.30      0.39       308\n",
            "\n",
            "    accuracy                           0.51       598\n",
            "   macro avg       0.52      0.52      0.49       598\n",
            "weighted avg       0.53      0.51      0.49       598\n",
            "\n"
          ]
        }
      ]
    },
    {
      "cell_type": "code",
      "source": [
        "X_test.shape"
      ],
      "metadata": {
        "colab": {
          "base_uri": "https://localhost:8080/"
        },
        "id": "qlvadTSx1sDc",
        "outputId": "eb6788d8-992f-444a-e8bd-fe2e864466c9"
      },
      "execution_count": null,
      "outputs": [
        {
          "output_type": "execute_result",
          "data": {
            "text/plain": [
              "(598, 56)"
            ]
          },
          "metadata": {},
          "execution_count": 164
        }
      ]
    },
    {
      "cell_type": "markdown",
      "metadata": {
        "id": "OmR_a4E4azq7"
      },
      "source": [
        "# GRU"
      ]
    },
    {
      "cell_type": "code",
      "execution_count": null,
      "metadata": {
        "id": "m7u6MIsEm89h"
      },
      "outputs": [],
      "source": [
        "def build_model(hp):\n",
        "    model = Sequential()\n",
        "\n",
        "    model.add(LSTM(hp.Int('units2', min_value=1, max_value=200, step=1), return_sequences=True, input_shape=(60,1)))\n",
        "    model.add(GRU(hp.Int('units2', min_value=1, max_value=200, step=1), return_sequences=True))\n",
        "    model.add(LSTM(hp.Int('units2', min_value=1, max_value=200, step=1), return_sequences=False))\n",
        "    model.add(Dense(hp.Int('units3', min_value=5, max_value=100, step=1)))\n",
        "    model.add(Dense(1))\n",
        "\n",
        "    model.compile(loss='mean_squared_error', optimizer='adam', metrics=[tf.keras.metrics.MeanSquaredError()])\n",
        "    return model"
      ]
    },
    {
      "cell_type": "code",
      "source": [
        "tuner = keras_tuner.RandomSearch(\n",
        "      build_model,\n",
        "      objective='val_loss',\n",
        "      max_trials=10,overwrite = True)\n",
        "tuner.search(X_train,y_train , epochs=10, validation_split=0.2)\n",
        "best_model = tuner.get_best_models()[0]\n",
        "best_model.summary()"
      ],
      "metadata": {
        "colab": {
          "base_uri": "https://localhost:8080/"
        },
        "id": "fM9WingWIGXc",
        "outputId": "79068576-71b7-43f6-f9d7-c3cc5d6a9103"
      },
      "execution_count": null,
      "outputs": [
        {
          "output_type": "stream",
          "name": "stdout",
          "text": [
            "Trial 10 Complete [00h 00m 11s]\n",
            "val_loss: 0.8127514123916626\n",
            "\n",
            "Best val_loss So Far: 0.8071630597114563\n",
            "Total elapsed time: 00h 02m 12s\n",
            "Model: \"sequential\"\n",
            "_________________________________________________________________\n",
            " Layer (type)                Output Shape              Param #   \n",
            "=================================================================\n",
            " lstm (LSTM)                 (None, 60, 109)           48396     \n",
            "                                                                 \n",
            " gru (GRU)                   (None, 60, 109)           71940     \n",
            "                                                                 \n",
            " lstm_1 (LSTM)               (None, 109)               95484     \n",
            "                                                                 \n",
            " dense (Dense)               (None, 29)                3190      \n",
            "                                                                 \n",
            " dense_1 (Dense)             (None, 1)                 30        \n",
            "                                                                 \n",
            "=================================================================\n",
            "Total params: 219,040\n",
            "Trainable params: 219,040\n",
            "Non-trainable params: 0\n",
            "_________________________________________________________________\n"
          ]
        }
      ]
    },
    {
      "cell_type": "code",
      "execution_count": null,
      "metadata": {
        "id": "OnWc6F-oeFXX",
        "outputId": "c31635d2-1f31-4ee5-b81a-1bb8de63c3ec",
        "colab": {
          "base_uri": "https://localhost:8080/"
        }
      },
      "outputs": [
        {
          "output_type": "stream",
          "name": "stdout",
          "text": [
            "\n",
            "Epoch 1: val_loss improved from inf to 1.13291, saving model to weights1.hdf5\n",
            "\n",
            "Epoch 2: val_loss did not improve from 1.13291\n",
            "\n",
            "Epoch 3: val_loss did not improve from 1.13291\n",
            "\n",
            "Epoch 4: val_loss improved from 1.13291 to 1.13181, saving model to weights1.hdf5\n",
            "\n",
            "Epoch 5: val_loss did not improve from 1.13181\n",
            "\n",
            "Epoch 6: val_loss did not improve from 1.13181\n",
            "\n",
            "Epoch 7: val_loss did not improve from 1.13181\n",
            "\n",
            "Epoch 8: val_loss did not improve from 1.13181\n",
            "\n",
            "Epoch 9: val_loss did not improve from 1.13181\n",
            "\n",
            "Epoch 10: val_loss did not improve from 1.13181\n",
            "\n",
            "Epoch 11: val_loss did not improve from 1.13181\n",
            "\n",
            "Epoch 12: val_loss did not improve from 1.13181\n",
            "\n",
            "Epoch 13: val_loss did not improve from 1.13181\n",
            "\n",
            "Epoch 14: val_loss did not improve from 1.13181\n",
            "\n",
            "Epoch 15: val_loss did not improve from 1.13181\n",
            "\n",
            "Epoch 16: val_loss did not improve from 1.13181\n",
            "\n",
            "Epoch 17: val_loss did not improve from 1.13181\n",
            "\n",
            "Epoch 18: val_loss did not improve from 1.13181\n",
            "\n",
            "Epoch 19: val_loss did not improve from 1.13181\n",
            "\n",
            "Epoch 20: val_loss did not improve from 1.13181\n",
            "\n",
            "Epoch 21: val_loss did not improve from 1.13181\n",
            "\n",
            "Epoch 22: val_loss did not improve from 1.13181\n",
            "\n",
            "Epoch 23: val_loss did not improve from 1.13181\n",
            "\n",
            "Epoch 24: val_loss did not improve from 1.13181\n",
            "\n",
            "Epoch 25: val_loss did not improve from 1.13181\n",
            "\n",
            "Epoch 26: val_loss did not improve from 1.13181\n",
            "\n",
            "Epoch 27: val_loss did not improve from 1.13181\n",
            "\n",
            "Epoch 28: val_loss did not improve from 1.13181\n",
            "\n",
            "Epoch 29: val_loss did not improve from 1.13181\n",
            "\n",
            "Epoch 30: val_loss did not improve from 1.13181\n",
            "\n",
            "Epoch 31: val_loss did not improve from 1.13181\n",
            "\n",
            "Epoch 32: val_loss did not improve from 1.13181\n",
            "\n",
            "Epoch 33: val_loss did not improve from 1.13181\n",
            "\n",
            "Epoch 34: val_loss did not improve from 1.13181\n",
            "\n",
            "Epoch 35: val_loss did not improve from 1.13181\n",
            "\n",
            "Epoch 36: val_loss did not improve from 1.13181\n",
            "\n",
            "Epoch 37: val_loss did not improve from 1.13181\n",
            "\n",
            "Epoch 38: val_loss did not improve from 1.13181\n",
            "\n",
            "Epoch 39: val_loss did not improve from 1.13181\n",
            "\n",
            "Epoch 40: val_loss did not improve from 1.13181\n",
            "\n",
            "Epoch 41: val_loss did not improve from 1.13181\n",
            "\n",
            "Epoch 42: val_loss did not improve from 1.13181\n",
            "\n",
            "Epoch 43: val_loss did not improve from 1.13181\n",
            "\n",
            "Epoch 44: val_loss did not improve from 1.13181\n",
            "\n",
            "Epoch 45: val_loss did not improve from 1.13181\n",
            "\n",
            "Epoch 46: val_loss did not improve from 1.13181\n",
            "\n",
            "Epoch 47: val_loss did not improve from 1.13181\n",
            "\n",
            "Epoch 48: val_loss did not improve from 1.13181\n",
            "\n",
            "Epoch 49: val_loss did not improve from 1.13181\n",
            "\n",
            "Epoch 50: val_loss did not improve from 1.13181\n",
            "\n",
            "Epoch 51: val_loss did not improve from 1.13181\n",
            "\n",
            "Epoch 52: val_loss did not improve from 1.13181\n",
            "\n",
            "Epoch 53: val_loss did not improve from 1.13181\n",
            "\n",
            "Epoch 54: val_loss did not improve from 1.13181\n",
            "\n",
            "Epoch 55: val_loss did not improve from 1.13181\n",
            "\n",
            "Epoch 56: val_loss did not improve from 1.13181\n",
            "\n",
            "Epoch 57: val_loss did not improve from 1.13181\n",
            "\n",
            "Epoch 58: val_loss did not improve from 1.13181\n",
            "\n",
            "Epoch 59: val_loss did not improve from 1.13181\n",
            "\n",
            "Epoch 60: val_loss did not improve from 1.13181\n",
            "\n",
            "Epoch 61: val_loss did not improve from 1.13181\n",
            "\n",
            "Epoch 62: val_loss did not improve from 1.13181\n",
            "\n",
            "Epoch 63: val_loss did not improve from 1.13181\n",
            "\n",
            "Epoch 64: val_loss did not improve from 1.13181\n",
            "\n",
            "Epoch 65: val_loss did not improve from 1.13181\n",
            "\n",
            "Epoch 66: val_loss did not improve from 1.13181\n",
            "\n",
            "Epoch 67: val_loss did not improve from 1.13181\n",
            "\n",
            "Epoch 68: val_loss did not improve from 1.13181\n",
            "\n",
            "Epoch 69: val_loss did not improve from 1.13181\n",
            "\n",
            "Epoch 70: val_loss did not improve from 1.13181\n",
            "\n",
            "Epoch 71: val_loss did not improve from 1.13181\n",
            "\n",
            "Epoch 72: val_loss did not improve from 1.13181\n",
            "\n",
            "Epoch 73: val_loss did not improve from 1.13181\n",
            "\n",
            "Epoch 74: val_loss did not improve from 1.13181\n",
            "\n",
            "Epoch 75: val_loss did not improve from 1.13181\n",
            "\n",
            "Epoch 76: val_loss did not improve from 1.13181\n",
            "\n",
            "Epoch 77: val_loss did not improve from 1.13181\n",
            "\n",
            "Epoch 78: val_loss did not improve from 1.13181\n",
            "\n",
            "Epoch 79: val_loss did not improve from 1.13181\n",
            "\n",
            "Epoch 80: val_loss did not improve from 1.13181\n",
            "\n",
            "Epoch 81: val_loss did not improve from 1.13181\n",
            "\n",
            "Epoch 82: val_loss did not improve from 1.13181\n",
            "\n",
            "Epoch 83: val_loss did not improve from 1.13181\n",
            "\n",
            "Epoch 84: val_loss did not improve from 1.13181\n",
            "\n",
            "Epoch 85: val_loss did not improve from 1.13181\n",
            "\n",
            "Epoch 86: val_loss did not improve from 1.13181\n",
            "\n",
            "Epoch 87: val_loss did not improve from 1.13181\n",
            "\n",
            "Epoch 88: val_loss did not improve from 1.13181\n",
            "\n",
            "Epoch 89: val_loss did not improve from 1.13181\n",
            "\n",
            "Epoch 90: val_loss did not improve from 1.13181\n",
            "\n",
            "Epoch 91: val_loss did not improve from 1.13181\n",
            "\n",
            "Epoch 92: val_loss did not improve from 1.13181\n",
            "\n",
            "Epoch 93: val_loss did not improve from 1.13181\n",
            "\n",
            "Epoch 94: val_loss did not improve from 1.13181\n",
            "\n",
            "Epoch 95: val_loss did not improve from 1.13181\n",
            "\n",
            "Epoch 96: val_loss did not improve from 1.13181\n",
            "\n",
            "Epoch 97: val_loss did not improve from 1.13181\n",
            "\n",
            "Epoch 98: val_loss did not improve from 1.13181\n",
            "\n",
            "Epoch 99: val_loss did not improve from 1.13181\n",
            "\n",
            "Epoch 100: val_loss did not improve from 1.13181\n",
            "\n",
            "Epoch 101: val_loss did not improve from 1.13181\n",
            "\n",
            "Epoch 102: val_loss did not improve from 1.13181\n",
            "\n",
            "Epoch 103: val_loss did not improve from 1.13181\n",
            "\n",
            "Epoch 104: val_loss did not improve from 1.13181\n"
          ]
        },
        {
          "output_type": "execute_result",
          "data": {
            "text/plain": [
              "<keras.callbacks.History at 0x7f23c0719220>"
            ]
          },
          "metadata": {},
          "execution_count": 103
        }
      ],
      "source": [
        "#best_model=build_best()\n",
        "early_stopping=EarlyStopping(patience=100, verbose=0)\n",
        "checkpointer=ModelCheckpoint(filepath='weights1.hdf5', save_best_only=True, verbose=1)\n",
        "best_model.fit(X_train,y_train, batch_size=32,epochs=1000, verbose=0, \\\n",
        "                validation_split=0.1,callbacks=[checkpointer, early_stopping], shuffle=True)"
      ]
    },
    {
      "cell_type": "code",
      "source": [
        "predictions = scaler2.inverse_transform(best_model.predict(X_test)).flatten()\n",
        "y_true=scaler2.inverse_transform(y_test.reshape(-1,1)).flatten()\n",
        "pred_sign=(predictions>=0).astype(int)-(predictions<0).astype(int)\n",
        "true_sign=(y_true>=0).astype(int)-(y_true<0).astype(int)\n",
        "print(confusion_matrix(true_sign,pred_sign))\n",
        "print(classification_report(true_sign,pred_sign))"
      ],
      "metadata": {
        "colab": {
          "base_uri": "https://localhost:8080/"
        },
        "id": "6hIQiud6nxNF",
        "outputId": "68e6625c-f3ac-4844-8b1d-b7067c2c0bb1"
      },
      "execution_count": null,
      "outputs": [
        {
          "output_type": "stream",
          "name": "stdout",
          "text": [
            "2/2 [==============================] - 1s 9ms/step\n",
            "[[11 12]\n",
            " [21 10]]\n",
            "              precision    recall  f1-score   support\n",
            "\n",
            "          -1       0.34      0.48      0.40        23\n",
            "           1       0.45      0.32      0.38        31\n",
            "\n",
            "    accuracy                           0.39        54\n",
            "   macro avg       0.40      0.40      0.39        54\n",
            "weighted avg       0.41      0.39      0.39        54\n",
            "\n"
          ]
        }
      ]
    }
  ]
}