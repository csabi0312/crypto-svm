{
  "nbformat": 4,
  "nbformat_minor": 0,
  "metadata": {
    "colab": {
      "provenance": [],
      "collapsed_sections": [
        "PXculM1gGSmI",
        "MzQpwCUzbhb4"
      ],
      "include_colab_link": true
    },
    "kernelspec": {
      "name": "python3",
      "display_name": "Python 3"
    },
    "language_info": {
      "name": "python"
    },
    "gpuClass": "premium",
    "accelerator": "GPU"
  },
  "cells": [
    {
      "cell_type": "markdown",
      "metadata": {
        "id": "view-in-github",
        "colab_type": "text"
      },
      "source": [
        "<a href=\"https://colab.research.google.com/github/csabi0312/crypto-svm/blob/gru/crypto14.ipynb\" target=\"_parent\"><img src=\"https://colab.research.google.com/assets/colab-badge.svg\" alt=\"Open In Colab\"/></a>"
      ]
    },
    {
      "cell_type": "markdown",
      "metadata": {
        "id": "PXculM1gGSmI"
      },
      "source": [
        "# Importing packages"
      ]
    },
    {
      "cell_type": "code",
      "execution_count": 1,
      "metadata": {
        "colab": {
          "base_uri": "https://localhost:8080/"
        },
        "id": "VPoZWYEvnklQ",
        "outputId": "77a289bb-8d0c-4775-9df7-6fbaedcc16bd"
      },
      "outputs": [
        {
          "output_type": "stream",
          "name": "stdout",
          "text": [
            "Mounted at /content/drive\n"
          ]
        }
      ],
      "source": [
        "from google.colab import drive\n",
        "drive.mount('/content/drive')"
      ]
    },
    {
      "cell_type": "code",
      "execution_count": 2,
      "metadata": {
        "colab": {
          "base_uri": "https://localhost:8080/"
        },
        "id": "0hxN5Ztu-dsb",
        "outputId": "8dd711dd-f319-4329-caca-c07bd370b40b"
      },
      "outputs": [
        {
          "output_type": "stream",
          "name": "stdout",
          "text": [
            "Looking in indexes: https://pypi.org/simple, https://us-python.pkg.dev/colab-wheels/public/simple/\n",
            "Collecting ujson\n",
            "  Downloading ujson-5.7.0-cp38-cp38-manylinux_2_17_x86_64.manylinux2014_x86_64.whl (52 kB)\n",
            "\u001b[2K     \u001b[90m━━━━━━━━━━━━━━━━━━━━━━━━━━━━━━━━━━━━━━━━\u001b[0m \u001b[32m52.8/52.8 KB\u001b[0m \u001b[31m3.0 MB/s\u001b[0m eta \u001b[36m0:00:00\u001b[0m\n",
            "\u001b[?25hInstalling collected packages: ujson\n",
            "Successfully installed ujson-5.7.0\n"
          ]
        }
      ],
      "source": [
        "pip install ujson"
      ]
    },
    {
      "cell_type": "code",
      "execution_count": 3,
      "metadata": {
        "colab": {
          "base_uri": "https://localhost:8080/"
        },
        "id": "S5nq3CPXTEZ6",
        "outputId": "9abef9db-1822-4102-f18d-452568618153"
      },
      "outputs": [
        {
          "output_type": "stream",
          "name": "stdout",
          "text": [
            "Looking in indexes: https://pypi.org/simple, https://us-python.pkg.dev/colab-wheels/public/simple/\n",
            "Requirement already satisfied: pyyaml in /usr/local/lib/python3.8/dist-packages (6.0)\n",
            "Requirement already satisfied: h5py in /usr/local/lib/python3.8/dist-packages (3.1.0)\n",
            "Requirement already satisfied: numpy>=1.17.5 in /usr/local/lib/python3.8/dist-packages (from h5py) (1.21.6)\n"
          ]
        }
      ],
      "source": [
        "pip install pyyaml h5py"
      ]
    },
    {
      "cell_type": "code",
      "execution_count": 4,
      "metadata": {
        "colab": {
          "base_uri": "https://localhost:8080/"
        },
        "id": "5AmTy-Gy-yXE",
        "outputId": "415851bd-14e6-438c-91b0-17f1e0c21271"
      },
      "outputs": [
        {
          "output_type": "stream",
          "name": "stdout",
          "text": [
            "Looking in indexes: https://pypi.org/simple, https://us-python.pkg.dev/colab-wheels/public/simple/\n",
            "Collecting oandapyV20\n",
            "  Downloading oandapyV20-0.7.2.tar.gz (51 kB)\n",
            "\u001b[2K     \u001b[90m━━━━━━━━━━━━━━━━━━━━━━━━━━━━━━━━━━━━━━━━\u001b[0m \u001b[32m51.6/51.6 KB\u001b[0m \u001b[31m3.2 MB/s\u001b[0m eta \u001b[36m0:00:00\u001b[0m\n",
            "\u001b[?25h  Preparing metadata (setup.py) ... \u001b[?25l\u001b[?25hdone\n",
            "Building wheels for collected packages: oandapyV20\n",
            "  Building wheel for oandapyV20 (setup.py) ... \u001b[?25l\u001b[?25hdone\n",
            "  Created wheel for oandapyV20: filename=oandapyV20-0.7.2-py3-none-any.whl size=70035 sha256=041ca0b45d800188eeb04353557fb3cc79717d1190eaef3379a59811b71b71b5\n",
            "  Stored in directory: /root/.cache/pip/wheels/d2/b6/8e/6fe7d26410a99ddb24ac4358691c5feabf4320d20d8053ca25\n",
            "Successfully built oandapyV20\n",
            "Installing collected packages: oandapyV20\n",
            "Successfully installed oandapyV20-0.7.2\n"
          ]
        }
      ],
      "source": [
        "!pip install oandapyV20"
      ]
    },
    {
      "cell_type": "code",
      "execution_count": 5,
      "metadata": {
        "colab": {
          "base_uri": "https://localhost:8080/"
        },
        "id": "XAHz6AVhjOkb",
        "outputId": "531c82f8-851f-48a2-a1c1-f5840f56dbb4"
      },
      "outputs": [
        {
          "output_type": "stream",
          "name": "stdout",
          "text": [
            "Looking in indexes: https://pypi.org/simple, https://us-python.pkg.dev/colab-wheels/public/simple/\n",
            "Collecting keras-tuner\n",
            "  Downloading keras_tuner-1.2.1-py3-none-any.whl (169 kB)\n",
            "\u001b[2K     \u001b[90m━━━━━━━━━━━━━━━━━━━━━━━━━━━━━━━━━━━━━━━\u001b[0m \u001b[32m169.6/169.6 KB\u001b[0m \u001b[31m7.2 MB/s\u001b[0m eta \u001b[36m0:00:00\u001b[0m\n",
            "\u001b[?25hRequirement already satisfied: packaging in /usr/local/lib/python3.8/dist-packages (from keras-tuner) (23.0)\n",
            "Requirement already satisfied: tensorflow>=2.0 in /usr/local/lib/python3.8/dist-packages (from keras-tuner) (2.9.2)\n",
            "Requirement already satisfied: requests in /usr/local/lib/python3.8/dist-packages (from keras-tuner) (2.25.1)\n",
            "Collecting kt-legacy\n",
            "  Downloading kt_legacy-1.0.4-py3-none-any.whl (9.6 kB)\n",
            "Requirement already satisfied: ipython in /usr/local/lib/python3.8/dist-packages (from keras-tuner) (7.9.0)\n",
            "Requirement already satisfied: gast<=0.4.0,>=0.2.1 in /usr/local/lib/python3.8/dist-packages (from tensorflow>=2.0->keras-tuner) (0.4.0)\n",
            "Requirement already satisfied: setuptools in /usr/local/lib/python3.8/dist-packages (from tensorflow>=2.0->keras-tuner) (57.4.0)\n",
            "Requirement already satisfied: flatbuffers<2,>=1.12 in /usr/local/lib/python3.8/dist-packages (from tensorflow>=2.0->keras-tuner) (1.12)\n",
            "Requirement already satisfied: astunparse>=1.6.0 in /usr/local/lib/python3.8/dist-packages (from tensorflow>=2.0->keras-tuner) (1.6.3)\n",
            "Requirement already satisfied: six>=1.12.0 in /usr/local/lib/python3.8/dist-packages (from tensorflow>=2.0->keras-tuner) (1.15.0)\n",
            "Requirement already satisfied: tensorflow-estimator<2.10.0,>=2.9.0rc0 in /usr/local/lib/python3.8/dist-packages (from tensorflow>=2.0->keras-tuner) (2.9.0)\n",
            "Requirement already satisfied: tensorflow-io-gcs-filesystem>=0.23.1 in /usr/local/lib/python3.8/dist-packages (from tensorflow>=2.0->keras-tuner) (0.30.0)\n",
            "Requirement already satisfied: h5py>=2.9.0 in /usr/local/lib/python3.8/dist-packages (from tensorflow>=2.0->keras-tuner) (3.1.0)\n",
            "Requirement already satisfied: typing-extensions>=3.6.6 in /usr/local/lib/python3.8/dist-packages (from tensorflow>=2.0->keras-tuner) (4.4.0)\n",
            "Requirement already satisfied: numpy>=1.20 in /usr/local/lib/python3.8/dist-packages (from tensorflow>=2.0->keras-tuner) (1.21.6)\n",
            "Requirement already satisfied: keras-preprocessing>=1.1.1 in /usr/local/lib/python3.8/dist-packages (from tensorflow>=2.0->keras-tuner) (1.1.2)\n",
            "Requirement already satisfied: absl-py>=1.0.0 in /usr/local/lib/python3.8/dist-packages (from tensorflow>=2.0->keras-tuner) (1.4.0)\n",
            "Requirement already satisfied: libclang>=13.0.0 in /usr/local/lib/python3.8/dist-packages (from tensorflow>=2.0->keras-tuner) (15.0.6.1)\n",
            "Requirement already satisfied: termcolor>=1.1.0 in /usr/local/lib/python3.8/dist-packages (from tensorflow>=2.0->keras-tuner) (2.2.0)\n",
            "Requirement already satisfied: tensorboard<2.10,>=2.9 in /usr/local/lib/python3.8/dist-packages (from tensorflow>=2.0->keras-tuner) (2.9.1)\n",
            "Requirement already satisfied: wrapt>=1.11.0 in /usr/local/lib/python3.8/dist-packages (from tensorflow>=2.0->keras-tuner) (1.14.1)\n",
            "Requirement already satisfied: google-pasta>=0.1.1 in /usr/local/lib/python3.8/dist-packages (from tensorflow>=2.0->keras-tuner) (0.2.0)\n",
            "Requirement already satisfied: grpcio<2.0,>=1.24.3 in /usr/local/lib/python3.8/dist-packages (from tensorflow>=2.0->keras-tuner) (1.51.1)\n",
            "Requirement already satisfied: keras<2.10.0,>=2.9.0rc0 in /usr/local/lib/python3.8/dist-packages (from tensorflow>=2.0->keras-tuner) (2.9.0)\n",
            "Requirement already satisfied: opt-einsum>=2.3.2 in /usr/local/lib/python3.8/dist-packages (from tensorflow>=2.0->keras-tuner) (3.3.0)\n",
            "Requirement already satisfied: protobuf<3.20,>=3.9.2 in /usr/local/lib/python3.8/dist-packages (from tensorflow>=2.0->keras-tuner) (3.19.6)\n",
            "Requirement already satisfied: decorator in /usr/local/lib/python3.8/dist-packages (from ipython->keras-tuner) (4.4.2)\n",
            "Requirement already satisfied: pickleshare in /usr/local/lib/python3.8/dist-packages (from ipython->keras-tuner) (0.7.5)\n",
            "Requirement already satisfied: pygments in /usr/local/lib/python3.8/dist-packages (from ipython->keras-tuner) (2.6.1)\n",
            "Collecting jedi>=0.10\n",
            "  Downloading jedi-0.18.2-py2.py3-none-any.whl (1.6 MB)\n",
            "\u001b[2K     \u001b[90m━━━━━━━━━━━━━━━━━━━━━━━━━━━━━━━━━━━━━━━━\u001b[0m \u001b[32m1.6/1.6 MB\u001b[0m \u001b[31m39.6 MB/s\u001b[0m eta \u001b[36m0:00:00\u001b[0m\n",
            "\u001b[?25hRequirement already satisfied: prompt-toolkit<2.1.0,>=2.0.0 in /usr/local/lib/python3.8/dist-packages (from ipython->keras-tuner) (2.0.10)\n",
            "Requirement already satisfied: pexpect in /usr/local/lib/python3.8/dist-packages (from ipython->keras-tuner) (4.8.0)\n",
            "Requirement already satisfied: traitlets>=4.2 in /usr/local/lib/python3.8/dist-packages (from ipython->keras-tuner) (5.7.1)\n",
            "Requirement already satisfied: backcall in /usr/local/lib/python3.8/dist-packages (from ipython->keras-tuner) (0.2.0)\n",
            "Requirement already satisfied: urllib3<1.27,>=1.21.1 in /usr/local/lib/python3.8/dist-packages (from requests->keras-tuner) (1.24.3)\n",
            "Requirement already satisfied: certifi>=2017.4.17 in /usr/local/lib/python3.8/dist-packages (from requests->keras-tuner) (2022.12.7)\n",
            "Requirement already satisfied: idna<3,>=2.5 in /usr/local/lib/python3.8/dist-packages (from requests->keras-tuner) (2.10)\n",
            "Requirement already satisfied: chardet<5,>=3.0.2 in /usr/local/lib/python3.8/dist-packages (from requests->keras-tuner) (4.0.0)\n",
            "Requirement already satisfied: wheel<1.0,>=0.23.0 in /usr/local/lib/python3.8/dist-packages (from astunparse>=1.6.0->tensorflow>=2.0->keras-tuner) (0.38.4)\n",
            "Requirement already satisfied: parso<0.9.0,>=0.8.0 in /usr/local/lib/python3.8/dist-packages (from jedi>=0.10->ipython->keras-tuner) (0.8.3)\n",
            "Requirement already satisfied: wcwidth in /usr/local/lib/python3.8/dist-packages (from prompt-toolkit<2.1.0,>=2.0.0->ipython->keras-tuner) (0.2.6)\n",
            "Requirement already satisfied: tensorboard-data-server<0.7.0,>=0.6.0 in /usr/local/lib/python3.8/dist-packages (from tensorboard<2.10,>=2.9->tensorflow>=2.0->keras-tuner) (0.6.1)\n",
            "Requirement already satisfied: werkzeug>=1.0.1 in /usr/local/lib/python3.8/dist-packages (from tensorboard<2.10,>=2.9->tensorflow>=2.0->keras-tuner) (1.0.1)\n",
            "Requirement already satisfied: google-auth<3,>=1.6.3 in /usr/local/lib/python3.8/dist-packages (from tensorboard<2.10,>=2.9->tensorflow>=2.0->keras-tuner) (2.16.0)\n",
            "Requirement already satisfied: tensorboard-plugin-wit>=1.6.0 in /usr/local/lib/python3.8/dist-packages (from tensorboard<2.10,>=2.9->tensorflow>=2.0->keras-tuner) (1.8.1)\n",
            "Requirement already satisfied: google-auth-oauthlib<0.5,>=0.4.1 in /usr/local/lib/python3.8/dist-packages (from tensorboard<2.10,>=2.9->tensorflow>=2.0->keras-tuner) (0.4.6)\n",
            "Requirement already satisfied: markdown>=2.6.8 in /usr/local/lib/python3.8/dist-packages (from tensorboard<2.10,>=2.9->tensorflow>=2.0->keras-tuner) (3.4.1)\n",
            "Requirement already satisfied: ptyprocess>=0.5 in /usr/local/lib/python3.8/dist-packages (from pexpect->ipython->keras-tuner) (0.7.0)\n",
            "Requirement already satisfied: pyasn1-modules>=0.2.1 in /usr/local/lib/python3.8/dist-packages (from google-auth<3,>=1.6.3->tensorboard<2.10,>=2.9->tensorflow>=2.0->keras-tuner) (0.2.8)\n",
            "Requirement already satisfied: cachetools<6.0,>=2.0.0 in /usr/local/lib/python3.8/dist-packages (from google-auth<3,>=1.6.3->tensorboard<2.10,>=2.9->tensorflow>=2.0->keras-tuner) (5.3.0)\n",
            "Requirement already satisfied: rsa<5,>=3.1.4 in /usr/local/lib/python3.8/dist-packages (from google-auth<3,>=1.6.3->tensorboard<2.10,>=2.9->tensorflow>=2.0->keras-tuner) (4.9)\n",
            "Requirement already satisfied: requests-oauthlib>=0.7.0 in /usr/local/lib/python3.8/dist-packages (from google-auth-oauthlib<0.5,>=0.4.1->tensorboard<2.10,>=2.9->tensorflow>=2.0->keras-tuner) (1.3.1)\n",
            "Requirement already satisfied: importlib-metadata>=4.4 in /usr/local/lib/python3.8/dist-packages (from markdown>=2.6.8->tensorboard<2.10,>=2.9->tensorflow>=2.0->keras-tuner) (6.0.0)\n",
            "Requirement already satisfied: zipp>=0.5 in /usr/local/lib/python3.8/dist-packages (from importlib-metadata>=4.4->markdown>=2.6.8->tensorboard<2.10,>=2.9->tensorflow>=2.0->keras-tuner) (3.12.0)\n",
            "Requirement already satisfied: pyasn1<0.5.0,>=0.4.6 in /usr/local/lib/python3.8/dist-packages (from pyasn1-modules>=0.2.1->google-auth<3,>=1.6.3->tensorboard<2.10,>=2.9->tensorflow>=2.0->keras-tuner) (0.4.8)\n",
            "Requirement already satisfied: oauthlib>=3.0.0 in /usr/local/lib/python3.8/dist-packages (from requests-oauthlib>=0.7.0->google-auth-oauthlib<0.5,>=0.4.1->tensorboard<2.10,>=2.9->tensorflow>=2.0->keras-tuner) (3.2.2)\n",
            "Installing collected packages: kt-legacy, jedi, keras-tuner\n",
            "Successfully installed jedi-0.18.2 keras-tuner-1.2.1 kt-legacy-1.0.4\n"
          ]
        }
      ],
      "source": [
        "pip install keras-tuner"
      ]
    },
    {
      "cell_type": "code",
      "execution_count": 6,
      "metadata": {
        "colab": {
          "base_uri": "https://localhost:8080/"
        },
        "id": "SjsGC2P898qf",
        "outputId": "c397292a-12c6-43a2-aceb-e9ccbb9f63eb"
      },
      "outputs": [
        {
          "output_type": "stream",
          "name": "stdout",
          "text": [
            "Looking in indexes: https://pypi.org/simple, https://us-python.pkg.dev/colab-wheels/public/simple/\n",
            "Collecting v20\n",
            "  Downloading v20-3.0.25.0.tar.gz (75 kB)\n",
            "\u001b[2K     \u001b[90m━━━━━━━━━━━━━━━━━━━━━━━━━━━━━━━━━━━━━━━━\u001b[0m \u001b[32m75.1/75.1 KB\u001b[0m \u001b[31m5.2 MB/s\u001b[0m eta \u001b[36m0:00:00\u001b[0m\n",
            "\u001b[?25h  Preparing metadata (setup.py) ... \u001b[?25l\u001b[?25hdone\n",
            "Requirement already satisfied: requests in /usr/local/lib/python3.8/dist-packages (from v20) (2.25.1)\n",
            "Requirement already satisfied: ujson in /usr/local/lib/python3.8/dist-packages (from v20) (5.7.0)\n",
            "Requirement already satisfied: urllib3<1.27,>=1.21.1 in /usr/local/lib/python3.8/dist-packages (from requests->v20) (1.24.3)\n",
            "Requirement already satisfied: chardet<5,>=3.0.2 in /usr/local/lib/python3.8/dist-packages (from requests->v20) (4.0.0)\n",
            "Requirement already satisfied: certifi>=2017.4.17 in /usr/local/lib/python3.8/dist-packages (from requests->v20) (2022.12.7)\n",
            "Requirement already satisfied: idna<3,>=2.5 in /usr/local/lib/python3.8/dist-packages (from requests->v20) (2.10)\n",
            "Building wheels for collected packages: v20\n",
            "  Building wheel for v20 (setup.py) ... \u001b[?25l\u001b[?25hdone\n",
            "  Created wheel for v20: filename=v20-3.0.25.0-py3-none-any.whl size=85780 sha256=602f8b7d5600426648baf6a00bc41476491d9cf8ed0e975533d519190b1994d3\n",
            "  Stored in directory: /root/.cache/pip/wheels/9b/50/e6/7431cad84aed36618f1cd68ee913ba2d8b7759e3c4aecfe2d5\n",
            "Successfully built v20\n",
            "Installing collected packages: v20\n",
            "Successfully installed v20-3.0.25.0\n"
          ]
        }
      ],
      "source": [
        "pip install v20"
      ]
    },
    {
      "cell_type": "code",
      "execution_count": 7,
      "metadata": {
        "colab": {
          "base_uri": "https://localhost:8080/"
        },
        "id": "GNzn1rGJ_BUY",
        "outputId": "e94ab47c-f912-4c16-99ae-cf43c1f62829"
      },
      "outputs": [
        {
          "output_type": "stream",
          "name": "stdout",
          "text": [
            "Looking in indexes: https://pypi.org/simple, https://us-python.pkg.dev/colab-wheels/public/simple/\n",
            "Collecting git+https://github.com/yhilpisch/tpqoa.git\n",
            "  Cloning https://github.com/yhilpisch/tpqoa.git to /tmp/pip-req-build-ge4y286a\n",
            "  Running command git clone --filter=blob:none --quiet https://github.com/yhilpisch/tpqoa.git /tmp/pip-req-build-ge4y286a\n",
            "  Resolved https://github.com/yhilpisch/tpqoa.git to commit f47a1ffddd2b2684c7e1569df6210b98dbe4e701\n",
            "  Preparing metadata (setup.py) ... \u001b[?25l\u001b[?25hdone\n",
            "Requirement already satisfied: v20==3.0.25.0 in /usr/local/lib/python3.8/dist-packages (from tpqoa==0.0.55) (3.0.25.0)\n",
            "Requirement already satisfied: pyyaml in /usr/local/lib/python3.8/dist-packages (from tpqoa==0.0.55) (6.0)\n",
            "Requirement already satisfied: ujson in /usr/local/lib/python3.8/dist-packages (from v20==3.0.25.0->tpqoa==0.0.55) (5.7.0)\n",
            "Requirement already satisfied: requests in /usr/local/lib/python3.8/dist-packages (from v20==3.0.25.0->tpqoa==0.0.55) (2.25.1)\n",
            "Requirement already satisfied: idna<3,>=2.5 in /usr/local/lib/python3.8/dist-packages (from requests->v20==3.0.25.0->tpqoa==0.0.55) (2.10)\n",
            "Requirement already satisfied: urllib3<1.27,>=1.21.1 in /usr/local/lib/python3.8/dist-packages (from requests->v20==3.0.25.0->tpqoa==0.0.55) (1.24.3)\n",
            "Requirement already satisfied: chardet<5,>=3.0.2 in /usr/local/lib/python3.8/dist-packages (from requests->v20==3.0.25.0->tpqoa==0.0.55) (4.0.0)\n",
            "Requirement already satisfied: certifi>=2017.4.17 in /usr/local/lib/python3.8/dist-packages (from requests->v20==3.0.25.0->tpqoa==0.0.55) (2022.12.7)\n",
            "Building wheels for collected packages: tpqoa\n",
            "  Building wheel for tpqoa (setup.py) ... \u001b[?25l\u001b[?25hdone\n",
            "  Created wheel for tpqoa: filename=tpqoa-0.0.55-py3-none-any.whl size=10928 sha256=e962f83c003085954702813294708d4605f8032bd902003bcda0381c9bb28e99\n",
            "  Stored in directory: /tmp/pip-ephem-wheel-cache-5yqj4ifo/wheels/54/90/ca/b84ec93e1d9679237c36be01b355ed94b670276656689e84a5\n",
            "Successfully built tpqoa\n",
            "Installing collected packages: tpqoa\n",
            "Successfully installed tpqoa-0.0.55\n"
          ]
        }
      ],
      "source": [
        "pip install --upgrade git+https://github.com/yhilpisch/tpqoa.git"
      ]
    },
    {
      "cell_type": "code",
      "execution_count": 131,
      "metadata": {
        "id": "EVvqt5I_nobg"
      },
      "outputs": [],
      "source": [
        "import pickle\n",
        "import gzip\n",
        "import pandas as pd\n",
        "import numpy as np\n",
        "import matplotlib.pyplot as plt\n",
        "from scipy.integrate import simps\n",
        "from numpy import trapz\n",
        "import pickle\n",
        "import gzip\n",
        "import pandas as pd\n",
        "import numpy as np\n",
        "import matplotlib.pyplot as plt\n",
        "from scipy.integrate import simps\n",
        "from numpy import trapz\n",
        "import matplotlib.pyplot as plt\n",
        "import pandas as pd\n",
        "from sklearn.svm import SVC  \n",
        "from sklearn.metrics import classification_report, confusion_matrix\n",
        "from sklearn.model_selection import GridSearchCV\n",
        "import numpy as np\n",
        "import tensorflow as tf\n",
        "from tensorflow import keras\n",
        "from tensorflow.keras import regularizers\n",
        "from tensorflow.keras.callbacks import EarlyStopping, ModelCheckpoint\n",
        "from tensorflow.keras.models import load_model\n",
        "from sklearn.preprocessing import StandardScaler, MinMaxScaler\n",
        "import keras.losses\n",
        "import sklearn\n",
        "from sklearn.metrics import accuracy_score, precision_score, recall_score, f1_score, roc_curve, confusion_matrix\n",
        "from sklearn.metrics import accuracy_score, f1_score, precision_score, recall_score, roc_auc_score, average_precision_score\n",
        "import numpy as np\n",
        "import seaborn as sns\n",
        "import matplotlib.pyplot as plt\n",
        "import keras_tuner\n",
        "from tensorflow.keras import regularizers\n",
        "import tpqoa\n",
        "from tensorflow.keras.models import Sequential\n",
        "from tensorflow.keras.layers import *\n",
        "from tensorflow.keras.callbacks import ModelCheckpoint\n",
        "from tensorflow.keras.losses import MeanSquaredError\n",
        "from tensorflow.keras.metrics import RootMeanSquaredError\n",
        "from tensorflow.keras.optimizers import Adam, SGD\n",
        "from tensorflow.keras.models import load_model\n",
        "import oandapyV20.endpoints.instruments as instruments\n",
        "import datetime\n",
        "import oandapyV20.endpoints.instruments as instruments\n",
        "import datetime\n",
        "from sklearn.metrics import mean_squared_error as mse"
      ]
    },
    {
      "cell_type": "code",
      "execution_count": 9,
      "metadata": {
        "colab": {
          "base_uri": "https://localhost:8080/",
          "height": 433
        },
        "id": "C_yHVZaHnp_z",
        "outputId": "5f6b401a-d926-47a3-ef24-20ede67d2523"
      },
      "outputs": [
        {
          "output_type": "stream",
          "name": "stdout",
          "text": [
            "Looking in indexes: https://pypi.org/simple, https://us-python.pkg.dev/colab-wheels/public/simple/\n",
            "Collecting rich\n",
            "  Downloading rich-13.3.1-py3-none-any.whl (239 kB)\n",
            "\u001b[2K     \u001b[90m━━━━━━━━━━━━━━━━━━━━━━━━━━━━━━━━━━━━━━━\u001b[0m \u001b[32m239.0/239.0 KB\u001b[0m \u001b[31m9.5 MB/s\u001b[0m eta \u001b[36m0:00:00\u001b[0m\n",
            "\u001b[?25hCollecting pygments<3.0.0,>=2.14.0\n",
            "  Downloading Pygments-2.14.0-py3-none-any.whl (1.1 MB)\n",
            "\u001b[2K     \u001b[90m━━━━━━━━━━━━━━━━━━━━━━━━━━━━━━━━━━━━━━━━\u001b[0m \u001b[32m1.1/1.1 MB\u001b[0m \u001b[31m47.1 MB/s\u001b[0m eta \u001b[36m0:00:00\u001b[0m\n",
            "\u001b[?25hCollecting markdown-it-py<3.0.0,>=2.1.0\n",
            "  Downloading markdown_it_py-2.1.0-py3-none-any.whl (84 kB)\n",
            "\u001b[2K     \u001b[90m━━━━━━━━━━━━━━━━━━━━━━━━━━━━━━━━━━━━━━━━\u001b[0m \u001b[32m84.5/84.5 KB\u001b[0m \u001b[31m10.7 MB/s\u001b[0m eta \u001b[36m0:00:00\u001b[0m\n",
            "\u001b[?25hRequirement already satisfied: typing-extensions<5.0,>=4.0.0 in /usr/local/lib/python3.8/dist-packages (from rich) (4.4.0)\n",
            "Collecting mdurl~=0.1\n",
            "  Downloading mdurl-0.1.2-py3-none-any.whl (10.0 kB)\n",
            "Installing collected packages: pygments, mdurl, markdown-it-py, rich\n",
            "  Attempting uninstall: pygments\n",
            "    Found existing installation: Pygments 2.6.1\n",
            "    Uninstalling Pygments-2.6.1:\n",
            "      Successfully uninstalled Pygments-2.6.1\n",
            "Successfully installed markdown-it-py-2.1.0 mdurl-0.1.2 pygments-2.14.0 rich-13.3.1\n"
          ]
        },
        {
          "output_type": "display_data",
          "data": {
            "application/vnd.colab-display-data+json": {
              "pip_warning": {
                "packages": [
                  "pygments"
                ]
              }
            }
          },
          "metadata": {}
        }
      ],
      "source": [
        "pip install rich"
      ]
    },
    {
      "cell_type": "code",
      "execution_count": 10,
      "metadata": {
        "id": "hSgNf7pKnv1o"
      },
      "outputs": [],
      "source": [
        "from rich.progress import track"
      ]
    },
    {
      "cell_type": "markdown",
      "source": [
        "# DATA"
      ],
      "metadata": {
        "id": "8Ly0xN4Bee6q"
      }
    },
    {
      "cell_type": "code",
      "source": [
        "raw = pd.read_csv(\"/content/drive/MyDrive/Crypto/new3/full_spread_data.csv\", parse_dates = [\"time\"], index_col = \"time\").dropna()\n",
        "raw[\"returns\"] =np.log(raw.Close / raw.Close.shift(1))\n",
        "raw.drop([\"Open\",\"Spread\"],axis=1,inplace=True)\n",
        "cols = []\n",
        "for lag in range(1, 15):\n",
        "    col_h = \"h_lag{}\".format(lag)\n",
        "    col_l = \"l_lag{}\".format(lag)\n",
        "    col_r = \"c_lag{}\".format(lag)\n",
        "    col_v = \"v_lag{}\".format(lag)\n",
        "    raw[col_h] = raw.High.shift(lag)\n",
        "    cols.append(col_h)\n",
        "    raw[col_l] = raw.Low.shift(lag)\n",
        "    cols.append(col_l)\n",
        "    raw[col_r] = raw.Close.shift(lag)\n",
        "    cols.append(col_r)\n",
        "    raw[col_v] = raw.Volume.shift(lag)\n",
        "    cols.append(col_v)\n",
        "    raw.dropna(inplace = True)\n",
        "raw.drop([\"High\",\"Low\",\"Volume\",\"Close\"],axis=1,inplace=True)\n",
        "\n",
        "raw[\"returns2\"]=(raw[\"returns\"]>=0).astype(int)\n",
        "\n",
        "to=int(len(raw)*0.8)\n",
        "X_train=raw.drop([\"returns2\",\"returns\"],axis=1).iloc[:to].to_numpy()\n",
        "y_train=raw[\"returns2\"].iloc[:to].to_numpy().astype(float)\n",
        "X_test=raw.drop([\"returns2\",\"returns\"],axis=1).iloc[to:].to_numpy()\n",
        "y_test=raw[\"returns2\"].iloc[to:].to_numpy().astype(float)\n",
        "\n",
        "scaler1 = MinMaxScaler()\n",
        "X_train=scaler1.fit_transform(X_train)\n",
        "X_test=scaler1.transform(X_test)\n",
        "\n",
        "from tensorflow.keras.utils import to_categorical\n",
        "y_train2 = to_categorical(y_train, 3)\n",
        "y_test2 = to_categorical(y_test, 3)\n",
        "\n",
        "print(X_train.shape,y_train.shape,X_test.shape,y_test.shape)"
      ],
      "metadata": {
        "colab": {
          "base_uri": "https://localhost:8080/"
        },
        "id": "miYfHBSKh-88",
        "outputId": "e9e8165a-2523-4b90-ccb4-fa4f63dfa6e5"
      },
      "execution_count": 179,
      "outputs": [
        {
          "output_type": "stream",
          "name": "stdout",
          "text": [
            "(1595, 56) (1595,) (399, 56) (399,)\n"
          ]
        }
      ]
    },
    {
      "cell_type": "markdown",
      "source": [
        "# GRU2"
      ],
      "metadata": {
        "id": "134l3zG0Yg8F"
      }
    },
    {
      "cell_type": "code",
      "source": [
        "def build_model(hp):\n",
        "    model = Sequential()\n",
        "    model.add(Dense(hp.Int('units1', min_value=5, max_value=200, step=1),activation=\"relu\",input_shape=(56,1)))\n",
        "    model.add(Dense(hp.Int('units2', min_value=5, max_value=180, step=1),activation=\"relu\"))\n",
        "    model.add(Dense(hp.Int('units3', min_value=5, max_value=160, step=1),activation=\"relu\"))\n",
        "    model.add(Dense(hp.Int('units4', min_value=5, max_value=140, step=1),activation=\"relu\"))\n",
        "    model.add(Dense(hp.Int('units5', min_value=5, max_value=120, step=1),activation=\"relu\"))\n",
        "    model.add(GRU(hp.Int('units6', min_value=1, max_value=120, step=1), return_sequences=True))\n",
        "    model.add(LSTM(hp.Int('units7', min_value=1, max_value=120, step=1), return_sequences=False))\n",
        "    model.add(Dense(2,activation=\"softmax\"))\n",
        "\n",
        "    model.compile(loss='categorical_crossentropy', optimizer='adam', metrics=['accuracy'])\n",
        "    return model\n",
        "\n",
        "tuner = keras_tuner.RandomSearch(\n",
        "      build_model,\n",
        "      objective='val_loss',\n",
        "      max_trials=20,overwrite = True)\n",
        "tuner.search(X_train,y_train2 , epochs=10, validation_split=0.2)\n",
        "best_model = tuner.get_best_models()[0]\n",
        "best_model.summary()\n",
        "\n",
        "early_stopping=EarlyStopping(patience=25, verbose=0)\n",
        "checkpointer=ModelCheckpoint(filepath='weights1.hdf5', save_best_only=True, verbose=1)\n",
        "best_model.fit(X_train,y_train2, batch_size=50,epochs=100, verbose=0, \\\n",
        "                validation_split=0.2,callbacks=[checkpointer, early_stopping], shuffle=True)\n",
        "\n",
        "predictions =best_model.predict(X_test)\n",
        "pred_sign=np.argmax(predictions,axis=1)\n",
        "true_sign=np.argmax(y_test2,axis=1)\n",
        "print(confusion_matrix(true_sign,pred_sign))\n",
        "print(classification_report(true_sign,pred_sign))"
      ],
      "metadata": {
        "id": "470hqXnrtOBl",
        "outputId": "aec6297c-59e1-42ab-9d7b-37faad6fcb04",
        "colab": {
          "base_uri": "https://localhost:8080/",
          "height": 1000
        }
      },
      "execution_count": 194,
      "outputs": [
        {
          "output_type": "stream",
          "name": "stdout",
          "text": [
            "Trial 2 Complete [00h 00m 01s]\n",
            "\n",
            "Best val_loss So Far: None\n",
            "Total elapsed time: 00h 00m 03s\n",
            "\n",
            "Search: Running Trial #3\n",
            "\n",
            "Value             |Best Value So Far |Hyperparameter\n",
            "71                |?                 |units1\n",
            "47                |?                 |units2\n",
            "149               |?                 |units3\n",
            "122               |?                 |units4\n",
            "86                |?                 |units5\n",
            "4                 |?                 |units6\n",
            "3                 |?                 |units7\n",
            "\n",
            "Epoch 1/10\n"
          ]
        },
        {
          "output_type": "stream",
          "name": "stderr",
          "text": [
            "WARNING:tensorflow:Model was constructed with shape (None, 56, 2) for input KerasTensor(type_spec=TensorSpec(shape=(None, 56, 2), dtype=tf.float32, name='dense_input'), name='dense_input', description=\"created by layer 'dense_input'\"), but it was called on an input with incompatible shape (None, 56).\n",
            "Traceback (most recent call last):\n",
            "  File \"/usr/local/lib/python3.8/dist-packages/keras_tuner/engine/base_tuner.py\", line 250, in _try_run_and_update_trial\n",
            "    self._run_and_update_trial(trial, *fit_args, **fit_kwargs)\n",
            "  File \"/usr/local/lib/python3.8/dist-packages/keras_tuner/engine/base_tuner.py\", line 215, in _run_and_update_trial\n",
            "    results = self.run_trial(trial, *fit_args, **fit_kwargs)\n",
            "  File \"/usr/local/lib/python3.8/dist-packages/keras_tuner/engine/tuner.py\", line 286, in run_trial\n",
            "    obj_value = self._build_and_fit_model(trial, *args, **copied_kwargs)\n",
            "  File \"/usr/local/lib/python3.8/dist-packages/keras_tuner/engine/tuner.py\", line 213, in _build_and_fit_model\n",
            "    results = self.hypermodel.fit(hp, model, *args, **kwargs)\n",
            "  File \"/usr/local/lib/python3.8/dist-packages/keras_tuner/engine/hypermodel.py\", line 144, in fit\n",
            "    return model.fit(*args, **kwargs)\n",
            "  File \"/usr/local/lib/python3.8/dist-packages/keras/utils/traceback_utils.py\", line 67, in error_handler\n",
            "    raise e.with_traceback(filtered_tb) from None\n",
            "  File \"/tmp/__autograph_generated_filegqozb6mg.py\", line 15, in tf__train_function\n",
            "    retval_ = ag__.converted_call(ag__.ld(step_function), (ag__.ld(self), ag__.ld(iterator)), None, fscope)\n",
            "ValueError: in user code:\n",
            "\n",
            "    File \"/usr/local/lib/python3.8/dist-packages/keras/engine/training.py\", line 1051, in train_function  *\n",
            "        return step_function(self, iterator)\n",
            "    File \"/usr/local/lib/python3.8/dist-packages/keras/engine/training.py\", line 1040, in step_function  **\n",
            "        outputs = model.distribute_strategy.run(run_step, args=(data,))\n",
            "    File \"/usr/local/lib/python3.8/dist-packages/keras/engine/training.py\", line 1030, in run_step  **\n",
            "        outputs = model.train_step(data)\n",
            "    File \"/usr/local/lib/python3.8/dist-packages/keras/engine/training.py\", line 889, in train_step\n",
            "        y_pred = self(x, training=True)\n",
            "    File \"/usr/local/lib/python3.8/dist-packages/keras/utils/traceback_utils.py\", line 67, in error_handler\n",
            "        raise e.with_traceback(filtered_tb) from None\n",
            "    File \"/usr/local/lib/python3.8/dist-packages/keras/engine/input_spec.py\", line 248, in assert_input_compatibility\n",
            "        raise ValueError(\n",
            "\n",
            "    ValueError: Exception encountered when calling layer \"sequential\" (type Sequential).\n",
            "    \n",
            "    Input 0 of layer \"dense\" is incompatible with the layer: expected axis -1 of input shape to have value 2, but received input with shape (None, 56)\n",
            "    \n",
            "    Call arguments received by layer \"sequential\" (type Sequential):\n",
            "      • inputs=tf.Tensor(shape=(None, 56), dtype=float32)\n",
            "      • training=True\n",
            "      • mask=None\n",
            "\n"
          ]
        },
        {
          "output_type": "error",
          "ename": "RuntimeError",
          "evalue": "ignored",
          "traceback": [
            "\u001b[0;31m---------------------------------------------------------------------------\u001b[0m",
            "\u001b[0;31mRuntimeError\u001b[0m                              Traceback (most recent call last)",
            "\u001b[0;32m<ipython-input-194-33ab0acdac0f>\u001b[0m in \u001b[0;36m<module>\u001b[0;34m\u001b[0m\n\u001b[1;32m     17\u001b[0m       \u001b[0mobjective\u001b[0m\u001b[0;34m=\u001b[0m\u001b[0;34m'val_loss'\u001b[0m\u001b[0;34m,\u001b[0m\u001b[0;34m\u001b[0m\u001b[0;34m\u001b[0m\u001b[0m\n\u001b[1;32m     18\u001b[0m       max_trials=20,overwrite = True)\n\u001b[0;32m---> 19\u001b[0;31m \u001b[0mtuner\u001b[0m\u001b[0;34m.\u001b[0m\u001b[0msearch\u001b[0m\u001b[0;34m(\u001b[0m\u001b[0mX_train\u001b[0m\u001b[0;34m,\u001b[0m\u001b[0my_train2\u001b[0m \u001b[0;34m,\u001b[0m \u001b[0mepochs\u001b[0m\u001b[0;34m=\u001b[0m\u001b[0;36m10\u001b[0m\u001b[0;34m,\u001b[0m \u001b[0mvalidation_split\u001b[0m\u001b[0;34m=\u001b[0m\u001b[0;36m0.2\u001b[0m\u001b[0;34m)\u001b[0m\u001b[0;34m\u001b[0m\u001b[0;34m\u001b[0m\u001b[0m\n\u001b[0m\u001b[1;32m     20\u001b[0m \u001b[0mbest_model\u001b[0m \u001b[0;34m=\u001b[0m \u001b[0mtuner\u001b[0m\u001b[0;34m.\u001b[0m\u001b[0mget_best_models\u001b[0m\u001b[0;34m(\u001b[0m\u001b[0;34m)\u001b[0m\u001b[0;34m[\u001b[0m\u001b[0;36m0\u001b[0m\u001b[0;34m]\u001b[0m\u001b[0;34m\u001b[0m\u001b[0;34m\u001b[0m\u001b[0m\n\u001b[1;32m     21\u001b[0m \u001b[0mbest_model\u001b[0m\u001b[0;34m.\u001b[0m\u001b[0msummary\u001b[0m\u001b[0;34m(\u001b[0m\u001b[0;34m)\u001b[0m\u001b[0;34m\u001b[0m\u001b[0;34m\u001b[0m\u001b[0m\n",
            "\u001b[0;32m/usr/local/lib/python3.8/dist-packages/keras_tuner/engine/base_tuner.py\u001b[0m in \u001b[0;36msearch\u001b[0;34m(self, *fit_args, **fit_kwargs)\u001b[0m\n\u001b[1;32m    209\u001b[0m             \u001b[0mself\u001b[0m\u001b[0;34m.\u001b[0m\u001b[0mon_trial_begin\u001b[0m\u001b[0;34m(\u001b[0m\u001b[0mtrial\u001b[0m\u001b[0;34m)\u001b[0m\u001b[0;34m\u001b[0m\u001b[0;34m\u001b[0m\u001b[0m\n\u001b[1;32m    210\u001b[0m             \u001b[0mself\u001b[0m\u001b[0;34m.\u001b[0m\u001b[0m_try_run_and_update_trial\u001b[0m\u001b[0;34m(\u001b[0m\u001b[0mtrial\u001b[0m\u001b[0;34m,\u001b[0m \u001b[0;34m*\u001b[0m\u001b[0mfit_args\u001b[0m\u001b[0;34m,\u001b[0m \u001b[0;34m**\u001b[0m\u001b[0mfit_kwargs\u001b[0m\u001b[0;34m)\u001b[0m\u001b[0;34m\u001b[0m\u001b[0;34m\u001b[0m\u001b[0m\n\u001b[0;32m--> 211\u001b[0;31m             \u001b[0mself\u001b[0m\u001b[0;34m.\u001b[0m\u001b[0mon_trial_end\u001b[0m\u001b[0;34m(\u001b[0m\u001b[0mtrial\u001b[0m\u001b[0;34m)\u001b[0m\u001b[0;34m\u001b[0m\u001b[0;34m\u001b[0m\u001b[0m\n\u001b[0m\u001b[1;32m    212\u001b[0m         \u001b[0mself\u001b[0m\u001b[0;34m.\u001b[0m\u001b[0mon_search_end\u001b[0m\u001b[0;34m(\u001b[0m\u001b[0;34m)\u001b[0m\u001b[0;34m\u001b[0m\u001b[0;34m\u001b[0m\u001b[0m\n\u001b[1;32m    213\u001b[0m \u001b[0;34m\u001b[0m\u001b[0m\n",
            "\u001b[0;32m/usr/local/lib/python3.8/dist-packages/keras_tuner/engine/base_tuner.py\u001b[0m in \u001b[0;36mon_trial_end\u001b[0;34m(self, trial)\u001b[0m\n\u001b[1;32m    319\u001b[0m             \u001b[0mself\u001b[0m\u001b[0;34m.\u001b[0m\u001b[0mlogger\u001b[0m\u001b[0;34m.\u001b[0m\u001b[0mreport_trial_state\u001b[0m\u001b[0;34m(\u001b[0m\u001b[0mtrial\u001b[0m\u001b[0;34m.\u001b[0m\u001b[0mtrial_id\u001b[0m\u001b[0;34m,\u001b[0m \u001b[0mtrial\u001b[0m\u001b[0;34m.\u001b[0m\u001b[0mget_state\u001b[0m\u001b[0;34m(\u001b[0m\u001b[0;34m)\u001b[0m\u001b[0;34m)\u001b[0m\u001b[0;34m\u001b[0m\u001b[0;34m\u001b[0m\u001b[0m\n\u001b[1;32m    320\u001b[0m \u001b[0;34m\u001b[0m\u001b[0m\n\u001b[0;32m--> 321\u001b[0;31m         \u001b[0mself\u001b[0m\u001b[0;34m.\u001b[0m\u001b[0moracle\u001b[0m\u001b[0;34m.\u001b[0m\u001b[0mend_trial\u001b[0m\u001b[0;34m(\u001b[0m\u001b[0mtrial\u001b[0m\u001b[0;34m)\u001b[0m\u001b[0;34m\u001b[0m\u001b[0;34m\u001b[0m\u001b[0m\n\u001b[0m\u001b[1;32m    322\u001b[0m         \u001b[0;31m# Display needs the updated trial scored by the Oracle.\u001b[0m\u001b[0;34m\u001b[0m\u001b[0;34m\u001b[0m\u001b[0;34m\u001b[0m\u001b[0m\n\u001b[1;32m    323\u001b[0m         \u001b[0mself\u001b[0m\u001b[0;34m.\u001b[0m\u001b[0m_display\u001b[0m\u001b[0;34m.\u001b[0m\u001b[0mon_trial_end\u001b[0m\u001b[0;34m(\u001b[0m\u001b[0mself\u001b[0m\u001b[0;34m.\u001b[0m\u001b[0moracle\u001b[0m\u001b[0;34m.\u001b[0m\u001b[0mget_trial\u001b[0m\u001b[0;34m(\u001b[0m\u001b[0mtrial\u001b[0m\u001b[0;34m.\u001b[0m\u001b[0mtrial_id\u001b[0m\u001b[0;34m)\u001b[0m\u001b[0;34m)\u001b[0m\u001b[0;34m\u001b[0m\u001b[0;34m\u001b[0m\u001b[0m\n",
            "\u001b[0;32m/usr/local/lib/python3.8/dist-packages/keras_tuner/engine/oracle.py\u001b[0m in \u001b[0;36mwrapped_func\u001b[0;34m(*args, **kwargs)\u001b[0m\n\u001b[1;32m    103\u001b[0m             \u001b[0mLOCKS\u001b[0m\u001b[0;34m[\u001b[0m\u001b[0moracle\u001b[0m\u001b[0;34m]\u001b[0m\u001b[0;34m.\u001b[0m\u001b[0macquire\u001b[0m\u001b[0;34m(\u001b[0m\u001b[0;34m)\u001b[0m\u001b[0;34m\u001b[0m\u001b[0;34m\u001b[0m\u001b[0m\n\u001b[1;32m    104\u001b[0m             \u001b[0mTHREADS\u001b[0m\u001b[0;34m[\u001b[0m\u001b[0moracle\u001b[0m\u001b[0;34m]\u001b[0m \u001b[0;34m=\u001b[0m \u001b[0mthread_name\u001b[0m\u001b[0;34m\u001b[0m\u001b[0;34m\u001b[0m\u001b[0m\n\u001b[0;32m--> 105\u001b[0;31m         \u001b[0mret_val\u001b[0m \u001b[0;34m=\u001b[0m \u001b[0mfunc\u001b[0m\u001b[0;34m(\u001b[0m\u001b[0;34m*\u001b[0m\u001b[0margs\u001b[0m\u001b[0;34m,\u001b[0m \u001b[0;34m**\u001b[0m\u001b[0mkwargs\u001b[0m\u001b[0;34m)\u001b[0m\u001b[0;34m\u001b[0m\u001b[0;34m\u001b[0m\u001b[0m\n\u001b[0m\u001b[1;32m    106\u001b[0m         \u001b[0;32mif\u001b[0m \u001b[0mneed_acquire\u001b[0m\u001b[0;34m:\u001b[0m\u001b[0;34m\u001b[0m\u001b[0;34m\u001b[0m\u001b[0m\n\u001b[1;32m    107\u001b[0m             \u001b[0mTHREADS\u001b[0m\u001b[0;34m[\u001b[0m\u001b[0moracle\u001b[0m\u001b[0;34m]\u001b[0m \u001b[0;34m=\u001b[0m \u001b[0;32mNone\u001b[0m\u001b[0;34m\u001b[0m\u001b[0;34m\u001b[0m\u001b[0m\n",
            "\u001b[0;32m/usr/local/lib/python3.8/dist-packages/keras_tuner/engine/oracle.py\u001b[0m in \u001b[0;36mend_trial\u001b[0;34m(self, trial)\u001b[0m\n\u001b[1;32m    427\u001b[0m         \u001b[0;32mif\u001b[0m \u001b[0;32mnot\u001b[0m \u001b[0mself\u001b[0m\u001b[0;34m.\u001b[0m\u001b[0m_retry\u001b[0m\u001b[0;34m(\u001b[0m\u001b[0mtrial\u001b[0m\u001b[0;34m)\u001b[0m\u001b[0;34m:\u001b[0m\u001b[0;34m\u001b[0m\u001b[0;34m\u001b[0m\u001b[0m\n\u001b[1;32m    428\u001b[0m             \u001b[0mself\u001b[0m\u001b[0;34m.\u001b[0m\u001b[0mend_order\u001b[0m\u001b[0;34m.\u001b[0m\u001b[0mappend\u001b[0m\u001b[0;34m(\u001b[0m\u001b[0mtrial\u001b[0m\u001b[0;34m.\u001b[0m\u001b[0mtrial_id\u001b[0m\u001b[0;34m)\u001b[0m\u001b[0;34m\u001b[0m\u001b[0;34m\u001b[0m\u001b[0m\n\u001b[0;32m--> 429\u001b[0;31m             \u001b[0mself\u001b[0m\u001b[0;34m.\u001b[0m\u001b[0m_check_consecutive_failures\u001b[0m\u001b[0;34m(\u001b[0m\u001b[0;34m)\u001b[0m\u001b[0;34m\u001b[0m\u001b[0;34m\u001b[0m\u001b[0m\n\u001b[0m\u001b[1;32m    430\u001b[0m \u001b[0;34m\u001b[0m\u001b[0m\n\u001b[1;32m    431\u001b[0m         \u001b[0mself\u001b[0m\u001b[0;34m.\u001b[0m\u001b[0m_save_trial\u001b[0m\u001b[0;34m(\u001b[0m\u001b[0mtrial\u001b[0m\u001b[0;34m)\u001b[0m\u001b[0;34m\u001b[0m\u001b[0;34m\u001b[0m\u001b[0m\n",
            "\u001b[0;32m/usr/local/lib/python3.8/dist-packages/keras_tuner/engine/oracle.py\u001b[0m in \u001b[0;36m_check_consecutive_failures\u001b[0;34m(self)\u001b[0m\n\u001b[1;32m    380\u001b[0m                 \u001b[0mconsecutive_failures\u001b[0m \u001b[0;34m=\u001b[0m \u001b[0;36m0\u001b[0m\u001b[0;34m\u001b[0m\u001b[0;34m\u001b[0m\u001b[0m\n\u001b[1;32m    381\u001b[0m             \u001b[0;32mif\u001b[0m \u001b[0mconsecutive_failures\u001b[0m \u001b[0;34m==\u001b[0m \u001b[0mself\u001b[0m\u001b[0;34m.\u001b[0m\u001b[0mmax_consecutive_failed_trials\u001b[0m\u001b[0;34m:\u001b[0m\u001b[0;34m\u001b[0m\u001b[0;34m\u001b[0m\u001b[0m\n\u001b[0;32m--> 382\u001b[0;31m                 raise RuntimeError(\n\u001b[0m\u001b[1;32m    383\u001b[0m                     \u001b[0;34m\"Number of consecutive failures excceeded the limit \"\u001b[0m\u001b[0;34m\u001b[0m\u001b[0;34m\u001b[0m\u001b[0m\n\u001b[1;32m    384\u001b[0m                     \u001b[0;34mf\"of {self.max_consecutive_failed_trials}.\\n\"\u001b[0m \u001b[0;34m+\u001b[0m \u001b[0mtrial\u001b[0m\u001b[0;34m.\u001b[0m\u001b[0mmessage\u001b[0m\u001b[0;34m\u001b[0m\u001b[0;34m\u001b[0m\u001b[0m\n",
            "\u001b[0;31mRuntimeError\u001b[0m: Number of consecutive failures excceeded the limit of 3.\nTraceback (most recent call last):\n  File \"/usr/local/lib/python3.8/dist-packages/keras_tuner/engine/base_tuner.py\", line 250, in _try_run_and_update_trial\n    self._run_and_update_trial(trial, *fit_args, **fit_kwargs)\n  File \"/usr/local/lib/python3.8/dist-packages/keras_tuner/engine/base_tuner.py\", line 215, in _run_and_update_trial\n    results = self.run_trial(trial, *fit_args, **fit_kwargs)\n  File \"/usr/local/lib/python3.8/dist-packages/keras_tuner/engine/tuner.py\", line 286, in run_trial\n    obj_value = self._build_and_fit_model(trial, *args, **copied_kwargs)\n  File \"/usr/local/lib/python3.8/dist-packages/keras_tuner/engine/tuner.py\", line 213, in _build_and_fit_model\n    results = self.hypermodel.fit(hp, model, *args, **kwargs)\n  File \"/usr/local/lib/python3.8/dist-packages/keras_tuner/engine/hypermodel.py\", line 144, in fit\n    return model.fit(*args, **kwargs)\n  File \"/usr/local/lib/python3.8/dist-packages/keras/utils/traceback_utils.py\", line 67, in error_handler\n    raise e.with_traceback(filtered_tb) from None\n  File \"/tmp/__autograph_generated_filegqozb6mg.py\", line 15, in tf__train_function\n    retval_ = ag__.converted_call(ag__.ld(step_function), (ag__.ld(self), ag__.ld(iterator)), None, fscope)\nValueError: in user code:\n\n    File \"/usr/local/lib/python3.8/dist-packages/keras/engine/training.py\", line 1051, in train_function  *\n        return step_function(self, iterator)\n    File \"/usr/local/lib/python3.8/dist-packages/keras/engine/training.py\", line 1040, in step_function  **\n        outputs = model.distribute_strategy.run(run_step, args=(data,))\n    File \"/usr/local/lib/python3.8/dist-packages/keras/engine/training.py\", line 1030, in run_step  **\n        outputs = model.train_step(data)\n    File \"/usr/local/lib/python3.8/dist-packages/keras/engine/training.py\", line 889, in train_step\n        y_pred = self(x, training=True)\n    File \"/usr/local/lib/python3.8/dist-packages/keras/utils/traceback_utils.py\", line 67, in error_handler\n        raise e.with_traceback(filtered_tb) from None\n    File \"/usr/local/lib/python3.8/dist-packages/keras/engine/input_spec.py\", line 248, in assert_input_compatibility\n        raise ValueError(\n\n    ValueError: Exception encountered when calling layer \"sequential\" (type Sequential).\n    \n    Input 0 of layer \"dense\" is incompatible with the layer: expected axis -1 of input shape to have value 2, but received input with shape (None, 56)\n    \n    Call arguments received by layer \"sequential\" (type Sequential):\n      • inputs=tf.Tensor(shape=(None, 56), dtype=float32)\n      • training=True\n      • mask=None\n\n"
          ]
        }
      ]
    },
    {
      "cell_type": "code",
      "source": [
        "pred_sign=-(predictions>=0).astype(int)+(predictions<0).astype(int)\n",
        "true_sign=(y_true>=0).astype(int)-(y_true<0).astype(int)\n",
        "print(confusion_matrix(true_sign,pred_sign))\n",
        "print(classification_report(true_sign,pred_sign))"
      ],
      "metadata": {
        "id": "G0b3m3PGN5YS",
        "outputId": "1cb956f2-3aa3-4fdf-9483-70cba7f83847",
        "colab": {
          "base_uri": "https://localhost:8080/"
        }
      },
      "execution_count": 176,
      "outputs": [
        {
          "output_type": "stream",
          "name": "stdout",
          "text": [
            "[[215  75]\n",
            " [216  92]]\n",
            "              precision    recall  f1-score   support\n",
            "\n",
            "          -1       0.50      0.74      0.60       290\n",
            "           1       0.55      0.30      0.39       308\n",
            "\n",
            "    accuracy                           0.51       598\n",
            "   macro avg       0.52      0.52      0.49       598\n",
            "weighted avg       0.53      0.51      0.49       598\n",
            "\n"
          ]
        }
      ]
    },
    {
      "cell_type": "code",
      "source": [
        "X_test.shape"
      ],
      "metadata": {
        "id": "qlvadTSx1sDc",
        "outputId": "eb6788d8-992f-444a-e8bd-fe2e864466c9",
        "colab": {
          "base_uri": "https://localhost:8080/"
        }
      },
      "execution_count": 164,
      "outputs": [
        {
          "output_type": "execute_result",
          "data": {
            "text/plain": [
              "(598, 56)"
            ]
          },
          "metadata": {},
          "execution_count": 164
        }
      ]
    },
    {
      "cell_type": "markdown",
      "metadata": {
        "id": "OmR_a4E4azq7"
      },
      "source": [
        "# GRU"
      ]
    },
    {
      "cell_type": "code",
      "execution_count": 100,
      "metadata": {
        "id": "m7u6MIsEm89h"
      },
      "outputs": [],
      "source": [
        "def build_model(hp):\n",
        "    model = Sequential()\n",
        "\n",
        "    model.add(LSTM(hp.Int('units2', min_value=1, max_value=200, step=1), return_sequences=True, input_shape=(60,1)))\n",
        "    model.add(GRU(hp.Int('units2', min_value=1, max_value=200, step=1), return_sequences=True))\n",
        "    model.add(LSTM(hp.Int('units2', min_value=1, max_value=200, step=1), return_sequences=False))\n",
        "    model.add(Dense(hp.Int('units3', min_value=5, max_value=100, step=1)))\n",
        "    model.add(Dense(1))\n",
        "\n",
        "    model.compile(loss='mean_squared_error', optimizer='adam', metrics=[tf.keras.metrics.MeanSquaredError()])\n",
        "    return model"
      ]
    },
    {
      "cell_type": "code",
      "source": [
        "tuner = keras_tuner.RandomSearch(\n",
        "      build_model,\n",
        "      objective='val_loss',\n",
        "      max_trials=10,overwrite = True)\n",
        "tuner.search(X_train,y_train , epochs=10, validation_split=0.2)\n",
        "best_model = tuner.get_best_models()[0]\n",
        "best_model.summary()"
      ],
      "metadata": {
        "colab": {
          "base_uri": "https://localhost:8080/"
        },
        "id": "fM9WingWIGXc",
        "outputId": "79068576-71b7-43f6-f9d7-c3cc5d6a9103"
      },
      "execution_count": 102,
      "outputs": [
        {
          "output_type": "stream",
          "name": "stdout",
          "text": [
            "Trial 10 Complete [00h 00m 11s]\n",
            "val_loss: 0.8127514123916626\n",
            "\n",
            "Best val_loss So Far: 0.8071630597114563\n",
            "Total elapsed time: 00h 02m 12s\n",
            "Model: \"sequential\"\n",
            "_________________________________________________________________\n",
            " Layer (type)                Output Shape              Param #   \n",
            "=================================================================\n",
            " lstm (LSTM)                 (None, 60, 109)           48396     \n",
            "                                                                 \n",
            " gru (GRU)                   (None, 60, 109)           71940     \n",
            "                                                                 \n",
            " lstm_1 (LSTM)               (None, 109)               95484     \n",
            "                                                                 \n",
            " dense (Dense)               (None, 29)                3190      \n",
            "                                                                 \n",
            " dense_1 (Dense)             (None, 1)                 30        \n",
            "                                                                 \n",
            "=================================================================\n",
            "Total params: 219,040\n",
            "Trainable params: 219,040\n",
            "Non-trainable params: 0\n",
            "_________________________________________________________________\n"
          ]
        }
      ]
    },
    {
      "cell_type": "code",
      "execution_count": 103,
      "metadata": {
        "id": "OnWc6F-oeFXX",
        "outputId": "c31635d2-1f31-4ee5-b81a-1bb8de63c3ec",
        "colab": {
          "base_uri": "https://localhost:8080/"
        }
      },
      "outputs": [
        {
          "output_type": "stream",
          "name": "stdout",
          "text": [
            "\n",
            "Epoch 1: val_loss improved from inf to 1.13291, saving model to weights1.hdf5\n",
            "\n",
            "Epoch 2: val_loss did not improve from 1.13291\n",
            "\n",
            "Epoch 3: val_loss did not improve from 1.13291\n",
            "\n",
            "Epoch 4: val_loss improved from 1.13291 to 1.13181, saving model to weights1.hdf5\n",
            "\n",
            "Epoch 5: val_loss did not improve from 1.13181\n",
            "\n",
            "Epoch 6: val_loss did not improve from 1.13181\n",
            "\n",
            "Epoch 7: val_loss did not improve from 1.13181\n",
            "\n",
            "Epoch 8: val_loss did not improve from 1.13181\n",
            "\n",
            "Epoch 9: val_loss did not improve from 1.13181\n",
            "\n",
            "Epoch 10: val_loss did not improve from 1.13181\n",
            "\n",
            "Epoch 11: val_loss did not improve from 1.13181\n",
            "\n",
            "Epoch 12: val_loss did not improve from 1.13181\n",
            "\n",
            "Epoch 13: val_loss did not improve from 1.13181\n",
            "\n",
            "Epoch 14: val_loss did not improve from 1.13181\n",
            "\n",
            "Epoch 15: val_loss did not improve from 1.13181\n",
            "\n",
            "Epoch 16: val_loss did not improve from 1.13181\n",
            "\n",
            "Epoch 17: val_loss did not improve from 1.13181\n",
            "\n",
            "Epoch 18: val_loss did not improve from 1.13181\n",
            "\n",
            "Epoch 19: val_loss did not improve from 1.13181\n",
            "\n",
            "Epoch 20: val_loss did not improve from 1.13181\n",
            "\n",
            "Epoch 21: val_loss did not improve from 1.13181\n",
            "\n",
            "Epoch 22: val_loss did not improve from 1.13181\n",
            "\n",
            "Epoch 23: val_loss did not improve from 1.13181\n",
            "\n",
            "Epoch 24: val_loss did not improve from 1.13181\n",
            "\n",
            "Epoch 25: val_loss did not improve from 1.13181\n",
            "\n",
            "Epoch 26: val_loss did not improve from 1.13181\n",
            "\n",
            "Epoch 27: val_loss did not improve from 1.13181\n",
            "\n",
            "Epoch 28: val_loss did not improve from 1.13181\n",
            "\n",
            "Epoch 29: val_loss did not improve from 1.13181\n",
            "\n",
            "Epoch 30: val_loss did not improve from 1.13181\n",
            "\n",
            "Epoch 31: val_loss did not improve from 1.13181\n",
            "\n",
            "Epoch 32: val_loss did not improve from 1.13181\n",
            "\n",
            "Epoch 33: val_loss did not improve from 1.13181\n",
            "\n",
            "Epoch 34: val_loss did not improve from 1.13181\n",
            "\n",
            "Epoch 35: val_loss did not improve from 1.13181\n",
            "\n",
            "Epoch 36: val_loss did not improve from 1.13181\n",
            "\n",
            "Epoch 37: val_loss did not improve from 1.13181\n",
            "\n",
            "Epoch 38: val_loss did not improve from 1.13181\n",
            "\n",
            "Epoch 39: val_loss did not improve from 1.13181\n",
            "\n",
            "Epoch 40: val_loss did not improve from 1.13181\n",
            "\n",
            "Epoch 41: val_loss did not improve from 1.13181\n",
            "\n",
            "Epoch 42: val_loss did not improve from 1.13181\n",
            "\n",
            "Epoch 43: val_loss did not improve from 1.13181\n",
            "\n",
            "Epoch 44: val_loss did not improve from 1.13181\n",
            "\n",
            "Epoch 45: val_loss did not improve from 1.13181\n",
            "\n",
            "Epoch 46: val_loss did not improve from 1.13181\n",
            "\n",
            "Epoch 47: val_loss did not improve from 1.13181\n",
            "\n",
            "Epoch 48: val_loss did not improve from 1.13181\n",
            "\n",
            "Epoch 49: val_loss did not improve from 1.13181\n",
            "\n",
            "Epoch 50: val_loss did not improve from 1.13181\n",
            "\n",
            "Epoch 51: val_loss did not improve from 1.13181\n",
            "\n",
            "Epoch 52: val_loss did not improve from 1.13181\n",
            "\n",
            "Epoch 53: val_loss did not improve from 1.13181\n",
            "\n",
            "Epoch 54: val_loss did not improve from 1.13181\n",
            "\n",
            "Epoch 55: val_loss did not improve from 1.13181\n",
            "\n",
            "Epoch 56: val_loss did not improve from 1.13181\n",
            "\n",
            "Epoch 57: val_loss did not improve from 1.13181\n",
            "\n",
            "Epoch 58: val_loss did not improve from 1.13181\n",
            "\n",
            "Epoch 59: val_loss did not improve from 1.13181\n",
            "\n",
            "Epoch 60: val_loss did not improve from 1.13181\n",
            "\n",
            "Epoch 61: val_loss did not improve from 1.13181\n",
            "\n",
            "Epoch 62: val_loss did not improve from 1.13181\n",
            "\n",
            "Epoch 63: val_loss did not improve from 1.13181\n",
            "\n",
            "Epoch 64: val_loss did not improve from 1.13181\n",
            "\n",
            "Epoch 65: val_loss did not improve from 1.13181\n",
            "\n",
            "Epoch 66: val_loss did not improve from 1.13181\n",
            "\n",
            "Epoch 67: val_loss did not improve from 1.13181\n",
            "\n",
            "Epoch 68: val_loss did not improve from 1.13181\n",
            "\n",
            "Epoch 69: val_loss did not improve from 1.13181\n",
            "\n",
            "Epoch 70: val_loss did not improve from 1.13181\n",
            "\n",
            "Epoch 71: val_loss did not improve from 1.13181\n",
            "\n",
            "Epoch 72: val_loss did not improve from 1.13181\n",
            "\n",
            "Epoch 73: val_loss did not improve from 1.13181\n",
            "\n",
            "Epoch 74: val_loss did not improve from 1.13181\n",
            "\n",
            "Epoch 75: val_loss did not improve from 1.13181\n",
            "\n",
            "Epoch 76: val_loss did not improve from 1.13181\n",
            "\n",
            "Epoch 77: val_loss did not improve from 1.13181\n",
            "\n",
            "Epoch 78: val_loss did not improve from 1.13181\n",
            "\n",
            "Epoch 79: val_loss did not improve from 1.13181\n",
            "\n",
            "Epoch 80: val_loss did not improve from 1.13181\n",
            "\n",
            "Epoch 81: val_loss did not improve from 1.13181\n",
            "\n",
            "Epoch 82: val_loss did not improve from 1.13181\n",
            "\n",
            "Epoch 83: val_loss did not improve from 1.13181\n",
            "\n",
            "Epoch 84: val_loss did not improve from 1.13181\n",
            "\n",
            "Epoch 85: val_loss did not improve from 1.13181\n",
            "\n",
            "Epoch 86: val_loss did not improve from 1.13181\n",
            "\n",
            "Epoch 87: val_loss did not improve from 1.13181\n",
            "\n",
            "Epoch 88: val_loss did not improve from 1.13181\n",
            "\n",
            "Epoch 89: val_loss did not improve from 1.13181\n",
            "\n",
            "Epoch 90: val_loss did not improve from 1.13181\n",
            "\n",
            "Epoch 91: val_loss did not improve from 1.13181\n",
            "\n",
            "Epoch 92: val_loss did not improve from 1.13181\n",
            "\n",
            "Epoch 93: val_loss did not improve from 1.13181\n",
            "\n",
            "Epoch 94: val_loss did not improve from 1.13181\n",
            "\n",
            "Epoch 95: val_loss did not improve from 1.13181\n",
            "\n",
            "Epoch 96: val_loss did not improve from 1.13181\n",
            "\n",
            "Epoch 97: val_loss did not improve from 1.13181\n",
            "\n",
            "Epoch 98: val_loss did not improve from 1.13181\n",
            "\n",
            "Epoch 99: val_loss did not improve from 1.13181\n",
            "\n",
            "Epoch 100: val_loss did not improve from 1.13181\n",
            "\n",
            "Epoch 101: val_loss did not improve from 1.13181\n",
            "\n",
            "Epoch 102: val_loss did not improve from 1.13181\n",
            "\n",
            "Epoch 103: val_loss did not improve from 1.13181\n",
            "\n",
            "Epoch 104: val_loss did not improve from 1.13181\n"
          ]
        },
        {
          "output_type": "execute_result",
          "data": {
            "text/plain": [
              "<keras.callbacks.History at 0x7f23c0719220>"
            ]
          },
          "metadata": {},
          "execution_count": 103
        }
      ],
      "source": [
        "#best_model=build_best()\n",
        "early_stopping=EarlyStopping(patience=100, verbose=0)\n",
        "checkpointer=ModelCheckpoint(filepath='weights1.hdf5', save_best_only=True, verbose=1)\n",
        "best_model.fit(X_train,y_train, batch_size=32,epochs=1000, verbose=0, \\\n",
        "                validation_split=0.1,callbacks=[checkpointer, early_stopping], shuffle=True)"
      ]
    },
    {
      "cell_type": "code",
      "source": [
        "predictions = scaler2.inverse_transform(best_model.predict(X_test)).flatten()\n",
        "y_true=scaler2.inverse_transform(y_test.reshape(-1,1)).flatten()\n",
        "pred_sign=(predictions>=0).astype(int)-(predictions<0).astype(int)\n",
        "true_sign=(y_true>=0).astype(int)-(y_true<0).astype(int)\n",
        "print(confusion_matrix(true_sign,pred_sign))\n",
        "print(classification_report(true_sign,pred_sign))"
      ],
      "metadata": {
        "id": "6hIQiud6nxNF",
        "outputId": "68e6625c-f3ac-4844-8b1d-b7067c2c0bb1",
        "colab": {
          "base_uri": "https://localhost:8080/"
        }
      },
      "execution_count": 104,
      "outputs": [
        {
          "output_type": "stream",
          "name": "stdout",
          "text": [
            "2/2 [==============================] - 1s 9ms/step\n",
            "[[11 12]\n",
            " [21 10]]\n",
            "              precision    recall  f1-score   support\n",
            "\n",
            "          -1       0.34      0.48      0.40        23\n",
            "           1       0.45      0.32      0.38        31\n",
            "\n",
            "    accuracy                           0.39        54\n",
            "   macro avg       0.40      0.40      0.39        54\n",
            "weighted avg       0.41      0.39      0.39        54\n",
            "\n"
          ]
        }
      ]
    }
  ]
}