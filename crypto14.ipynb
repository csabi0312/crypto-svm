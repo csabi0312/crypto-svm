{
  "nbformat": 4,
  "nbformat_minor": 0,
  "metadata": {
    "colab": {
      "provenance": [],
      "collapsed_sections": [
        "PXculM1gGSmI",
        "MzQpwCUzbhb4"
      ],
      "include_colab_link": true
    },
    "kernelspec": {
      "name": "python3",
      "display_name": "Python 3"
    },
    "language_info": {
      "name": "python"
    },
    "gpuClass": "standard",
    "accelerator": "GPU"
  },
  "cells": [
    {
      "cell_type": "markdown",
      "metadata": {
        "id": "view-in-github",
        "colab_type": "text"
      },
      "source": [
        "<a href=\"https://colab.research.google.com/github/csabi0312/crypto-svm/blob/gru/crypto14.ipynb\" target=\"_parent\"><img src=\"https://colab.research.google.com/assets/colab-badge.svg\" alt=\"Open In Colab\"/></a>"
      ]
    },
    {
      "cell_type": "markdown",
      "metadata": {
        "id": "PXculM1gGSmI"
      },
      "source": [
        "# Importing packages"
      ]
    },
    {
      "cell_type": "code",
      "execution_count": 1,
      "metadata": {
        "colab": {
          "base_uri": "https://localhost:8080/"
        },
        "id": "VPoZWYEvnklQ",
        "outputId": "76fa6270-7f61-4152-b767-512b20f0eea4"
      },
      "outputs": [
        {
          "output_type": "stream",
          "name": "stdout",
          "text": [
            "Mounted at /content/drive\n"
          ]
        }
      ],
      "source": [
        "from google.colab import drive\n",
        "drive.mount('/content/drive')"
      ]
    },
    {
      "cell_type": "code",
      "execution_count": 2,
      "metadata": {
        "colab": {
          "base_uri": "https://localhost:8080/"
        },
        "id": "0hxN5Ztu-dsb",
        "outputId": "7afaa495-6515-437a-e364-06b7614d7d84"
      },
      "outputs": [
        {
          "output_type": "stream",
          "name": "stdout",
          "text": [
            "Looking in indexes: https://pypi.org/simple, https://us-python.pkg.dev/colab-wheels/public/simple/\n",
            "Collecting ujson\n",
            "  Downloading ujson-5.7.0-cp38-cp38-manylinux_2_17_x86_64.manylinux2014_x86_64.whl (52 kB)\n",
            "\u001b[2K     \u001b[90m━━━━━━━━━━━━━━━━━━━━━━━━━━━━━━━━━━━━━━━━\u001b[0m \u001b[32m52.8/52.8 KB\u001b[0m \u001b[31m6.5 MB/s\u001b[0m eta \u001b[36m0:00:00\u001b[0m\n",
            "\u001b[?25hInstalling collected packages: ujson\n",
            "Successfully installed ujson-5.7.0\n"
          ]
        }
      ],
      "source": [
        "pip install ujson"
      ]
    },
    {
      "cell_type": "code",
      "execution_count": 3,
      "metadata": {
        "colab": {
          "base_uri": "https://localhost:8080/"
        },
        "id": "S5nq3CPXTEZ6",
        "outputId": "26c50427-2d20-4f6a-a33f-d32634c6e570"
      },
      "outputs": [
        {
          "output_type": "stream",
          "name": "stdout",
          "text": [
            "Looking in indexes: https://pypi.org/simple, https://us-python.pkg.dev/colab-wheels/public/simple/\n",
            "Requirement already satisfied: pyyaml in /usr/local/lib/python3.8/dist-packages (6.0)\n",
            "Requirement already satisfied: h5py in /usr/local/lib/python3.8/dist-packages (3.1.0)\n",
            "Requirement already satisfied: numpy>=1.17.5 in /usr/local/lib/python3.8/dist-packages (from h5py) (1.21.6)\n"
          ]
        }
      ],
      "source": [
        "pip install pyyaml h5py"
      ]
    },
    {
      "cell_type": "code",
      "execution_count": 4,
      "metadata": {
        "colab": {
          "base_uri": "https://localhost:8080/"
        },
        "id": "5AmTy-Gy-yXE",
        "outputId": "22de9592-ae92-4914-fc0b-3531296b7e4f"
      },
      "outputs": [
        {
          "output_type": "stream",
          "name": "stdout",
          "text": [
            "Looking in indexes: https://pypi.org/simple, https://us-python.pkg.dev/colab-wheels/public/simple/\n",
            "Collecting oandapyV20\n",
            "  Downloading oandapyV20-0.7.2.tar.gz (51 kB)\n",
            "\u001b[?25l     \u001b[90m━━━━━━━━━━━━━━━━━━━━━━━━━━━━━━━━━━━━━━━━\u001b[0m \u001b[32m0.0/51.6 KB\u001b[0m \u001b[31m?\u001b[0m eta \u001b[36m-:--:--\u001b[0m\r\u001b[2K     \u001b[90m━━━━━━━━━━━━━━━━━━━━━━━━━━━━━━━━━━━━━━━━\u001b[0m \u001b[32m51.6/51.6 KB\u001b[0m \u001b[31m3.2 MB/s\u001b[0m eta \u001b[36m0:00:00\u001b[0m\n",
            "\u001b[?25h  Preparing metadata (setup.py) ... \u001b[?25l\u001b[?25hdone\n",
            "Building wheels for collected packages: oandapyV20\n",
            "  Building wheel for oandapyV20 (setup.py) ... \u001b[?25l\u001b[?25hdone\n",
            "  Created wheel for oandapyV20: filename=oandapyV20-0.7.2-py3-none-any.whl size=70035 sha256=cb1f83dce0cc73e4f82797f60ede7037fbf1f12cb0a51eece9a284904b24877b\n",
            "  Stored in directory: /root/.cache/pip/wheels/d2/b6/8e/6fe7d26410a99ddb24ac4358691c5feabf4320d20d8053ca25\n",
            "Successfully built oandapyV20\n",
            "Installing collected packages: oandapyV20\n",
            "Successfully installed oandapyV20-0.7.2\n"
          ]
        }
      ],
      "source": [
        "!pip install oandapyV20"
      ]
    },
    {
      "cell_type": "code",
      "execution_count": 5,
      "metadata": {
        "colab": {
          "base_uri": "https://localhost:8080/"
        },
        "id": "XAHz6AVhjOkb",
        "outputId": "4f3ace91-db11-4376-91c0-c902d84aa93c"
      },
      "outputs": [
        {
          "output_type": "stream",
          "name": "stdout",
          "text": [
            "Looking in indexes: https://pypi.org/simple, https://us-python.pkg.dev/colab-wheels/public/simple/\n",
            "Collecting keras-tuner\n",
            "  Downloading keras_tuner-1.2.0-py3-none-any.whl (168 kB)\n",
            "\u001b[2K     \u001b[90m━━━━━━━━━━━━━━━━━━━━━━━━━━━━━━━━━━━━━━━\u001b[0m \u001b[32m168.1/168.1 KB\u001b[0m \u001b[31m5.0 MB/s\u001b[0m eta \u001b[36m0:00:00\u001b[0m\n",
            "\u001b[?25hRequirement already satisfied: packaging in /usr/local/lib/python3.8/dist-packages (from keras-tuner) (23.0)\n",
            "Requirement already satisfied: ipython in /usr/local/lib/python3.8/dist-packages (from keras-tuner) (7.9.0)\n",
            "Requirement already satisfied: tensorflow>=2.0 in /usr/local/lib/python3.8/dist-packages (from keras-tuner) (2.9.2)\n",
            "Requirement already satisfied: requests in /usr/local/lib/python3.8/dist-packages (from keras-tuner) (2.25.1)\n",
            "Collecting kt-legacy\n",
            "  Downloading kt_legacy-1.0.4-py3-none-any.whl (9.6 kB)\n",
            "Requirement already satisfied: grpcio<2.0,>=1.24.3 in /usr/local/lib/python3.8/dist-packages (from tensorflow>=2.0->keras-tuner) (1.51.1)\n",
            "Requirement already satisfied: termcolor>=1.1.0 in /usr/local/lib/python3.8/dist-packages (from tensorflow>=2.0->keras-tuner) (2.2.0)\n",
            "Requirement already satisfied: flatbuffers<2,>=1.12 in /usr/local/lib/python3.8/dist-packages (from tensorflow>=2.0->keras-tuner) (1.12)\n",
            "Requirement already satisfied: google-pasta>=0.1.1 in /usr/local/lib/python3.8/dist-packages (from tensorflow>=2.0->keras-tuner) (0.2.0)\n",
            "Requirement already satisfied: wrapt>=1.11.0 in /usr/local/lib/python3.8/dist-packages (from tensorflow>=2.0->keras-tuner) (1.14.1)\n",
            "Requirement already satisfied: libclang>=13.0.0 in /usr/local/lib/python3.8/dist-packages (from tensorflow>=2.0->keras-tuner) (15.0.6.1)\n",
            "Requirement already satisfied: tensorflow-estimator<2.10.0,>=2.9.0rc0 in /usr/local/lib/python3.8/dist-packages (from tensorflow>=2.0->keras-tuner) (2.9.0)\n",
            "Requirement already satisfied: six>=1.12.0 in /usr/local/lib/python3.8/dist-packages (from tensorflow>=2.0->keras-tuner) (1.15.0)\n",
            "Requirement already satisfied: gast<=0.4.0,>=0.2.1 in /usr/local/lib/python3.8/dist-packages (from tensorflow>=2.0->keras-tuner) (0.4.0)\n",
            "Requirement already satisfied: astunparse>=1.6.0 in /usr/local/lib/python3.8/dist-packages (from tensorflow>=2.0->keras-tuner) (1.6.3)\n",
            "Requirement already satisfied: tensorboard<2.10,>=2.9 in /usr/local/lib/python3.8/dist-packages (from tensorflow>=2.0->keras-tuner) (2.9.1)\n",
            "Requirement already satisfied: protobuf<3.20,>=3.9.2 in /usr/local/lib/python3.8/dist-packages (from tensorflow>=2.0->keras-tuner) (3.19.6)\n",
            "Requirement already satisfied: h5py>=2.9.0 in /usr/local/lib/python3.8/dist-packages (from tensorflow>=2.0->keras-tuner) (3.1.0)\n",
            "Requirement already satisfied: keras-preprocessing>=1.1.1 in /usr/local/lib/python3.8/dist-packages (from tensorflow>=2.0->keras-tuner) (1.1.2)\n",
            "Requirement already satisfied: tensorflow-io-gcs-filesystem>=0.23.1 in /usr/local/lib/python3.8/dist-packages (from tensorflow>=2.0->keras-tuner) (0.30.0)\n",
            "Requirement already satisfied: numpy>=1.20 in /usr/local/lib/python3.8/dist-packages (from tensorflow>=2.0->keras-tuner) (1.21.6)\n",
            "Requirement already satisfied: absl-py>=1.0.0 in /usr/local/lib/python3.8/dist-packages (from tensorflow>=2.0->keras-tuner) (1.4.0)\n",
            "Requirement already satisfied: keras<2.10.0,>=2.9.0rc0 in /usr/local/lib/python3.8/dist-packages (from tensorflow>=2.0->keras-tuner) (2.9.0)\n",
            "Requirement already satisfied: typing-extensions>=3.6.6 in /usr/local/lib/python3.8/dist-packages (from tensorflow>=2.0->keras-tuner) (4.4.0)\n",
            "Requirement already satisfied: setuptools in /usr/local/lib/python3.8/dist-packages (from tensorflow>=2.0->keras-tuner) (57.4.0)\n",
            "Requirement already satisfied: opt-einsum>=2.3.2 in /usr/local/lib/python3.8/dist-packages (from tensorflow>=2.0->keras-tuner) (3.3.0)\n",
            "Requirement already satisfied: traitlets>=4.2 in /usr/local/lib/python3.8/dist-packages (from ipython->keras-tuner) (5.7.1)\n",
            "Requirement already satisfied: prompt-toolkit<2.1.0,>=2.0.0 in /usr/local/lib/python3.8/dist-packages (from ipython->keras-tuner) (2.0.10)\n",
            "Requirement already satisfied: backcall in /usr/local/lib/python3.8/dist-packages (from ipython->keras-tuner) (0.2.0)\n",
            "Requirement already satisfied: pickleshare in /usr/local/lib/python3.8/dist-packages (from ipython->keras-tuner) (0.7.5)\n",
            "Requirement already satisfied: decorator in /usr/local/lib/python3.8/dist-packages (from ipython->keras-tuner) (4.4.2)\n",
            "Requirement already satisfied: pexpect in /usr/local/lib/python3.8/dist-packages (from ipython->keras-tuner) (4.8.0)\n",
            "Requirement already satisfied: pygments in /usr/local/lib/python3.8/dist-packages (from ipython->keras-tuner) (2.6.1)\n",
            "Collecting jedi>=0.10\n",
            "  Downloading jedi-0.18.2-py2.py3-none-any.whl (1.6 MB)\n",
            "\u001b[2K     \u001b[90m━━━━━━━━━━━━━━━━━━━━━━━━━━━━━━━━━━━━━━━━\u001b[0m \u001b[32m1.6/1.6 MB\u001b[0m \u001b[31m37.4 MB/s\u001b[0m eta \u001b[36m0:00:00\u001b[0m\n",
            "\u001b[?25hRequirement already satisfied: certifi>=2017.4.17 in /usr/local/lib/python3.8/dist-packages (from requests->keras-tuner) (2022.12.7)\n",
            "Requirement already satisfied: chardet<5,>=3.0.2 in /usr/local/lib/python3.8/dist-packages (from requests->keras-tuner) (4.0.0)\n",
            "Requirement already satisfied: urllib3<1.27,>=1.21.1 in /usr/local/lib/python3.8/dist-packages (from requests->keras-tuner) (1.24.3)\n",
            "Requirement already satisfied: idna<3,>=2.5 in /usr/local/lib/python3.8/dist-packages (from requests->keras-tuner) (2.10)\n",
            "Requirement already satisfied: wheel<1.0,>=0.23.0 in /usr/local/lib/python3.8/dist-packages (from astunparse>=1.6.0->tensorflow>=2.0->keras-tuner) (0.38.4)\n",
            "Requirement already satisfied: parso<0.9.0,>=0.8.0 in /usr/local/lib/python3.8/dist-packages (from jedi>=0.10->ipython->keras-tuner) (0.8.3)\n",
            "Requirement already satisfied: wcwidth in /usr/local/lib/python3.8/dist-packages (from prompt-toolkit<2.1.0,>=2.0.0->ipython->keras-tuner) (0.2.6)\n",
            "Requirement already satisfied: tensorboard-data-server<0.7.0,>=0.6.0 in /usr/local/lib/python3.8/dist-packages (from tensorboard<2.10,>=2.9->tensorflow>=2.0->keras-tuner) (0.6.1)\n",
            "Requirement already satisfied: tensorboard-plugin-wit>=1.6.0 in /usr/local/lib/python3.8/dist-packages (from tensorboard<2.10,>=2.9->tensorflow>=2.0->keras-tuner) (1.8.1)\n",
            "Requirement already satisfied: google-auth<3,>=1.6.3 in /usr/local/lib/python3.8/dist-packages (from tensorboard<2.10,>=2.9->tensorflow>=2.0->keras-tuner) (2.16.0)\n",
            "Requirement already satisfied: markdown>=2.6.8 in /usr/local/lib/python3.8/dist-packages (from tensorboard<2.10,>=2.9->tensorflow>=2.0->keras-tuner) (3.4.1)\n",
            "Requirement already satisfied: google-auth-oauthlib<0.5,>=0.4.1 in /usr/local/lib/python3.8/dist-packages (from tensorboard<2.10,>=2.9->tensorflow>=2.0->keras-tuner) (0.4.6)\n",
            "Requirement already satisfied: werkzeug>=1.0.1 in /usr/local/lib/python3.8/dist-packages (from tensorboard<2.10,>=2.9->tensorflow>=2.0->keras-tuner) (1.0.1)\n",
            "Requirement already satisfied: ptyprocess>=0.5 in /usr/local/lib/python3.8/dist-packages (from pexpect->ipython->keras-tuner) (0.7.0)\n",
            "Requirement already satisfied: pyasn1-modules>=0.2.1 in /usr/local/lib/python3.8/dist-packages (from google-auth<3,>=1.6.3->tensorboard<2.10,>=2.9->tensorflow>=2.0->keras-tuner) (0.2.8)\n",
            "Requirement already satisfied: cachetools<6.0,>=2.0.0 in /usr/local/lib/python3.8/dist-packages (from google-auth<3,>=1.6.3->tensorboard<2.10,>=2.9->tensorflow>=2.0->keras-tuner) (5.3.0)\n",
            "Requirement already satisfied: rsa<5,>=3.1.4 in /usr/local/lib/python3.8/dist-packages (from google-auth<3,>=1.6.3->tensorboard<2.10,>=2.9->tensorflow>=2.0->keras-tuner) (4.9)\n",
            "Requirement already satisfied: requests-oauthlib>=0.7.0 in /usr/local/lib/python3.8/dist-packages (from google-auth-oauthlib<0.5,>=0.4.1->tensorboard<2.10,>=2.9->tensorflow>=2.0->keras-tuner) (1.3.1)\n",
            "Requirement already satisfied: importlib-metadata>=4.4 in /usr/local/lib/python3.8/dist-packages (from markdown>=2.6.8->tensorboard<2.10,>=2.9->tensorflow>=2.0->keras-tuner) (6.0.0)\n",
            "Requirement already satisfied: zipp>=0.5 in /usr/local/lib/python3.8/dist-packages (from importlib-metadata>=4.4->markdown>=2.6.8->tensorboard<2.10,>=2.9->tensorflow>=2.0->keras-tuner) (3.12.0)\n",
            "Requirement already satisfied: pyasn1<0.5.0,>=0.4.6 in /usr/local/lib/python3.8/dist-packages (from pyasn1-modules>=0.2.1->google-auth<3,>=1.6.3->tensorboard<2.10,>=2.9->tensorflow>=2.0->keras-tuner) (0.4.8)\n",
            "Requirement already satisfied: oauthlib>=3.0.0 in /usr/local/lib/python3.8/dist-packages (from requests-oauthlib>=0.7.0->google-auth-oauthlib<0.5,>=0.4.1->tensorboard<2.10,>=2.9->tensorflow>=2.0->keras-tuner) (3.2.2)\n",
            "Installing collected packages: kt-legacy, jedi, keras-tuner\n",
            "Successfully installed jedi-0.18.2 keras-tuner-1.2.0 kt-legacy-1.0.4\n"
          ]
        }
      ],
      "source": [
        "pip install keras-tuner"
      ]
    },
    {
      "cell_type": "code",
      "execution_count": 6,
      "metadata": {
        "colab": {
          "base_uri": "https://localhost:8080/"
        },
        "id": "SjsGC2P898qf",
        "outputId": "60a1cded-e44a-4121-db1e-022750dca5b8"
      },
      "outputs": [
        {
          "output_type": "stream",
          "name": "stdout",
          "text": [
            "Looking in indexes: https://pypi.org/simple, https://us-python.pkg.dev/colab-wheels/public/simple/\n",
            "Collecting v20\n",
            "  Downloading v20-3.0.25.0.tar.gz (75 kB)\n",
            "\u001b[2K     \u001b[90m━━━━━━━━━━━━━━━━━━━━━━━━━━━━━━━━━━━━━━━━\u001b[0m \u001b[32m75.1/75.1 KB\u001b[0m \u001b[31m3.4 MB/s\u001b[0m eta \u001b[36m0:00:00\u001b[0m\n",
            "\u001b[?25h  Preparing metadata (setup.py) ... \u001b[?25l\u001b[?25hdone\n",
            "Requirement already satisfied: requests in /usr/local/lib/python3.8/dist-packages (from v20) (2.25.1)\n",
            "Requirement already satisfied: ujson in /usr/local/lib/python3.8/dist-packages (from v20) (5.7.0)\n",
            "Requirement already satisfied: chardet<5,>=3.0.2 in /usr/local/lib/python3.8/dist-packages (from requests->v20) (4.0.0)\n",
            "Requirement already satisfied: certifi>=2017.4.17 in /usr/local/lib/python3.8/dist-packages (from requests->v20) (2022.12.7)\n",
            "Requirement already satisfied: urllib3<1.27,>=1.21.1 in /usr/local/lib/python3.8/dist-packages (from requests->v20) (1.24.3)\n",
            "Requirement already satisfied: idna<3,>=2.5 in /usr/local/lib/python3.8/dist-packages (from requests->v20) (2.10)\n",
            "Building wheels for collected packages: v20\n",
            "  Building wheel for v20 (setup.py) ... \u001b[?25l\u001b[?25hdone\n",
            "  Created wheel for v20: filename=v20-3.0.25.0-py3-none-any.whl size=85780 sha256=b87cdbabea222fd86f003825c99bc03157fd94de90559c940486844eb0e15f86\n",
            "  Stored in directory: /root/.cache/pip/wheels/9b/50/e6/7431cad84aed36618f1cd68ee913ba2d8b7759e3c4aecfe2d5\n",
            "Successfully built v20\n",
            "Installing collected packages: v20\n",
            "Successfully installed v20-3.0.25.0\n"
          ]
        }
      ],
      "source": [
        "pip install v20"
      ]
    },
    {
      "cell_type": "code",
      "execution_count": 7,
      "metadata": {
        "colab": {
          "base_uri": "https://localhost:8080/"
        },
        "id": "GNzn1rGJ_BUY",
        "outputId": "6e15e3ad-2886-4907-a054-de1ef12637e0"
      },
      "outputs": [
        {
          "output_type": "stream",
          "name": "stdout",
          "text": [
            "Looking in indexes: https://pypi.org/simple, https://us-python.pkg.dev/colab-wheels/public/simple/\n",
            "Collecting git+https://github.com/yhilpisch/tpqoa.git\n",
            "  Cloning https://github.com/yhilpisch/tpqoa.git to /tmp/pip-req-build-s5mj628w\n",
            "  Running command git clone --filter=blob:none --quiet https://github.com/yhilpisch/tpqoa.git /tmp/pip-req-build-s5mj628w\n",
            "  Resolved https://github.com/yhilpisch/tpqoa.git to commit f47a1ffddd2b2684c7e1569df6210b98dbe4e701\n",
            "  Preparing metadata (setup.py) ... \u001b[?25l\u001b[?25hdone\n",
            "Requirement already satisfied: v20==3.0.25.0 in /usr/local/lib/python3.8/dist-packages (from tpqoa==0.0.55) (3.0.25.0)\n",
            "Requirement already satisfied: pyyaml in /usr/local/lib/python3.8/dist-packages (from tpqoa==0.0.55) (6.0)\n",
            "Requirement already satisfied: requests in /usr/local/lib/python3.8/dist-packages (from v20==3.0.25.0->tpqoa==0.0.55) (2.25.1)\n",
            "Requirement already satisfied: ujson in /usr/local/lib/python3.8/dist-packages (from v20==3.0.25.0->tpqoa==0.0.55) (5.7.0)\n",
            "Requirement already satisfied: chardet<5,>=3.0.2 in /usr/local/lib/python3.8/dist-packages (from requests->v20==3.0.25.0->tpqoa==0.0.55) (4.0.0)\n",
            "Requirement already satisfied: idna<3,>=2.5 in /usr/local/lib/python3.8/dist-packages (from requests->v20==3.0.25.0->tpqoa==0.0.55) (2.10)\n",
            "Requirement already satisfied: certifi>=2017.4.17 in /usr/local/lib/python3.8/dist-packages (from requests->v20==3.0.25.0->tpqoa==0.0.55) (2022.12.7)\n",
            "Requirement already satisfied: urllib3<1.27,>=1.21.1 in /usr/local/lib/python3.8/dist-packages (from requests->v20==3.0.25.0->tpqoa==0.0.55) (1.24.3)\n",
            "Building wheels for collected packages: tpqoa\n",
            "  Building wheel for tpqoa (setup.py) ... \u001b[?25l\u001b[?25hdone\n",
            "  Created wheel for tpqoa: filename=tpqoa-0.0.55-py3-none-any.whl size=10928 sha256=c1eebb7633bff13110ca67712324c592c2d68987476eea58a4aff9c6b7f5ce12\n",
            "  Stored in directory: /tmp/pip-ephem-wheel-cache-ylkyiziz/wheels/54/90/ca/b84ec93e1d9679237c36be01b355ed94b670276656689e84a5\n",
            "Successfully built tpqoa\n",
            "Installing collected packages: tpqoa\n",
            "Successfully installed tpqoa-0.0.55\n"
          ]
        }
      ],
      "source": [
        "pip install --upgrade git+https://github.com/yhilpisch/tpqoa.git"
      ]
    },
    {
      "cell_type": "code",
      "execution_count": 8,
      "metadata": {
        "id": "EVvqt5I_nobg"
      },
      "outputs": [],
      "source": [
        "import pickle\n",
        "import gzip\n",
        "import pandas as pd\n",
        "import numpy as np\n",
        "import matplotlib.pyplot as plt\n",
        "from scipy.integrate import simps\n",
        "from numpy import trapz\n",
        "import pickle\n",
        "import gzip\n",
        "import pandas as pd\n",
        "import numpy as np\n",
        "import matplotlib.pyplot as plt\n",
        "from scipy.integrate import simps\n",
        "from numpy import trapz\n",
        "import matplotlib.pyplot as plt\n",
        "import pandas as pd\n",
        "from sklearn.svm import SVC  \n",
        "from sklearn.metrics import classification_report, confusion_matrix\n",
        "from sklearn.model_selection import GridSearchCV\n",
        "import numpy as np\n",
        "import tensorflow as tf\n",
        "from tensorflow import keras\n",
        "from tensorflow.keras import regularizers\n",
        "from tensorflow.keras.callbacks import EarlyStopping, ModelCheckpoint\n",
        "from tensorflow.keras.models import load_model\n",
        "from sklearn.preprocessing import StandardScaler, MinMaxScaler\n",
        "import keras.losses\n",
        "import sklearn\n",
        "from sklearn.metrics import accuracy_score, precision_score, recall_score, f1_score, roc_curve, confusion_matrix\n",
        "from sklearn.metrics import accuracy_score, f1_score, precision_score, recall_score, roc_auc_score, average_precision_score\n",
        "import numpy as np\n",
        "import seaborn as sns\n",
        "import matplotlib.pyplot as plt\n",
        "import keras_tuner\n",
        "import tpqoa\n",
        "from tensorflow.keras.models import Sequential\n",
        "from tensorflow.keras.layers import *\n",
        "from tensorflow.keras.callbacks import ModelCheckpoint\n",
        "from tensorflow.keras.losses import MeanSquaredError\n",
        "from tensorflow.keras.metrics import RootMeanSquaredError\n",
        "from tensorflow.keras.optimizers import Adam, SGD\n",
        "from tensorflow.keras.models import load_model\n",
        "import oandapyV20.endpoints.instruments as instruments\n",
        "import datetime\n",
        "import oandapyV20.endpoints.instruments as instruments\n",
        "import datetime\n",
        "from sklearn.metrics import mean_squared_error as mse"
      ]
    },
    {
      "cell_type": "code",
      "execution_count": 9,
      "metadata": {
        "colab": {
          "base_uri": "https://localhost:8080/",
          "height": 0
        },
        "id": "C_yHVZaHnp_z",
        "outputId": "3641d37f-c7ab-43b4-ebfb-726f92d223b3"
      },
      "outputs": [
        {
          "output_type": "stream",
          "name": "stdout",
          "text": [
            "Looking in indexes: https://pypi.org/simple, https://us-python.pkg.dev/colab-wheels/public/simple/\n",
            "Collecting rich\n",
            "  Downloading rich-13.3.1-py3-none-any.whl (239 kB)\n",
            "\u001b[2K     \u001b[90m━━━━━━━━━━━━━━━━━━━━━━━━━━━━━━━━━━━━━━━\u001b[0m \u001b[32m239.0/239.0 KB\u001b[0m \u001b[31m6.4 MB/s\u001b[0m eta \u001b[36m0:00:00\u001b[0m\n",
            "\u001b[?25hRequirement already satisfied: typing-extensions<5.0,>=4.0.0 in /usr/local/lib/python3.8/dist-packages (from rich) (4.4.0)\n",
            "Collecting markdown-it-py<3.0.0,>=2.1.0\n",
            "  Downloading markdown_it_py-2.1.0-py3-none-any.whl (84 kB)\n",
            "\u001b[2K     \u001b[90m━━━━━━━━━━━━━━━━━━━━━━━━━━━━━━━━━━━━━━━━\u001b[0m \u001b[32m84.5/84.5 KB\u001b[0m \u001b[31m11.0 MB/s\u001b[0m eta \u001b[36m0:00:00\u001b[0m\n",
            "\u001b[?25hCollecting pygments<3.0.0,>=2.14.0\n",
            "  Downloading Pygments-2.14.0-py3-none-any.whl (1.1 MB)\n",
            "\u001b[2K     \u001b[90m━━━━━━━━━━━━━━━━━━━━━━━━━━━━━━━━━━━━━━━━\u001b[0m \u001b[32m1.1/1.1 MB\u001b[0m \u001b[31m36.9 MB/s\u001b[0m eta \u001b[36m0:00:00\u001b[0m\n",
            "\u001b[?25hCollecting mdurl~=0.1\n",
            "  Downloading mdurl-0.1.2-py3-none-any.whl (10.0 kB)\n",
            "Installing collected packages: pygments, mdurl, markdown-it-py, rich\n",
            "  Attempting uninstall: pygments\n",
            "    Found existing installation: Pygments 2.6.1\n",
            "    Uninstalling Pygments-2.6.1:\n",
            "      Successfully uninstalled Pygments-2.6.1\n",
            "Successfully installed markdown-it-py-2.1.0 mdurl-0.1.2 pygments-2.14.0 rich-13.3.1\n"
          ]
        },
        {
          "output_type": "display_data",
          "data": {
            "application/vnd.colab-display-data+json": {
              "pip_warning": {
                "packages": [
                  "pygments"
                ]
              }
            }
          },
          "metadata": {}
        }
      ],
      "source": [
        "pip install rich"
      ]
    },
    {
      "cell_type": "code",
      "execution_count": 10,
      "metadata": {
        "id": "hSgNf7pKnv1o"
      },
      "outputs": [],
      "source": [
        "from rich.progress import track"
      ]
    },
    {
      "cell_type": "markdown",
      "source": [
        "# DATA"
      ],
      "metadata": {
        "id": "8Ly0xN4Bee6q"
      }
    },
    {
      "cell_type": "code",
      "source": [
        "raw = pd.read_csv(\"/content/drive/MyDrive/Crypto/new3/full_spread_data.csv\", parse_dates = [\"time\"], index_col = \"time\").dropna()\n",
        "#raw[\"returns\"] =np.log(raw.Close / raw.Close.shift(1))\n",
        "raw.drop([\"Open\",\"Spread\"],axis=1,inplace=True)\n",
        "cols = []\n",
        "for lag in range(1, 40):\n",
        "    col_h = \"h_lag{}\".format(lag)\n",
        "    col_l = \"l_lag{}\".format(lag)\n",
        "    col_c = \"c_lag{}\".format(lag)\n",
        "    col_v = \"v_lag{}\".format(lag)\n",
        "    raw[col_h] = raw.High.shift(lag)\n",
        "    cols.append(col_h)\n",
        "    raw[col_l] = raw.Low.shift(lag)\n",
        "    cols.append(col_l)\n",
        "    raw[col_c] = raw.Close.shift(lag)\n",
        "    cols.append(col_c)\n",
        "    raw[col_v] = raw.Volume.shift(lag)\n",
        "    cols.append(col_v)\n",
        "    raw.dropna(inplace = True)\n",
        "raw.drop([\"High\",\"Low\",\"Volume\"],axis=1,inplace=True)\n",
        "raw"
      ],
      "metadata": {
        "colab": {
          "base_uri": "https://localhost:8080/",
          "height": 692
        },
        "id": "miYfHBSKh-88",
        "outputId": "0d2d6e8a-4d0d-4c6b-d339-2c58fa05121e"
      },
      "execution_count": 12,
      "outputs": [
        {
          "output_type": "execute_result",
          "data": {
            "text/plain": [
              "                             Close   h_lag1   l_lag1   c_lag1    v_lag1  \\\n",
              "time                                                                      \n",
              "2018-02-22 22:00:00+00:00  10441.6  10400.0   9601.5   9924.3   86014.0   \n",
              "2018-02-23 22:00:00+00:00   9600.2  10520.4   9924.3  10441.6   25177.0   \n",
              "2018-02-24 22:00:00+00:00  10369.8   9868.7   9291.1   9600.2   60419.0   \n",
              "2018-02-25 22:00:00+00:00  10293.0  10434.4   9396.2  10369.8   85554.0   \n",
              "2018-02-26 22:00:00+00:00  10890.0  10399.2  10114.4  10293.0   28880.0   \n",
              "...                            ...      ...      ...      ...       ...   \n",
              "2023-01-17 22:00:00+00:00  20939.4  21647.9  20407.7  20773.2  517432.0   \n",
              "2023-01-18 22:00:00+00:00  22330.7  21195.0  20627.2  20939.4  399542.0   \n",
              "2023-01-19 22:00:00+00:00  22999.8  22439.6  20865.0  22330.7  455144.0   \n",
              "2023-01-22 22:00:00+00:00  22900.8  23174.4  22510.4  22999.8  497054.0   \n",
              "2023-01-23 22:00:00+00:00  22513.3  23168.6  22725.5  22900.8  489966.0   \n",
              "\n",
              "                            h_lag2   l_lag2   c_lag2    v_lag2   h_lag3  ...  \\\n",
              "time                                                                     ...   \n",
              "2018-02-22 22:00:00+00:00  10934.4   9738.6   9922.6   85916.0  11751.2  ...   \n",
              "2018-02-23 22:00:00+00:00  10400.0   9601.5   9924.3   86014.0  10934.4  ...   \n",
              "2018-02-24 22:00:00+00:00  10520.4   9924.3  10441.6   25177.0  10400.0  ...   \n",
              "2018-02-25 22:00:00+00:00   9868.7   9291.1   9600.2   60419.0  10520.4  ...   \n",
              "2018-02-26 22:00:00+00:00  10434.4   9396.2  10369.8   85554.0   9868.7  ...   \n",
              "...                            ...      ...      ...       ...      ...  ...   \n",
              "2023-01-17 22:00:00+00:00  21588.4  20860.6  21314.7  424610.0  21445.4  ...   \n",
              "2023-01-18 22:00:00+00:00  21647.9  20407.7  20773.2  517432.0  21588.4  ...   \n",
              "2023-01-19 22:00:00+00:00  21195.0  20627.2  20939.4  399542.0  21647.9  ...   \n",
              "2023-01-22 22:00:00+00:00  22439.6  20865.0  22330.7  455144.0  21195.0  ...   \n",
              "2023-01-23 22:00:00+00:00  23174.4  22510.4  22999.8  497054.0  22439.6  ...   \n",
              "\n",
              "                           c_lag37   v_lag37  h_lag38  l_lag38  c_lag38  \\\n",
              "time                                                                      \n",
              "2018-02-22 22:00:00+00:00  11590.0   85728.0  11805.4   9127.5  11371.0   \n",
              "2018-02-23 22:00:00+00:00  11351.7   85961.0  12108.9  10675.7  11590.0   \n",
              "2018-02-24 22:00:00+00:00  12904.4   85853.0  12014.3  11052.6  11351.7   \n",
              "2018-02-25 22:00:00+00:00  11363.5   75479.0  13004.7  11243.7  12904.4   \n",
              "2018-02-26 22:00:00+00:00  10358.4   85958.0  12961.8  11117.0  11363.5   \n",
              "...                            ...       ...      ...      ...      ...   \n",
              "2023-01-17 22:00:00+00:00  16194.6  291295.0  16617.2  16343.8  16505.0   \n",
              "2023-01-18 22:00:00+00:00  16463.8  265767.0  16586.4  16003.0  16194.6   \n",
              "2023-01-19 22:00:00+00:00  17103.6  252757.0  16528.6  16098.6  16463.8   \n",
              "2023-01-22 22:00:00+00:00  16945.4  221759.0  17146.3  16427.8  17103.6   \n",
              "2023-01-23 22:00:00+00:00  17017.4  173264.0  17286.9  16885.4  16945.4   \n",
              "\n",
              "                            v_lag38  h_lag39  l_lag39  c_lag39   v_lag39  \n",
              "time                                                                      \n",
              "2018-02-22 22:00:00+00:00   86148.0  13905.9  10331.5  10713.0   85728.0  \n",
              "2018-02-23 22:00:00+00:00   85728.0  11805.4   9127.5  11371.0   86148.0  \n",
              "2018-02-24 22:00:00+00:00   85961.0  12108.9  10675.7  11590.0   85728.0  \n",
              "2018-02-25 22:00:00+00:00   85853.0  12014.3  11052.6  11351.7   85961.0  \n",
              "2018-02-26 22:00:00+00:00   75479.0  13004.7  11243.7  12904.4   85853.0  \n",
              "...                             ...      ...      ...      ...       ...  \n",
              "2023-01-17 22:00:00+00:00  205653.0  16784.7  16453.2  16541.2  244983.0  \n",
              "2023-01-18 22:00:00+00:00  291295.0  16617.2  16343.8  16505.0  205653.0  \n",
              "2023-01-19 22:00:00+00:00  265767.0  16586.4  16003.0  16194.6  291295.0  \n",
              "2023-01-22 22:00:00+00:00  252757.0  16528.6  16098.6  16463.8  265767.0  \n",
              "2023-01-23 22:00:00+00:00  221759.0  17146.3  16427.8  17103.6  252757.0  \n",
              "\n",
              "[1319 rows x 157 columns]"
            ],
            "text/html": [
              "\n",
              "  <div id=\"df-6b8f4c70-e253-4db9-a22f-881cb7c1fd50\">\n",
              "    <div class=\"colab-df-container\">\n",
              "      <div>\n",
              "<style scoped>\n",
              "    .dataframe tbody tr th:only-of-type {\n",
              "        vertical-align: middle;\n",
              "    }\n",
              "\n",
              "    .dataframe tbody tr th {\n",
              "        vertical-align: top;\n",
              "    }\n",
              "\n",
              "    .dataframe thead th {\n",
              "        text-align: right;\n",
              "    }\n",
              "</style>\n",
              "<table border=\"1\" class=\"dataframe\">\n",
              "  <thead>\n",
              "    <tr style=\"text-align: right;\">\n",
              "      <th></th>\n",
              "      <th>Close</th>\n",
              "      <th>h_lag1</th>\n",
              "      <th>l_lag1</th>\n",
              "      <th>c_lag1</th>\n",
              "      <th>v_lag1</th>\n",
              "      <th>h_lag2</th>\n",
              "      <th>l_lag2</th>\n",
              "      <th>c_lag2</th>\n",
              "      <th>v_lag2</th>\n",
              "      <th>h_lag3</th>\n",
              "      <th>...</th>\n",
              "      <th>c_lag37</th>\n",
              "      <th>v_lag37</th>\n",
              "      <th>h_lag38</th>\n",
              "      <th>l_lag38</th>\n",
              "      <th>c_lag38</th>\n",
              "      <th>v_lag38</th>\n",
              "      <th>h_lag39</th>\n",
              "      <th>l_lag39</th>\n",
              "      <th>c_lag39</th>\n",
              "      <th>v_lag39</th>\n",
              "    </tr>\n",
              "    <tr>\n",
              "      <th>time</th>\n",
              "      <th></th>\n",
              "      <th></th>\n",
              "      <th></th>\n",
              "      <th></th>\n",
              "      <th></th>\n",
              "      <th></th>\n",
              "      <th></th>\n",
              "      <th></th>\n",
              "      <th></th>\n",
              "      <th></th>\n",
              "      <th></th>\n",
              "      <th></th>\n",
              "      <th></th>\n",
              "      <th></th>\n",
              "      <th></th>\n",
              "      <th></th>\n",
              "      <th></th>\n",
              "      <th></th>\n",
              "      <th></th>\n",
              "      <th></th>\n",
              "      <th></th>\n",
              "    </tr>\n",
              "  </thead>\n",
              "  <tbody>\n",
              "    <tr>\n",
              "      <th>2018-02-22 22:00:00+00:00</th>\n",
              "      <td>10441.6</td>\n",
              "      <td>10400.0</td>\n",
              "      <td>9601.5</td>\n",
              "      <td>9924.3</td>\n",
              "      <td>86014.0</td>\n",
              "      <td>10934.4</td>\n",
              "      <td>9738.6</td>\n",
              "      <td>9922.6</td>\n",
              "      <td>85916.0</td>\n",
              "      <td>11751.2</td>\n",
              "      <td>...</td>\n",
              "      <td>11590.0</td>\n",
              "      <td>85728.0</td>\n",
              "      <td>11805.4</td>\n",
              "      <td>9127.5</td>\n",
              "      <td>11371.0</td>\n",
              "      <td>86148.0</td>\n",
              "      <td>13905.9</td>\n",
              "      <td>10331.5</td>\n",
              "      <td>10713.0</td>\n",
              "      <td>85728.0</td>\n",
              "    </tr>\n",
              "    <tr>\n",
              "      <th>2018-02-23 22:00:00+00:00</th>\n",
              "      <td>9600.2</td>\n",
              "      <td>10520.4</td>\n",
              "      <td>9924.3</td>\n",
              "      <td>10441.6</td>\n",
              "      <td>25177.0</td>\n",
              "      <td>10400.0</td>\n",
              "      <td>9601.5</td>\n",
              "      <td>9924.3</td>\n",
              "      <td>86014.0</td>\n",
              "      <td>10934.4</td>\n",
              "      <td>...</td>\n",
              "      <td>11351.7</td>\n",
              "      <td>85961.0</td>\n",
              "      <td>12108.9</td>\n",
              "      <td>10675.7</td>\n",
              "      <td>11590.0</td>\n",
              "      <td>85728.0</td>\n",
              "      <td>11805.4</td>\n",
              "      <td>9127.5</td>\n",
              "      <td>11371.0</td>\n",
              "      <td>86148.0</td>\n",
              "    </tr>\n",
              "    <tr>\n",
              "      <th>2018-02-24 22:00:00+00:00</th>\n",
              "      <td>10369.8</td>\n",
              "      <td>9868.7</td>\n",
              "      <td>9291.1</td>\n",
              "      <td>9600.2</td>\n",
              "      <td>60419.0</td>\n",
              "      <td>10520.4</td>\n",
              "      <td>9924.3</td>\n",
              "      <td>10441.6</td>\n",
              "      <td>25177.0</td>\n",
              "      <td>10400.0</td>\n",
              "      <td>...</td>\n",
              "      <td>12904.4</td>\n",
              "      <td>85853.0</td>\n",
              "      <td>12014.3</td>\n",
              "      <td>11052.6</td>\n",
              "      <td>11351.7</td>\n",
              "      <td>85961.0</td>\n",
              "      <td>12108.9</td>\n",
              "      <td>10675.7</td>\n",
              "      <td>11590.0</td>\n",
              "      <td>85728.0</td>\n",
              "    </tr>\n",
              "    <tr>\n",
              "      <th>2018-02-25 22:00:00+00:00</th>\n",
              "      <td>10293.0</td>\n",
              "      <td>10434.4</td>\n",
              "      <td>9396.2</td>\n",
              "      <td>10369.8</td>\n",
              "      <td>85554.0</td>\n",
              "      <td>9868.7</td>\n",
              "      <td>9291.1</td>\n",
              "      <td>9600.2</td>\n",
              "      <td>60419.0</td>\n",
              "      <td>10520.4</td>\n",
              "      <td>...</td>\n",
              "      <td>11363.5</td>\n",
              "      <td>75479.0</td>\n",
              "      <td>13004.7</td>\n",
              "      <td>11243.7</td>\n",
              "      <td>12904.4</td>\n",
              "      <td>85853.0</td>\n",
              "      <td>12014.3</td>\n",
              "      <td>11052.6</td>\n",
              "      <td>11351.7</td>\n",
              "      <td>85961.0</td>\n",
              "    </tr>\n",
              "    <tr>\n",
              "      <th>2018-02-26 22:00:00+00:00</th>\n",
              "      <td>10890.0</td>\n",
              "      <td>10399.2</td>\n",
              "      <td>10114.4</td>\n",
              "      <td>10293.0</td>\n",
              "      <td>28880.0</td>\n",
              "      <td>10434.4</td>\n",
              "      <td>9396.2</td>\n",
              "      <td>10369.8</td>\n",
              "      <td>85554.0</td>\n",
              "      <td>9868.7</td>\n",
              "      <td>...</td>\n",
              "      <td>10358.4</td>\n",
              "      <td>85958.0</td>\n",
              "      <td>12961.8</td>\n",
              "      <td>11117.0</td>\n",
              "      <td>11363.5</td>\n",
              "      <td>75479.0</td>\n",
              "      <td>13004.7</td>\n",
              "      <td>11243.7</td>\n",
              "      <td>12904.4</td>\n",
              "      <td>85853.0</td>\n",
              "    </tr>\n",
              "    <tr>\n",
              "      <th>...</th>\n",
              "      <td>...</td>\n",
              "      <td>...</td>\n",
              "      <td>...</td>\n",
              "      <td>...</td>\n",
              "      <td>...</td>\n",
              "      <td>...</td>\n",
              "      <td>...</td>\n",
              "      <td>...</td>\n",
              "      <td>...</td>\n",
              "      <td>...</td>\n",
              "      <td>...</td>\n",
              "      <td>...</td>\n",
              "      <td>...</td>\n",
              "      <td>...</td>\n",
              "      <td>...</td>\n",
              "      <td>...</td>\n",
              "      <td>...</td>\n",
              "      <td>...</td>\n",
              "      <td>...</td>\n",
              "      <td>...</td>\n",
              "      <td>...</td>\n",
              "    </tr>\n",
              "    <tr>\n",
              "      <th>2023-01-17 22:00:00+00:00</th>\n",
              "      <td>20939.4</td>\n",
              "      <td>21647.9</td>\n",
              "      <td>20407.7</td>\n",
              "      <td>20773.2</td>\n",
              "      <td>517432.0</td>\n",
              "      <td>21588.4</td>\n",
              "      <td>20860.6</td>\n",
              "      <td>21314.7</td>\n",
              "      <td>424610.0</td>\n",
              "      <td>21445.4</td>\n",
              "      <td>...</td>\n",
              "      <td>16194.6</td>\n",
              "      <td>291295.0</td>\n",
              "      <td>16617.2</td>\n",
              "      <td>16343.8</td>\n",
              "      <td>16505.0</td>\n",
              "      <td>205653.0</td>\n",
              "      <td>16784.7</td>\n",
              "      <td>16453.2</td>\n",
              "      <td>16541.2</td>\n",
              "      <td>244983.0</td>\n",
              "    </tr>\n",
              "    <tr>\n",
              "      <th>2023-01-18 22:00:00+00:00</th>\n",
              "      <td>22330.7</td>\n",
              "      <td>21195.0</td>\n",
              "      <td>20627.2</td>\n",
              "      <td>20939.4</td>\n",
              "      <td>399542.0</td>\n",
              "      <td>21647.9</td>\n",
              "      <td>20407.7</td>\n",
              "      <td>20773.2</td>\n",
              "      <td>517432.0</td>\n",
              "      <td>21588.4</td>\n",
              "      <td>...</td>\n",
              "      <td>16463.8</td>\n",
              "      <td>265767.0</td>\n",
              "      <td>16586.4</td>\n",
              "      <td>16003.0</td>\n",
              "      <td>16194.6</td>\n",
              "      <td>291295.0</td>\n",
              "      <td>16617.2</td>\n",
              "      <td>16343.8</td>\n",
              "      <td>16505.0</td>\n",
              "      <td>205653.0</td>\n",
              "    </tr>\n",
              "    <tr>\n",
              "      <th>2023-01-19 22:00:00+00:00</th>\n",
              "      <td>22999.8</td>\n",
              "      <td>22439.6</td>\n",
              "      <td>20865.0</td>\n",
              "      <td>22330.7</td>\n",
              "      <td>455144.0</td>\n",
              "      <td>21195.0</td>\n",
              "      <td>20627.2</td>\n",
              "      <td>20939.4</td>\n",
              "      <td>399542.0</td>\n",
              "      <td>21647.9</td>\n",
              "      <td>...</td>\n",
              "      <td>17103.6</td>\n",
              "      <td>252757.0</td>\n",
              "      <td>16528.6</td>\n",
              "      <td>16098.6</td>\n",
              "      <td>16463.8</td>\n",
              "      <td>265767.0</td>\n",
              "      <td>16586.4</td>\n",
              "      <td>16003.0</td>\n",
              "      <td>16194.6</td>\n",
              "      <td>291295.0</td>\n",
              "    </tr>\n",
              "    <tr>\n",
              "      <th>2023-01-22 22:00:00+00:00</th>\n",
              "      <td>22900.8</td>\n",
              "      <td>23174.4</td>\n",
              "      <td>22510.4</td>\n",
              "      <td>22999.8</td>\n",
              "      <td>497054.0</td>\n",
              "      <td>22439.6</td>\n",
              "      <td>20865.0</td>\n",
              "      <td>22330.7</td>\n",
              "      <td>455144.0</td>\n",
              "      <td>21195.0</td>\n",
              "      <td>...</td>\n",
              "      <td>16945.4</td>\n",
              "      <td>221759.0</td>\n",
              "      <td>17146.3</td>\n",
              "      <td>16427.8</td>\n",
              "      <td>17103.6</td>\n",
              "      <td>252757.0</td>\n",
              "      <td>16528.6</td>\n",
              "      <td>16098.6</td>\n",
              "      <td>16463.8</td>\n",
              "      <td>265767.0</td>\n",
              "    </tr>\n",
              "    <tr>\n",
              "      <th>2023-01-23 22:00:00+00:00</th>\n",
              "      <td>22513.3</td>\n",
              "      <td>23168.6</td>\n",
              "      <td>22725.5</td>\n",
              "      <td>22900.8</td>\n",
              "      <td>489966.0</td>\n",
              "      <td>23174.4</td>\n",
              "      <td>22510.4</td>\n",
              "      <td>22999.8</td>\n",
              "      <td>497054.0</td>\n",
              "      <td>22439.6</td>\n",
              "      <td>...</td>\n",
              "      <td>17017.4</td>\n",
              "      <td>173264.0</td>\n",
              "      <td>17286.9</td>\n",
              "      <td>16885.4</td>\n",
              "      <td>16945.4</td>\n",
              "      <td>221759.0</td>\n",
              "      <td>17146.3</td>\n",
              "      <td>16427.8</td>\n",
              "      <td>17103.6</td>\n",
              "      <td>252757.0</td>\n",
              "    </tr>\n",
              "  </tbody>\n",
              "</table>\n",
              "<p>1319 rows × 157 columns</p>\n",
              "</div>\n",
              "      <button class=\"colab-df-convert\" onclick=\"convertToInteractive('df-6b8f4c70-e253-4db9-a22f-881cb7c1fd50')\"\n",
              "              title=\"Convert this dataframe to an interactive table.\"\n",
              "              style=\"display:none;\">\n",
              "        \n",
              "  <svg xmlns=\"http://www.w3.org/2000/svg\" height=\"24px\"viewBox=\"0 0 24 24\"\n",
              "       width=\"24px\">\n",
              "    <path d=\"M0 0h24v24H0V0z\" fill=\"none\"/>\n",
              "    <path d=\"M18.56 5.44l.94 2.06.94-2.06 2.06-.94-2.06-.94-.94-2.06-.94 2.06-2.06.94zm-11 1L8.5 8.5l.94-2.06 2.06-.94-2.06-.94L8.5 2.5l-.94 2.06-2.06.94zm10 10l.94 2.06.94-2.06 2.06-.94-2.06-.94-.94-2.06-.94 2.06-2.06.94z\"/><path d=\"M17.41 7.96l-1.37-1.37c-.4-.4-.92-.59-1.43-.59-.52 0-1.04.2-1.43.59L10.3 9.45l-7.72 7.72c-.78.78-.78 2.05 0 2.83L4 21.41c.39.39.9.59 1.41.59.51 0 1.02-.2 1.41-.59l7.78-7.78 2.81-2.81c.8-.78.8-2.07 0-2.86zM5.41 20L4 18.59l7.72-7.72 1.47 1.35L5.41 20z\"/>\n",
              "  </svg>\n",
              "      </button>\n",
              "      \n",
              "  <style>\n",
              "    .colab-df-container {\n",
              "      display:flex;\n",
              "      flex-wrap:wrap;\n",
              "      gap: 12px;\n",
              "    }\n",
              "\n",
              "    .colab-df-convert {\n",
              "      background-color: #E8F0FE;\n",
              "      border: none;\n",
              "      border-radius: 50%;\n",
              "      cursor: pointer;\n",
              "      display: none;\n",
              "      fill: #1967D2;\n",
              "      height: 32px;\n",
              "      padding: 0 0 0 0;\n",
              "      width: 32px;\n",
              "    }\n",
              "\n",
              "    .colab-df-convert:hover {\n",
              "      background-color: #E2EBFA;\n",
              "      box-shadow: 0px 1px 2px rgba(60, 64, 67, 0.3), 0px 1px 3px 1px rgba(60, 64, 67, 0.15);\n",
              "      fill: #174EA6;\n",
              "    }\n",
              "\n",
              "    [theme=dark] .colab-df-convert {\n",
              "      background-color: #3B4455;\n",
              "      fill: #D2E3FC;\n",
              "    }\n",
              "\n",
              "    [theme=dark] .colab-df-convert:hover {\n",
              "      background-color: #434B5C;\n",
              "      box-shadow: 0px 1px 3px 1px rgba(0, 0, 0, 0.15);\n",
              "      filter: drop-shadow(0px 1px 2px rgba(0, 0, 0, 0.3));\n",
              "      fill: #FFFFFF;\n",
              "    }\n",
              "  </style>\n",
              "\n",
              "      <script>\n",
              "        const buttonEl =\n",
              "          document.querySelector('#df-6b8f4c70-e253-4db9-a22f-881cb7c1fd50 button.colab-df-convert');\n",
              "        buttonEl.style.display =\n",
              "          google.colab.kernel.accessAllowed ? 'block' : 'none';\n",
              "\n",
              "        async function convertToInteractive(key) {\n",
              "          const element = document.querySelector('#df-6b8f4c70-e253-4db9-a22f-881cb7c1fd50');\n",
              "          const dataTable =\n",
              "            await google.colab.kernel.invokeFunction('convertToInteractive',\n",
              "                                                     [key], {});\n",
              "          if (!dataTable) return;\n",
              "\n",
              "          const docLinkHtml = 'Like what you see? Visit the ' +\n",
              "            '<a target=\"_blank\" href=https://colab.research.google.com/notebooks/data_table.ipynb>data table notebook</a>'\n",
              "            + ' to learn more about interactive tables.';\n",
              "          element.innerHTML = '';\n",
              "          dataTable['output_type'] = 'display_data';\n",
              "          await google.colab.output.renderOutput(dataTable, element);\n",
              "          const docLink = document.createElement('div');\n",
              "          docLink.innerHTML = docLinkHtml;\n",
              "          element.appendChild(docLink);\n",
              "        }\n",
              "      </script>\n",
              "    </div>\n",
              "  </div>\n",
              "  "
            ]
          },
          "metadata": {},
          "execution_count": 12
        }
      ]
    },
    {
      "cell_type": "code",
      "source": [
        "#felso=np.quantile(raw[\"returns\"],0.66)\n",
        "#also=np.quantile(raw[\"returns\"],0.33)\n",
        "#print(felso,also)\n",
        "#returns2=(raw[\"returns\"]>felso).astype(int)+2*(raw[\"returns\"]<also).astype(int)\n",
        "#raw[\"returns2\"]=returns2\n",
        "to=int(len(raw)*0.7)\n",
        "X_train=raw.drop([\"Close\"],axis=1).iloc[:to].to_numpy()\n",
        "y_train=raw[\"Close\"].iloc[:to].to_numpy().astype(int)\n",
        "X_test=raw.drop([\"Close\"],axis=1).iloc[to:].to_numpy()\n",
        "y_test=raw[\"Close\"].iloc[to:].to_numpy().astype(int)\n",
        "\n",
        "scaler1=MinMaxScaler()\n",
        "X_train=scaler1.fit_transform(X_train)\n",
        "X_test=scaler1.transform(X_test)\n",
        "print(X_train.shape,y_train.shape,X_test.shape,y_test.shape)"
      ],
      "metadata": {
        "id": "heX4rrrYOVVP",
        "outputId": "fe34375f-2800-48e4-e230-8c51c35210fe",
        "colab": {
          "base_uri": "https://localhost:8080/"
        }
      },
      "execution_count": 20,
      "outputs": [
        {
          "output_type": "stream",
          "name": "stdout",
          "text": [
            "(923, 156) (923,) (396, 156) (396,)\n"
          ]
        }
      ]
    },
    {
      "cell_type": "code",
      "source": [
        "scaler1 = StandardScaler()\n",
        "scaler2 = StandardScaler()\n",
        "X_train=scaler1.fit_transform(X_train)\n",
        "y_train=scaler2.fit_transform(y_train.reshape(-1,1)).flatten()\n",
        "X_test=scaler1.transform(X_test)\n",
        "y_test=scaler2.transform(y_test.reshape(-1,1)).flatten()\n",
        "print(X_train.shape,y_train.shape,X_test.shape,y_test.shape)"
      ],
      "metadata": {
        "id": "GSyl6RHcNwic",
        "outputId": "638039e1-194b-41c1-a8d5-529b0543dcfd",
        "colab": {
          "base_uri": "https://localhost:8080/"
        }
      },
      "execution_count": 33,
      "outputs": [
        {
          "output_type": "stream",
          "name": "stdout",
          "text": [
            "(923, 156) (923,) (396, 156) (396,)\n"
          ]
        }
      ]
    },
    {
      "cell_type": "markdown",
      "metadata": {
        "id": "OmR_a4E4azq7"
      },
      "source": [
        "# GRU"
      ]
    },
    {
      "cell_type": "code",
      "source": [
        "#from tensorflow.keras.utils import to_categorical\n",
        "#y_train = to_categorical(y_train, 3)\n",
        "#y_test = to_categorical(y_test, 3)"
      ],
      "metadata": {
        "id": "26VX0WFwPV7B"
      },
      "execution_count": null,
      "outputs": []
    },
    {
      "cell_type": "code",
      "source": [
        "import tensorflow as tf\n",
        "from keras.losses import binary_crossentropy, categorical_crossentropy\n",
        "import keras.backend as K\n",
        "import numpy as np\n",
        "from prettytable import PrettyTable\n",
        "from prettytable import ALL\n",
        "from sklearn.metrics import f1_score\n",
        "\n",
        "def f1(y_true, y_pred):\n",
        "    y_pred = K.round(y_pred)\n",
        "    tp = K.sum(K.cast(y_true*y_pred, 'float'), axis=0)\n",
        "    tn = K.sum(K.cast((1-y_true)*(1-y_pred), 'float'), axis=0)\n",
        "    fp = K.sum(K.cast((1-y_true)*y_pred, 'float'), axis=0)\n",
        "    fn = K.sum(K.cast(y_true*(1-y_pred), 'float'), axis=0)\n",
        "\n",
        "    p = tp / (tp + fp + K.epsilon())\n",
        "    r = tp / (tp + fn + K.epsilon())\n",
        "\n",
        "    f1 = 2*p*r / (p+r+K.epsilon())\n",
        "    f1 = tf.where(tf.math.is_nan(f1), tf.zeros_like(f1), f1)\n",
        "    return K.mean(f1)\n",
        "\n",
        "def f1_loss(y_true, y_pred):\n",
        "    \n",
        "    tp = K.sum(K.cast(y_true*y_pred, 'float'), axis=0)\n",
        "    tn = K.sum(K.cast((1-y_true)*(1-y_pred), 'float'), axis=0)\n",
        "    fp = K.sum(K.cast((1-y_true)*y_pred, 'float'), axis=0)\n",
        "    fn = K.sum(K.cast(y_true*(1-y_pred), 'float'), axis=0)\n",
        "\n",
        "    p = tp / (tp + fp + K.epsilon())\n",
        "    r = tp / (tp + fn + K.epsilon())\n",
        "\n",
        "    f1 = 2*p*r / (p+r+K.epsilon())\n",
        "    f1 = tf.where(tf.math.is_nan(f1), tf.zeros_like(f1), f1)\n",
        "    return 1 - K.mean(f1)"
      ],
      "metadata": {
        "id": "7HvsQxuaJiTH"
      },
      "execution_count": null,
      "outputs": []
    },
    {
      "cell_type": "code",
      "execution_count": 37,
      "metadata": {
        "id": "m7u6MIsEm89h"
      },
      "outputs": [],
      "source": [
        "def build_model(hp):\n",
        "  model = Sequential()\n",
        "  model.add(Dense(hp.Int('units', min_value=15, max_value=200, step=1),input_shape=(156,1),activation=tf.keras.layers.LeakyReLU()))\n",
        "  model.add(Dropout(0.2))\n",
        "  #for j in range(hp.Int('units6', min_value=1, max_value=8, step=1)):\n",
        "  #  model.add(Dense(hp.Int('units10'+\"_\"+str(j), min_value=15, max_value=200, step=1),activation=\"relu\"))\n",
        "  #  model.add(Dropout(0.2))\n",
        "  for i in range(hp.Int('units7', min_value=1, max_value=16, step=1)):\n",
        "    model.add(GRU(units=hp.Int('units2', min_value=15, max_value=120, step=1), return_sequences=True, activation='tanh'))\n",
        "    model.add(LSTM(units=hp.Int('units3', min_value=15, max_value=120, step=1), return_sequences=True, activation='tanh'))\n",
        "    model.add(Dropout(0.2))\n",
        "  model.add(GRU(units=hp.Int('units2', min_value=15, max_value=120, step=1), return_sequences=False, activation='tanh'))\n",
        "  #for j in range(hp.Int('units8', min_value=1, max_value=8, step=1)):\n",
        "  #  model.add(Dense(hp.Int('units12'+\"_\"+str(j), min_value=15, max_value=200, step=1),activation=\"relu\"))\n",
        "  #  model.add(Dropout(0.2))\n",
        "  model.add(Dense(hp.Int('units8', min_value=15, max_value=200, step=1),input_shape=(156,1),activation=tf.keras.layers.LeakyReLU()))\n",
        "  model.add(Dense(1, activation=tf.keras.layers.LeakyReLU()))\n",
        "  model.compile(loss='mean_squared_error', optimizer='adam', metrics=[tf.keras.metrics.MeanSquaredError()])\n",
        "  return model"
      ]
    },
    {
      "cell_type": "code",
      "source": [
        "tuner = keras_tuner.RandomSearch(\n",
        "      build_model,\n",
        "      objective='val_loss',\n",
        "      max_trials=200,overwrite = True)\n",
        "tuner.search(X_train,y_train , epochs=10, validation_split=0.2)\n",
        "best_model = tuner.get_best_models()[0]\n",
        "best_model.summary()"
      ],
      "metadata": {
        "colab": {
          "base_uri": "https://localhost:8080/"
        },
        "id": "fM9WingWIGXc",
        "outputId": "ff77fba9-3dda-4a14-b854-34ee6a5fc3e7"
      },
      "execution_count": 38,
      "outputs": [
        {
          "output_type": "stream",
          "name": "stdout",
          "text": [
            "Trial 200 Complete [00h 02m 02s]\n",
            "val_loss: 2.887784957885742\n",
            "\n",
            "Best val_loss So Far: 0.6948232054710388\n",
            "Total elapsed time: 04h 29m 43s\n",
            "Model: \"sequential\"\n",
            "_________________________________________________________________\n",
            " Layer (type)                Output Shape              Param #   \n",
            "=================================================================\n",
            " dense (Dense)               (None, 156, 128)          256       \n",
            "                                                                 \n",
            " dropout (Dropout)           (None, 156, 128)          0         \n",
            "                                                                 \n",
            " gru (GRU)                   (None, 156, 46)           24288     \n",
            "                                                                 \n",
            " lstm (LSTM)                 (None, 156, 92)           51152     \n",
            "                                                                 \n",
            " dropout_1 (Dropout)         (None, 156, 92)           0         \n",
            "                                                                 \n",
            " gru_1 (GRU)                 (None, 156, 46)           19320     \n",
            "                                                                 \n",
            " lstm_1 (LSTM)               (None, 156, 92)           51152     \n",
            "                                                                 \n",
            " dropout_2 (Dropout)         (None, 156, 92)           0         \n",
            "                                                                 \n",
            " gru_2 (GRU)                 (None, 156, 46)           19320     \n",
            "                                                                 \n",
            " lstm_2 (LSTM)               (None, 156, 92)           51152     \n",
            "                                                                 \n",
            " dropout_3 (Dropout)         (None, 156, 92)           0         \n",
            "                                                                 \n",
            " gru_3 (GRU)                 (None, 156, 46)           19320     \n",
            "                                                                 \n",
            " lstm_3 (LSTM)               (None, 156, 92)           51152     \n",
            "                                                                 \n",
            " dropout_4 (Dropout)         (None, 156, 92)           0         \n",
            "                                                                 \n",
            " gru_4 (GRU)                 (None, 156, 46)           19320     \n",
            "                                                                 \n",
            " lstm_4 (LSTM)               (None, 156, 92)           51152     \n",
            "                                                                 \n",
            " dropout_5 (Dropout)         (None, 156, 92)           0         \n",
            "                                                                 \n",
            " gru_5 (GRU)                 (None, 156, 46)           19320     \n",
            "                                                                 \n",
            " lstm_5 (LSTM)               (None, 156, 92)           51152     \n",
            "                                                                 \n",
            " dropout_6 (Dropout)         (None, 156, 92)           0         \n",
            "                                                                 \n",
            " gru_6 (GRU)                 (None, 46)                19320     \n",
            "                                                                 \n",
            " dense_1 (Dense)             (None, 27)                1269      \n",
            "                                                                 \n",
            " dense_2 (Dense)             (None, 1)                 28        \n",
            "                                                                 \n",
            "=================================================================\n",
            "Total params: 448,673\n",
            "Trainable params: 448,673\n",
            "Non-trainable params: 0\n",
            "_________________________________________________________________\n"
          ]
        }
      ]
    },
    {
      "cell_type": "markdown",
      "source": [],
      "metadata": {
        "id": "ikdDf8NAVdGB"
      }
    },
    {
      "cell_type": "code",
      "source": [
        "def build_best():\n",
        "  #hp_units = [hp.Int('units', min_value=160, max_value=320, step=1),hp.Int('units', min_value=16, max_value=120, step=1)]\n",
        "  model = Sequential()\n",
        "  model.add(Dense(156,input_shape=(156,1)))\n",
        "  model.add(GRU(units=40, return_sequences=True, activation='tanh'))\n",
        "  model.add(Dropout(0.2))\n",
        "  model.add(GRU(units=40, return_sequences=True, activation='tanh'))\n",
        "  model.add(Dropout(0.2))\n",
        "  model.add(GRU(units=40, activation='tanh'))\n",
        "  model.add(Dropout(0.2))\n",
        "  model.add(Dense(156))\n",
        "  model.add(Dense(3, activation='softmax'))\n",
        "  model.compile(loss=f1_loss, optimizer='adam', metrics=[f1])\n",
        "  return model"
      ],
      "metadata": {
        "id": "yyIHOXTu8ZbD"
      },
      "execution_count": null,
      "outputs": []
    },
    {
      "cell_type": "code",
      "execution_count": 39,
      "metadata": {
        "id": "OnWc6F-oeFXX",
        "outputId": "9b7bbad6-1ac6-4951-9b46-55bd5378b042",
        "colab": {
          "base_uri": "https://localhost:8080/"
        }
      },
      "outputs": [
        {
          "output_type": "stream",
          "name": "stdout",
          "text": [
            "\n",
            "Epoch 1: val_loss improved from inf to 1.53007, saving model to weights1.hdf5\n",
            "\n",
            "Epoch 2: val_loss did not improve from 1.53007\n",
            "\n",
            "Epoch 3: val_loss did not improve from 1.53007\n",
            "\n",
            "Epoch 4: val_loss did not improve from 1.53007\n",
            "\n",
            "Epoch 5: val_loss did not improve from 1.53007\n",
            "\n",
            "Epoch 6: val_loss did not improve from 1.53007\n",
            "\n",
            "Epoch 7: val_loss did not improve from 1.53007\n",
            "\n",
            "Epoch 8: val_loss did not improve from 1.53007\n",
            "\n",
            "Epoch 9: val_loss did not improve from 1.53007\n",
            "\n",
            "Epoch 10: val_loss did not improve from 1.53007\n",
            "\n",
            "Epoch 11: val_loss did not improve from 1.53007\n",
            "\n",
            "Epoch 12: val_loss did not improve from 1.53007\n",
            "\n",
            "Epoch 13: val_loss did not improve from 1.53007\n",
            "\n",
            "Epoch 14: val_loss did not improve from 1.53007\n",
            "\n",
            "Epoch 15: val_loss did not improve from 1.53007\n",
            "\n",
            "Epoch 16: val_loss did not improve from 1.53007\n",
            "\n",
            "Epoch 17: val_loss did not improve from 1.53007\n",
            "\n",
            "Epoch 18: val_loss did not improve from 1.53007\n",
            "\n",
            "Epoch 19: val_loss did not improve from 1.53007\n",
            "\n",
            "Epoch 20: val_loss did not improve from 1.53007\n",
            "\n",
            "Epoch 21: val_loss did not improve from 1.53007\n",
            "\n",
            "Epoch 22: val_loss did not improve from 1.53007\n",
            "\n",
            "Epoch 23: val_loss did not improve from 1.53007\n",
            "\n",
            "Epoch 24: val_loss did not improve from 1.53007\n",
            "\n",
            "Epoch 25: val_loss did not improve from 1.53007\n",
            "\n",
            "Epoch 26: val_loss did not improve from 1.53007\n",
            "\n",
            "Epoch 27: val_loss did not improve from 1.53007\n",
            "\n",
            "Epoch 28: val_loss did not improve from 1.53007\n",
            "\n",
            "Epoch 29: val_loss did not improve from 1.53007\n",
            "\n",
            "Epoch 30: val_loss did not improve from 1.53007\n",
            "\n",
            "Epoch 31: val_loss did not improve from 1.53007\n",
            "\n",
            "Epoch 32: val_loss did not improve from 1.53007\n",
            "\n",
            "Epoch 33: val_loss did not improve from 1.53007\n",
            "\n",
            "Epoch 34: val_loss did not improve from 1.53007\n",
            "\n",
            "Epoch 35: val_loss did not improve from 1.53007\n",
            "\n",
            "Epoch 36: val_loss did not improve from 1.53007\n",
            "\n",
            "Epoch 37: val_loss did not improve from 1.53007\n",
            "\n",
            "Epoch 38: val_loss did not improve from 1.53007\n",
            "\n",
            "Epoch 39: val_loss did not improve from 1.53007\n",
            "\n",
            "Epoch 40: val_loss did not improve from 1.53007\n",
            "\n",
            "Epoch 41: val_loss did not improve from 1.53007\n",
            "\n",
            "Epoch 42: val_loss did not improve from 1.53007\n",
            "\n",
            "Epoch 43: val_loss did not improve from 1.53007\n",
            "\n",
            "Epoch 44: val_loss did not improve from 1.53007\n",
            "\n",
            "Epoch 45: val_loss did not improve from 1.53007\n",
            "\n",
            "Epoch 46: val_loss did not improve from 1.53007\n",
            "\n",
            "Epoch 47: val_loss did not improve from 1.53007\n",
            "\n",
            "Epoch 48: val_loss did not improve from 1.53007\n",
            "\n",
            "Epoch 49: val_loss did not improve from 1.53007\n",
            "\n",
            "Epoch 50: val_loss did not improve from 1.53007\n",
            "\n",
            "Epoch 51: val_loss did not improve from 1.53007\n",
            "\n",
            "Epoch 52: val_loss did not improve from 1.53007\n",
            "\n",
            "Epoch 53: val_loss did not improve from 1.53007\n",
            "\n",
            "Epoch 54: val_loss did not improve from 1.53007\n",
            "\n",
            "Epoch 55: val_loss did not improve from 1.53007\n",
            "\n",
            "Epoch 56: val_loss did not improve from 1.53007\n",
            "\n",
            "Epoch 57: val_loss did not improve from 1.53007\n",
            "\n",
            "Epoch 58: val_loss did not improve from 1.53007\n",
            "\n",
            "Epoch 59: val_loss did not improve from 1.53007\n",
            "\n",
            "Epoch 60: val_loss did not improve from 1.53007\n",
            "\n",
            "Epoch 61: val_loss did not improve from 1.53007\n",
            "\n",
            "Epoch 62: val_loss did not improve from 1.53007\n",
            "\n",
            "Epoch 63: val_loss improved from 1.53007 to 1.05039, saving model to weights1.hdf5\n",
            "\n",
            "Epoch 64: val_loss did not improve from 1.05039\n",
            "\n",
            "Epoch 65: val_loss did not improve from 1.05039\n",
            "\n",
            "Epoch 66: val_loss did not improve from 1.05039\n",
            "\n",
            "Epoch 67: val_loss did not improve from 1.05039\n",
            "\n",
            "Epoch 68: val_loss did not improve from 1.05039\n",
            "\n",
            "Epoch 69: val_loss did not improve from 1.05039\n",
            "\n",
            "Epoch 70: val_loss did not improve from 1.05039\n",
            "\n",
            "Epoch 71: val_loss did not improve from 1.05039\n",
            "\n",
            "Epoch 72: val_loss did not improve from 1.05039\n",
            "\n",
            "Epoch 73: val_loss did not improve from 1.05039\n",
            "\n",
            "Epoch 74: val_loss did not improve from 1.05039\n",
            "\n",
            "Epoch 75: val_loss did not improve from 1.05039\n",
            "\n",
            "Epoch 76: val_loss did not improve from 1.05039\n",
            "\n",
            "Epoch 77: val_loss did not improve from 1.05039\n",
            "\n",
            "Epoch 78: val_loss did not improve from 1.05039\n",
            "\n",
            "Epoch 79: val_loss did not improve from 1.05039\n",
            "\n",
            "Epoch 80: val_loss did not improve from 1.05039\n",
            "\n",
            "Epoch 81: val_loss did not improve from 1.05039\n",
            "\n",
            "Epoch 82: val_loss did not improve from 1.05039\n",
            "\n",
            "Epoch 83: val_loss did not improve from 1.05039\n",
            "\n",
            "Epoch 84: val_loss did not improve from 1.05039\n",
            "\n",
            "Epoch 85: val_loss did not improve from 1.05039\n",
            "\n",
            "Epoch 86: val_loss did not improve from 1.05039\n",
            "\n",
            "Epoch 87: val_loss did not improve from 1.05039\n",
            "\n",
            "Epoch 88: val_loss did not improve from 1.05039\n",
            "\n",
            "Epoch 89: val_loss did not improve from 1.05039\n",
            "\n",
            "Epoch 90: val_loss did not improve from 1.05039\n",
            "\n",
            "Epoch 91: val_loss did not improve from 1.05039\n",
            "\n",
            "Epoch 92: val_loss did not improve from 1.05039\n",
            "\n",
            "Epoch 93: val_loss did not improve from 1.05039\n",
            "\n",
            "Epoch 94: val_loss did not improve from 1.05039\n",
            "\n",
            "Epoch 95: val_loss did not improve from 1.05039\n",
            "\n",
            "Epoch 96: val_loss did not improve from 1.05039\n",
            "\n",
            "Epoch 97: val_loss did not improve from 1.05039\n",
            "\n",
            "Epoch 98: val_loss did not improve from 1.05039\n",
            "\n",
            "Epoch 99: val_loss did not improve from 1.05039\n",
            "\n",
            "Epoch 100: val_loss did not improve from 1.05039\n",
            "\n",
            "Epoch 101: val_loss did not improve from 1.05039\n",
            "\n",
            "Epoch 102: val_loss did not improve from 1.05039\n",
            "\n",
            "Epoch 103: val_loss did not improve from 1.05039\n",
            "\n",
            "Epoch 104: val_loss did not improve from 1.05039\n",
            "\n",
            "Epoch 105: val_loss did not improve from 1.05039\n",
            "\n",
            "Epoch 106: val_loss did not improve from 1.05039\n",
            "\n",
            "Epoch 107: val_loss did not improve from 1.05039\n",
            "\n",
            "Epoch 108: val_loss did not improve from 1.05039\n",
            "\n",
            "Epoch 109: val_loss did not improve from 1.05039\n",
            "\n",
            "Epoch 110: val_loss did not improve from 1.05039\n",
            "\n",
            "Epoch 111: val_loss did not improve from 1.05039\n",
            "\n",
            "Epoch 112: val_loss did not improve from 1.05039\n",
            "\n",
            "Epoch 113: val_loss did not improve from 1.05039\n",
            "\n",
            "Epoch 114: val_loss did not improve from 1.05039\n",
            "\n",
            "Epoch 115: val_loss did not improve from 1.05039\n",
            "\n",
            "Epoch 116: val_loss did not improve from 1.05039\n",
            "\n",
            "Epoch 117: val_loss did not improve from 1.05039\n",
            "\n",
            "Epoch 118: val_loss did not improve from 1.05039\n",
            "\n",
            "Epoch 119: val_loss did not improve from 1.05039\n",
            "\n",
            "Epoch 120: val_loss did not improve from 1.05039\n",
            "\n",
            "Epoch 121: val_loss did not improve from 1.05039\n",
            "\n",
            "Epoch 122: val_loss did not improve from 1.05039\n",
            "\n",
            "Epoch 123: val_loss did not improve from 1.05039\n",
            "\n",
            "Epoch 124: val_loss did not improve from 1.05039\n",
            "\n",
            "Epoch 125: val_loss did not improve from 1.05039\n",
            "\n",
            "Epoch 126: val_loss did not improve from 1.05039\n",
            "\n",
            "Epoch 127: val_loss did not improve from 1.05039\n",
            "\n",
            "Epoch 128: val_loss did not improve from 1.05039\n",
            "\n",
            "Epoch 129: val_loss did not improve from 1.05039\n",
            "\n",
            "Epoch 130: val_loss did not improve from 1.05039\n",
            "\n",
            "Epoch 131: val_loss did not improve from 1.05039\n",
            "\n",
            "Epoch 132: val_loss did not improve from 1.05039\n",
            "\n",
            "Epoch 133: val_loss did not improve from 1.05039\n",
            "\n",
            "Epoch 134: val_loss did not improve from 1.05039\n",
            "\n",
            "Epoch 135: val_loss did not improve from 1.05039\n",
            "\n",
            "Epoch 136: val_loss did not improve from 1.05039\n",
            "\n",
            "Epoch 137: val_loss did not improve from 1.05039\n",
            "\n",
            "Epoch 138: val_loss did not improve from 1.05039\n",
            "\n",
            "Epoch 139: val_loss did not improve from 1.05039\n",
            "\n",
            "Epoch 140: val_loss did not improve from 1.05039\n",
            "\n",
            "Epoch 141: val_loss did not improve from 1.05039\n",
            "\n",
            "Epoch 142: val_loss did not improve from 1.05039\n",
            "\n",
            "Epoch 143: val_loss did not improve from 1.05039\n",
            "\n",
            "Epoch 144: val_loss did not improve from 1.05039\n",
            "\n",
            "Epoch 145: val_loss did not improve from 1.05039\n",
            "\n",
            "Epoch 146: val_loss did not improve from 1.05039\n",
            "\n",
            "Epoch 147: val_loss did not improve from 1.05039\n",
            "\n",
            "Epoch 148: val_loss did not improve from 1.05039\n",
            "\n",
            "Epoch 149: val_loss did not improve from 1.05039\n",
            "\n",
            "Epoch 150: val_loss did not improve from 1.05039\n",
            "\n",
            "Epoch 151: val_loss did not improve from 1.05039\n",
            "\n",
            "Epoch 152: val_loss did not improve from 1.05039\n",
            "\n",
            "Epoch 153: val_loss did not improve from 1.05039\n",
            "\n",
            "Epoch 154: val_loss did not improve from 1.05039\n",
            "\n",
            "Epoch 155: val_loss did not improve from 1.05039\n",
            "\n",
            "Epoch 156: val_loss did not improve from 1.05039\n",
            "\n",
            "Epoch 157: val_loss did not improve from 1.05039\n",
            "\n",
            "Epoch 158: val_loss did not improve from 1.05039\n",
            "\n",
            "Epoch 159: val_loss did not improve from 1.05039\n",
            "\n",
            "Epoch 160: val_loss did not improve from 1.05039\n",
            "\n",
            "Epoch 161: val_loss did not improve from 1.05039\n",
            "\n",
            "Epoch 162: val_loss did not improve from 1.05039\n",
            "\n",
            "Epoch 163: val_loss did not improve from 1.05039\n"
          ]
        },
        {
          "output_type": "execute_result",
          "data": {
            "text/plain": [
              "<keras.callbacks.History at 0x7f70f9e8f2e0>"
            ]
          },
          "metadata": {},
          "execution_count": 39
        }
      ],
      "source": [
        "#best_model=build_best()\n",
        "early_stopping=EarlyStopping(patience=100, verbose=0)\n",
        "checkpointer=ModelCheckpoint(filepath='weights1.hdf5', save_best_only=True, verbose=1)\n",
        "best_model.fit(X_train,y_train, batch_size=32,epochs=1000, verbose=0, \\\n",
        "                validation_split=0.1,callbacks=[checkpointer, early_stopping], shuffle=True)"
      ]
    },
    {
      "cell_type": "code",
      "source": [
        "best_model.save(\"/content/drive/MyDrive/Crypto/new3/best_model.h5\")"
      ],
      "metadata": {
        "id": "_8x6e2uL-9RP"
      },
      "execution_count": 40,
      "outputs": []
    },
    {
      "cell_type": "code",
      "source": [
        "predictions = scaler2.inverse_transform(best_model.predict(X_test)).flatten()"
      ],
      "metadata": {
        "id": "yNZcFjvq-1W1",
        "outputId": "e319d04f-0242-4fbf-aaa8-8c486b30fe9c",
        "colab": {
          "base_uri": "https://localhost:8080/"
        }
      },
      "execution_count": 41,
      "outputs": [
        {
          "output_type": "stream",
          "name": "stdout",
          "text": [
            "13/13 [==============================] - 5s 42ms/step\n"
          ]
        }
      ]
    },
    {
      "cell_type": "code",
      "source": [
        "plt.plot(np.arange(0,len(predictions)),predictions)"
      ],
      "metadata": {
        "id": "Zne9lENYnKdd",
        "outputId": "c8c6eaa6-b7b7-499e-a347-b056b0c68e6a",
        "colab": {
          "base_uri": "https://localhost:8080/",
          "height": 293
        }
      },
      "execution_count": 42,
      "outputs": [
        {
          "output_type": "execute_result",
          "data": {
            "text/plain": [
              "[<matplotlib.lines.Line2D at 0x7f7110b13e20>]"
            ]
          },
          "metadata": {},
          "execution_count": 42
        },
        {
          "output_type": "display_data",
          "data": {
            "text/plain": [
              "<Figure size 432x288 with 1 Axes>"
            ],
            "image/png": "[encoded data removed]"
          },
          "metadata": {
            "needs_background": "light"
          }
        }
      ]
    },
    {
      "cell_type": "code",
      "source": [
        "def plotting(predictions):\n",
        "  df = pd.DataFrame(data={'Predictions':predictions,\n",
        "                          'Actuals':scaler2.inverse_transform(y_test).flatten()})\n",
        "  f = plt.figure(figsize=(16,16))\n",
        "  ax1 = f.add_subplot()\n",
        "  ax1.plot(df['Predictions_10_h'],label='Predictions_10_h')\n",
        "  ax1.plot(df['Actuals_10_h'],label='Actuals_10_h')\n",
        "  ax2.plot(df['Predictions_10_l'],label='Predictions_10_l')\n",
        "  ax2.plot(df['Actuals_10_l'],label='Actuals_10_l')\n",
        "  ax3.plot(df['Predictions_5_h'],label='Predictions_5_h')\n",
        "  ax3.plot(df['Actuals_5_h'],label='Actuals_5_h')\n",
        "  ax4.plot(df['Predictions_5_l'],label='Predictions_5_l')\n",
        "  ax4.plot(df['Actuals_5_l'],label='Actuals_5_l')\n",
        "  plt.legend()\n",
        "  plt.show()\n",
        "  return None"
      ],
      "metadata": {
        "id": "JyyI4msZ8_p8"
      },
      "execution_count": null,
      "outputs": []
    },
    {
      "cell_type": "code",
      "execution_count": null,
      "metadata": {
        "id": "MVqXcS_de-rx",
        "outputId": "a529149a-74f4-4404-e0f3-0e2b492f76e7",
        "colab": {
          "base_uri": "https://localhost:8080/"
        }
      },
      "outputs": [
        {
          "output_type": "stream",
          "name": "stdout",
          "text": [
            "13/13 [==============================] - 5s 52ms/step\n",
            "Test accuracy: 0.315657\n",
            "Precision 0.10521885521885521\n",
            "Recall 0.3333333333333333\n",
            "f1_score 0.15994881637875877\n",
            "\n",
            " Confusion matrix \n",
            "[[125   0   0]\n",
            " [134   0   0]\n",
            " [137   0   0]]\n"
          ]
        },
        {
          "output_type": "stream",
          "name": "stderr",
          "text": [
            "/usr/local/lib/python3.8/dist-packages/sklearn/metrics/_classification.py:1318: UndefinedMetricWarning: Precision is ill-defined and being set to 0.0 in labels with no predicted samples. Use `zero_division` parameter to control this behavior.\n",
            "  _warn_prf(average, modifier, msg_start, len(result))\n"
          ]
        }
      ],
      "source": [
        "from sklearn.metrics import accuracy_score, precision_score, recall_score, f1_score, roc_curve, confusion_matrix\n",
        "pred=best_model.predict(X_test)\n",
        "y_pred = np.argmax(pred,1)\n",
        "y_true = np.argmax(y_test,1)\n",
        "\n",
        "print(\"Test accuracy: %g\" %(accuracy_score(y_true, y_pred)))\n",
        "print(\"Precision\", precision_score(y_true, y_pred, average=\"macro\"))\n",
        "print(\"Recall\", recall_score(y_true, y_pred, average=\"macro\"))\n",
        "print(\"f1_score\", f1_score(y_true, y_pred, average=\"macro\"))\n",
        "print(\"\\n Confusion matrix \")\n",
        "conf=confusion_matrix(y_true, y_pred)\n",
        "print(conf)"
      ]
    },
    {
      "cell_type": "code",
      "source": [
        "from sklearn.metrics import accuracy_score, precision_score, recall_score, f1_score, roc_curve, confusion_matrix\n",
        "pred=best_model.predict(X_train)\n",
        "y_pred = np.argmax(pred,1)\n",
        "y_true = np.argmax(y_train,1)\n",
        "\n",
        "print(\"Test accuracy: %g\" %(accuracy_score(y_true, y_pred)))\n",
        "print(\"Precision\", precision_score(y_true, y_pred, average=\"macro\"))\n",
        "print(\"Recall\", recall_score(y_true, y_pred, average=\"macro\"))\n",
        "print(\"f1_score\", f1_score(y_true, y_pred, average=\"macro\"))\n",
        "print(\"\\n Confusion matrix \")\n",
        "conf=confusion_matrix(y_true, y_pred)\n",
        "print(conf)"
      ],
      "metadata": {
        "id": "DgT_ue-vQxAz",
        "outputId": "614e8094-66f6-4c94-de93-c3764b5c8b12",
        "colab": {
          "base_uri": "https://localhost:8080/"
        }
      },
      "execution_count": null,
      "outputs": [
        {
          "output_type": "stream",
          "name": "stdout",
          "text": [
            "29/29 [==============================] - 1s 41ms/step\n",
            "Test accuracy: 0.335861\n",
            "Precision 0.1119537739256049\n",
            "Recall 0.3333333333333333\n",
            "f1_score 0.16761286834279535\n",
            "\n",
            " Confusion matrix \n",
            "[[310   0   0]\n",
            " [315   0   0]\n",
            " [298   0   0]]\n"
          ]
        },
        {
          "output_type": "stream",
          "name": "stderr",
          "text": [
            "/usr/local/lib/python3.8/dist-packages/sklearn/metrics/_classification.py:1318: UndefinedMetricWarning: Precision is ill-defined and being set to 0.0 in labels with no predicted samples. Use `zero_division` parameter to control this behavior.\n",
            "  _warn_prf(average, modifier, msg_start, len(result))\n"
          ]
        }
      ]
    },
    {
      "cell_type": "code",
      "source": [],
      "metadata": {
        "id": "WtKgRcAuaD6Y"
      },
      "execution_count": null,
      "outputs": []
    }
  ]
}